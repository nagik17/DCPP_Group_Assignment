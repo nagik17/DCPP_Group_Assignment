{
  "nbformat": 4,
  "nbformat_minor": 0,
  "metadata": {
    "colab": {
      "name": "Data_Cleaning_Code.ipynb",
      "provenance": [],
      "collapsed_sections": []
    },
    "kernelspec": {
      "name": "python3",
      "display_name": "Python 3"
    },
    "language_info": {
      "name": "python"
    }
  },
  "cells": [
    {
      "cell_type": "code",
      "execution_count": 199,
      "metadata": {
        "id": "QuWQ2PqJVsa0"
      },
      "outputs": [],
      "source": [
        "import pandas as pd\n",
        "import numpy as np\n",
        "import matplotlib.pyplot as plt\n",
        "import seaborn as sns\n",
        "from wordcloud import wordcloud, ImageColorGenerator\n",
        "from PIL import Image"
      ]
    },
    {
      "cell_type": "code",
      "source": [
        "#importing clean data in csv format\n",
        "final_data = pd.read_csv('/content/end_data.csv')\n",
        "final_data.rename(columns={'Recipe_link':'Recipe_Link'})\n",
        "final_data = final_data.drop(['Unnamed: 0'],axis=1)\n",
        "final_data.head()"
      ],
      "metadata": {
        "colab": {
          "base_uri": "https://localhost:8080/",
          "height": 722
        },
        "id": "8naG0cb_Y2k4",
        "outputId": "0c627dd7-7913-4233-b0f7-4c80a8f45e04"
      },
      "execution_count": 200,
      "outputs": [
        {
          "output_type": "execute_result",
          "data": {
            "text/plain": [
              "              Recipe_Name  Total_Time Cuisine  \\\n",
              "0    Zarda Boondi Biryani        42.0  Indian   \n",
              "1  Butter Chicken Biryani        72.0  Fusion   \n",
              "2          Biryani Kulcha        27.0  Indian   \n",
              "3  Kalakand Fruit Custard       131.0  Fusion   \n",
              "4            Dum ka Tinda        57.0  Indian   \n",
              "\n",
              "                                    Ingredients_List  Number_of_Ingredients  \\\n",
              "0  ['saffron strands  1/2 grams Sweet boondi  1 c...                    4.0   \n",
              "1  ['Tandoori chicken cut into pieces on bone and...                    1.0   \n",
              "2  ['Readymade veg biryani  2 cups Readymade kulc...                    4.0   \n",
              "3  ['Kalakand  5 pieces Red apple , cored, cut in...                    5.0   \n",
              "4  ['Apple gourds (tinda)  8-9   Ginger , chopped...                   12.0   \n",
              "\n",
              "   Prep_Time  Cook_Time Serves Level_of_Cooking                  Course  \\\n",
              "0       26.0       16.0     4             Easy                     Rice   \n",
              "1       31.0       41.0     4         Moderate                     Rice   \n",
              "2       21.0        6.0     4             Easy                   Breads   \n",
              "3      120.0       11.0     4             Easy                 Desserts   \n",
              "4       26.0       31.0     4         Moderate   Main Course Vegetarian   \n",
              "\n",
              "                                           Image_URL  \\\n",
              "0  https://www.sanjeevkapoor.com/UploadFiles/Reci...   \n",
              "1  https://www.sanjeevkapoor.com/UploadFiles/Reci...   \n",
              "2  https://www.sanjeevkapoor.com/UploadFiles/Reci...   \n",
              "3  https://www.sanjeevkapoor.com/UploadFiles/Reci...   \n",
              "4  https://www.sanjeevkapoor.com/UploadFiles/Reci...   \n",
              "\n",
              "                                         Recipe_link  \\\n",
              "0  https://www.sanjeevkapoor.com/Recipe/Zarda-Boo...   \n",
              "1  https://www.sanjeevkapoor.com/Recipe/Butter-Ch...   \n",
              "2  https://www.sanjeevkapoor.com/Recipe/Biryani-K...   \n",
              "3  https://www.sanjeevkapoor.com/Recipe/Kalakand-...   \n",
              "4  https://www.sanjeevkapoor.com/Recipe/Dum-ka-Ti...   \n",
              "\n",
              "                                              Recipe Diet  \n",
              "0  ['  Step 1 Heat ghee in a deep stainless steel...  NaN  \n",
              "1  ['  Step 1 Heat oil and butter in a non-stick ...  NaN  \n",
              "2  ['  Step 1 Preheat oven to 180°C.  Step 2 Take...  NaN  \n",
              "3  ['  Step 1 Roughly chop walnuts. Dry roast the...  NaN  \n",
              "4  ['  Step 1 Peel the apple gourds. Cut off a th...  NaN  "
            ],
            "text/html": [
              "\n",
              "  <div id=\"df-600524b1-876f-4335-a469-b13b78e657f0\">\n",
              "    <div class=\"colab-df-container\">\n",
              "      <div>\n",
              "<style scoped>\n",
              "    .dataframe tbody tr th:only-of-type {\n",
              "        vertical-align: middle;\n",
              "    }\n",
              "\n",
              "    .dataframe tbody tr th {\n",
              "        vertical-align: top;\n",
              "    }\n",
              "\n",
              "    .dataframe thead th {\n",
              "        text-align: right;\n",
              "    }\n",
              "</style>\n",
              "<table border=\"1\" class=\"dataframe\">\n",
              "  <thead>\n",
              "    <tr style=\"text-align: right;\">\n",
              "      <th></th>\n",
              "      <th>Recipe_Name</th>\n",
              "      <th>Total_Time</th>\n",
              "      <th>Cuisine</th>\n",
              "      <th>Ingredients_List</th>\n",
              "      <th>Number_of_Ingredients</th>\n",
              "      <th>Prep_Time</th>\n",
              "      <th>Cook_Time</th>\n",
              "      <th>Serves</th>\n",
              "      <th>Level_of_Cooking</th>\n",
              "      <th>Course</th>\n",
              "      <th>Image_URL</th>\n",
              "      <th>Recipe_link</th>\n",
              "      <th>Recipe</th>\n",
              "      <th>Diet</th>\n",
              "    </tr>\n",
              "  </thead>\n",
              "  <tbody>\n",
              "    <tr>\n",
              "      <th>0</th>\n",
              "      <td>Zarda Boondi Biryani</td>\n",
              "      <td>42.0</td>\n",
              "      <td>Indian</td>\n",
              "      <td>['saffron strands  1/2 grams Sweet boondi  1 c...</td>\n",
              "      <td>4.0</td>\n",
              "      <td>26.0</td>\n",
              "      <td>16.0</td>\n",
              "      <td>4</td>\n",
              "      <td>Easy</td>\n",
              "      <td>Rice</td>\n",
              "      <td>https://www.sanjeevkapoor.com/UploadFiles/Reci...</td>\n",
              "      <td>https://www.sanjeevkapoor.com/Recipe/Zarda-Boo...</td>\n",
              "      <td>['  Step 1 Heat ghee in a deep stainless steel...</td>\n",
              "      <td>NaN</td>\n",
              "    </tr>\n",
              "    <tr>\n",
              "      <th>1</th>\n",
              "      <td>Butter Chicken Biryani</td>\n",
              "      <td>72.0</td>\n",
              "      <td>Fusion</td>\n",
              "      <td>['Tandoori chicken cut into pieces on bone and...</td>\n",
              "      <td>1.0</td>\n",
              "      <td>31.0</td>\n",
              "      <td>41.0</td>\n",
              "      <td>4</td>\n",
              "      <td>Moderate</td>\n",
              "      <td>Rice</td>\n",
              "      <td>https://www.sanjeevkapoor.com/UploadFiles/Reci...</td>\n",
              "      <td>https://www.sanjeevkapoor.com/Recipe/Butter-Ch...</td>\n",
              "      <td>['  Step 1 Heat oil and butter in a non-stick ...</td>\n",
              "      <td>NaN</td>\n",
              "    </tr>\n",
              "    <tr>\n",
              "      <th>2</th>\n",
              "      <td>Biryani Kulcha</td>\n",
              "      <td>27.0</td>\n",
              "      <td>Indian</td>\n",
              "      <td>['Readymade veg biryani  2 cups Readymade kulc...</td>\n",
              "      <td>4.0</td>\n",
              "      <td>21.0</td>\n",
              "      <td>6.0</td>\n",
              "      <td>4</td>\n",
              "      <td>Easy</td>\n",
              "      <td>Breads</td>\n",
              "      <td>https://www.sanjeevkapoor.com/UploadFiles/Reci...</td>\n",
              "      <td>https://www.sanjeevkapoor.com/Recipe/Biryani-K...</td>\n",
              "      <td>['  Step 1 Preheat oven to 180°C.  Step 2 Take...</td>\n",
              "      <td>NaN</td>\n",
              "    </tr>\n",
              "    <tr>\n",
              "      <th>3</th>\n",
              "      <td>Kalakand Fruit Custard</td>\n",
              "      <td>131.0</td>\n",
              "      <td>Fusion</td>\n",
              "      <td>['Kalakand  5 pieces Red apple , cored, cut in...</td>\n",
              "      <td>5.0</td>\n",
              "      <td>120.0</td>\n",
              "      <td>11.0</td>\n",
              "      <td>4</td>\n",
              "      <td>Easy</td>\n",
              "      <td>Desserts</td>\n",
              "      <td>https://www.sanjeevkapoor.com/UploadFiles/Reci...</td>\n",
              "      <td>https://www.sanjeevkapoor.com/Recipe/Kalakand-...</td>\n",
              "      <td>['  Step 1 Roughly chop walnuts. Dry roast the...</td>\n",
              "      <td>NaN</td>\n",
              "    </tr>\n",
              "    <tr>\n",
              "      <th>4</th>\n",
              "      <td>Dum ka Tinda</td>\n",
              "      <td>57.0</td>\n",
              "      <td>Indian</td>\n",
              "      <td>['Apple gourds (tinda)  8-9   Ginger , chopped...</td>\n",
              "      <td>12.0</td>\n",
              "      <td>26.0</td>\n",
              "      <td>31.0</td>\n",
              "      <td>4</td>\n",
              "      <td>Moderate</td>\n",
              "      <td>Main Course Vegetarian</td>\n",
              "      <td>https://www.sanjeevkapoor.com/UploadFiles/Reci...</td>\n",
              "      <td>https://www.sanjeevkapoor.com/Recipe/Dum-ka-Ti...</td>\n",
              "      <td>['  Step 1 Peel the apple gourds. Cut off a th...</td>\n",
              "      <td>NaN</td>\n",
              "    </tr>\n",
              "  </tbody>\n",
              "</table>\n",
              "</div>\n",
              "      <button class=\"colab-df-convert\" onclick=\"convertToInteractive('df-600524b1-876f-4335-a469-b13b78e657f0')\"\n",
              "              title=\"Convert this dataframe to an interactive table.\"\n",
              "              style=\"display:none;\">\n",
              "        \n",
              "  <svg xmlns=\"http://www.w3.org/2000/svg\" height=\"24px\"viewBox=\"0 0 24 24\"\n",
              "       width=\"24px\">\n",
              "    <path d=\"M0 0h24v24H0V0z\" fill=\"none\"/>\n",
              "    <path d=\"M18.56 5.44l.94 2.06.94-2.06 2.06-.94-2.06-.94-.94-2.06-.94 2.06-2.06.94zm-11 1L8.5 8.5l.94-2.06 2.06-.94-2.06-.94L8.5 2.5l-.94 2.06-2.06.94zm10 10l.94 2.06.94-2.06 2.06-.94-2.06-.94-.94-2.06-.94 2.06-2.06.94z\"/><path d=\"M17.41 7.96l-1.37-1.37c-.4-.4-.92-.59-1.43-.59-.52 0-1.04.2-1.43.59L10.3 9.45l-7.72 7.72c-.78.78-.78 2.05 0 2.83L4 21.41c.39.39.9.59 1.41.59.51 0 1.02-.2 1.41-.59l7.78-7.78 2.81-2.81c.8-.78.8-2.07 0-2.86zM5.41 20L4 18.59l7.72-7.72 1.47 1.35L5.41 20z\"/>\n",
              "  </svg>\n",
              "      </button>\n",
              "      \n",
              "  <style>\n",
              "    .colab-df-container {\n",
              "      display:flex;\n",
              "      flex-wrap:wrap;\n",
              "      gap: 12px;\n",
              "    }\n",
              "\n",
              "    .colab-df-convert {\n",
              "      background-color: #E8F0FE;\n",
              "      border: none;\n",
              "      border-radius: 50%;\n",
              "      cursor: pointer;\n",
              "      display: none;\n",
              "      fill: #1967D2;\n",
              "      height: 32px;\n",
              "      padding: 0 0 0 0;\n",
              "      width: 32px;\n",
              "    }\n",
              "\n",
              "    .colab-df-convert:hover {\n",
              "      background-color: #E2EBFA;\n",
              "      box-shadow: 0px 1px 2px rgba(60, 64, 67, 0.3), 0px 1px 3px 1px rgba(60, 64, 67, 0.15);\n",
              "      fill: #174EA6;\n",
              "    }\n",
              "\n",
              "    [theme=dark] .colab-df-convert {\n",
              "      background-color: #3B4455;\n",
              "      fill: #D2E3FC;\n",
              "    }\n",
              "\n",
              "    [theme=dark] .colab-df-convert:hover {\n",
              "      background-color: #434B5C;\n",
              "      box-shadow: 0px 1px 3px 1px rgba(0, 0, 0, 0.15);\n",
              "      filter: drop-shadow(0px 1px 2px rgba(0, 0, 0, 0.3));\n",
              "      fill: #FFFFFF;\n",
              "    }\n",
              "  </style>\n",
              "\n",
              "      <script>\n",
              "        const buttonEl =\n",
              "          document.querySelector('#df-600524b1-876f-4335-a469-b13b78e657f0 button.colab-df-convert');\n",
              "        buttonEl.style.display =\n",
              "          google.colab.kernel.accessAllowed ? 'block' : 'none';\n",
              "\n",
              "        async function convertToInteractive(key) {\n",
              "          const element = document.querySelector('#df-600524b1-876f-4335-a469-b13b78e657f0');\n",
              "          const dataTable =\n",
              "            await google.colab.kernel.invokeFunction('convertToInteractive',\n",
              "                                                     [key], {});\n",
              "          if (!dataTable) return;\n",
              "\n",
              "          const docLinkHtml = 'Like what you see? Visit the ' +\n",
              "            '<a target=\"_blank\" href=https://colab.research.google.com/notebooks/data_table.ipynb>data table notebook</a>'\n",
              "            + ' to learn more about interactive tables.';\n",
              "          element.innerHTML = '';\n",
              "          dataTable['output_type'] = 'display_data';\n",
              "          await google.colab.output.renderOutput(dataTable, element);\n",
              "          const docLink = document.createElement('div');\n",
              "          docLink.innerHTML = docLinkHtml;\n",
              "          element.appendChild(docLink);\n",
              "        }\n",
              "      </script>\n",
              "    </div>\n",
              "  </div>\n",
              "  "
            ]
          },
          "metadata": {},
          "execution_count": 200
        }
      ]
    },
    {
      "cell_type": "code",
      "source": [
        "final_data.shape"
      ],
      "metadata": {
        "colab": {
          "base_uri": "https://localhost:8080/"
        },
        "id": "QqYRyCP0gLkj",
        "outputId": "948b4a2f-093b-44d8-d4c5-50df5a9e8ca4"
      },
      "execution_count": 201,
      "outputs": [
        {
          "output_type": "execute_result",
          "data": {
            "text/plain": [
              "(11585, 14)"
            ]
          },
          "metadata": {},
          "execution_count": 201
        }
      ]
    },
    {
      "cell_type": "code",
      "source": [
        "#extracting list of ingredients based on culinary quantity\n",
        "import re\n",
        "import string\n",
        "measures = ['teaspoon','cups','tablespoons','garnish','sliced','serve','to','required','as','for','is','in','tablespoon','teaspoon','cup','pinch','grams','gram','kg','kilo','kilos','kgs','roasted','fry','fried','ground','as required','spoon','to taste','squeeze','squeezed']\n",
        "ingredients_updated = []\n",
        "for i in final_data['Ingredients_List']:\n",
        "  temp1=[]\n",
        "  temp = re.sub('['+string.punctuation+']', '', str(i)).split()\n",
        "  for j in temp:\n",
        "    if j.lower() not in measures and j.isalpha()==True:\n",
        "      temp1.append(j.lower())\n",
        "ingredients_updated.append(temp1)"
      ],
      "metadata": {
        "id": "HjDwfJjH4bUn"
      },
      "execution_count": 202,
      "outputs": []
    },
    {
      "cell_type": "code",
      "source": [
        "#transformation of Ingredients list extracted above\n",
        "final_data['Recipe'] = final_data['Recipe'].str.strip('[]') # '', regex=True)\n",
        "final_data['Ingredients_List'] = final_data['Ingredients_List'].str.strip('[]') # '', regex=True) \n",
        "final_data.head()"
      ],
      "metadata": {
        "colab": {
          "base_uri": "https://localhost:8080/",
          "height": 722
        },
        "id": "F9V-wEm42T48",
        "outputId": "8c71aced-560f-41c2-e5a1-5e79769ef823"
      },
      "execution_count": 203,
      "outputs": [
        {
          "output_type": "execute_result",
          "data": {
            "text/plain": [
              "              Recipe_Name  Total_Time Cuisine  \\\n",
              "0    Zarda Boondi Biryani        42.0  Indian   \n",
              "1  Butter Chicken Biryani        72.0  Fusion   \n",
              "2          Biryani Kulcha        27.0  Indian   \n",
              "3  Kalakand Fruit Custard       131.0  Fusion   \n",
              "4            Dum ka Tinda        57.0  Indian   \n",
              "\n",
              "                                    Ingredients_List  Number_of_Ingredients  \\\n",
              "0  'saffron strands  1/2 grams Sweet boondi  1 cu...                    4.0   \n",
              "1  'Tandoori chicken cut into pieces on bone and ...                    1.0   \n",
              "2  'Readymade veg biryani  2 cups Readymade kulch...                    4.0   \n",
              "3  'Kalakand  5 pieces Red apple , cored, cut int...                    5.0   \n",
              "4  'Apple gourds (tinda)  8-9   Ginger , chopped ...                   12.0   \n",
              "\n",
              "   Prep_Time  Cook_Time Serves Level_of_Cooking                  Course  \\\n",
              "0       26.0       16.0     4             Easy                     Rice   \n",
              "1       31.0       41.0     4         Moderate                     Rice   \n",
              "2       21.0        6.0     4             Easy                   Breads   \n",
              "3      120.0       11.0     4             Easy                 Desserts   \n",
              "4       26.0       31.0     4         Moderate   Main Course Vegetarian   \n",
              "\n",
              "                                           Image_URL  \\\n",
              "0  https://www.sanjeevkapoor.com/UploadFiles/Reci...   \n",
              "1  https://www.sanjeevkapoor.com/UploadFiles/Reci...   \n",
              "2  https://www.sanjeevkapoor.com/UploadFiles/Reci...   \n",
              "3  https://www.sanjeevkapoor.com/UploadFiles/Reci...   \n",
              "4  https://www.sanjeevkapoor.com/UploadFiles/Reci...   \n",
              "\n",
              "                                         Recipe_link  \\\n",
              "0  https://www.sanjeevkapoor.com/Recipe/Zarda-Boo...   \n",
              "1  https://www.sanjeevkapoor.com/Recipe/Butter-Ch...   \n",
              "2  https://www.sanjeevkapoor.com/Recipe/Biryani-K...   \n",
              "3  https://www.sanjeevkapoor.com/Recipe/Kalakand-...   \n",
              "4  https://www.sanjeevkapoor.com/Recipe/Dum-ka-Ti...   \n",
              "\n",
              "                                              Recipe Diet  \n",
              "0  '  Step 1 Heat ghee in a deep stainless steel ...  NaN  \n",
              "1  '  Step 1 Heat oil and butter in a non-stick p...  NaN  \n",
              "2  '  Step 1 Preheat oven to 180°C.  Step 2 Take ...  NaN  \n",
              "3  '  Step 1 Roughly chop walnuts. Dry roast the ...  NaN  \n",
              "4  '  Step 1 Peel the apple gourds. Cut off a thi...  NaN  "
            ],
            "text/html": [
              "\n",
              "  <div id=\"df-d3f12e83-adea-414e-94b9-6c46efcbaf10\">\n",
              "    <div class=\"colab-df-container\">\n",
              "      <div>\n",
              "<style scoped>\n",
              "    .dataframe tbody tr th:only-of-type {\n",
              "        vertical-align: middle;\n",
              "    }\n",
              "\n",
              "    .dataframe tbody tr th {\n",
              "        vertical-align: top;\n",
              "    }\n",
              "\n",
              "    .dataframe thead th {\n",
              "        text-align: right;\n",
              "    }\n",
              "</style>\n",
              "<table border=\"1\" class=\"dataframe\">\n",
              "  <thead>\n",
              "    <tr style=\"text-align: right;\">\n",
              "      <th></th>\n",
              "      <th>Recipe_Name</th>\n",
              "      <th>Total_Time</th>\n",
              "      <th>Cuisine</th>\n",
              "      <th>Ingredients_List</th>\n",
              "      <th>Number_of_Ingredients</th>\n",
              "      <th>Prep_Time</th>\n",
              "      <th>Cook_Time</th>\n",
              "      <th>Serves</th>\n",
              "      <th>Level_of_Cooking</th>\n",
              "      <th>Course</th>\n",
              "      <th>Image_URL</th>\n",
              "      <th>Recipe_link</th>\n",
              "      <th>Recipe</th>\n",
              "      <th>Diet</th>\n",
              "    </tr>\n",
              "  </thead>\n",
              "  <tbody>\n",
              "    <tr>\n",
              "      <th>0</th>\n",
              "      <td>Zarda Boondi Biryani</td>\n",
              "      <td>42.0</td>\n",
              "      <td>Indian</td>\n",
              "      <td>'saffron strands  1/2 grams Sweet boondi  1 cu...</td>\n",
              "      <td>4.0</td>\n",
              "      <td>26.0</td>\n",
              "      <td>16.0</td>\n",
              "      <td>4</td>\n",
              "      <td>Easy</td>\n",
              "      <td>Rice</td>\n",
              "      <td>https://www.sanjeevkapoor.com/UploadFiles/Reci...</td>\n",
              "      <td>https://www.sanjeevkapoor.com/Recipe/Zarda-Boo...</td>\n",
              "      <td>'  Step 1 Heat ghee in a deep stainless steel ...</td>\n",
              "      <td>NaN</td>\n",
              "    </tr>\n",
              "    <tr>\n",
              "      <th>1</th>\n",
              "      <td>Butter Chicken Biryani</td>\n",
              "      <td>72.0</td>\n",
              "      <td>Fusion</td>\n",
              "      <td>'Tandoori chicken cut into pieces on bone and ...</td>\n",
              "      <td>1.0</td>\n",
              "      <td>31.0</td>\n",
              "      <td>41.0</td>\n",
              "      <td>4</td>\n",
              "      <td>Moderate</td>\n",
              "      <td>Rice</td>\n",
              "      <td>https://www.sanjeevkapoor.com/UploadFiles/Reci...</td>\n",
              "      <td>https://www.sanjeevkapoor.com/Recipe/Butter-Ch...</td>\n",
              "      <td>'  Step 1 Heat oil and butter in a non-stick p...</td>\n",
              "      <td>NaN</td>\n",
              "    </tr>\n",
              "    <tr>\n",
              "      <th>2</th>\n",
              "      <td>Biryani Kulcha</td>\n",
              "      <td>27.0</td>\n",
              "      <td>Indian</td>\n",
              "      <td>'Readymade veg biryani  2 cups Readymade kulch...</td>\n",
              "      <td>4.0</td>\n",
              "      <td>21.0</td>\n",
              "      <td>6.0</td>\n",
              "      <td>4</td>\n",
              "      <td>Easy</td>\n",
              "      <td>Breads</td>\n",
              "      <td>https://www.sanjeevkapoor.com/UploadFiles/Reci...</td>\n",
              "      <td>https://www.sanjeevkapoor.com/Recipe/Biryani-K...</td>\n",
              "      <td>'  Step 1 Preheat oven to 180°C.  Step 2 Take ...</td>\n",
              "      <td>NaN</td>\n",
              "    </tr>\n",
              "    <tr>\n",
              "      <th>3</th>\n",
              "      <td>Kalakand Fruit Custard</td>\n",
              "      <td>131.0</td>\n",
              "      <td>Fusion</td>\n",
              "      <td>'Kalakand  5 pieces Red apple , cored, cut int...</td>\n",
              "      <td>5.0</td>\n",
              "      <td>120.0</td>\n",
              "      <td>11.0</td>\n",
              "      <td>4</td>\n",
              "      <td>Easy</td>\n",
              "      <td>Desserts</td>\n",
              "      <td>https://www.sanjeevkapoor.com/UploadFiles/Reci...</td>\n",
              "      <td>https://www.sanjeevkapoor.com/Recipe/Kalakand-...</td>\n",
              "      <td>'  Step 1 Roughly chop walnuts. Dry roast the ...</td>\n",
              "      <td>NaN</td>\n",
              "    </tr>\n",
              "    <tr>\n",
              "      <th>4</th>\n",
              "      <td>Dum ka Tinda</td>\n",
              "      <td>57.0</td>\n",
              "      <td>Indian</td>\n",
              "      <td>'Apple gourds (tinda)  8-9   Ginger , chopped ...</td>\n",
              "      <td>12.0</td>\n",
              "      <td>26.0</td>\n",
              "      <td>31.0</td>\n",
              "      <td>4</td>\n",
              "      <td>Moderate</td>\n",
              "      <td>Main Course Vegetarian</td>\n",
              "      <td>https://www.sanjeevkapoor.com/UploadFiles/Reci...</td>\n",
              "      <td>https://www.sanjeevkapoor.com/Recipe/Dum-ka-Ti...</td>\n",
              "      <td>'  Step 1 Peel the apple gourds. Cut off a thi...</td>\n",
              "      <td>NaN</td>\n",
              "    </tr>\n",
              "  </tbody>\n",
              "</table>\n",
              "</div>\n",
              "      <button class=\"colab-df-convert\" onclick=\"convertToInteractive('df-d3f12e83-adea-414e-94b9-6c46efcbaf10')\"\n",
              "              title=\"Convert this dataframe to an interactive table.\"\n",
              "              style=\"display:none;\">\n",
              "        \n",
              "  <svg xmlns=\"http://www.w3.org/2000/svg\" height=\"24px\"viewBox=\"0 0 24 24\"\n",
              "       width=\"24px\">\n",
              "    <path d=\"M0 0h24v24H0V0z\" fill=\"none\"/>\n",
              "    <path d=\"M18.56 5.44l.94 2.06.94-2.06 2.06-.94-2.06-.94-.94-2.06-.94 2.06-2.06.94zm-11 1L8.5 8.5l.94-2.06 2.06-.94-2.06-.94L8.5 2.5l-.94 2.06-2.06.94zm10 10l.94 2.06.94-2.06 2.06-.94-2.06-.94-.94-2.06-.94 2.06-2.06.94z\"/><path d=\"M17.41 7.96l-1.37-1.37c-.4-.4-.92-.59-1.43-.59-.52 0-1.04.2-1.43.59L10.3 9.45l-7.72 7.72c-.78.78-.78 2.05 0 2.83L4 21.41c.39.39.9.59 1.41.59.51 0 1.02-.2 1.41-.59l7.78-7.78 2.81-2.81c.8-.78.8-2.07 0-2.86zM5.41 20L4 18.59l7.72-7.72 1.47 1.35L5.41 20z\"/>\n",
              "  </svg>\n",
              "      </button>\n",
              "      \n",
              "  <style>\n",
              "    .colab-df-container {\n",
              "      display:flex;\n",
              "      flex-wrap:wrap;\n",
              "      gap: 12px;\n",
              "    }\n",
              "\n",
              "    .colab-df-convert {\n",
              "      background-color: #E8F0FE;\n",
              "      border: none;\n",
              "      border-radius: 50%;\n",
              "      cursor: pointer;\n",
              "      display: none;\n",
              "      fill: #1967D2;\n",
              "      height: 32px;\n",
              "      padding: 0 0 0 0;\n",
              "      width: 32px;\n",
              "    }\n",
              "\n",
              "    .colab-df-convert:hover {\n",
              "      background-color: #E2EBFA;\n",
              "      box-shadow: 0px 1px 2px rgba(60, 64, 67, 0.3), 0px 1px 3px 1px rgba(60, 64, 67, 0.15);\n",
              "      fill: #174EA6;\n",
              "    }\n",
              "\n",
              "    [theme=dark] .colab-df-convert {\n",
              "      background-color: #3B4455;\n",
              "      fill: #D2E3FC;\n",
              "    }\n",
              "\n",
              "    [theme=dark] .colab-df-convert:hover {\n",
              "      background-color: #434B5C;\n",
              "      box-shadow: 0px 1px 3px 1px rgba(0, 0, 0, 0.15);\n",
              "      filter: drop-shadow(0px 1px 2px rgba(0, 0, 0, 0.3));\n",
              "      fill: #FFFFFF;\n",
              "    }\n",
              "  </style>\n",
              "\n",
              "      <script>\n",
              "        const buttonEl =\n",
              "          document.querySelector('#df-d3f12e83-adea-414e-94b9-6c46efcbaf10 button.colab-df-convert');\n",
              "        buttonEl.style.display =\n",
              "          google.colab.kernel.accessAllowed ? 'block' : 'none';\n",
              "\n",
              "        async function convertToInteractive(key) {\n",
              "          const element = document.querySelector('#df-d3f12e83-adea-414e-94b9-6c46efcbaf10');\n",
              "          const dataTable =\n",
              "            await google.colab.kernel.invokeFunction('convertToInteractive',\n",
              "                                                     [key], {});\n",
              "          if (!dataTable) return;\n",
              "\n",
              "          const docLinkHtml = 'Like what you see? Visit the ' +\n",
              "            '<a target=\"_blank\" href=https://colab.research.google.com/notebooks/data_table.ipynb>data table notebook</a>'\n",
              "            + ' to learn more about interactive tables.';\n",
              "          element.innerHTML = '';\n",
              "          dataTable['output_type'] = 'display_data';\n",
              "          await google.colab.output.renderOutput(dataTable, element);\n",
              "          const docLink = document.createElement('div');\n",
              "          docLink.innerHTML = docLinkHtml;\n",
              "          element.appendChild(docLink);\n",
              "        }\n",
              "      </script>\n",
              "    </div>\n",
              "  </div>\n",
              "  "
            ]
          },
          "metadata": {},
          "execution_count": 203
        }
      ]
    },
    {
      "cell_type": "code",
      "source": [
        "#replacing values with blank space or empty character\n",
        "final_data['Recipe_Name']=final_data['Recipe_Name'].str.replace('No Recipe','')\n",
        "final_data['Recipe_Name']=final_data['Recipe_Name'].str.replace('Recipe','')\n",
        "final_data['Recipe_Name']=final_data['Recipe_Name'].str.replace('SK','')\n",
        "final_data['Recipe_Name']=final_data['Recipe_Name'].str.replace('Khazana','')\n"
      ],
      "metadata": {
        "id": "wlmSuw2U-0NR"
      },
      "execution_count": 204,
      "outputs": []
    },
    {
      "cell_type": "code",
      "source": [
        "final_data['Recipe_Name']"
      ],
      "metadata": {
        "colab": {
          "base_uri": "https://localhost:8080/"
        },
        "id": "HfyMcQWJAPgK",
        "outputId": "f79df187-0ddf-4666-e6b8-c107c82b330d"
      },
      "execution_count": 205,
      "outputs": [
        {
          "output_type": "execute_result",
          "data": {
            "text/plain": [
              "0                                     Zarda Boondi Biryani\n",
              "1                                   Butter Chicken Biryani\n",
              "2                                           Biryani Kulcha\n",
              "3                                   Kalakand Fruit Custard\n",
              "4                                             Dum ka Tinda\n",
              "                               ...                        \n",
              "11580    Andhra Style Karivepaku Pachadi  - Andhra Styl...\n",
              "11581    Karnataka Style Palak Dal or Palak Tovwe  - Pa...\n",
              "11582                  Vegan Chickpeas And Broccoli Curry \n",
              "11583                   Gujarati Vaghareli Mag ( in Hindi)\n",
              "11584                                  Drumstick Dal Soup \n",
              "Name: Recipe_Name, Length: 11585, dtype: object"
            ]
          },
          "metadata": {},
          "execution_count": 205
        }
      ]
    },
    {
      "cell_type": "code",
      "source": [
        "#Extraction of equipments based on recipes and execution of recipes\n",
        "#equipments\n",
        "final_data['Recipe'] = final_data['Recipe'].str.lower() \n",
        "#equipments_list = ['oven','kadhai','skewers','skewer','grill', 'kadai', 'pan', 'microwave', 'stove', 'refrigerator', 'induction','freezer','griller','toaster', 'tandoor','gas','burner','shaker','blender','mixer','juicer','rice cooker']\n",
        "equipments_list = ['oven','skewers','skewer','grill','microwave', 'refrigerator', 'induction','freezer','griller','toaster', 'tandoor','shaker','blender','mixer','juicer','rice cooker']\n",
        "equip_list= list(final_data['Recipe'].str.contains('|'.join(equipments_list),regex=True))\n",
        "final_equip=[]\n",
        "final_data['Equipment_Temp'] = equip_list\n",
        "for j,i in final_data.iterrows():\n",
        "  temp=[]\n",
        "  if i['Equipment_Temp']==True:\n",
        "    temp_str = i['Recipe'].split(' ')\n",
        "    for k in temp_str:\n",
        "      if k.lower() in equipments_list and k.lower() not in temp:\n",
        "        temp.append(k)   \n",
        "  else:\n",
        "    temp.append('not required')\n",
        "  if temp !=[]:\n",
        "    final_equip.append(','.join((temp)))\n",
        "  else:\n",
        "    final_equip.append('not required')\n",
        "final_data['Appliances']=final_equip\n",
        "#final_data['Equipment_Required'] = final_data['Equipment_Required'].str.e('[','') # '', regex=True) \n",
        "#final_data['Equipment_Required'] = final_data['Equipment_Required'] # '', regex=True) "
      ],
      "metadata": {
        "id": "4hygQGsGWeU5"
      },
      "execution_count": 206,
      "outputs": []
    },
    {
      "cell_type": "code",
      "source": [
        "final_data['Appliances'].value_counts()"
      ],
      "metadata": {
        "colab": {
          "base_uri": "https://localhost:8080/"
        },
        "id": "kf3wyba57PFz",
        "outputId": "d38c7b19-a9f7-417d-cbf5-f8c500fd3da0"
      },
      "execution_count": 207,
      "outputs": [
        {
          "output_type": "execute_result",
          "data": {
            "text/plain": [
              "not required                      7476\n",
              "oven                              1279\n",
              "mixer                             1024\n",
              "blender                            583\n",
              "grill                              175\n",
              "                                  ... \n",
              "blender,microwave                    1\n",
              "oven,blender,grill                   1\n",
              "oven,grill,skewer                    1\n",
              "microwave,blender,refrigerator       1\n",
              "skewers,microwave,grill,oven         1\n",
              "Name: Appliances, Length: 160, dtype: int64"
            ]
          },
          "metadata": {},
          "execution_count": 207
        }
      ]
    },
    {
      "cell_type": "code",
      "source": [
        "#converting timestamp data for further calculation \n",
        "final_data['Total_Time'] = pd.to_numeric(final_data['Total_Time'], errors='coerce')\n",
        "final_data['Prep_Time'] = pd.to_numeric(final_data['Prep_Time'], errors='coerce')\n",
        "final_data['Cook_Time'] = pd.to_numeric(final_data['Cook_Time'], errors='coerce')"
      ],
      "metadata": {
        "id": "CBmsoTedIc_F"
      },
      "execution_count": 208,
      "outputs": []
    },
    {
      "cell_type": "code",
      "source": [
        "final_data['Cook_Time'].isna().sum()"
      ],
      "metadata": {
        "colab": {
          "base_uri": "https://localhost:8080/"
        },
        "id": "Ya2FDb4mAmXr",
        "outputId": "6ca7e67b-9014-4044-efa1-497b9673ebae"
      },
      "execution_count": 209,
      "outputs": [
        {
          "output_type": "execute_result",
          "data": {
            "text/plain": [
              "0"
            ]
          },
          "metadata": {},
          "execution_count": 209
        }
      ]
    },
    {
      "cell_type": "code",
      "source": [
        "#extracting recipes that have sugar has an ingredient\n",
        "#sugar\n",
        "contains_sugar=[]\n",
        "for i in final_data['Ingredients_List']:\n",
        "  k=0\n",
        "  try:\n",
        "    temp = i.split(' ')\n",
        "    for j in temp:\n",
        "      if j.strip().lower()=='sugar':\n",
        "        k = 1\n",
        "        contains_sugar.append('Yes')\n",
        "        break\n",
        "    if k==0:\n",
        "      contains_sugar.append('No')\n",
        "  except:\n",
        "    contains_sugar.append('No')\n",
        "final_data['Contains_Sugar'] = contains_sugar\n",
        "final_data['Contains_Sugar'].value_counts()\n",
        "#0 implies no sugar"
      ],
      "metadata": {
        "colab": {
          "base_uri": "https://localhost:8080/"
        },
        "id": "WftJxztBWonZ",
        "outputId": "010e5ae2-4174-4f9f-e296-e6ecc64f7165"
      },
      "execution_count": 210,
      "outputs": [
        {
          "output_type": "execute_result",
          "data": {
            "text/plain": [
              "No     9823\n",
              "Yes    1762\n",
              "Name: Contains_Sugar, dtype: int64"
            ]
          },
          "metadata": {},
          "execution_count": 210
        }
      ]
    },
    {
      "cell_type": "code",
      "source": [
        "final_data.columns"
      ],
      "metadata": {
        "colab": {
          "base_uri": "https://localhost:8080/"
        },
        "id": "3BgEtyD8MNkP",
        "outputId": "1f724665-5b9a-4ba9-a09c-fbb0abf4c74d"
      },
      "execution_count": 211,
      "outputs": [
        {
          "output_type": "execute_result",
          "data": {
            "text/plain": [
              "Index(['Recipe_Name', 'Total_Time', 'Cuisine', 'Ingredients_List',\n",
              "       'Number_of_Ingredients', 'Prep_Time', 'Cook_Time', 'Serves',\n",
              "       'Level_of_Cooking', 'Course', 'Image_URL', 'Recipe_link', 'Recipe',\n",
              "       'Diet', 'Equipment_Temp', 'Appliances', 'Contains_Sugar'],\n",
              "      dtype='object')"
            ]
          },
          "metadata": {},
          "execution_count": 211
        }
      ]
    },
    {
      "cell_type": "code",
      "source": [
        "#Separating dishes and recipes based on their preference of meat and non meat foods\n",
        "import string\n",
        "non_veg = ['boneless','chicken','turkey','duck','goose','Goose','Egg','Eggs','egg','eggs','Beef','beef','lamb','Lamb','mutton','Mutton','bombay duck','Bombay duck','Bombay Duck','Bombay-duck','bombay-duck','bacon','Bacon','Mandeli','Bheja','bheja','mandeli','Anda','anda','pork','fish','seafood','crab','prawns', 'salmon', 'tuna', 'shrimp','pomfret','king fish','jhinga','rohu','lobster','squid','shark']\n",
        "non_veg_caps = [string.capwords(i) for i in non_veg]\n",
        "complete_non_veg = non_veg+non_veg_caps\n",
        "print(complete_non_veg)\n",
        "\n",
        "# is_veg=[]\n",
        "# final_data['Ingredients_List']= final_data['Ingredients_List'].astype(str)\n",
        "# for i in final_data['Ingredients_List']:\n",
        "#     k=0\n",
        "#     temp = i.split(' ')\n",
        "#     for j in temp:\n",
        "#       if j.strip().lower() in non_veg or j.strip().lower() in non_veg_caps:\n",
        "#         print(j.strip())\n",
        "#         k = 1\n",
        "#         is_veg.append('NonVeg')\n",
        "#         continue\n",
        "#     if k==0:\n",
        "#       is_veg.append('Veg')\n",
        "  \n",
        "# final_data['Veg/NonVeg'] = is_veg\n",
        "# final_data['Veg/NonVeg'].value_counts()"
      ],
      "metadata": {
        "colab": {
          "base_uri": "https://localhost:8080/"
        },
        "id": "faLQEMadW6y_",
        "outputId": "161352dd-1e6a-4802-bffa-81caf8df825f"
      },
      "execution_count": 212,
      "outputs": [
        {
          "output_type": "stream",
          "name": "stdout",
          "text": [
            "['boneless', 'chicken', 'turkey', 'duck', 'goose', 'Goose', 'Egg', 'Eggs', 'egg', 'eggs', 'Beef', 'beef', 'lamb', 'Lamb', 'mutton', 'Mutton', 'bombay duck', 'Bombay duck', 'Bombay Duck', 'Bombay-duck', 'bombay-duck', 'bacon', 'Bacon', 'Mandeli', 'Bheja', 'bheja', 'mandeli', 'Anda', 'anda', 'pork', 'fish', 'seafood', 'crab', 'prawns', 'salmon', 'tuna', 'shrimp', 'pomfret', 'king fish', 'jhinga', 'rohu', 'lobster', 'squid', 'shark', 'Boneless', 'Chicken', 'Turkey', 'Duck', 'Goose', 'Goose', 'Egg', 'Eggs', 'Egg', 'Eggs', 'Beef', 'Beef', 'Lamb', 'Lamb', 'Mutton', 'Mutton', 'Bombay Duck', 'Bombay Duck', 'Bombay Duck', 'Bombay-duck', 'Bombay-duck', 'Bacon', 'Bacon', 'Mandeli', 'Bheja', 'Bheja', 'Mandeli', 'Anda', 'Anda', 'Pork', 'Fish', 'Seafood', 'Crab', 'Prawns', 'Salmon', 'Tuna', 'Shrimp', 'Pomfret', 'King Fish', 'Jhinga', 'Rohu', 'Lobster', 'Squid', 'Shark']\n"
          ]
        }
      ]
    },
    {
      "cell_type": "code",
      "source": [
        "#alcohol = ['Beer','Ales','Lagers','Wine','Red Wine','White Wine','chardonnay','Rose Wine','Sparkling Wine','Champagne','^Cider$','Liquor','Vodka','^Gin$','Whiskey','Rum','Tequila','Brandy']\n",
        "pattern = '|'.join(complete_non_veg)\n",
        "print(pattern)\n",
        "new = list(final_data['Ingredients_List'].str.contains(pattern))  #final_data.loc[final_data['Name'].str.contains(all, case=False)])\n",
        "def alc(x):\n",
        "  if x['del']==True:\n",
        "    return 'NonVeg' #if alcohol is present\n",
        "  else:\n",
        "    return 'Veg'\n",
        "final_data['del'] = new\n",
        "final_data['Veg/NonVeg']= final_data.apply(alc, axis=1)    \n",
        "final_data['Veg/NonVeg'].value_counts()"
      ],
      "metadata": {
        "colab": {
          "base_uri": "https://localhost:8080/"
        },
        "id": "ynC89QDbyzIb",
        "outputId": "6cfab9a6-0d90-486a-a214-b19b37a1bca8"
      },
      "execution_count": 213,
      "outputs": [
        {
          "output_type": "stream",
          "name": "stdout",
          "text": [
            "boneless|chicken|turkey|duck|goose|Goose|Egg|Eggs|egg|eggs|Beef|beef|lamb|Lamb|mutton|Mutton|bombay duck|Bombay duck|Bombay Duck|Bombay-duck|bombay-duck|bacon|Bacon|Mandeli|Bheja|bheja|mandeli|Anda|anda|pork|fish|seafood|crab|prawns|salmon|tuna|shrimp|pomfret|king fish|jhinga|rohu|lobster|squid|shark|Boneless|Chicken|Turkey|Duck|Goose|Goose|Egg|Eggs|Egg|Eggs|Beef|Beef|Lamb|Lamb|Mutton|Mutton|Bombay Duck|Bombay Duck|Bombay Duck|Bombay-duck|Bombay-duck|Bacon|Bacon|Mandeli|Bheja|Bheja|Mandeli|Anda|Anda|Pork|Fish|Seafood|Crab|Prawns|Salmon|Tuna|Shrimp|Pomfret|King Fish|Jhinga|Rohu|Lobster|Squid|Shark\n"
          ]
        },
        {
          "output_type": "execute_result",
          "data": {
            "text/plain": [
              "Veg       8543\n",
              "NonVeg    3042\n",
              "Name: Veg/NonVeg, dtype: int64"
            ]
          },
          "metadata": {},
          "execution_count": 213
        }
      ]
    },
    {
      "cell_type": "code",
      "source": [
        "new_df = pd.DataFrame(final_data[['Recipe_Name','Veg/NonVeg']])\n",
        "new_df.to_csv('/content/new_df2.csv')"
      ],
      "metadata": {
        "id": "pHrFHfWmt97n"
      },
      "execution_count": 214,
      "outputs": []
    },
    {
      "cell_type": "code",
      "source": [
        "new_df.head()"
      ],
      "metadata": {
        "colab": {
          "base_uri": "https://localhost:8080/",
          "height": 206
        },
        "id": "uS_LD2Bpu7Xg",
        "outputId": "60960ba8-ba51-410c-e8f8-91dbcb698c81"
      },
      "execution_count": 215,
      "outputs": [
        {
          "output_type": "execute_result",
          "data": {
            "text/plain": [
              "              Recipe_Name Veg/NonVeg\n",
              "0    Zarda Boondi Biryani        Veg\n",
              "1  Butter Chicken Biryani     NonVeg\n",
              "2          Biryani Kulcha        Veg\n",
              "3  Kalakand Fruit Custard        Veg\n",
              "4            Dum ka Tinda        Veg"
            ],
            "text/html": [
              "\n",
              "  <div id=\"df-43a2baaf-d370-45d5-9d0d-c5ee17c8d910\">\n",
              "    <div class=\"colab-df-container\">\n",
              "      <div>\n",
              "<style scoped>\n",
              "    .dataframe tbody tr th:only-of-type {\n",
              "        vertical-align: middle;\n",
              "    }\n",
              "\n",
              "    .dataframe tbody tr th {\n",
              "        vertical-align: top;\n",
              "    }\n",
              "\n",
              "    .dataframe thead th {\n",
              "        text-align: right;\n",
              "    }\n",
              "</style>\n",
              "<table border=\"1\" class=\"dataframe\">\n",
              "  <thead>\n",
              "    <tr style=\"text-align: right;\">\n",
              "      <th></th>\n",
              "      <th>Recipe_Name</th>\n",
              "      <th>Veg/NonVeg</th>\n",
              "    </tr>\n",
              "  </thead>\n",
              "  <tbody>\n",
              "    <tr>\n",
              "      <th>0</th>\n",
              "      <td>Zarda Boondi Biryani</td>\n",
              "      <td>Veg</td>\n",
              "    </tr>\n",
              "    <tr>\n",
              "      <th>1</th>\n",
              "      <td>Butter Chicken Biryani</td>\n",
              "      <td>NonVeg</td>\n",
              "    </tr>\n",
              "    <tr>\n",
              "      <th>2</th>\n",
              "      <td>Biryani Kulcha</td>\n",
              "      <td>Veg</td>\n",
              "    </tr>\n",
              "    <tr>\n",
              "      <th>3</th>\n",
              "      <td>Kalakand Fruit Custard</td>\n",
              "      <td>Veg</td>\n",
              "    </tr>\n",
              "    <tr>\n",
              "      <th>4</th>\n",
              "      <td>Dum ka Tinda</td>\n",
              "      <td>Veg</td>\n",
              "    </tr>\n",
              "  </tbody>\n",
              "</table>\n",
              "</div>\n",
              "      <button class=\"colab-df-convert\" onclick=\"convertToInteractive('df-43a2baaf-d370-45d5-9d0d-c5ee17c8d910')\"\n",
              "              title=\"Convert this dataframe to an interactive table.\"\n",
              "              style=\"display:none;\">\n",
              "        \n",
              "  <svg xmlns=\"http://www.w3.org/2000/svg\" height=\"24px\"viewBox=\"0 0 24 24\"\n",
              "       width=\"24px\">\n",
              "    <path d=\"M0 0h24v24H0V0z\" fill=\"none\"/>\n",
              "    <path d=\"M18.56 5.44l.94 2.06.94-2.06 2.06-.94-2.06-.94-.94-2.06-.94 2.06-2.06.94zm-11 1L8.5 8.5l.94-2.06 2.06-.94-2.06-.94L8.5 2.5l-.94 2.06-2.06.94zm10 10l.94 2.06.94-2.06 2.06-.94-2.06-.94-.94-2.06-.94 2.06-2.06.94z\"/><path d=\"M17.41 7.96l-1.37-1.37c-.4-.4-.92-.59-1.43-.59-.52 0-1.04.2-1.43.59L10.3 9.45l-7.72 7.72c-.78.78-.78 2.05 0 2.83L4 21.41c.39.39.9.59 1.41.59.51 0 1.02-.2 1.41-.59l7.78-7.78 2.81-2.81c.8-.78.8-2.07 0-2.86zM5.41 20L4 18.59l7.72-7.72 1.47 1.35L5.41 20z\"/>\n",
              "  </svg>\n",
              "      </button>\n",
              "      \n",
              "  <style>\n",
              "    .colab-df-container {\n",
              "      display:flex;\n",
              "      flex-wrap:wrap;\n",
              "      gap: 12px;\n",
              "    }\n",
              "\n",
              "    .colab-df-convert {\n",
              "      background-color: #E8F0FE;\n",
              "      border: none;\n",
              "      border-radius: 50%;\n",
              "      cursor: pointer;\n",
              "      display: none;\n",
              "      fill: #1967D2;\n",
              "      height: 32px;\n",
              "      padding: 0 0 0 0;\n",
              "      width: 32px;\n",
              "    }\n",
              "\n",
              "    .colab-df-convert:hover {\n",
              "      background-color: #E2EBFA;\n",
              "      box-shadow: 0px 1px 2px rgba(60, 64, 67, 0.3), 0px 1px 3px 1px rgba(60, 64, 67, 0.15);\n",
              "      fill: #174EA6;\n",
              "    }\n",
              "\n",
              "    [theme=dark] .colab-df-convert {\n",
              "      background-color: #3B4455;\n",
              "      fill: #D2E3FC;\n",
              "    }\n",
              "\n",
              "    [theme=dark] .colab-df-convert:hover {\n",
              "      background-color: #434B5C;\n",
              "      box-shadow: 0px 1px 3px 1px rgba(0, 0, 0, 0.15);\n",
              "      filter: drop-shadow(0px 1px 2px rgba(0, 0, 0, 0.3));\n",
              "      fill: #FFFFFF;\n",
              "    }\n",
              "  </style>\n",
              "\n",
              "      <script>\n",
              "        const buttonEl =\n",
              "          document.querySelector('#df-43a2baaf-d370-45d5-9d0d-c5ee17c8d910 button.colab-df-convert');\n",
              "        buttonEl.style.display =\n",
              "          google.colab.kernel.accessAllowed ? 'block' : 'none';\n",
              "\n",
              "        async function convertToInteractive(key) {\n",
              "          const element = document.querySelector('#df-43a2baaf-d370-45d5-9d0d-c5ee17c8d910');\n",
              "          const dataTable =\n",
              "            await google.colab.kernel.invokeFunction('convertToInteractive',\n",
              "                                                     [key], {});\n",
              "          if (!dataTable) return;\n",
              "\n",
              "          const docLinkHtml = 'Like what you see? Visit the ' +\n",
              "            '<a target=\"_blank\" href=https://colab.research.google.com/notebooks/data_table.ipynb>data table notebook</a>'\n",
              "            + ' to learn more about interactive tables.';\n",
              "          element.innerHTML = '';\n",
              "          dataTable['output_type'] = 'display_data';\n",
              "          await google.colab.output.renderOutput(dataTable, element);\n",
              "          const docLink = document.createElement('div');\n",
              "          docLink.innerHTML = docLinkHtml;\n",
              "          element.appendChild(docLink);\n",
              "        }\n",
              "      </script>\n",
              "    </div>\n",
              "  </div>\n",
              "  "
            ]
          },
          "metadata": {},
          "execution_count": 215
        }
      ]
    },
    {
      "cell_type": "code",
      "source": [
        "#defining recipes based on their contribution of nuts as an ingredient. proves to be helpful if the consumer is allergic to nuts\n",
        "contains_nuts=[]\n",
        "for i in final_data['Recipe']:\n",
        "  k=0\n",
        "  temp = i.split(' ')\n",
        "  for j in temp:\n",
        "    if j.strip().lower()=='nut' or j.strip().lower()=='nuts' :\n",
        "      k = 1\n",
        "      contains_nuts.append(1) #1 = contains nuts\n",
        "      break\n",
        "  if k==0:\n",
        "    contains_nuts.append(0) # 0 = doesn't contain nuts\n",
        "final_data['Contains_Nuts'] = contains_nuts\n",
        "final_data['Contains_Nuts'].value_counts()\n",
        "#0 implies no no nuts"
      ],
      "metadata": {
        "colab": {
          "base_uri": "https://localhost:8080/"
        },
        "id": "Ged3bXNXXE3x",
        "outputId": "b0100b8d-d80a-4d67-c9f2-080098d47bad"
      },
      "execution_count": 216,
      "outputs": [
        {
          "output_type": "execute_result",
          "data": {
            "text/plain": [
              "0    11211\n",
              "1      374\n",
              "Name: Contains_Nuts, dtype: int64"
            ]
          },
          "metadata": {},
          "execution_count": 216
        }
      ]
    },
    {
      "cell_type": "code",
      "source": [
        "#Calculating the culinary measurement and number of ingredients  \n",
        "measures = ['teaspoon','cups','tablespoons','garnish','sliced','tablespoon','teaspoon','cup','pinch','grams','gram','kg','kilo','kilos','kgs','roasted','fry','fried','ground','as required','spoon','to taste','squeeze','squeezed']\n",
        "ing_list1=[]\n",
        "for i in final_data['Ingredients_List']:\n",
        "  new_list=[]\n",
        "  try:\n",
        "    temp = i.split(' ')\n",
        "    for j in temp:\n",
        "      if j.lower() in measures:\n",
        "        new_list.append(str(j.lower())+':')\n",
        "      else:\n",
        "        new_list.append(j.lower())\n",
        "    ing_list1.append(' '.join(new_list))\n",
        "  except:\n",
        "    ing_list1.append('Nan')\n",
        "print(ing_list1)\n",
        "new_df=pd.DataFrame()\n",
        "new_df['random'] = ing_list1\n",
        "\n",
        "df = pd.Series(new_df['random']).str.split(':',expand=True)\n",
        "no_of_ing=[]\n",
        "for j,i in df.iterrows():\n",
        "  m = df.shape[1]-df.loc[[j]].isna().sum().sum()\n",
        "  no_of_ing.append(m)\n",
        "final_data['Number_of_Ingredients'] = no_of_ing\n",
        "#final_data.drop('random',axis=1)"
      ],
      "metadata": {
        "colab": {
          "base_uri": "https://localhost:8080/"
        },
        "id": "l7zllLTNXQjN",
        "outputId": "27ad6074-7e2f-4f83-8303-30d714297c24"
      },
      "execution_count": 217,
      "outputs": [
        {
          "output_type": "stream",
          "name": "stderr",
          "text": [
            "IOPub data rate exceeded.\n",
            "The notebook server will temporarily stop sending output\n",
            "to the client in order to avoid crashing it.\n",
            "To change this limit, set the config variable\n",
            "`--NotebookApp.iopub_data_rate_limit`.\n",
            "\n",
            "Current values:\n",
            "NotebookApp.iopub_data_rate_limit=1000000.0 (bytes/sec)\n",
            "NotebookApp.rate_limit_window=3.0 (secs)\n",
            "\n"
          ]
        }
      ]
    },
    {
      "cell_type": "code",
      "source": [
        "#how many ingredients are needed on average for veg and non veg recipes\n",
        "\n",
        "final_data['Number_of_Ingredients']"
      ],
      "metadata": {
        "colab": {
          "base_uri": "https://localhost:8080/"
        },
        "id": "JKfBK34aRzgi",
        "outputId": "f690a10f-a28f-4867-9186-10cf3f0a74f1"
      },
      "execution_count": 218,
      "outputs": [
        {
          "output_type": "execute_result",
          "data": {
            "text/plain": [
              "0        16\n",
              "1        14\n",
              "2         7\n",
              "3         7\n",
              "4        13\n",
              "         ..\n",
              "11580     5\n",
              "11581     8\n",
              "11582     8\n",
              "11583     8\n",
              "11584     7\n",
              "Name: Number_of_Ingredients, Length: 11585, dtype: int64"
            ]
          },
          "metadata": {},
          "execution_count": 218
        }
      ]
    },
    {
      "cell_type": "code",
      "source": [
        "#seggregating recipes based on diary products\n",
        "dairy = ['milk','curd','cottage cheese','paneer','milk powder','butter','ghee','cheese', 'cream', 'yogurt', 'whipped cream', 'dairy', 'eggs', 'egg','anda', 'honey']\n",
        "pattern = '|'.join(dairy)\n",
        "print(pattern)\n",
        "new = list(final_data['Ingredients_List'].str.contains(pattern))  #final_data.loc[final_data['Name'].str.contains(all, case=False)])\n",
        "def alc(x):\n",
        "  if x['del']==True:\n",
        "    return 'Yes' \n",
        "  else:\n",
        "    return 'No'\n",
        "final_data['del'] = new\n",
        "final_data['Vegan']= final_data.apply(alc, axis=1)    \n",
        "final_data['Vegan'].value_counts()"
      ],
      "metadata": {
        "id": "yA3-1hgKXlOP",
        "colab": {
          "base_uri": "https://localhost:8080/"
        },
        "outputId": "dad9d245-050a-4559-af9d-317fd809560e"
      },
      "execution_count": 219,
      "outputs": [
        {
          "output_type": "stream",
          "name": "stdout",
          "text": [
            "milk|curd|cottage cheese|paneer|milk powder|butter|ghee|cheese|cream|yogurt|whipped cream|dairy|eggs|egg|anda|honey\n"
          ]
        },
        {
          "output_type": "execute_result",
          "data": {
            "text/plain": [
              "No     8251\n",
              "Yes    3334\n",
              "Name: Vegan, dtype: int64"
            ]
          },
          "metadata": {},
          "execution_count": 219
        }
      ]
    },
    {
      "cell_type": "code",
      "source": [
        "#filtering and dividing cuisines based on style and method of cooking\n",
        "\n",
        "cuisine_temp=[]\n",
        "for j,i in final_data.iterrows():\n",
        "  if i['Cuisine'].strip()=='Pakistani':\n",
        "    cuisine_temp.append('Moghlai')\n",
        "  elif i['Cuisine'].strip()=='Spanish':\n",
        "    cuisine_temp.append('Fusion')\n",
        "  elif i['Cuisine'].strip()=='Portuguese':\n",
        "    cuisine_temp.append('Goan')\n",
        "  elif i['Cuisine'].strip() in ['Indonesian', 'Indo-Chinese','Oriental', 'Malaysian', 'Singaporean']:\n",
        "    cuisine_temp.append('North Eastern')\n",
        "  else:\n",
        "    cuisine_temp.append(i['Cuisine'])\n",
        "final_data['Cuisine'] = cuisine_temp\n"
      ],
      "metadata": {
        "id": "1MVpdtM4XqIJ"
      },
      "execution_count": 220,
      "outputs": []
    },
    {
      "cell_type": "code",
      "source": [
        "#declaring the type of cuisine whether they are Indian or not\n",
        "non_indian = [ 'Italian','Italian ','Thai','British','French','Mexican','American','Greek','Turkish','Japanese','Lebanese','Peruvian','Continental','Swiss','Sri Lankan','German','Polish','Korean','Burmese','French','Canadian','Vietnamese','Denmark','German Cuisine','Italian, Fusion','Tex-Mex','Fusion, American','Korean, Fusion','Viennese','Caribbean','African','Creole','American','Malvani','Scottish','British, Fusion','Brazilian']\n",
        "\n",
        "#['African','American','Peruvian','Brazilian','Korean','Thai','Portugese',' ``                                                                                                                                                                                                                                                                                                                                                                                                Greek','Scottish','Moroccan','Turkish','British','British, Fusion','Burmese','Canadian','Pakistani','Caribbean','Continental','Creole','Denmark','French','French, Fusion','Fusion, American','German','German Cuisine','Indonesian','Italian','Italian, Fusion','Japanese','Korean, Fusion','Lebanese','Malaysian','Mexican','Middle Eastern','Middle Eastern, Lebanese','Arabic','South African','American ','Spanish','Sri Lankan','Greek','Swiss','Viennese','Vietnamese','Singaporean','Polish']\n",
        "non_indian_lower = [i.lower() for i in non_indian]\n",
        "print(non_indian_lower)\n",
        "print(final_data.shape)\n",
        "final_data = final_data[~final_data['Cuisine'].isin(non_indian)]\n",
        "final_data = final_data[~final_data['Cuisine'].isin(non_indian_lower)]\n",
        "print(final_data.shape)\n"
      ],
      "metadata": {
        "colab": {
          "base_uri": "https://localhost:8080/"
        },
        "id": "M5emnlu2XxGb",
        "outputId": "bb96c774-0ae2-48c8-b04e-658833f8ed96"
      },
      "execution_count": 221,
      "outputs": [
        {
          "output_type": "stream",
          "name": "stdout",
          "text": [
            "['italian', 'italian ', 'thai', 'british', 'french', 'mexican', 'american', 'greek', 'turkish', 'japanese', 'lebanese', 'peruvian', 'continental', 'swiss', 'sri lankan', 'german', 'polish', 'korean', 'burmese', 'french', 'canadian', 'vietnamese', 'denmark', 'german cuisine', 'italian, fusion', 'tex-mex', 'fusion, american', 'korean, fusion', 'viennese', 'caribbean', 'african', 'creole', 'american', 'malvani', 'scottish', 'british, fusion', 'brazilian']\n",
            "(11585, 21)\n",
            "(9691, 21)\n"
          ]
        }
      ]
    },
    {
      "cell_type": "code",
      "source": [
        "#displaying recipes based on cusines\n",
        "regional_food=[]\n",
        "cuisine_list = list(final_data['Cuisine'].unique())\n",
        "print(cuisine_list)\n",
        "for i in range(len(cuisine_list)):\n",
        "  if ',' in cuisine_list[i]:\n",
        "    temp = cuisine_list[i].split(',')\n",
        "    lens = [len(k) for k in temp]\n",
        "    regional_food.append([j for j in temp if len(j)==max(lens)][0])\n",
        "  else:\n",
        "    regional_food.append(cuisine_list[i])"
      ],
      "metadata": {
        "colab": {
          "base_uri": "https://localhost:8080/"
        },
        "id": "1gjULhBEX1vj",
        "outputId": "cc5a90c2-9644-4342-f54d-cde52c4bcbfd"
      },
      "execution_count": 222,
      "outputs": [
        {
          "output_type": "stream",
          "name": "stdout",
          "text": [
            "['Indian', 'Fusion', 'Punjabi', 'Kashmiri', 'Middle Eastern', 'South Indian', 'Maharashtrian', 'Gujarati', 'Kerala', 'Karnataka', 'Other Cuisines', 'Chinese', 'Other cuisines', 'Tamil Nadu', 'North Eastern', 'Mumbai', 'Sindhi', 'Rajasthani', 'Bengali', 'Parsi', 'Indian, Maharashtrian', 'Indo Chinese', 'Indian, Gujarati', 'Middle Eastern, Lebanese', 'Indian, Bengali', 'Fusion ', 'Arabic', 'Goan', 'Moghlai', 'Uttar Pradesh', 'Andhra', 'American ', 'Hyderabadi', 'Maharashtrian, Karnataka', 'Punjabi, Indian', 'Rajasthani, Indian', 'Maharashtrian, Fusion, Indian', 'Indian, Fusion', 'Maharashtrian, Indian', 'South African', 'Karnataka, Indian', 'Gujarati, Indian', 'South Indian, Indian', 'Gujarati, Indian, Fusion', 'Indo-Italian', 'Kerala, Indian', 'Bengali, Indian', 'Madhya Pradesh', 'Mangalorean, Indian', 'Sindhi, Indian', 'Moroccan', 'Gujarati, Fusion', 'Oriental, Fusion', 'Orissa', 'Punjabi, Indian, Fusion', 'Indian, Mumbai', 'Indo-Chinese, Fusion', 'Kashmiri, Indian', 'Indian, Hyderabadi', 'Indian, Mangalorean', 'Parsi, Indian', 'South Indian, Indian, Fusion', 'Sindhi, Indian, Fusion', 'Maharashtrian, Indian, Fusion', 'Goan, Indian', 'Indian, Punjabi', 'Mumbai, Indian', 'Indo-Italian, Fusion', 'Indian, Karnataka', 'Indian, Kerala', 'Indian, Parsi', 'Bihari', 'Indian, Punjabi, Fusion', 'Goan, Fusion, Indian', 'Indian, Rajasthani', 'French, Fusion', 'Indian, South Indian', 'Indian, Fusion, South Indian', 'Chinese, Indo-Chinese', 'Indo Chinese, Indo-Chinese', 'indian', 'Indo-chinese', 'fusion', 'Mangalorean', 'Fusion, Indian', 'Chettinaad', 'Marwari', 'Chettinad', 'Andhra ', 'Chinese, Fusion', 'Punjabi , Indian', 'Uttar Pradesh, Punjabi', 'Punjabi, Maharashtrian, Karnataka', 'Indo-Mexican', 'Coorg', 'TamilNadu', 'Indian Fusion', 'Other', 'South Indian Recipes', 'Udupi', 'Bengali Recipes', 'Maharashtrian Recipes', 'North Indian Recipes', 'Italian Recipes', 'Kerala Recipes', 'Gujarati Recipes\\ufeff', 'Asian', 'Coastal Karnataka', 'European', 'Lucknowi', 'Side Dish', 'Goan Recipes', 'Arab', 'Assamese', 'Malabar', 'Himachal', 'Awadhi', 'Cantonese', 'North East India Recipes', 'Sichuan', 'Mughlai', 'North Karnataka', 'Parsi Recipes', 'Nepalese', 'Oriya Recipes', 'Konkan', 'Mediterranean', 'Shandong', 'Kongunadu', 'South Karnataka', 'Haryana', 'Appetizer', 'Uttarakhand-North Kumaon', 'World Breakfast', 'Dessert', 'Hunan', 'Dinner', 'Snack', 'Jewish', 'Afghan', 'Brunch', 'Jharkhand', 'Lunch', 'Nagaland', 'Gujarati Recipesï»¿']\n"
          ]
        }
      ]
    },
    {
      "cell_type": "code",
      "source": [
        "#locating the region based on their type of food and ingredients\n",
        "def find_region(x,list1):\n",
        "  for j in list1:\n",
        "    if x.find(j)!=-1:\n",
        "      return j\n",
        "import string\n",
        "final_data['Cuisine'] = [string.capwords(i.strip()) for i in final_data['Cuisine']]\n",
        "final_data['Region'] = final_data['Cuisine'].apply(lambda row: find_region(row,regional_food))\n",
        "final_data.head()"
      ],
      "metadata": {
        "colab": {
          "base_uri": "https://localhost:8080/",
          "height": 751
        },
        "id": "sh1y5lm_X7fR",
        "outputId": "5fa2f6e9-bcc8-4cf0-de16-6a16b751f16a"
      },
      "execution_count": 223,
      "outputs": [
        {
          "output_type": "execute_result",
          "data": {
            "text/plain": [
              "              Recipe_Name  Total_Time Cuisine  \\\n",
              "0    Zarda Boondi Biryani        42.0  Indian   \n",
              "1  Butter Chicken Biryani        72.0  Fusion   \n",
              "2          Biryani Kulcha        27.0  Indian   \n",
              "3  Kalakand Fruit Custard       131.0  Fusion   \n",
              "4            Dum ka Tinda        57.0  Indian   \n",
              "\n",
              "                                    Ingredients_List  Number_of_Ingredients  \\\n",
              "0  'saffron strands  1/2 grams Sweet boondi  1 cu...                     16   \n",
              "1  'Tandoori chicken cut into pieces on bone and ...                     14   \n",
              "2  'Readymade veg biryani  2 cups Readymade kulch...                      7   \n",
              "3  'Kalakand  5 pieces Red apple , cored, cut int...                      7   \n",
              "4  'Apple gourds (tinda)  8-9   Ginger , chopped ...                     13   \n",
              "\n",
              "   Prep_Time  Cook_Time Serves Level_of_Cooking                  Course  ...  \\\n",
              "0       26.0       16.0     4             Easy                     Rice  ...   \n",
              "1       31.0       41.0     4         Moderate                     Rice  ...   \n",
              "2       21.0        6.0     4             Easy                   Breads  ...   \n",
              "3      120.0       11.0     4             Easy                 Desserts  ...   \n",
              "4       26.0       31.0     4         Moderate   Main Course Vegetarian  ...   \n",
              "\n",
              "                                              Recipe Diet Equipment_Temp  \\\n",
              "0  '  step 1 heat ghee in a deep stainless steel ...  NaN          False   \n",
              "1  '  step 1 heat oil and butter in a non-stick p...  NaN          False   \n",
              "2  '  step 1 preheat oven to 180°c.  step 2 take ...  NaN           True   \n",
              "3  '  step 1 roughly chop walnuts. dry roast the ...  NaN          False   \n",
              "4  '  step 1 peel the apple gourds. cut off a thi...  NaN           True   \n",
              "\n",
              "      Appliances  Contains_Sugar    del Veg/NonVeg  Contains_Nuts Vegan  \\\n",
              "0   not required             Yes  False        Veg              0    No   \n",
              "1   not required              No   True     NonVeg              0   Yes   \n",
              "2           oven              No  False        Veg              0    No   \n",
              "3   not required             Yes  False        Veg              0    No   \n",
              "4  grill,blender              No   True        Veg              0   Yes   \n",
              "\n",
              "   Region  \n",
              "0  Indian  \n",
              "1  Fusion  \n",
              "2  Indian  \n",
              "3  Fusion  \n",
              "4  Indian  \n",
              "\n",
              "[5 rows x 22 columns]"
            ],
            "text/html": [
              "\n",
              "  <div id=\"df-bf59f185-5fd7-4e36-ab79-2a0223b178fd\">\n",
              "    <div class=\"colab-df-container\">\n",
              "      <div>\n",
              "<style scoped>\n",
              "    .dataframe tbody tr th:only-of-type {\n",
              "        vertical-align: middle;\n",
              "    }\n",
              "\n",
              "    .dataframe tbody tr th {\n",
              "        vertical-align: top;\n",
              "    }\n",
              "\n",
              "    .dataframe thead th {\n",
              "        text-align: right;\n",
              "    }\n",
              "</style>\n",
              "<table border=\"1\" class=\"dataframe\">\n",
              "  <thead>\n",
              "    <tr style=\"text-align: right;\">\n",
              "      <th></th>\n",
              "      <th>Recipe_Name</th>\n",
              "      <th>Total_Time</th>\n",
              "      <th>Cuisine</th>\n",
              "      <th>Ingredients_List</th>\n",
              "      <th>Number_of_Ingredients</th>\n",
              "      <th>Prep_Time</th>\n",
              "      <th>Cook_Time</th>\n",
              "      <th>Serves</th>\n",
              "      <th>Level_of_Cooking</th>\n",
              "      <th>Course</th>\n",
              "      <th>...</th>\n",
              "      <th>Recipe</th>\n",
              "      <th>Diet</th>\n",
              "      <th>Equipment_Temp</th>\n",
              "      <th>Appliances</th>\n",
              "      <th>Contains_Sugar</th>\n",
              "      <th>del</th>\n",
              "      <th>Veg/NonVeg</th>\n",
              "      <th>Contains_Nuts</th>\n",
              "      <th>Vegan</th>\n",
              "      <th>Region</th>\n",
              "    </tr>\n",
              "  </thead>\n",
              "  <tbody>\n",
              "    <tr>\n",
              "      <th>0</th>\n",
              "      <td>Zarda Boondi Biryani</td>\n",
              "      <td>42.0</td>\n",
              "      <td>Indian</td>\n",
              "      <td>'saffron strands  1/2 grams Sweet boondi  1 cu...</td>\n",
              "      <td>16</td>\n",
              "      <td>26.0</td>\n",
              "      <td>16.0</td>\n",
              "      <td>4</td>\n",
              "      <td>Easy</td>\n",
              "      <td>Rice</td>\n",
              "      <td>...</td>\n",
              "      <td>'  step 1 heat ghee in a deep stainless steel ...</td>\n",
              "      <td>NaN</td>\n",
              "      <td>False</td>\n",
              "      <td>not required</td>\n",
              "      <td>Yes</td>\n",
              "      <td>False</td>\n",
              "      <td>Veg</td>\n",
              "      <td>0</td>\n",
              "      <td>No</td>\n",
              "      <td>Indian</td>\n",
              "    </tr>\n",
              "    <tr>\n",
              "      <th>1</th>\n",
              "      <td>Butter Chicken Biryani</td>\n",
              "      <td>72.0</td>\n",
              "      <td>Fusion</td>\n",
              "      <td>'Tandoori chicken cut into pieces on bone and ...</td>\n",
              "      <td>14</td>\n",
              "      <td>31.0</td>\n",
              "      <td>41.0</td>\n",
              "      <td>4</td>\n",
              "      <td>Moderate</td>\n",
              "      <td>Rice</td>\n",
              "      <td>...</td>\n",
              "      <td>'  step 1 heat oil and butter in a non-stick p...</td>\n",
              "      <td>NaN</td>\n",
              "      <td>False</td>\n",
              "      <td>not required</td>\n",
              "      <td>No</td>\n",
              "      <td>True</td>\n",
              "      <td>NonVeg</td>\n",
              "      <td>0</td>\n",
              "      <td>Yes</td>\n",
              "      <td>Fusion</td>\n",
              "    </tr>\n",
              "    <tr>\n",
              "      <th>2</th>\n",
              "      <td>Biryani Kulcha</td>\n",
              "      <td>27.0</td>\n",
              "      <td>Indian</td>\n",
              "      <td>'Readymade veg biryani  2 cups Readymade kulch...</td>\n",
              "      <td>7</td>\n",
              "      <td>21.0</td>\n",
              "      <td>6.0</td>\n",
              "      <td>4</td>\n",
              "      <td>Easy</td>\n",
              "      <td>Breads</td>\n",
              "      <td>...</td>\n",
              "      <td>'  step 1 preheat oven to 180°c.  step 2 take ...</td>\n",
              "      <td>NaN</td>\n",
              "      <td>True</td>\n",
              "      <td>oven</td>\n",
              "      <td>No</td>\n",
              "      <td>False</td>\n",
              "      <td>Veg</td>\n",
              "      <td>0</td>\n",
              "      <td>No</td>\n",
              "      <td>Indian</td>\n",
              "    </tr>\n",
              "    <tr>\n",
              "      <th>3</th>\n",
              "      <td>Kalakand Fruit Custard</td>\n",
              "      <td>131.0</td>\n",
              "      <td>Fusion</td>\n",
              "      <td>'Kalakand  5 pieces Red apple , cored, cut int...</td>\n",
              "      <td>7</td>\n",
              "      <td>120.0</td>\n",
              "      <td>11.0</td>\n",
              "      <td>4</td>\n",
              "      <td>Easy</td>\n",
              "      <td>Desserts</td>\n",
              "      <td>...</td>\n",
              "      <td>'  step 1 roughly chop walnuts. dry roast the ...</td>\n",
              "      <td>NaN</td>\n",
              "      <td>False</td>\n",
              "      <td>not required</td>\n",
              "      <td>Yes</td>\n",
              "      <td>False</td>\n",
              "      <td>Veg</td>\n",
              "      <td>0</td>\n",
              "      <td>No</td>\n",
              "      <td>Fusion</td>\n",
              "    </tr>\n",
              "    <tr>\n",
              "      <th>4</th>\n",
              "      <td>Dum ka Tinda</td>\n",
              "      <td>57.0</td>\n",
              "      <td>Indian</td>\n",
              "      <td>'Apple gourds (tinda)  8-9   Ginger , chopped ...</td>\n",
              "      <td>13</td>\n",
              "      <td>26.0</td>\n",
              "      <td>31.0</td>\n",
              "      <td>4</td>\n",
              "      <td>Moderate</td>\n",
              "      <td>Main Course Vegetarian</td>\n",
              "      <td>...</td>\n",
              "      <td>'  step 1 peel the apple gourds. cut off a thi...</td>\n",
              "      <td>NaN</td>\n",
              "      <td>True</td>\n",
              "      <td>grill,blender</td>\n",
              "      <td>No</td>\n",
              "      <td>True</td>\n",
              "      <td>Veg</td>\n",
              "      <td>0</td>\n",
              "      <td>Yes</td>\n",
              "      <td>Indian</td>\n",
              "    </tr>\n",
              "  </tbody>\n",
              "</table>\n",
              "<p>5 rows × 22 columns</p>\n",
              "</div>\n",
              "      <button class=\"colab-df-convert\" onclick=\"convertToInteractive('df-bf59f185-5fd7-4e36-ab79-2a0223b178fd')\"\n",
              "              title=\"Convert this dataframe to an interactive table.\"\n",
              "              style=\"display:none;\">\n",
              "        \n",
              "  <svg xmlns=\"http://www.w3.org/2000/svg\" height=\"24px\"viewBox=\"0 0 24 24\"\n",
              "       width=\"24px\">\n",
              "    <path d=\"M0 0h24v24H0V0z\" fill=\"none\"/>\n",
              "    <path d=\"M18.56 5.44l.94 2.06.94-2.06 2.06-.94-2.06-.94-.94-2.06-.94 2.06-2.06.94zm-11 1L8.5 8.5l.94-2.06 2.06-.94-2.06-.94L8.5 2.5l-.94 2.06-2.06.94zm10 10l.94 2.06.94-2.06 2.06-.94-2.06-.94-.94-2.06-.94 2.06-2.06.94z\"/><path d=\"M17.41 7.96l-1.37-1.37c-.4-.4-.92-.59-1.43-.59-.52 0-1.04.2-1.43.59L10.3 9.45l-7.72 7.72c-.78.78-.78 2.05 0 2.83L4 21.41c.39.39.9.59 1.41.59.51 0 1.02-.2 1.41-.59l7.78-7.78 2.81-2.81c.8-.78.8-2.07 0-2.86zM5.41 20L4 18.59l7.72-7.72 1.47 1.35L5.41 20z\"/>\n",
              "  </svg>\n",
              "      </button>\n",
              "      \n",
              "  <style>\n",
              "    .colab-df-container {\n",
              "      display:flex;\n",
              "      flex-wrap:wrap;\n",
              "      gap: 12px;\n",
              "    }\n",
              "\n",
              "    .colab-df-convert {\n",
              "      background-color: #E8F0FE;\n",
              "      border: none;\n",
              "      border-radius: 50%;\n",
              "      cursor: pointer;\n",
              "      display: none;\n",
              "      fill: #1967D2;\n",
              "      height: 32px;\n",
              "      padding: 0 0 0 0;\n",
              "      width: 32px;\n",
              "    }\n",
              "\n",
              "    .colab-df-convert:hover {\n",
              "      background-color: #E2EBFA;\n",
              "      box-shadow: 0px 1px 2px rgba(60, 64, 67, 0.3), 0px 1px 3px 1px rgba(60, 64, 67, 0.15);\n",
              "      fill: #174EA6;\n",
              "    }\n",
              "\n",
              "    [theme=dark] .colab-df-convert {\n",
              "      background-color: #3B4455;\n",
              "      fill: #D2E3FC;\n",
              "    }\n",
              "\n",
              "    [theme=dark] .colab-df-convert:hover {\n",
              "      background-color: #434B5C;\n",
              "      box-shadow: 0px 1px 3px 1px rgba(0, 0, 0, 0.15);\n",
              "      filter: drop-shadow(0px 1px 2px rgba(0, 0, 0, 0.3));\n",
              "      fill: #FFFFFF;\n",
              "    }\n",
              "  </style>\n",
              "\n",
              "      <script>\n",
              "        const buttonEl =\n",
              "          document.querySelector('#df-bf59f185-5fd7-4e36-ab79-2a0223b178fd button.colab-df-convert');\n",
              "        buttonEl.style.display =\n",
              "          google.colab.kernel.accessAllowed ? 'block' : 'none';\n",
              "\n",
              "        async function convertToInteractive(key) {\n",
              "          const element = document.querySelector('#df-bf59f185-5fd7-4e36-ab79-2a0223b178fd');\n",
              "          const dataTable =\n",
              "            await google.colab.kernel.invokeFunction('convertToInteractive',\n",
              "                                                     [key], {});\n",
              "          if (!dataTable) return;\n",
              "\n",
              "          const docLinkHtml = 'Like what you see? Visit the ' +\n",
              "            '<a target=\"_blank\" href=https://colab.research.google.com/notebooks/data_table.ipynb>data table notebook</a>'\n",
              "            + ' to learn more about interactive tables.';\n",
              "          element.innerHTML = '';\n",
              "          dataTable['output_type'] = 'display_data';\n",
              "          await google.colab.output.renderOutput(dataTable, element);\n",
              "          const docLink = document.createElement('div');\n",
              "          docLink.innerHTML = docLinkHtml;\n",
              "          element.appendChild(docLink);\n",
              "        }\n",
              "      </script>\n",
              "    </div>\n",
              "  </div>\n",
              "  "
            ]
          },
          "metadata": {},
          "execution_count": 223
        }
      ]
    },
    {
      "cell_type": "code",
      "source": [
        "#identifying the use case of organic fruits and its contribution in various recipes and ingredients\n",
        "fruits_list = ['Sapota','Chiku','Aam','Seb','Kela','Tomato','Apple','Watermelon','Orange','Santra','Mosambi','Sweet Lime','Pear','Cherry','Strawberry','Nectarine','Grape','Mango','Blueberry','Pomegranate','Plum','Banana','Raspberry','Mandarin','Jackfruit','Papaya','Kiwi','Pineapple','Lime','Apricot','Grapefruit','Melon','Avocado','Peach']\n",
        "\n",
        "fruit_finds= []\n",
        "for i in final_data['Ingredients_List']:\n",
        "  fruits=[]\n",
        "  try:\n",
        "    temp = i.split(' ')\n",
        "    for j in temp:\n",
        "      for k in j.split():\n",
        "        k = ''.join(e for e in k if e.isalnum())\n",
        "        if string.capwords(k.strip()) in fruits_list and string.capwords(k.strip()) not in fruits:\n",
        "           fruits.append(string.capwords(k))\n",
        "    if fruits==[]:\n",
        "      fruit_finds.append('No_Fruits')\n",
        "    else:\n",
        "      fruit_finds.append(fruits)\n",
        "  except:\n",
        "    fruit_finds.append('No_Fruits')\n",
        "print(fruit_finds)\n",
        "#final_data['Fruit'] = fruit_finds\n",
        "final_data['Fruits_Present'] = fruit_finds"
      ],
      "metadata": {
        "colab": {
          "base_uri": "https://localhost:8080/"
        },
        "id": "_DFwZqOnX_ki",
        "outputId": "5cb169b0-15b0-4746-f66a-1a9fd9182640"
      },
      "execution_count": 224,
      "outputs": [
        {
          "output_type": "stream",
          "name": "stdout",
          "text": [
            "[['Orange'], ['Tomato'], 'No_Fruits', ['Apple', 'Pear', 'Orange', 'Pomegranate'], ['Apple', 'Mango'], 'No_Fruits', ['Pear', 'Pineapple', 'Apple'], ['Tomato', 'Cherry'], 'No_Fruits', ['Cherry'], 'No_Fruits', ['Cherry'], ['Cherry'], 'No_Fruits', 'No_Fruits', ['Mango'], 'No_Fruits', 'No_Fruits', 'No_Fruits', 'No_Fruits', 'No_Fruits', 'No_Fruits', 'No_Fruits', 'No_Fruits', 'No_Fruits', ['Pomegranate'], 'No_Fruits', 'No_Fruits', 'No_Fruits', 'No_Fruits', 'No_Fruits', 'No_Fruits', ['Tomato'], 'No_Fruits', 'No_Fruits', 'No_Fruits', 'No_Fruits', ['Tomato'], ['Mango'], 'No_Fruits', 'No_Fruits', ['Tomato'], ['Aam'], ['Mango'], ['Apple'], ['Mango'], ['Mango'], 'No_Fruits', ['Papaya'], 'No_Fruits', 'No_Fruits', 'No_Fruits', 'No_Fruits', 'No_Fruits', ['Tomato', 'Mango'], 'No_Fruits', ['Mango', 'Tomato'], 'No_Fruits', 'No_Fruits', 'No_Fruits', 'No_Fruits', ['Pomegranate'], ['Strawberry'], 'No_Fruits', ['Strawberry'], 'No_Fruits', 'No_Fruits', ['Mango'], 'No_Fruits', ['Tomato', 'Mango'], 'No_Fruits', ['Strawberry'], 'No_Fruits', ['Mango'], ['Cherry', 'Orange'], 'No_Fruits', 'No_Fruits', 'No_Fruits', 'No_Fruits', 'No_Fruits', 'No_Fruits', ['Banana'], 'No_Fruits', 'No_Fruits', 'No_Fruits', ['Cherry'], ['Cherry'], ['Apple', 'Orange'], 'No_Fruits', 'No_Fruits', 'No_Fruits', 'No_Fruits', 'No_Fruits', 'No_Fruits', 'No_Fruits', 'No_Fruits', 'No_Fruits', 'No_Fruits', 'No_Fruits', 'No_Fruits', ['Tomato'], 'No_Fruits', 'No_Fruits', 'No_Fruits', ['Orange'], 'No_Fruits', 'No_Fruits', 'No_Fruits', 'No_Fruits', 'No_Fruits', 'No_Fruits', 'No_Fruits', 'No_Fruits', 'No_Fruits', ['Apricot'], 'No_Fruits', 'No_Fruits', 'No_Fruits', ['Banana'], ['Jackfruit'], 'No_Fruits', 'No_Fruits', 'No_Fruits', 'No_Fruits', 'No_Fruits', 'No_Fruits', 'No_Fruits', 'No_Fruits', 'No_Fruits', 'No_Fruits', 'No_Fruits', 'No_Fruits', 'No_Fruits', 'No_Fruits', 'No_Fruits', 'No_Fruits', 'No_Fruits', 'No_Fruits', ['Kiwi', 'Mango', 'Pomegranate', 'Pineapple', 'Plum'], 'No_Fruits', 'No_Fruits', 'No_Fruits', 'No_Fruits', 'No_Fruits', 'No_Fruits', 'No_Fruits', 'No_Fruits', 'No_Fruits', 'No_Fruits', 'No_Fruits', 'No_Fruits', ['Mango'], ['Tomato'], 'No_Fruits', ['Apple'], 'No_Fruits', 'No_Fruits', 'No_Fruits', 'No_Fruits', 'No_Fruits', 'No_Fruits', 'No_Fruits', 'No_Fruits', ['Tomato'], 'No_Fruits', 'No_Fruits', ['Tomato'], ['Tomato'], 'No_Fruits', 'No_Fruits', 'No_Fruits', 'No_Fruits', ['Tomato'], 'No_Fruits', 'No_Fruits', 'No_Fruits', 'No_Fruits', 'No_Fruits', 'No_Fruits', 'No_Fruits', 'No_Fruits', ['Orange'], 'No_Fruits', ['Mango'], 'No_Fruits', 'No_Fruits', 'No_Fruits', ['Tomato'], 'No_Fruits', 'No_Fruits', 'No_Fruits', ['Tomato'], 'No_Fruits', 'No_Fruits', ['Mango'], 'No_Fruits', ['Apricot'], 'No_Fruits', ['Mango'], ['Melon'], 'No_Fruits', ['Tomato'], ['Orange'], 'No_Fruits', 'No_Fruits', ['Tomato'], 'No_Fruits', 'No_Fruits', 'No_Fruits', 'No_Fruits', ['Mango'], 'No_Fruits', 'No_Fruits', 'No_Fruits', 'No_Fruits', ['Tomato'], 'No_Fruits', 'No_Fruits', 'No_Fruits', ['Tomato'], 'No_Fruits', 'No_Fruits', 'No_Fruits', 'No_Fruits', ['Tomato'], 'No_Fruits', ['Plum'], 'No_Fruits', ['Mango'], ['Tomato'], 'No_Fruits', 'No_Fruits', 'No_Fruits', 'No_Fruits', ['Tomato'], 'No_Fruits', 'No_Fruits', 'No_Fruits', 'No_Fruits', 'No_Fruits', 'No_Fruits', 'No_Fruits', 'No_Fruits', ['Tomato'], 'No_Fruits', 'No_Fruits', 'No_Fruits', 'No_Fruits', 'No_Fruits', 'No_Fruits', 'No_Fruits', 'No_Fruits', ['Tomato'], 'No_Fruits', 'No_Fruits', ['Tomato'], 'No_Fruits', 'No_Fruits', 'No_Fruits', 'No_Fruits', 'No_Fruits', ['Tomato'], 'No_Fruits', ['Tomato'], 'No_Fruits', ['Tomato'], ['Avocado'], 'No_Fruits', 'No_Fruits', 'No_Fruits', 'No_Fruits', 'No_Fruits', ['Tomato'], 'No_Fruits', ['Cherry'], ['Tomato'], 'No_Fruits', ['Tomato'], 'No_Fruits', ['Cherry'], ['Mango', 'Tomato'], 'No_Fruits', 'No_Fruits', 'No_Fruits', 'No_Fruits', 'No_Fruits', 'No_Fruits', 'No_Fruits', ['Tomato'], 'No_Fruits', ['Tomato'], 'No_Fruits', 'No_Fruits', 'No_Fruits', 'No_Fruits', ['Mango'], 'No_Fruits', 'No_Fruits', 'No_Fruits', 'No_Fruits', 'No_Fruits', ['Apple'], 'No_Fruits', 'No_Fruits', 'No_Fruits', 'No_Fruits', 'No_Fruits', 'No_Fruits', 'No_Fruits', ['Apricot'], 'No_Fruits', ['Tomato'], 'No_Fruits', 'No_Fruits', 'No_Fruits', ['Tomato'], 'No_Fruits', 'No_Fruits', 'No_Fruits', 'No_Fruits', ['Tomato'], 'No_Fruits', 'No_Fruits', ['Tomato'], 'No_Fruits', ['Tomato'], 'No_Fruits', ['Orange'], 'No_Fruits', 'No_Fruits', 'No_Fruits', 'No_Fruits', ['Orange'], ['Tomato'], ['Tomato'], 'No_Fruits', 'No_Fruits', 'No_Fruits', ['Tomato'], 'No_Fruits', 'No_Fruits', 'No_Fruits', ['Pineapple'], ['Tomato'], 'No_Fruits', 'No_Fruits', ['Tomato'], 'No_Fruits', 'No_Fruits', 'No_Fruits', 'No_Fruits', 'No_Fruits', 'No_Fruits', 'No_Fruits', 'No_Fruits', 'No_Fruits', 'No_Fruits', ['Pomegranate', 'Orange', 'Apple'], ['Pomegranate'], ['Tomato'], ['Watermelon'], 'No_Fruits', ['Apple', 'Orange'], 'No_Fruits', ['Tomato'], 'No_Fruits', ['Orange'], 'No_Fruits', 'No_Fruits', 'No_Fruits', 'No_Fruits', 'No_Fruits', ['Pineapple'], ['Orange'], ['Apple'], 'No_Fruits', 'No_Fruits', 'No_Fruits', ['Pineapple'], 'No_Fruits', 'No_Fruits', 'No_Fruits', 'No_Fruits', ['Melon'], ['Apple'], 'No_Fruits', 'No_Fruits', 'No_Fruits', 'No_Fruits', ['Tomato'], 'No_Fruits', 'No_Fruits', ['Tomato'], 'No_Fruits', 'No_Fruits', 'No_Fruits', ['Cherry', 'Tomato'], 'No_Fruits', ['Apple', 'Orange', 'Watermelon', 'Pomegranate'], 'No_Fruits', 'No_Fruits', 'No_Fruits', 'No_Fruits', 'No_Fruits', 'No_Fruits', 'No_Fruits', ['Avocado'], 'No_Fruits', 'No_Fruits', ['Tomato'], ['Tomato'], 'No_Fruits', 'No_Fruits', 'No_Fruits', ['Tomato'], 'No_Fruits', 'No_Fruits', 'No_Fruits', 'No_Fruits', 'No_Fruits', ['Tomato'], ['Mango'], ['Mango'], ['Tomato'], ['Tomato'], 'No_Fruits', 'No_Fruits', ['Tomato'], ['Tomato'], ['Cherry'], 'No_Fruits', 'No_Fruits', 'No_Fruits', 'No_Fruits', ['Tomato'], ['Mango'], 'No_Fruits', 'No_Fruits', 'No_Fruits', ['Tomato'], ['Mango'], 'No_Fruits', ['Tomato'], 'No_Fruits', 'No_Fruits', ['Pineapple'], 'No_Fruits', ['Mango'], 'No_Fruits', 'No_Fruits', ['Mango', 'Orange'], 'No_Fruits', 'No_Fruits', ['Tomato'], ['Orange', 'Kiwi'], 'No_Fruits', 'No_Fruits', ['Tomato'], ['Tomato'], 'No_Fruits', ['Tomato'], 'No_Fruits', 'No_Fruits', ['Mango', 'Pomegranate', 'Tomato'], ['Tomato'], ['Mango'], 'No_Fruits', ['Tomato'], ['Papaya'], 'No_Fruits', 'No_Fruits', ['Watermelon', 'Orange'], ['Mango'], ['Tomato'], 'No_Fruits', 'No_Fruits', 'No_Fruits', 'No_Fruits', 'No_Fruits', 'No_Fruits', 'No_Fruits', ['Tomato'], 'No_Fruits', ['Cherry'], 'No_Fruits', ['Tomato'], 'No_Fruits', 'No_Fruits', 'No_Fruits', 'No_Fruits', ['Avocado', 'Tomato'], 'No_Fruits', 'No_Fruits', 'No_Fruits', 'No_Fruits', ['Mango'], ['Papaya'], 'No_Fruits', ['Tomato'], 'No_Fruits', 'No_Fruits', ['Tomato'], ['Mango'], 'No_Fruits', 'No_Fruits', 'No_Fruits', 'No_Fruits', 'No_Fruits', 'No_Fruits', 'No_Fruits', ['Tomato'], ['Tomato'], 'No_Fruits', ['Mango'], ['Tomato'], 'No_Fruits', 'No_Fruits', 'No_Fruits', 'No_Fruits', 'No_Fruits', 'No_Fruits', 'No_Fruits', 'No_Fruits', ['Cherry'], 'No_Fruits', 'No_Fruits', 'No_Fruits', ['Tomato'], ['Strawberry'], 'No_Fruits', ['Mango'], 'No_Fruits', ['Tomato'], ['Pineapple', 'Tomato'], 'No_Fruits', ['Pear'], 'No_Fruits', 'No_Fruits', 'No_Fruits', ['Tomato'], 'No_Fruits', ['Tomato', 'Mango'], ['Tomato'], 'No_Fruits', 'No_Fruits', 'No_Fruits', 'No_Fruits', 'No_Fruits', 'No_Fruits', 'No_Fruits', 'No_Fruits', 'No_Fruits', 'No_Fruits', ['Orange'], 'No_Fruits', ['Pineapple'], 'No_Fruits', 'No_Fruits', 'No_Fruits', 'No_Fruits', 'No_Fruits', 'No_Fruits', 'No_Fruits', 'No_Fruits', 'No_Fruits', 'No_Fruits', ['Tomato'], 'No_Fruits', ['Orange', 'Pomegranate'], 'No_Fruits', ['Tomato'], ['Tomato'], 'No_Fruits', ['Pomegranate'], ['Tomato'], 'No_Fruits', ['Tomato'], 'No_Fruits', ['Tomato'], 'No_Fruits', 'No_Fruits', ['Tomato'], ['Tomato'], 'No_Fruits', 'No_Fruits', 'No_Fruits', 'No_Fruits', ['Tomato'], 'No_Fruits', ['Tomato'], ['Tomato'], ['Tomato'], ['Banana'], 'No_Fruits', 'No_Fruits', ['Tomato'], 'No_Fruits', ['Mango'], ['Mango'], 'No_Fruits', ['Pomegranate'], 'No_Fruits', ['Cherry'], ['Watermelon', 'Apple', 'Papaya', 'Pineapple'], 'No_Fruits', 'No_Fruits', ['Tomato'], ['Tomato'], 'No_Fruits', 'No_Fruits', 'No_Fruits', ['Tomato'], ['Tomato'], ['Grapefruit'], 'No_Fruits', 'No_Fruits', 'No_Fruits', 'No_Fruits', ['Tomato'], 'No_Fruits', ['Tomato'], 'No_Fruits', 'No_Fruits', 'No_Fruits', 'No_Fruits', ['Mango'], 'No_Fruits', ['Tomato'], 'No_Fruits', 'No_Fruits', 'No_Fruits', 'No_Fruits', ['Tomato'], 'No_Fruits', 'No_Fruits', 'No_Fruits', 'No_Fruits', 'No_Fruits', ['Banana'], ['Pomegranate'], 'No_Fruits', ['Cherry', 'Pomegranate'], 'No_Fruits', 'No_Fruits', 'No_Fruits', ['Tomato'], ['Tomato'], 'No_Fruits', 'No_Fruits', 'No_Fruits', 'No_Fruits', 'No_Fruits', 'No_Fruits', 'No_Fruits', 'No_Fruits', 'No_Fruits', ['Apple'], 'No_Fruits', 'No_Fruits', ['Tomato'], ['Tomato'], 'No_Fruits', ['Tomato'], 'No_Fruits', 'No_Fruits', ['Mango'], ['Tomato'], ['Mango', 'Tomato'], 'No_Fruits', ['Tomato'], ['Strawberry'], 'No_Fruits', 'No_Fruits', 'No_Fruits', 'No_Fruits', 'No_Fruits', 'No_Fruits', 'No_Fruits', 'No_Fruits', 'No_Fruits', 'No_Fruits', 'No_Fruits', 'No_Fruits', ['Tomato'], 'No_Fruits', 'No_Fruits', 'No_Fruits', 'No_Fruits', ['Tomato'], 'No_Fruits', ['Banana', 'Apple', 'Orange'], ['Tomato'], ['Tomato'], ['Tomato'], ['Tomato'], ['Avocado'], 'No_Fruits', ['Tomato'], 'No_Fruits', 'No_Fruits', ['Orange'], 'No_Fruits', ['Apricot'], 'No_Fruits', 'No_Fruits', 'No_Fruits', 'No_Fruits', ['Mango'], 'No_Fruits', 'No_Fruits', 'No_Fruits', 'No_Fruits', ['Orange'], 'No_Fruits', 'No_Fruits', 'No_Fruits', 'No_Fruits', 'No_Fruits', ['Melon'], ['Melon'], ['Mango'], 'No_Fruits', ['Tomato'], 'No_Fruits', 'No_Fruits', ['Tomato', 'Mango', 'Pomegranate'], ['Mango'], 'No_Fruits', ['Mango'], 'No_Fruits', ['Tomato'], 'No_Fruits', 'No_Fruits', 'No_Fruits', ['Tomato'], ['Orange'], ['Tomato'], 'No_Fruits', 'No_Fruits', 'No_Fruits', ['Banana', 'Tomato'], 'No_Fruits', ['Tomato'], ['Tomato'], 'No_Fruits', 'No_Fruits', 'No_Fruits', 'No_Fruits', ['Tomato'], 'No_Fruits', 'No_Fruits', 'No_Fruits', 'No_Fruits', 'No_Fruits', 'No_Fruits', 'No_Fruits', 'No_Fruits', ['Watermelon', 'Kiwi'], 'No_Fruits', 'No_Fruits', ['Pomegranate'], ['Watermelon'], ['Watermelon'], 'No_Fruits', 'No_Fruits', 'No_Fruits', 'No_Fruits', ['Tomato'], 'No_Fruits', ['Mango'], ['Mango'], ['Mango', 'Kiwi'], 'No_Fruits', ['Mango'], 'No_Fruits', 'No_Fruits', 'No_Fruits', 'No_Fruits', 'No_Fruits', ['Mango'], ['Jackfruit'], 'No_Fruits', ['Tomato'], 'No_Fruits', 'No_Fruits', 'No_Fruits', 'No_Fruits', 'No_Fruits', 'No_Fruits', 'No_Fruits', 'No_Fruits', 'No_Fruits', ['Mango'], 'No_Fruits', 'No_Fruits', ['Tomato'], ['Tomato'], ['Tomato'], ['Tomato'], 'No_Fruits', ['Tomato'], ['Banana'], 'No_Fruits', 'No_Fruits', 'No_Fruits', ['Raspberry', 'Pear', 'Pineapple', 'Apple', 'Orange'], 'No_Fruits', 'No_Fruits', 'No_Fruits', ['Banana', 'Apple'], ['Tomato'], ['Tomato', 'Mango'], ['Pomegranate'], ['Tomato'], ['Tomato'], 'No_Fruits', 'No_Fruits', 'No_Fruits', 'No_Fruits', 'No_Fruits', ['Tomato'], ['Mango'], ['Tomato'], 'No_Fruits', ['Cherry'], 'No_Fruits', ['Tomato'], ['Banana'], ['Tomato'], ['Apple', 'Pomegranate'], ['Apple', 'Pineapple', 'Pear'], ['Tomato'], 'No_Fruits', ['Blueberry'], ['Strawberry'], 'No_Fruits', ['Mango'], 'No_Fruits', 'No_Fruits', 'No_Fruits', ['Tomato', 'Mango', 'Pomegranate'], 'No_Fruits', ['Mango'], 'No_Fruits', ['Tomato'], 'No_Fruits', ['Tomato'], 'No_Fruits', 'No_Fruits', 'No_Fruits', ['Tomato'], ['Tomato'], ['Tomato', 'Mango', 'Pomegranate'], 'No_Fruits', 'No_Fruits', 'No_Fruits', 'No_Fruits', 'No_Fruits', 'No_Fruits', ['Tomato', 'Melon'], 'No_Fruits', 'No_Fruits', 'No_Fruits', 'No_Fruits', 'No_Fruits', 'No_Fruits', 'No_Fruits', ['Mango'], ['Tomato'], ['Tomato'], ['Tomato'], ['Tomato'], 'No_Fruits', 'No_Fruits', ['Tomato'], 'No_Fruits', 'No_Fruits', 'No_Fruits', ['Tomato'], 'No_Fruits', 'No_Fruits', ['Tomato'], 'No_Fruits', ['Mango', 'Aam'], 'No_Fruits', 'No_Fruits', 'No_Fruits', 'No_Fruits', ['Tomato'], ['Mango', 'Tomato'], ['Tomato'], ['Tomato'], ['Tomato'], 'No_Fruits', ['Tomato'], ['Tomato'], 'No_Fruits', ['Apple'], 'No_Fruits', 'No_Fruits', 'No_Fruits', 'No_Fruits', 'No_Fruits', 'No_Fruits', ['Tomato', 'Pomegranate'], ['Mango'], ['Mango'], 'No_Fruits', ['Cherry'], ['Tomato'], 'No_Fruits', ['Mango'], ['Tomato'], ['Papaya', 'Mango'], ['Jackfruit'], ['Jackfruit'], ['Pomegranate'], 'No_Fruits', 'No_Fruits', ['Tomato', 'Pomegranate'], ['Tomato'], 'No_Fruits', 'No_Fruits', 'No_Fruits', ['Mango', 'Pomegranate'], 'No_Fruits', 'No_Fruits', 'No_Fruits', 'No_Fruits', ['Tomato'], ['Mango'], 'No_Fruits', 'No_Fruits', ['Mango'], 'No_Fruits', 'No_Fruits', ['Tomato'], ['Tomato'], 'No_Fruits', 'No_Fruits', 'No_Fruits', ['Mango'], ['Orange'], 'No_Fruits', 'No_Fruits', ['Mango'], 'No_Fruits', 'No_Fruits', ['Tomato', 'Cherry'], 'No_Fruits', ['Tomato'], 'No_Fruits', ['Tomato'], 'No_Fruits', 'No_Fruits', 'No_Fruits', 'No_Fruits', 'No_Fruits', 'No_Fruits', 'No_Fruits', 'No_Fruits', 'No_Fruits', 'No_Fruits', 'No_Fruits', 'No_Fruits', ['Tomato', 'Mango'], ['Cherry'], 'No_Fruits', ['Tomato'], 'No_Fruits', ['Mango'], 'No_Fruits', 'No_Fruits', ['Tomato'], ['Apricot'], 'No_Fruits', ['Mango'], ['Tomato', 'Pomegranate'], 'No_Fruits', 'No_Fruits', 'No_Fruits', ['Tomato'], 'No_Fruits', 'No_Fruits', ['Mango'], 'No_Fruits', ['Tomato'], 'No_Fruits', 'No_Fruits', 'No_Fruits', 'No_Fruits', ['Tomato'], ['Mango'], 'No_Fruits', 'No_Fruits', ['Banana'], 'No_Fruits', 'No_Fruits', 'No_Fruits', 'No_Fruits', 'No_Fruits', ['Orange'], 'No_Fruits', 'No_Fruits', 'No_Fruits', 'No_Fruits', 'No_Fruits', ['Mango', 'Tomato'], 'No_Fruits', 'No_Fruits', 'No_Fruits', ['Tomato'], ['Tomato'], ['Mango', 'Tomato'], 'No_Fruits', ['Tomato'], ['Tomato'], 'No_Fruits', ['Tomato'], 'No_Fruits', ['Peach'], 'No_Fruits', 'No_Fruits', 'No_Fruits', 'No_Fruits', ['Tomato'], 'No_Fruits', 'No_Fruits', ['Tomato'], 'No_Fruits', 'No_Fruits', 'No_Fruits', 'No_Fruits', 'No_Fruits', ['Tomato'], ['Tomato'], ['Orange'], ['Tomato'], 'No_Fruits', ['Cherry'], 'No_Fruits', ['Orange', 'Pomegranate'], 'No_Fruits', 'No_Fruits', 'No_Fruits', 'No_Fruits', 'No_Fruits', 'No_Fruits', ['Tomato'], 'No_Fruits', ['Tomato'], 'No_Fruits', ['Pomegranate'], 'No_Fruits', 'No_Fruits', 'No_Fruits', 'No_Fruits', ['Tomato'], ['Pomegranate', 'Mango'], 'No_Fruits', 'No_Fruits', 'No_Fruits', 'No_Fruits', 'No_Fruits', 'No_Fruits', ['Apple'], 'No_Fruits', 'No_Fruits', 'No_Fruits', ['Orange'], 'No_Fruits', 'No_Fruits', 'No_Fruits', 'No_Fruits', 'No_Fruits', ['Tomato'], ['Tomato', 'Mango'], 'No_Fruits', 'No_Fruits', 'No_Fruits', 'No_Fruits', 'No_Fruits', 'No_Fruits', ['Tomato'], 'No_Fruits', 'No_Fruits', 'No_Fruits', 'No_Fruits', 'No_Fruits', 'No_Fruits', 'No_Fruits', 'No_Fruits', ['Tomato'], 'No_Fruits', ['Tomato'], 'No_Fruits', ['Melon'], 'No_Fruits', ['Tomato'], 'No_Fruits', ['Mango'], 'No_Fruits', 'No_Fruits', ['Mango', 'Pomegranate'], 'No_Fruits', 'No_Fruits', ['Tomato'], 'No_Fruits', 'No_Fruits', ['Tomato'], 'No_Fruits', 'No_Fruits', 'No_Fruits', 'No_Fruits', ['Tomato'], ['Mango'], ['Tomato'], ['Tomato'], 'No_Fruits', 'No_Fruits', 'No_Fruits', ['Tomato'], 'No_Fruits', 'No_Fruits', 'No_Fruits', 'No_Fruits', ['Tomato'], ['Tomato'], ['Tomato'], 'No_Fruits', 'No_Fruits', 'No_Fruits', 'No_Fruits', 'No_Fruits', 'No_Fruits', ['Lime', 'Papaya', 'Tomato'], ['Tomato'], 'No_Fruits', 'No_Fruits', 'No_Fruits', 'No_Fruits', ['Tomato'], ['Tomato'], 'No_Fruits', 'No_Fruits', 'No_Fruits', ['Tomato'], ['Tomato'], ['Mango', 'Tomato'], 'No_Fruits', 'No_Fruits', ['Mango'], ['Tomato'], ['Tomato'], 'No_Fruits', ['Tomato', 'Mango'], ['Strawberry'], 'No_Fruits', ['Tomato', 'Cherry'], 'No_Fruits', 'No_Fruits', ['Tomato'], ['Orange'], ['Mango', 'Tomato'], ['Tomato'], 'No_Fruits', 'No_Fruits', 'No_Fruits', 'No_Fruits', ['Apple'], ['Tomato'], 'No_Fruits', 'No_Fruits', 'No_Fruits', 'No_Fruits', 'No_Fruits', 'No_Fruits', ['Tomato'], 'No_Fruits', 'No_Fruits', ['Tomato'], ['Tomato'], ['Tomato'], 'No_Fruits', 'No_Fruits', ['Apple'], ['Mango', 'Tomato'], 'No_Fruits', ['Tomato'], ['Tomato', 'Cherry'], 'No_Fruits', ['Tomato'], 'No_Fruits', 'No_Fruits', 'No_Fruits', ['Tomato', 'Cherry'], ['Tomato'], 'No_Fruits', ['Tomato'], 'No_Fruits', 'No_Fruits', ['Papaya'], ['Tomato'], 'No_Fruits', 'No_Fruits', 'No_Fruits', 'No_Fruits', 'No_Fruits', 'No_Fruits', 'No_Fruits', 'No_Fruits', 'No_Fruits', 'No_Fruits', 'No_Fruits', 'No_Fruits', 'No_Fruits', 'No_Fruits', ['Orange'], 'No_Fruits', 'No_Fruits', 'No_Fruits', 'No_Fruits', 'No_Fruits', ['Tomato'], 'No_Fruits', ['Tomato'], ['Jackfruit', 'Tomato'], 'No_Fruits', 'No_Fruits', 'No_Fruits', 'No_Fruits', 'No_Fruits', 'No_Fruits', ['Banana'], ['Mango'], 'No_Fruits', 'No_Fruits', ['Mango'], ['Pomegranate'], ['Tomato'], ['Tomato'], 'No_Fruits', ['Tomato'], ['Tomato'], ['Tomato'], 'No_Fruits', 'No_Fruits', 'No_Fruits', 'No_Fruits', ['Pineapple'], 'No_Fruits', ['Tomato'], 'No_Fruits', 'No_Fruits', ['Tomato'], 'No_Fruits', 'No_Fruits', ['Tomato', 'Mango'], 'No_Fruits', 'No_Fruits', 'No_Fruits', ['Tomato'], 'No_Fruits', ['Mango', 'Tomato'], 'No_Fruits', ['Mango'], ['Tomato'], 'No_Fruits', ['Tomato'], ['Tomato'], ['Cherry'], ['Tomato'], ['Tomato'], 'No_Fruits', 'No_Fruits', 'No_Fruits', 'No_Fruits', 'No_Fruits', 'No_Fruits', 'No_Fruits', 'No_Fruits', 'No_Fruits', ['Tomato'], 'No_Fruits', 'No_Fruits', 'No_Fruits', 'No_Fruits', 'No_Fruits', 'No_Fruits', ['Jackfruit', 'Tomato'], 'No_Fruits', 'No_Fruits', ['Cherry'], ['Papaya'], 'No_Fruits', 'No_Fruits', 'No_Fruits', 'No_Fruits', ['Tomato'], ['Pomegranate'], 'No_Fruits', 'No_Fruits', ['Tomato'], 'No_Fruits', ['Tomato'], 'No_Fruits', 'No_Fruits', 'No_Fruits', ['Cherry', 'Tomato'], ['Mango'], ['Tomato'], 'No_Fruits', 'No_Fruits', ['Tomato'], 'No_Fruits', 'No_Fruits', 'No_Fruits', 'No_Fruits', ['Tomato'], ['Tomato'], 'No_Fruits', 'No_Fruits', 'No_Fruits', 'No_Fruits', 'No_Fruits', 'No_Fruits', ['Tomato'], ['Tomato'], ['Tomato'], ['Tomato'], 'No_Fruits', ['Pomegranate'], 'No_Fruits', ['Tomato'], 'No_Fruits', 'No_Fruits', 'No_Fruits', ['Mango'], ['Melon'], ['Tomato'], ['Pomegranate', 'Mango'], 'No_Fruits', 'No_Fruits', 'No_Fruits', 'No_Fruits', 'No_Fruits', ['Tomato'], 'No_Fruits', 'No_Fruits', ['Cherry'], 'No_Fruits', 'No_Fruits', 'No_Fruits', ['Tomato'], 'No_Fruits', 'No_Fruits', ['Tomato'], 'No_Fruits', ['Orange'], 'No_Fruits', ['Tomato'], ['Tomato'], 'No_Fruits', ['Tomato'], 'No_Fruits', 'No_Fruits', 'No_Fruits', ['Apple', 'Banana', 'Mango'], 'No_Fruits', 'No_Fruits', ['Orange'], ['Tomato'], ['Tomato'], 'No_Fruits', 'No_Fruits', 'No_Fruits', ['Tomato'], 'No_Fruits', 'No_Fruits', 'No_Fruits', 'No_Fruits', 'No_Fruits', 'No_Fruits', 'No_Fruits', 'No_Fruits', ['Cherry', 'Avocado', 'Orange'], 'No_Fruits', ['Tomato'], 'No_Fruits', 'No_Fruits', ['Strawberry'], ['Pomegranate', 'Mango', 'Tomato'], 'No_Fruits', 'No_Fruits', ['Tomato'], ['Tomato'], 'No_Fruits', ['Pineapple'], ['Tomato', 'Cherry'], 'No_Fruits', 'No_Fruits', ['Mango', 'Banana'], ['Melon'], 'No_Fruits', 'No_Fruits', ['Tomato'], 'No_Fruits', ['Tomato'], ['Mango'], ['Melon'], ['Tomato'], ['Tomato'], 'No_Fruits', ['Tomato'], ['Tomato'], ['Mango'], 'No_Fruits', 'No_Fruits', 'No_Fruits', 'No_Fruits', 'No_Fruits', ['Tomato'], ['Pomegranate'], 'No_Fruits', 'No_Fruits', 'No_Fruits', ['Apple', 'Tomato'], 'No_Fruits', 'No_Fruits', 'No_Fruits', 'No_Fruits', ['Tomato'], 'No_Fruits', 'No_Fruits', 'No_Fruits', 'No_Fruits', ['Mango'], 'No_Fruits', 'No_Fruits', ['Raspberry'], ['Avocado'], 'No_Fruits', 'No_Fruits', 'No_Fruits', 'No_Fruits', ['Tomato'], ['Tomato'], ['Tomato'], ['Tomato'], ['Tomato'], 'No_Fruits', ['Tomato'], 'No_Fruits', 'No_Fruits', ['Tomato'], ['Cherry'], ['Tomato'], 'No_Fruits', 'No_Fruits', 'No_Fruits', 'No_Fruits', ['Pineapple', 'Pear', 'Watermelon'], ['Mango', 'Pomegranate'], 'No_Fruits', ['Mango'], ['Cherry'], ['Mango', 'Tomato'], ['Tomato'], ['Tomato'], 'No_Fruits', ['Tomato'], 'No_Fruits', ['Papaya'], ['Mango'], ['Pomegranate'], 'No_Fruits', ['Cherry'], 'No_Fruits', 'No_Fruits', 'No_Fruits', 'No_Fruits', 'No_Fruits', ['Tomato'], 'No_Fruits', 'No_Fruits', 'No_Fruits', 'No_Fruits', 'No_Fruits', 'No_Fruits', ['Banana'], 'No_Fruits', 'No_Fruits', ['Cherry'], ['Mango'], 'No_Fruits', ['Tomato'], 'No_Fruits', 'No_Fruits', 'No_Fruits', 'No_Fruits', ['Pomegranate'], 'No_Fruits', ['Mango'], 'No_Fruits', 'No_Fruits', 'No_Fruits', 'No_Fruits', 'No_Fruits', 'No_Fruits', 'No_Fruits', ['Banana'], 'No_Fruits', ['Tomato'], ['Tomato'], 'No_Fruits', ['Tomato', 'Mango'], ['Tomato'], 'No_Fruits', 'No_Fruits', ['Tomato'], ['Tomato'], 'No_Fruits', 'No_Fruits', ['Tomato'], ['Tomato'], ['Tomato'], ['Tomato'], 'No_Fruits', 'No_Fruits', 'No_Fruits', ['Mango'], 'No_Fruits', 'No_Fruits', ['Tomato'], 'No_Fruits', 'No_Fruits', 'No_Fruits', 'No_Fruits', ['Mango', 'Cherry'], 'No_Fruits', ['Avocado', 'Tomato'], ['Cherry'], 'No_Fruits', 'No_Fruits', 'No_Fruits', 'No_Fruits', 'No_Fruits', 'No_Fruits', 'No_Fruits', 'No_Fruits', ['Tomato'], ['Mango', 'Pomegranate'], 'No_Fruits', ['Tomato'], 'No_Fruits', ['Mango'], 'No_Fruits', 'No_Fruits', 'No_Fruits', 'No_Fruits', 'No_Fruits', ['Tomato', 'Mango'], 'No_Fruits', 'No_Fruits', ['Orange'], ['Blueberry'], 'No_Fruits', 'No_Fruits', 'No_Fruits', 'No_Fruits', ['Apple'], 'No_Fruits', 'No_Fruits', ['Tomato'], 'No_Fruits', 'No_Fruits', ['Tomato'], ['Mango'], ['Pomegranate'], 'No_Fruits', ['Tomato'], 'No_Fruits', ['Mango', 'Tomato'], 'No_Fruits', 'No_Fruits', 'No_Fruits', 'No_Fruits', 'No_Fruits', ['Tomato'], 'No_Fruits', ['Tomato'], 'No_Fruits', ['Tomato'], ['Tomato'], 'No_Fruits', ['Tomato'], ['Tomato'], 'No_Fruits', 'No_Fruits', 'No_Fruits', 'No_Fruits', 'No_Fruits', 'No_Fruits', 'No_Fruits', 'No_Fruits', 'No_Fruits', ['Tomato'], 'No_Fruits', ['Tomato'], ['Mango'], 'No_Fruits', 'No_Fruits', 'No_Fruits', 'No_Fruits', ['Mango'], 'No_Fruits', ['Cherry'], 'No_Fruits', 'No_Fruits', 'No_Fruits', 'No_Fruits', 'No_Fruits', 'No_Fruits', ['Tomato'], 'No_Fruits', 'No_Fruits', 'No_Fruits', 'No_Fruits', ['Tomato', 'Cherry'], 'No_Fruits', 'No_Fruits', 'No_Fruits', 'No_Fruits', 'No_Fruits', 'No_Fruits', ['Mango'], 'No_Fruits', ['Pomegranate'], 'No_Fruits', 'No_Fruits', 'No_Fruits', 'No_Fruits', 'No_Fruits', 'No_Fruits', ['Tomato'], 'No_Fruits', 'No_Fruits', 'No_Fruits', 'No_Fruits', ['Tomato'], ['Tomato'], 'No_Fruits', 'No_Fruits', 'No_Fruits', ['Mango'], ['Tomato'], 'No_Fruits', ['Tomato'], 'No_Fruits', 'No_Fruits', ['Tomato'], 'No_Fruits', 'No_Fruits', ['Pomegranate'], 'No_Fruits', 'No_Fruits', 'No_Fruits', ['Raspberry'], 'No_Fruits', 'No_Fruits', 'No_Fruits', 'No_Fruits', ['Tomato'], 'No_Fruits', 'No_Fruits', 'No_Fruits', 'No_Fruits', 'No_Fruits', 'No_Fruits', 'No_Fruits', 'No_Fruits', 'No_Fruits', 'No_Fruits', ['Tomato', 'Pomegranate'], ['Tomato'], 'No_Fruits', ['Pomegranate'], ['Apple'], ['Mango'], 'No_Fruits', 'No_Fruits', 'No_Fruits', 'No_Fruits', 'No_Fruits', 'No_Fruits', ['Tomato'], 'No_Fruits', 'No_Fruits', 'No_Fruits', ['Pomegranate'], 'No_Fruits', 'No_Fruits', 'No_Fruits', 'No_Fruits', 'No_Fruits', ['Mango'], 'No_Fruits', 'No_Fruits', 'No_Fruits', ['Tomato'], ['Tomato'], 'No_Fruits', 'No_Fruits', 'No_Fruits', 'No_Fruits', ['Mango'], 'No_Fruits', 'No_Fruits', 'No_Fruits', 'No_Fruits', 'No_Fruits', 'No_Fruits', ['Pomegranate'], 'No_Fruits', 'No_Fruits', ['Apple'], ['Apple'], ['Apple'], 'No_Fruits', 'No_Fruits', 'No_Fruits', ['Pomegranate', 'Cherry'], ['Kiwi'], 'No_Fruits', 'No_Fruits', ['Tomato'], 'No_Fruits', ['Mango'], 'No_Fruits', 'No_Fruits', 'No_Fruits', 'No_Fruits', 'No_Fruits', ['Tomato'], ['Tomato'], 'No_Fruits', 'No_Fruits', 'No_Fruits', ['Tomato'], ['Tomato'], 'No_Fruits', 'No_Fruits', ['Tomato'], 'No_Fruits', ['Banana', 'Tomato'], ['Avocado'], 'No_Fruits', 'No_Fruits', ['Cherry'], ['Mango'], 'No_Fruits', 'No_Fruits', 'No_Fruits', 'No_Fruits', ['Tomato'], ['Tomato'], 'No_Fruits', 'No_Fruits', 'No_Fruits', 'No_Fruits', 'No_Fruits', 'No_Fruits', 'No_Fruits', 'No_Fruits', 'No_Fruits', ['Tomato'], 'No_Fruits', 'No_Fruits', 'No_Fruits', 'No_Fruits', ['Mango'], 'No_Fruits', 'No_Fruits', 'No_Fruits', 'No_Fruits', 'No_Fruits', 'No_Fruits', 'No_Fruits', 'No_Fruits', 'No_Fruits', 'No_Fruits', 'No_Fruits', 'No_Fruits', ['Mango'], 'No_Fruits', 'No_Fruits', 'No_Fruits', 'No_Fruits', ['Apple', 'Pomegranate'], 'No_Fruits', 'No_Fruits', 'No_Fruits', 'No_Fruits', ['Tomato'], ['Orange'], 'No_Fruits', ['Tomato'], 'No_Fruits', ['Tomato'], 'No_Fruits', 'No_Fruits', 'No_Fruits', ['Tomato'], 'No_Fruits', 'No_Fruits', 'No_Fruits', 'No_Fruits', 'No_Fruits', 'No_Fruits', 'No_Fruits', 'No_Fruits', 'No_Fruits', ['Tomato'], 'No_Fruits', 'No_Fruits', 'No_Fruits', 'No_Fruits', 'No_Fruits', 'No_Fruits', 'No_Fruits', ['Mango'], ['Pomegranate'], ['Mango'], 'No_Fruits', 'No_Fruits', 'No_Fruits', 'No_Fruits', 'No_Fruits', 'No_Fruits', 'No_Fruits', 'No_Fruits', 'No_Fruits', 'No_Fruits', 'No_Fruits', 'No_Fruits', 'No_Fruits', 'No_Fruits', 'No_Fruits', ['Tomato', 'Cherry'], 'No_Fruits', ['Tomato'], 'No_Fruits', 'No_Fruits', 'No_Fruits', 'No_Fruits', 'No_Fruits', 'No_Fruits', ['Tomato'], 'No_Fruits', ['Tomato'], 'No_Fruits', ['Mango'], ['Tomato'], ['Tomato'], ['Tomato'], 'No_Fruits', 'No_Fruits', 'No_Fruits', 'No_Fruits', ['Orange'], ['Mango'], 'No_Fruits', ['Tomato'], 'No_Fruits', 'No_Fruits', 'No_Fruits', 'No_Fruits', 'No_Fruits', ['Tomato'], 'No_Fruits', 'No_Fruits', 'No_Fruits', ['Mango'], 'No_Fruits', 'No_Fruits', 'No_Fruits', 'No_Fruits', 'No_Fruits', 'No_Fruits', ['Pineapple'], ['Tomato'], 'No_Fruits', 'No_Fruits', 'No_Fruits', 'No_Fruits', 'No_Fruits', 'No_Fruits', 'No_Fruits', 'No_Fruits', 'No_Fruits', ['Tomato'], ['Tomato'], 'No_Fruits', 'No_Fruits', 'No_Fruits', ['Mango'], 'No_Fruits', 'No_Fruits', 'No_Fruits', 'No_Fruits', 'No_Fruits', ['Watermelon'], 'No_Fruits', 'No_Fruits', 'No_Fruits', 'No_Fruits', 'No_Fruits', 'No_Fruits', 'No_Fruits', 'No_Fruits', 'No_Fruits', ['Tomato'], ['Tomato'], ['Tomato'], 'No_Fruits', 'No_Fruits', 'No_Fruits', ['Tomato', 'Mango'], 'No_Fruits', 'No_Fruits', 'No_Fruits', ['Pineapple'], ['Tomato'], 'No_Fruits', 'No_Fruits', 'No_Fruits', ['Orange'], ['Orange'], ['Tomato'], 'No_Fruits', ['Cherry'], 'No_Fruits', 'No_Fruits', 'No_Fruits', 'No_Fruits', 'No_Fruits', 'No_Fruits', 'No_Fruits', 'No_Fruits', 'No_Fruits', 'No_Fruits', ['Cherry'], 'No_Fruits', 'No_Fruits', 'No_Fruits', 'No_Fruits', 'No_Fruits', ['Tomato'], 'No_Fruits', ['Tomato'], 'No_Fruits', ['Tomato'], 'No_Fruits', 'No_Fruits', 'No_Fruits', 'No_Fruits', 'No_Fruits', 'No_Fruits', 'No_Fruits', 'No_Fruits', 'No_Fruits', ['Tomato'], 'No_Fruits', 'No_Fruits', 'No_Fruits', 'No_Fruits', 'No_Fruits', ['Cherry'], 'No_Fruits', 'No_Fruits', 'No_Fruits', ['Mango'], 'No_Fruits', 'No_Fruits', ['Tomato'], ['Tomato'], ['Tomato'], ['Tomato'], ['Cherry'], 'No_Fruits', ['Mango'], 'No_Fruits', 'No_Fruits', 'No_Fruits', ['Tomato'], ['Strawberry'], 'No_Fruits', 'No_Fruits', 'No_Fruits', 'No_Fruits', 'No_Fruits', 'No_Fruits', ['Tomato'], 'No_Fruits', 'No_Fruits', ['Cherry'], ['Mango'], 'No_Fruits', 'No_Fruits', ['Pomegranate'], 'No_Fruits', 'No_Fruits', 'No_Fruits', ['Tomato'], 'No_Fruits', 'No_Fruits', 'No_Fruits', 'No_Fruits', 'No_Fruits', 'No_Fruits', ['Tomato'], 'No_Fruits', 'No_Fruits', 'No_Fruits', 'No_Fruits', 'No_Fruits', 'No_Fruits', 'No_Fruits', ['Tomato'], 'No_Fruits', 'No_Fruits', 'No_Fruits', ['Papaya'], 'No_Fruits', 'No_Fruits', 'No_Fruits', 'No_Fruits', 'No_Fruits', ['Tomato'], ['Tomato'], ['Tomato'], 'No_Fruits', ['Melon', 'Tomato'], 'No_Fruits', 'No_Fruits', ['Tomato'], 'No_Fruits', 'No_Fruits', ['Tomato'], ['Mango'], 'No_Fruits', 'No_Fruits', 'No_Fruits', 'No_Fruits', 'No_Fruits', 'No_Fruits', 'No_Fruits', ['Mango'], ['Tomato'], ['Tomato'], ['Mango'], 'No_Fruits', ['Mango', 'Cherry'], 'No_Fruits', 'No_Fruits', ['Tomato'], ['Tomato'], 'No_Fruits', 'No_Fruits', 'No_Fruits', 'No_Fruits', ['Tomato'], ['Tomato'], 'No_Fruits', 'No_Fruits', ['Mango'], 'No_Fruits', 'No_Fruits', 'No_Fruits', ['Apple', 'Pear', 'Pineapple'], 'No_Fruits', 'No_Fruits', ['Tomato'], 'No_Fruits', ['Mango'], ['Tomato'], ['Mango'], 'No_Fruits', 'No_Fruits', 'No_Fruits', 'No_Fruits', 'No_Fruits', 'No_Fruits', ['Tomato'], ['Tomato'], 'No_Fruits', ['Tomato'], 'No_Fruits', ['Mango'], 'No_Fruits', 'No_Fruits', ['Tomato'], 'No_Fruits', ['Orange'], 'No_Fruits', ['Tomato'], ['Mango'], ['Tomato', 'Mango'], ['Tomato'], 'No_Fruits', ['Avocado', 'Banana'], ['Apple'], ['Pineapple'], ['Apple'], ['Apple', 'Pineapple'], ['Watermelon'], ['Mango'], 'No_Fruits', 'No_Fruits', 'No_Fruits', 'No_Fruits', 'No_Fruits', 'No_Fruits', ['Cherry'], ['Orange', 'Cherry'], 'No_Fruits', ['Jackfruit'], 'No_Fruits', 'No_Fruits', 'No_Fruits', 'No_Fruits', 'No_Fruits', 'No_Fruits', ['Tomato'], 'No_Fruits', 'No_Fruits', 'No_Fruits', 'No_Fruits', 'No_Fruits', 'No_Fruits', ['Banana'], ['Tomato'], ['Banana'], ['Tomato'], 'No_Fruits', 'No_Fruits', ['Tomato'], 'No_Fruits', 'No_Fruits', 'No_Fruits', 'No_Fruits', 'No_Fruits', 'No_Fruits', 'No_Fruits', ['Tomato'], 'No_Fruits', 'No_Fruits', 'No_Fruits', ['Mango'], ['Mango'], 'No_Fruits', ['Tomato'], 'No_Fruits', ['Tomato'], 'No_Fruits', ['Tomato'], 'No_Fruits', ['Tomato'], ['Tomato'], 'No_Fruits', 'No_Fruits', 'No_Fruits', ['Tomato'], ['Papaya'], 'No_Fruits', ['Banana'], 'No_Fruits', 'No_Fruits', ['Mango'], 'No_Fruits', ['Mango'], ['Mango'], ['Mango'], ['Mango'], 'No_Fruits', 'No_Fruits', ['Mango'], 'No_Fruits', ['Tomato'], 'No_Fruits', 'No_Fruits', 'No_Fruits', 'No_Fruits', 'No_Fruits', ['Tomato'], 'No_Fruits', ['Tomato'], 'No_Fruits', 'No_Fruits', 'No_Fruits', ['Mango'], 'No_Fruits', 'No_Fruits', 'No_Fruits', 'No_Fruits', 'No_Fruits', ['Tomato'], 'No_Fruits', 'No_Fruits', ['Tomato'], 'No_Fruits', ['Tomato'], 'No_Fruits', 'No_Fruits', ['Orange'], 'No_Fruits', 'No_Fruits', ['Tomato'], 'No_Fruits', 'No_Fruits', ['Mango'], ['Orange'], 'No_Fruits', ['Pineapple', 'Kiwi'], 'No_Fruits', 'No_Fruits', ['Avocado'], 'No_Fruits', ['Tomato'], 'No_Fruits', ['Tomato'], 'No_Fruits', ['Tomato'], ['Tomato'], ['Tomato'], ['Tomato'], 'No_Fruits', 'No_Fruits', ['Tomato', 'Cherry'], 'No_Fruits', 'No_Fruits', ['Tomato'], ['Kiwi', 'Pineapple', 'Orange'], ['Tomato'], ['Pineapple'], 'No_Fruits', 'No_Fruits', 'No_Fruits', ['Mango'], ['Avocado', 'Tomato', 'Banana'], ['Tomato'], 'No_Fruits', 'No_Fruits', 'No_Fruits', 'No_Fruits', ['Tomato'], ['Melon'], ['Cherry'], 'No_Fruits', 'No_Fruits', 'No_Fruits', 'No_Fruits', 'No_Fruits', 'No_Fruits', ['Tomato'], ['Orange', 'Kiwi'], 'No_Fruits', 'No_Fruits', ['Pineapple'], 'No_Fruits', ['Orange'], ['Tomato'], 'No_Fruits', 'No_Fruits', 'No_Fruits', 'No_Fruits', 'No_Fruits', 'No_Fruits', ['Papaya'], ['Tomato'], 'No_Fruits', ['Mango'], ['Melon', 'Tomato'], 'No_Fruits', 'No_Fruits', 'No_Fruits', 'No_Fruits', ['Pomegranate'], 'No_Fruits', 'No_Fruits', ['Melon'], 'No_Fruits', 'No_Fruits', 'No_Fruits', 'No_Fruits', 'No_Fruits', 'No_Fruits', ['Cherry'], 'No_Fruits', 'No_Fruits', 'No_Fruits', 'No_Fruits', 'No_Fruits', 'No_Fruits', ['Papaya'], 'No_Fruits', ['Orange'], 'No_Fruits', 'No_Fruits', ['Orange'], 'No_Fruits', 'No_Fruits', 'No_Fruits', 'No_Fruits', ['Orange'], 'No_Fruits', 'No_Fruits', 'No_Fruits', 'No_Fruits', ['Mango'], 'No_Fruits', 'No_Fruits', 'No_Fruits', ['Watermelon'], 'No_Fruits', ['Tomato'], ['Tomato', 'Cherry'], ['Cherry'], 'No_Fruits', 'No_Fruits', 'No_Fruits', 'No_Fruits', 'No_Fruits', ['Avocado', 'Cherry'], ['Pineapple'], 'No_Fruits', 'No_Fruits', 'No_Fruits', 'No_Fruits', 'No_Fruits', 'No_Fruits', 'No_Fruits', 'No_Fruits', 'No_Fruits', ['Tomato'], 'No_Fruits', ['Strawberry'], ['Strawberry'], 'No_Fruits', 'No_Fruits', ['Avocado'], 'No_Fruits', 'No_Fruits', ['Tomato'], 'No_Fruits', 'No_Fruits', 'No_Fruits', ['Tomato'], ['Blueberry'], 'No_Fruits', 'No_Fruits', ['Tomato'], 'No_Fruits', 'No_Fruits', 'No_Fruits', 'No_Fruits', ['Avocado', 'Cherry'], 'No_Fruits', 'No_Fruits', 'No_Fruits', ['Cherry', 'Avocado', 'Tomato'], ['Tomato'], 'No_Fruits', 'No_Fruits', ['Apple'], 'No_Fruits', 'No_Fruits', 'No_Fruits', 'No_Fruits', 'No_Fruits', 'No_Fruits', 'No_Fruits', 'No_Fruits', 'No_Fruits', ['Pomegranate'], 'No_Fruits', 'No_Fruits', 'No_Fruits', 'No_Fruits', 'No_Fruits', ['Pineapple'], 'No_Fruits', ['Tomato'], 'No_Fruits', 'No_Fruits', 'No_Fruits', 'No_Fruits', 'No_Fruits', 'No_Fruits', ['Tomato'], ['Mango', 'Orange'], 'No_Fruits', 'No_Fruits', 'No_Fruits', 'No_Fruits', ['Tomato'], 'No_Fruits', 'No_Fruits', 'No_Fruits', 'No_Fruits', 'No_Fruits', 'No_Fruits', ['Tomato'], 'No_Fruits', 'No_Fruits', 'No_Fruits', 'No_Fruits', ['Orange'], ['Orange'], 'No_Fruits', 'No_Fruits', ['Tomato'], 'No_Fruits', 'No_Fruits', 'No_Fruits', 'No_Fruits', 'No_Fruits', 'No_Fruits', 'No_Fruits', ['Tomato'], ['Tomato'], 'No_Fruits', 'No_Fruits', 'No_Fruits', 'No_Fruits', ['Cherry', 'Watermelon', 'Tomato', 'Strawberry'], 'No_Fruits', 'No_Fruits', 'No_Fruits', 'No_Fruits', ['Pomegranate'], 'No_Fruits', 'No_Fruits', 'No_Fruits', 'No_Fruits', ['Tomato'], 'No_Fruits', ['Tomato'], 'No_Fruits', ['Mango', 'Melon'], ['Mango'], ['Mango'], 'No_Fruits', ['Mango'], ['Mango'], ['Mango'], 'No_Fruits', 'No_Fruits', 'No_Fruits', ['Mango'], ['Pomegranate'], 'No_Fruits', 'No_Fruits', 'No_Fruits', ['Kiwi'], 'No_Fruits', 'No_Fruits', 'No_Fruits', 'No_Fruits', 'No_Fruits', 'No_Fruits', ['Tomato', 'Cherry'], 'No_Fruits', 'No_Fruits', 'No_Fruits', 'No_Fruits', 'No_Fruits', ['Orange'], 'No_Fruits', ['Jackfruit'], 'No_Fruits', 'No_Fruits', 'No_Fruits', 'No_Fruits', ['Tomato'], 'No_Fruits', 'No_Fruits', 'No_Fruits', ['Mango'], 'No_Fruits', 'No_Fruits', 'No_Fruits', 'No_Fruits', 'No_Fruits', ['Tomato'], ['Tomato'], 'No_Fruits', 'No_Fruits', 'No_Fruits', 'No_Fruits', ['Cherry'], 'No_Fruits', 'No_Fruits', ['Tomato'], 'No_Fruits', ['Papaya', 'Tomato'], 'No_Fruits', 'No_Fruits', 'No_Fruits', 'No_Fruits', 'No_Fruits', ['Cherry', 'Tomato', 'Avocado'], 'No_Fruits', 'No_Fruits', ['Pomegranate', 'Cherry'], 'No_Fruits', 'No_Fruits', 'No_Fruits', 'No_Fruits', 'No_Fruits', 'No_Fruits', ['Orange', 'Pomegranate', 'Avocado'], ['Pomegranate'], 'No_Fruits', 'No_Fruits', 'No_Fruits', 'No_Fruits', 'No_Fruits', 'No_Fruits', 'No_Fruits', 'No_Fruits', ['Pomegranate', 'Strawberry'], 'No_Fruits', 'No_Fruits', 'No_Fruits', 'No_Fruits', 'No_Fruits', 'No_Fruits', 'No_Fruits', 'No_Fruits', 'No_Fruits', 'No_Fruits', ['Tomato', 'Pomegranate', 'Mango'], ['Strawberry'], 'No_Fruits', 'No_Fruits', 'No_Fruits', ['Mango'], 'No_Fruits', 'No_Fruits', 'No_Fruits', ['Mango'], 'No_Fruits', 'No_Fruits', 'No_Fruits', 'No_Fruits', ['Orange'], 'No_Fruits', 'No_Fruits', 'No_Fruits', 'No_Fruits', 'No_Fruits', ['Banana'], ['Avocado'], 'No_Fruits', 'No_Fruits', 'No_Fruits', ['Tomato'], 'No_Fruits', 'No_Fruits', 'No_Fruits', ['Tomato'], 'No_Fruits', 'No_Fruits', 'No_Fruits', 'No_Fruits', ['Tomato'], 'No_Fruits', 'No_Fruits', 'No_Fruits', 'No_Fruits', 'No_Fruits', 'No_Fruits', ['Cherry'], 'No_Fruits', 'No_Fruits', ['Tomato'], ['Pomegranate'], 'No_Fruits', 'No_Fruits', ['Cherry'], 'No_Fruits', 'No_Fruits', 'No_Fruits', 'No_Fruits', 'No_Fruits', ['Tomato'], ['Mango'], 'No_Fruits', 'No_Fruits', 'No_Fruits', 'No_Fruits', 'No_Fruits', 'No_Fruits', 'No_Fruits', 'No_Fruits', ['Tomato'], 'No_Fruits', 'No_Fruits', ['Tomato'], ['Cherry'], ['Pineapple'], 'No_Fruits', 'No_Fruits', 'No_Fruits', 'No_Fruits', 'No_Fruits', 'No_Fruits', 'No_Fruits', 'No_Fruits', 'No_Fruits', 'No_Fruits', 'No_Fruits', 'No_Fruits', 'No_Fruits', 'No_Fruits', ['Blueberry'], 'No_Fruits', ['Blueberry'], 'No_Fruits', ['Tomato'], 'No_Fruits', 'No_Fruits', 'No_Fruits', 'No_Fruits', 'No_Fruits', 'No_Fruits', ['Pomegranate'], 'No_Fruits', 'No_Fruits', 'No_Fruits', 'No_Fruits', ['Apple'], 'No_Fruits', 'No_Fruits', ['Tomato'], ['Pomegranate'], 'No_Fruits', 'No_Fruits', 'No_Fruits', 'No_Fruits', 'No_Fruits', 'No_Fruits', 'No_Fruits', 'No_Fruits', ['Pineapple', 'Kiwi', 'Apple', 'Strawberry'], 'No_Fruits', ['Strawberry'], 'No_Fruits', 'No_Fruits', 'No_Fruits', 'No_Fruits', ['Watermelon'], 'No_Fruits', 'No_Fruits', ['Tomato'], 'No_Fruits', 'No_Fruits', 'No_Fruits', 'No_Fruits', ['Tomato'], 'No_Fruits', 'No_Fruits', ['Tomato'], 'No_Fruits', 'No_Fruits', 'No_Fruits', 'No_Fruits', 'No_Fruits', 'No_Fruits', 'No_Fruits', ['Tomato'], 'No_Fruits', 'No_Fruits', 'No_Fruits', 'No_Fruits', 'No_Fruits', 'No_Fruits', ['Orange'], ['Kiwi'], 'No_Fruits', 'No_Fruits', ['Grape'], ['Tomato'], 'No_Fruits', 'No_Fruits', 'No_Fruits', ['Cherry'], 'No_Fruits', 'No_Fruits', ['Blueberry'], ['Blueberry'], ['Tomato'], 'No_Fruits', 'No_Fruits', 'No_Fruits', 'No_Fruits', 'No_Fruits', ['Mango', 'Pomegranate'], 'No_Fruits', ['Tomato'], 'No_Fruits', ['Mango'], 'No_Fruits', 'No_Fruits', 'No_Fruits', 'No_Fruits', 'No_Fruits', ['Tomato'], 'No_Fruits', 'No_Fruits', 'No_Fruits', 'No_Fruits', 'No_Fruits', 'No_Fruits', ['Tomato'], ['Tomato'], 'No_Fruits', 'No_Fruits', 'No_Fruits', 'No_Fruits', 'No_Fruits', 'No_Fruits', ['Pear', 'Apple'], 'No_Fruits', 'No_Fruits', 'No_Fruits', 'No_Fruits', 'No_Fruits', 'No_Fruits', ['Pineapple'], ['Tomato'], 'No_Fruits', 'No_Fruits', ['Orange'], ['Melon', 'Tomato'], 'No_Fruits', 'No_Fruits', 'No_Fruits', 'No_Fruits', ['Cherry'], 'No_Fruits', ['Apple'], ['Apple'], 'No_Fruits', 'No_Fruits', ['Tomato'], ['Apple'], 'No_Fruits', 'No_Fruits', 'No_Fruits', 'No_Fruits', ['Tomato'], 'No_Fruits', ['Strawberry'], ['Strawberry'], 'No_Fruits', 'No_Fruits', 'No_Fruits', 'No_Fruits', 'No_Fruits', 'No_Fruits', 'No_Fruits', 'No_Fruits', 'No_Fruits', 'No_Fruits', 'No_Fruits', 'No_Fruits', 'No_Fruits', 'No_Fruits', 'No_Fruits', ['Tomato'], ['Tomato'], 'No_Fruits', 'No_Fruits', ['Tomato'], 'No_Fruits', 'No_Fruits', ['Tomato'], 'No_Fruits', ['Mango'], ['Papaya'], 'No_Fruits', ['Tomato'], ['Tomato'], 'No_Fruits', 'No_Fruits', 'No_Fruits', 'No_Fruits', 'No_Fruits', 'No_Fruits', 'No_Fruits', ['Tomato'], 'No_Fruits', 'No_Fruits', 'No_Fruits', 'No_Fruits', 'No_Fruits', 'No_Fruits', 'No_Fruits', 'No_Fruits', ['Tomato'], 'No_Fruits', 'No_Fruits', 'No_Fruits', 'No_Fruits', 'No_Fruits', 'No_Fruits', 'No_Fruits', 'No_Fruits', 'No_Fruits', 'No_Fruits', 'No_Fruits', 'No_Fruits', 'No_Fruits', 'No_Fruits', 'No_Fruits', ['Tomato'], 'No_Fruits', 'No_Fruits', 'No_Fruits', 'No_Fruits', 'No_Fruits', 'No_Fruits', 'No_Fruits', ['Pomegranate'], 'No_Fruits', ['Orange'], 'No_Fruits', ['Pineapple'], ['Pineapple'], ['Pineapple'], ['Pineapple'], 'No_Fruits', 'No_Fruits', 'No_Fruits', 'No_Fruits', 'No_Fruits', 'No_Fruits', 'No_Fruits', ['Tomato'], 'No_Fruits', 'No_Fruits', 'No_Fruits', ['Tomato'], ['Tomato'], 'No_Fruits', 'No_Fruits', 'No_Fruits', ['Orange'], ['Orange'], 'No_Fruits', ['Mango', 'Papaya'], ['Orange', 'Mandarin'], 'No_Fruits', 'No_Fruits', 'No_Fruits', ['Tomato'], ['Strawberry'], ['Tomato'], 'No_Fruits', ['Pomegranate'], 'No_Fruits', 'No_Fruits', 'No_Fruits', ['Tomato'], 'No_Fruits', 'No_Fruits', 'No_Fruits', 'No_Fruits', 'No_Fruits', ['Tomato'], ['Tomato'], ['Tomato'], ['Cherry'], ['Banana'], 'No_Fruits', ['Mango'], 'No_Fruits', 'No_Fruits', ['Mango'], 'No_Fruits', 'No_Fruits', ['Tomato'], ['Mango'], ['Raspberry'], 'No_Fruits', 'No_Fruits', 'No_Fruits', 'No_Fruits', 'No_Fruits', 'No_Fruits', 'No_Fruits', 'No_Fruits', 'No_Fruits', ['Tomato'], 'No_Fruits', 'No_Fruits', ['Tomato'], 'No_Fruits', ['Tomato', 'Avocado', 'Cherry'], 'No_Fruits', ['Orange'], ['Pineapple'], 'No_Fruits', 'No_Fruits', 'No_Fruits', 'No_Fruits', 'No_Fruits', 'No_Fruits', 'No_Fruits', ['Pineapple'], 'No_Fruits', 'No_Fruits', ['Tomato'], 'No_Fruits', 'No_Fruits', ['Orange', 'Pineapple', 'Apple', 'Pear'], 'No_Fruits', 'No_Fruits', ['Apple', 'Avocado'], 'No_Fruits', ['Tomato'], 'No_Fruits', 'No_Fruits', 'No_Fruits', 'No_Fruits', 'No_Fruits', 'No_Fruits', 'No_Fruits', 'No_Fruits', 'No_Fruits', 'No_Fruits', 'No_Fruits', 'No_Fruits', 'No_Fruits', 'No_Fruits', 'No_Fruits', 'No_Fruits', 'No_Fruits', 'No_Fruits', 'No_Fruits', 'No_Fruits', 'No_Fruits', ['Tomato'], 'No_Fruits', 'No_Fruits', 'No_Fruits', 'No_Fruits', 'No_Fruits', 'No_Fruits', ['Kiwi', 'Orange', 'Apple', 'Grapefruit'], 'No_Fruits', ['Tomato'], 'No_Fruits', 'No_Fruits', 'No_Fruits', 'No_Fruits', 'No_Fruits', 'No_Fruits', 'No_Fruits', 'No_Fruits', 'No_Fruits', 'No_Fruits', ['Tomato'], 'No_Fruits', 'No_Fruits', 'No_Fruits', 'No_Fruits', 'No_Fruits', 'No_Fruits', 'No_Fruits', ['Tomato'], 'No_Fruits', 'No_Fruits', 'No_Fruits', 'No_Fruits', ['Pineapple', 'Tomato'], 'No_Fruits', 'No_Fruits', 'No_Fruits', ['Banana'], 'No_Fruits', 'No_Fruits', ['Tomato'], 'No_Fruits', 'No_Fruits', 'No_Fruits', ['Mango'], 'No_Fruits', 'No_Fruits', 'No_Fruits', 'No_Fruits', 'No_Fruits', ['Tomato'], 'No_Fruits', 'No_Fruits', 'No_Fruits', 'No_Fruits', 'No_Fruits', 'No_Fruits', 'No_Fruits', ['Strawberry', 'Orange'], 'No_Fruits', 'No_Fruits', 'No_Fruits', ['Apple', 'Pear', 'Pineapple', 'Orange', 'Raspberry'], ['Tomato'], ['Tomato'], 'No_Fruits', 'No_Fruits', 'No_Fruits', 'No_Fruits', 'No_Fruits', 'No_Fruits', ['Tomato'], ['Mango'], ['Mango'], ['Blueberry'], 'No_Fruits', ['Tomato'], 'No_Fruits', 'No_Fruits', ['Tomato'], 'No_Fruits', ['Tomato', 'Melon'], 'No_Fruits', 'No_Fruits', 'No_Fruits', 'No_Fruits', ['Tomato'], ['Tomato'], 'No_Fruits', 'No_Fruits', 'No_Fruits', ['Banana'], 'No_Fruits', 'No_Fruits', 'No_Fruits', 'No_Fruits', 'No_Fruits', 'No_Fruits', ['Cherry'], 'No_Fruits', ['Tomato'], 'No_Fruits', 'No_Fruits', 'No_Fruits', 'No_Fruits', 'No_Fruits', 'No_Fruits', 'No_Fruits', 'No_Fruits', 'No_Fruits', 'No_Fruits', 'No_Fruits', 'No_Fruits', 'No_Fruits', 'No_Fruits', 'No_Fruits', ['Kiwi'], 'No_Fruits', 'No_Fruits', 'No_Fruits', 'No_Fruits', 'No_Fruits', ['Watermelon', 'Pineapple'], ['Watermelon'], ['Cherry'], ['Tomato'], 'No_Fruits', 'No_Fruits', 'No_Fruits', ['Tomato'], 'No_Fruits', ['Tomato'], 'No_Fruits', ['Mango'], ['Tomato'], 'No_Fruits', ['Tomato'], 'No_Fruits', 'No_Fruits', 'No_Fruits', ['Tomato'], 'No_Fruits', 'No_Fruits', ['Pineapple'], 'No_Fruits', 'No_Fruits', 'No_Fruits', 'No_Fruits', 'No_Fruits', 'No_Fruits', 'No_Fruits', 'No_Fruits', ['Tomato'], 'No_Fruits', 'No_Fruits', 'No_Fruits', 'No_Fruits', ['Banana', 'Tomato'], 'No_Fruits', ['Tomato'], 'No_Fruits', 'No_Fruits', 'No_Fruits', 'No_Fruits', ['Tomato'], ['Banana', 'Mango', 'Pomegranate'], ['Banana'], 'No_Fruits', 'No_Fruits', ['Pineapple'], 'No_Fruits', 'No_Fruits', 'No_Fruits', ['Banana'], 'No_Fruits', 'No_Fruits', 'No_Fruits', ['Pineapple'], 'No_Fruits', 'No_Fruits', 'No_Fruits', ['Tomato'], ['Orange', 'Tomato'], 'No_Fruits', 'No_Fruits', ['Avocado'], ['Tomato'], 'No_Fruits', 'No_Fruits', 'No_Fruits', ['Tomato'], 'No_Fruits', 'No_Fruits', 'No_Fruits', ['Cherry'], ['Mango'], 'No_Fruits', 'No_Fruits', 'No_Fruits', 'No_Fruits', 'No_Fruits', 'No_Fruits', 'No_Fruits', 'No_Fruits', ['Tomato'], 'No_Fruits', ['Mango'], 'No_Fruits', ['Pomegranate', 'Orange'], ['Mango'], 'No_Fruits', 'No_Fruits', 'No_Fruits', 'No_Fruits', 'No_Fruits', ['Banana', 'Mango'], ['Mango'], 'No_Fruits', 'No_Fruits', 'No_Fruits', 'No_Fruits', ['Cherry'], 'No_Fruits', ['Apple'], 'No_Fruits', 'No_Fruits', 'No_Fruits', ['Tomato'], 'No_Fruits', 'No_Fruits', 'No_Fruits', ['Orange'], 'No_Fruits', 'No_Fruits', 'No_Fruits', 'No_Fruits', 'No_Fruits', 'No_Fruits', 'No_Fruits', 'No_Fruits', 'No_Fruits', 'No_Fruits', 'No_Fruits', 'No_Fruits', 'No_Fruits', 'No_Fruits', 'No_Fruits', 'No_Fruits', 'No_Fruits', 'No_Fruits', 'No_Fruits', 'No_Fruits', 'No_Fruits', ['Tomato'], ['Tomato'], ['Orange'], 'No_Fruits', ['Tomato'], ['Jackfruit'], 'No_Fruits', 'No_Fruits', 'No_Fruits', 'No_Fruits', 'No_Fruits', 'No_Fruits', ['Cherry'], 'No_Fruits', ['Tomato'], 'No_Fruits', 'No_Fruits', 'No_Fruits', 'No_Fruits', 'No_Fruits', 'No_Fruits', 'No_Fruits', 'No_Fruits', 'No_Fruits', ['Jackfruit'], 'No_Fruits', 'No_Fruits', ['Tomato'], 'No_Fruits', 'No_Fruits', 'No_Fruits', 'No_Fruits', 'No_Fruits', 'No_Fruits', 'No_Fruits', 'No_Fruits', ['Tomato'], ['Tomato'], 'No_Fruits', 'No_Fruits', 'No_Fruits', 'No_Fruits', 'No_Fruits', 'No_Fruits', 'No_Fruits', 'No_Fruits', ['Plum'], 'No_Fruits', ['Tomato'], 'No_Fruits', 'No_Fruits', 'No_Fruits', 'No_Fruits', ['Melon', 'Avocado'], 'No_Fruits', 'No_Fruits', 'No_Fruits', 'No_Fruits', 'No_Fruits', ['Mango'], 'No_Fruits', 'No_Fruits', ['Mango'], ['Tomato'], ['Mango', 'Tomato'], ['Mango'], 'No_Fruits', 'No_Fruits', 'No_Fruits', 'No_Fruits', 'No_Fruits', 'No_Fruits', ['Raspberry'], ['Banana'], 'No_Fruits', 'No_Fruits', ['Tomato'], ['Tomato'], 'No_Fruits', 'No_Fruits', 'No_Fruits', 'No_Fruits', 'No_Fruits', 'No_Fruits', 'No_Fruits', 'No_Fruits', 'No_Fruits', 'No_Fruits', 'No_Fruits', 'No_Fruits', 'No_Fruits', 'No_Fruits', 'No_Fruits', ['Mango'], 'No_Fruits', 'No_Fruits', 'No_Fruits', 'No_Fruits', ['Tomato'], 'No_Fruits', 'No_Fruits', 'No_Fruits', 'No_Fruits', 'No_Fruits', 'No_Fruits', ['Watermelon'], 'No_Fruits', 'No_Fruits', 'No_Fruits', 'No_Fruits', ['Tomato'], 'No_Fruits', ['Tomato'], 'No_Fruits', 'No_Fruits', ['Tomato'], 'No_Fruits', 'No_Fruits', 'No_Fruits', 'No_Fruits', 'No_Fruits', 'No_Fruits', ['Pineapple', 'Mango'], 'No_Fruits', 'No_Fruits', 'No_Fruits', 'No_Fruits', 'No_Fruits', ['Tomato'], 'No_Fruits', 'No_Fruits', 'No_Fruits', 'No_Fruits', ['Tomato'], ['Tomato'], 'No_Fruits', ['Tomato'], 'No_Fruits', ['Tomato'], 'No_Fruits', 'No_Fruits', 'No_Fruits', ['Tomato'], 'No_Fruits', 'No_Fruits', 'No_Fruits', 'No_Fruits', 'No_Fruits', 'No_Fruits', ['Tomato'], ['Tomato'], ['Tomato'], 'No_Fruits', 'No_Fruits', 'No_Fruits', ['Orange'], 'No_Fruits', 'No_Fruits', ['Tomato'], 'No_Fruits', 'No_Fruits', ['Mango'], 'No_Fruits', 'No_Fruits', 'No_Fruits', ['Pomegranate'], 'No_Fruits', 'No_Fruits', 'No_Fruits', 'No_Fruits', ['Tomato'], 'No_Fruits', 'No_Fruits', 'No_Fruits', ['Mango'], 'No_Fruits', 'No_Fruits', 'No_Fruits', 'No_Fruits', 'No_Fruits', ['Tomato'], ['Lime'], 'No_Fruits', ['Mango'], 'No_Fruits', 'No_Fruits', ['Tomato'], 'No_Fruits', ['Strawberry'], 'No_Fruits', 'No_Fruits', 'No_Fruits', 'No_Fruits', ['Tomato'], 'No_Fruits', 'No_Fruits', ['Tomato'], 'No_Fruits', 'No_Fruits', 'No_Fruits', 'No_Fruits', 'No_Fruits', 'No_Fruits', ['Tomato'], 'No_Fruits', 'No_Fruits', ['Kiwi', 'Mango'], ['Tomato'], ['Apple'], 'No_Fruits', 'No_Fruits', ['Tomato'], 'No_Fruits', ['Apricot'], ['Mango'], ['Tomato', 'Banana'], ['Mango'], 'No_Fruits', ['Papaya'], ['Jackfruit', 'Mango'], ['Tomato'], 'No_Fruits', 'No_Fruits', 'No_Fruits', ['Tomato'], 'No_Fruits', ['Pomegranate'], 'No_Fruits', 'No_Fruits', 'No_Fruits', 'No_Fruits', 'No_Fruits', 'No_Fruits', ['Tomato'], 'No_Fruits', 'No_Fruits', 'No_Fruits', 'No_Fruits', 'No_Fruits', 'No_Fruits', 'No_Fruits', ['Mango'], 'No_Fruits', 'No_Fruits', 'No_Fruits', ['Mango'], 'No_Fruits', 'No_Fruits', ['Mango'], 'No_Fruits', 'No_Fruits', ['Orange'], 'No_Fruits', 'No_Fruits', 'No_Fruits', ['Tomato'], 'No_Fruits', ['Lime'], 'No_Fruits', 'No_Fruits', 'No_Fruits', 'No_Fruits', 'No_Fruits', 'No_Fruits', 'No_Fruits', 'No_Fruits', 'No_Fruits', 'No_Fruits', ['Pomegranate'], 'No_Fruits', 'No_Fruits', 'No_Fruits', 'No_Fruits', ['Cherry'], 'No_Fruits', 'No_Fruits', 'No_Fruits', ['Mango'], 'No_Fruits', 'No_Fruits', 'No_Fruits', 'No_Fruits', 'No_Fruits', 'No_Fruits', ['Mango'], ['Tomato'], ['Mango'], ['Tomato'], 'No_Fruits', ['Orange'], ['Mango'], 'No_Fruits', 'No_Fruits', 'No_Fruits', ['Tomato'], 'No_Fruits', ['Banana', 'Tomato'], 'No_Fruits', 'No_Fruits', ['Tomato'], 'No_Fruits', 'No_Fruits', 'No_Fruits', 'No_Fruits', 'No_Fruits', ['Mango'], ['Tomato'], 'No_Fruits', ['Tomato'], 'No_Fruits', 'No_Fruits', 'No_Fruits', 'No_Fruits', ['Tomato'], 'No_Fruits', 'No_Fruits', 'No_Fruits', 'No_Fruits', 'No_Fruits', ['Strawberry'], 'No_Fruits', 'No_Fruits', 'No_Fruits', 'No_Fruits', 'No_Fruits', 'No_Fruits', 'No_Fruits', 'No_Fruits', 'No_Fruits', 'No_Fruits', 'No_Fruits', 'No_Fruits', ['Pineapple'], ['Orange'], 'No_Fruits', 'No_Fruits', ['Orange'], 'No_Fruits', 'No_Fruits', 'No_Fruits', 'No_Fruits', ['Tomato'], 'No_Fruits', 'No_Fruits', 'No_Fruits', 'No_Fruits', 'No_Fruits', 'No_Fruits', ['Blueberry'], 'No_Fruits', ['Banana'], 'No_Fruits', 'No_Fruits', 'No_Fruits', ['Tomato'], 'No_Fruits', 'No_Fruits', ['Tomato'], 'No_Fruits', ['Pineapple', 'Tomato'], ['Tomato'], 'No_Fruits', ['Tomato', 'Mango'], 'No_Fruits', 'No_Fruits', 'No_Fruits', 'No_Fruits', 'No_Fruits', 'No_Fruits', ['Tomato', 'Cherry'], 'No_Fruits', ['Kiwi'], ['Mango'], 'No_Fruits', ['Blueberry'], ['Apple'], 'No_Fruits', 'No_Fruits', 'No_Fruits', ['Tomato'], 'No_Fruits', 'No_Fruits', 'No_Fruits', 'No_Fruits', ['Orange'], ['Tomato'], 'No_Fruits', 'No_Fruits', 'No_Fruits', 'No_Fruits', 'No_Fruits', 'No_Fruits', ['Mango', 'Papaya'], 'No_Fruits', 'No_Fruits', 'No_Fruits', 'No_Fruits', ['Tomato'], 'No_Fruits', 'No_Fruits', 'No_Fruits', 'No_Fruits', 'No_Fruits', 'No_Fruits', 'No_Fruits', 'No_Fruits', 'No_Fruits', 'No_Fruits', 'No_Fruits', 'No_Fruits', 'No_Fruits', 'No_Fruits', 'No_Fruits', ['Kiwi', 'Strawberry', 'Blueberry', 'Mango'], 'No_Fruits', ['Tomato'], 'No_Fruits', 'No_Fruits', 'No_Fruits', 'No_Fruits', 'No_Fruits', 'No_Fruits', 'No_Fruits', 'No_Fruits', 'No_Fruits', 'No_Fruits', ['Tomato'], 'No_Fruits', 'No_Fruits', 'No_Fruits', ['Tomato'], 'No_Fruits', 'No_Fruits', 'No_Fruits', 'No_Fruits', 'No_Fruits', 'No_Fruits', 'No_Fruits', 'No_Fruits', ['Apple'], ['Apple', 'Mango'], ['Apple'], ['Apple'], 'No_Fruits', ['Melon'], ['Tomato', 'Mango'], 'No_Fruits', 'No_Fruits', ['Pomegranate'], ['Pomegranate'], 'No_Fruits', 'No_Fruits', ['Mango'], ['Pomegranate', 'Mango'], 'No_Fruits', ['Tomato'], 'No_Fruits', 'No_Fruits', 'No_Fruits', ['Tomato'], 'No_Fruits', 'No_Fruits', ['Tomato'], ['Banana'], ['Pear'], ['Tomato'], ['Tomato'], 'No_Fruits', 'No_Fruits', ['Pear'], ['Orange', 'Strawberry'], 'No_Fruits', ['Cherry'], ['Tomato'], 'No_Fruits', 'No_Fruits', 'No_Fruits', 'No_Fruits', ['Tomato'], ['Pear'], ['Tomato'], 'No_Fruits', ['Pear'], 'No_Fruits', 'No_Fruits', ['Tomato'], 'No_Fruits', 'No_Fruits', 'No_Fruits', 'No_Fruits', 'No_Fruits', 'No_Fruits', ['Pear'], 'No_Fruits', 'No_Fruits', ['Pear'], 'No_Fruits', 'No_Fruits', 'No_Fruits', 'No_Fruits', ['Pear'], 'No_Fruits', 'No_Fruits', 'No_Fruits', 'No_Fruits', ['Tomato'], 'No_Fruits', 'No_Fruits', ['Pear', 'Plum'], 'No_Fruits', 'No_Fruits', ['Tomato'], ['Tomato'], 'No_Fruits', ['Tomato'], ['Tomato'], 'No_Fruits', 'No_Fruits', 'No_Fruits', ['Tomato'], 'No_Fruits', 'No_Fruits', 'No_Fruits', ['Tomato'], ['Banana', 'Apple', 'Mango', 'Orange', 'Pomegranate'], 'No_Fruits', 'No_Fruits', 'No_Fruits', 'No_Fruits', ['Tomato'], 'No_Fruits', 'No_Fruits', 'No_Fruits', 'No_Fruits', 'No_Fruits', ['Mango'], 'No_Fruits', 'No_Fruits', 'No_Fruits', ['Cherry'], 'No_Fruits', 'No_Fruits', 'No_Fruits', 'No_Fruits', 'No_Fruits', 'No_Fruits', 'No_Fruits', 'No_Fruits', 'No_Fruits', 'No_Fruits', 'No_Fruits', ['Tomato'], 'No_Fruits', 'No_Fruits', 'No_Fruits', 'No_Fruits', 'No_Fruits', 'No_Fruits', ['Mango', 'Tomato'], 'No_Fruits', ['Avocado'], ['Kiwi'], 'No_Fruits', ['Orange'], 'No_Fruits', 'No_Fruits', ['Mango'], ['Mango', 'Strawberry'], 'No_Fruits', 'No_Fruits', 'No_Fruits', 'No_Fruits', 'No_Fruits', ['Orange'], 'No_Fruits', ['Tomato'], 'No_Fruits', 'No_Fruits', 'No_Fruits', 'No_Fruits', ['Blueberry'], 'No_Fruits', 'No_Fruits', ['Apple'], 'No_Fruits', ['Pomegranate'], ['Mango'], ['Tomato'], 'No_Fruits', 'No_Fruits', 'No_Fruits', ['Tomato'], 'No_Fruits', 'No_Fruits', 'No_Fruits', 'No_Fruits', 'No_Fruits', 'No_Fruits', ['Mango'], 'No_Fruits', 'No_Fruits', 'No_Fruits', 'No_Fruits', ['Mango'], 'No_Fruits', 'No_Fruits', 'No_Fruits', ['Blueberry'], ['Watermelon'], 'No_Fruits', ['Apple'], 'No_Fruits', 'No_Fruits', ['Tomato'], 'No_Fruits', 'No_Fruits', 'No_Fruits', 'No_Fruits', 'No_Fruits', 'No_Fruits', 'No_Fruits', ['Cherry'], 'No_Fruits', 'No_Fruits', ['Pineapple'], 'No_Fruits', 'No_Fruits', ['Tomato'], 'No_Fruits', 'No_Fruits', ['Tomato'], 'No_Fruits', 'No_Fruits', 'No_Fruits', ['Tomato'], ['Tomato'], 'No_Fruits', 'No_Fruits', ['Mango'], 'No_Fruits', ['Pomegranate'], ['Mango'], ['Pomegranate'], 'No_Fruits', 'No_Fruits', ['Kiwi'], 'No_Fruits', ['Kiwi'], 'No_Fruits', ['Mango', 'Tomato'], 'No_Fruits', ['Kiwi', 'Mango'], 'No_Fruits', 'No_Fruits', 'No_Fruits', 'No_Fruits', ['Mango'], 'No_Fruits', ['Orange'], 'No_Fruits', 'No_Fruits', 'No_Fruits', 'No_Fruits', 'No_Fruits', 'No_Fruits', 'No_Fruits', 'No_Fruits', 'No_Fruits', 'No_Fruits', 'No_Fruits', ['Tomato'], 'No_Fruits', ['Mango'], ['Orange'], 'No_Fruits', 'No_Fruits', ['Tomato'], 'No_Fruits', 'No_Fruits', ['Mango'], 'No_Fruits', 'No_Fruits', 'No_Fruits', 'No_Fruits', 'No_Fruits', 'No_Fruits', 'No_Fruits', 'No_Fruits', 'No_Fruits', 'No_Fruits', 'No_Fruits', ['Tomato'], ['Kiwi', 'Pomegranate', 'Orange', 'Lime', 'Apple'], 'No_Fruits', 'No_Fruits', 'No_Fruits', 'No_Fruits', 'No_Fruits', ['Tomato'], 'No_Fruits', ['Pomegranate'], 'No_Fruits', 'No_Fruits', 'No_Fruits', 'No_Fruits', 'No_Fruits', 'No_Fruits', ['Pineapple'], ['Kiwi'], ['Kiwi'], 'No_Fruits', 'No_Fruits', 'No_Fruits', ['Kiwi'], 'No_Fruits', ['Tomato'], 'No_Fruits', 'No_Fruits', 'No_Fruits', 'No_Fruits', 'No_Fruits', ['Kiwi'], 'No_Fruits', ['Tomato', 'Kiwi'], 'No_Fruits', ['Orange', 'Apricot'], 'No_Fruits', 'No_Fruits', ['Banana'], ['Pomegranate'], 'No_Fruits', ['Tomato'], 'No_Fruits', 'No_Fruits', 'No_Fruits', ['Cherry'], 'No_Fruits', 'No_Fruits', ['Orange'], 'No_Fruits', 'No_Fruits', ['Papaya', 'Pineapple'], 'No_Fruits', 'No_Fruits', 'No_Fruits', 'No_Fruits', ['Tomato'], 'No_Fruits', 'No_Fruits', ['Banana'], 'No_Fruits', 'No_Fruits', 'No_Fruits', 'No_Fruits', 'No_Fruits', 'No_Fruits', 'No_Fruits', 'No_Fruits', 'No_Fruits', 'No_Fruits', 'No_Fruits', 'No_Fruits', ['Orange'], 'No_Fruits', 'No_Fruits', 'No_Fruits', 'No_Fruits', 'No_Fruits', 'No_Fruits', 'No_Fruits', 'No_Fruits', ['Pomegranate'], 'No_Fruits', 'No_Fruits', 'No_Fruits', 'No_Fruits', ['Tomato'], ['Tomato'], 'No_Fruits', 'No_Fruits', 'No_Fruits', ['Tomato'], 'No_Fruits', ['Orange', 'Pineapple'], 'No_Fruits', ['Banana'], 'No_Fruits', 'No_Fruits', 'No_Fruits', ['Apricot'], ['Watermelon', 'Melon', 'Orange'], 'No_Fruits', 'No_Fruits', 'No_Fruits', 'No_Fruits', ['Melon'], 'No_Fruits', 'No_Fruits', 'No_Fruits', 'No_Fruits', 'No_Fruits', 'No_Fruits', 'No_Fruits', ['Lime'], 'No_Fruits', ['Mango'], 'No_Fruits', 'No_Fruits', 'No_Fruits', 'No_Fruits', 'No_Fruits', 'No_Fruits', 'No_Fruits', 'No_Fruits', ['Blueberry'], 'No_Fruits', 'No_Fruits', 'No_Fruits', ['Tomato'], ['Banana', 'Pineapple'], 'No_Fruits', 'No_Fruits', ['Tomato'], 'No_Fruits', ['Orange'], 'No_Fruits', ['Pineapple'], 'No_Fruits', 'No_Fruits', 'No_Fruits', 'No_Fruits', 'No_Fruits', 'No_Fruits', 'No_Fruits', 'No_Fruits', 'No_Fruits', 'No_Fruits', ['Tomato'], ['Orange'], ['Pomegranate'], 'No_Fruits', ['Tomato'], ['Orange'], 'No_Fruits', ['Pineapple'], ['Tomato'], 'No_Fruits', 'No_Fruits', 'No_Fruits', 'No_Fruits', 'No_Fruits', 'No_Fruits', 'No_Fruits', 'No_Fruits', 'No_Fruits', ['Banana'], ['Banana'], 'No_Fruits', 'No_Fruits', ['Tomato'], 'No_Fruits', ['Pomegranate'], 'No_Fruits', 'No_Fruits', 'No_Fruits', ['Tomato'], 'No_Fruits', 'No_Fruits', ['Apple'], 'No_Fruits', ['Tomato'], 'No_Fruits', 'No_Fruits', ['Apricot'], 'No_Fruits', ['Apple', 'Kiwi', 'Pineapple'], 'No_Fruits', 'No_Fruits', 'No_Fruits', ['Watermelon'], ['Cherry', 'Mandarin'], 'No_Fruits', 'No_Fruits', 'No_Fruits', 'No_Fruits', 'No_Fruits', 'No_Fruits', 'No_Fruits', ['Mango', 'Papaya', 'Pineapple', 'Lime'], 'No_Fruits', 'No_Fruits', 'No_Fruits', 'No_Fruits', ['Tomato'], 'No_Fruits', 'No_Fruits', ['Melon'], ['Banana'], ['Tomato'], 'No_Fruits', ['Tomato'], ['Tomato'], 'No_Fruits', 'No_Fruits', 'No_Fruits', 'No_Fruits', 'No_Fruits', ['Tomato'], ['Orange', 'Pomegranate'], 'No_Fruits', 'No_Fruits', ['Apple'], 'No_Fruits', 'No_Fruits', 'No_Fruits', 'No_Fruits', 'No_Fruits', 'No_Fruits', 'No_Fruits', ['Strawberry'], ['Tomato'], 'No_Fruits', 'No_Fruits', 'No_Fruits', 'No_Fruits', ['Mango'], ['Mango'], ['Mango'], 'No_Fruits', 'No_Fruits', 'No_Fruits', 'No_Fruits', 'No_Fruits', 'No_Fruits', ['Kiwi'], ['Mango'], ['Mango'], ['Tomato'], 'No_Fruits', 'No_Fruits', ['Orange'], 'No_Fruits', 'No_Fruits', 'No_Fruits', ['Tomato'], 'No_Fruits', 'No_Fruits', 'No_Fruits', ['Mango'], 'No_Fruits', 'No_Fruits', 'No_Fruits', ['Orange'], 'No_Fruits', 'No_Fruits', 'No_Fruits', ['Tomato'], ['Tomato'], 'No_Fruits', ['Tomato'], 'No_Fruits', 'No_Fruits', 'No_Fruits', 'No_Fruits', 'No_Fruits', 'No_Fruits', 'No_Fruits', 'No_Fruits', 'No_Fruits', 'No_Fruits', 'No_Fruits', 'No_Fruits', 'No_Fruits', 'No_Fruits', ['Tomato'], ['Strawberry'], 'No_Fruits', 'No_Fruits', 'No_Fruits', ['Mango'], 'No_Fruits', 'No_Fruits', 'No_Fruits', 'No_Fruits', 'No_Fruits', 'No_Fruits', ['Mango'], 'No_Fruits', 'No_Fruits', 'No_Fruits', 'No_Fruits', 'No_Fruits', ['Tomato'], 'No_Fruits', 'No_Fruits', ['Mango'], 'No_Fruits', ['Pomegranate'], ['Orange'], ['Strawberry'], 'No_Fruits', 'No_Fruits', ['Mango'], 'No_Fruits', 'No_Fruits', ['Pomegranate', 'Mango'], 'No_Fruits', 'No_Fruits', 'No_Fruits', 'No_Fruits', 'No_Fruits', 'No_Fruits', ['Apple'], 'No_Fruits', 'No_Fruits', ['Tomato'], 'No_Fruits', ['Tomato'], 'No_Fruits', 'No_Fruits', ['Orange'], ['Pomegranate', 'Tomato', 'Mango'], 'No_Fruits', 'No_Fruits', ['Tomato'], ['Peach'], 'No_Fruits', ['Pomegranate', 'Tomato'], ['Mango'], 'No_Fruits', 'No_Fruits', ['Tomato'], ['Tomato'], 'No_Fruits', 'No_Fruits', ['Tomato'], 'No_Fruits', 'No_Fruits', 'No_Fruits', ['Tomato'], 'No_Fruits', 'No_Fruits', 'No_Fruits', 'No_Fruits', 'No_Fruits', 'No_Fruits', 'No_Fruits', ['Mango'], 'No_Fruits', ['Tomato'], ['Tomato'], ['Mango', 'Pomegranate'], 'No_Fruits', ['Tomato'], ['Mango'], 'No_Fruits', 'No_Fruits', 'No_Fruits', ['Jackfruit', 'Tomato'], ['Tomato'], 'No_Fruits', ['Mango'], ['Jackfruit', 'Tomato'], 'No_Fruits', 'No_Fruits', 'No_Fruits', 'No_Fruits', ['Mango'], 'No_Fruits', 'No_Fruits', 'No_Fruits', 'No_Fruits', 'No_Fruits', ['Tomato'], ['Tomato'], 'No_Fruits', 'No_Fruits', 'No_Fruits', 'No_Fruits', 'No_Fruits', ['Tomato'], 'No_Fruits', ['Tomato'], 'No_Fruits', 'No_Fruits', 'No_Fruits', ['Mango', 'Tomato'], 'No_Fruits', ['Plum'], ['Pomegranate'], 'No_Fruits', 'No_Fruits', 'No_Fruits', 'No_Fruits', 'No_Fruits', 'No_Fruits', ['Mango'], 'No_Fruits', 'No_Fruits', 'No_Fruits', 'No_Fruits', 'No_Fruits', 'No_Fruits', 'No_Fruits', 'No_Fruits', 'No_Fruits', 'No_Fruits', 'No_Fruits', 'No_Fruits', 'No_Fruits', ['Pomegranate'], ['Tomato'], 'No_Fruits', 'No_Fruits', ['Banana'], 'No_Fruits', ['Tomato'], 'No_Fruits', 'No_Fruits', 'No_Fruits', 'No_Fruits', 'No_Fruits', 'No_Fruits', ['Tomato'], 'No_Fruits', 'No_Fruits', 'No_Fruits', 'No_Fruits', ['Tomato'], 'No_Fruits', ['Tomato'], 'No_Fruits', 'No_Fruits', 'No_Fruits', 'No_Fruits', 'No_Fruits', 'No_Fruits', ['Mango'], ['Tomato'], 'No_Fruits', ['Tomato'], 'No_Fruits', 'No_Fruits', ['Tomato'], ['Pomegranate'], 'No_Fruits', 'No_Fruits', 'No_Fruits', 'No_Fruits', 'No_Fruits', 'No_Fruits', ['Tomato'], ['Tomato'], ['Tomato'], 'No_Fruits', 'No_Fruits', 'No_Fruits', 'No_Fruits', 'No_Fruits', 'No_Fruits', 'No_Fruits', 'No_Fruits', ['Tomato'], 'No_Fruits', 'No_Fruits', 'No_Fruits', 'No_Fruits', 'No_Fruits', 'No_Fruits', 'No_Fruits', ['Pineapple'], 'No_Fruits', 'No_Fruits', 'No_Fruits', 'No_Fruits', ['Tomato'], ['Tomato'], ['Mango'], 'No_Fruits', 'No_Fruits', ['Tomato', 'Mango'], ['Apple'], ['Mango'], 'No_Fruits', ['Mango'], 'No_Fruits', ['Mango', 'Tomato'], 'No_Fruits', 'No_Fruits', ['Mango'], 'No_Fruits', ['Banana'], 'No_Fruits', 'No_Fruits', ['Mango'], 'No_Fruits', ['Tomato', 'Mango'], 'No_Fruits', 'No_Fruits', ['Mango'], 'No_Fruits', ['Mango'], 'No_Fruits', 'No_Fruits', 'No_Fruits', 'No_Fruits', 'No_Fruits', 'No_Fruits', 'No_Fruits', 'No_Fruits', ['Mango'], ['Mango'], ['Mango'], ['Tomato'], 'No_Fruits', 'No_Fruits', 'No_Fruits', ['Aam', 'Mango'], 'No_Fruits', 'No_Fruits', ['Tomato'], 'No_Fruits', ['Banana'], 'No_Fruits', 'No_Fruits', ['Tomato'], 'No_Fruits', ['Tomato', 'Mango'], 'No_Fruits', 'No_Fruits', 'No_Fruits', 'No_Fruits', ['Lime'], ['Orange'], 'No_Fruits', 'No_Fruits', 'No_Fruits', 'No_Fruits', 'No_Fruits', 'No_Fruits', ['Tomato'], 'No_Fruits', ['Mango'], 'No_Fruits', 'No_Fruits', 'No_Fruits', 'No_Fruits', ['Tomato'], 'No_Fruits', 'No_Fruits', 'No_Fruits', 'No_Fruits', ['Mango'], ['Tomato'], ['Orange'], ['Papaya'], ['Tomato'], ['Cherry'], 'No_Fruits', 'No_Fruits', 'No_Fruits', 'No_Fruits', 'No_Fruits', ['Tomato'], 'No_Fruits', ['Tomato'], 'No_Fruits', 'No_Fruits', ['Tomato'], 'No_Fruits', 'No_Fruits', 'No_Fruits', 'No_Fruits', 'No_Fruits', 'No_Fruits', 'No_Fruits', ['Tomato'], 'No_Fruits', 'No_Fruits', 'No_Fruits', ['Tomato'], 'No_Fruits', 'No_Fruits', 'No_Fruits', 'No_Fruits', 'No_Fruits', 'No_Fruits', ['Tomato'], 'No_Fruits', ['Tomato'], 'No_Fruits', 'No_Fruits', ['Melon'], 'No_Fruits', ['Pomegranate'], 'No_Fruits', 'No_Fruits', 'No_Fruits', ['Tomato'], 'No_Fruits', 'No_Fruits', ['Mango'], ['Mango'], ['Tomato'], 'No_Fruits', ['Tomato'], 'No_Fruits', 'No_Fruits', 'No_Fruits', 'No_Fruits', 'No_Fruits', 'No_Fruits', 'No_Fruits', 'No_Fruits', 'No_Fruits', ['Mango'], 'No_Fruits', 'No_Fruits', ['Mango'], 'No_Fruits', ['Tomato'], ['Mango'], 'No_Fruits', 'No_Fruits', 'No_Fruits', 'No_Fruits', 'No_Fruits', ['Tomato'], ['Mango'], 'No_Fruits', 'No_Fruits', 'No_Fruits', 'No_Fruits', 'No_Fruits', 'No_Fruits', ['Tomato', 'Mango'], ['Jackfruit'], 'No_Fruits', 'No_Fruits', ['Tomato'], 'No_Fruits', 'No_Fruits', ['Mango'], 'No_Fruits', 'No_Fruits', 'No_Fruits', ['Banana'], 'No_Fruits', 'No_Fruits', 'No_Fruits', 'No_Fruits', 'No_Fruits', 'No_Fruits', 'No_Fruits', 'No_Fruits', ['Banana'], 'No_Fruits', 'No_Fruits', 'No_Fruits', 'No_Fruits', 'No_Fruits', 'No_Fruits', ['Tomato'], 'No_Fruits', 'No_Fruits', 'No_Fruits', ['Mango'], 'No_Fruits', 'No_Fruits', 'No_Fruits', 'No_Fruits', 'No_Fruits', 'No_Fruits', 'No_Fruits', 'No_Fruits', ['Pineapple'], 'No_Fruits', 'No_Fruits', 'No_Fruits', 'No_Fruits', ['Orange'], 'No_Fruits', 'No_Fruits', ['Mango'], 'No_Fruits', 'No_Fruits', ['Melon', 'Tomato', 'Pomegranate'], 'No_Fruits', 'No_Fruits', 'No_Fruits', 'No_Fruits', 'No_Fruits', 'No_Fruits', 'No_Fruits', 'No_Fruits', 'No_Fruits', ['Tomato'], 'No_Fruits', 'No_Fruits', 'No_Fruits', ['Mango'], ['Tomato'], 'No_Fruits', 'No_Fruits', ['Tomato'], 'No_Fruits', ['Tomato'], 'No_Fruits', 'No_Fruits', 'No_Fruits', 'No_Fruits', ['Mango'], 'No_Fruits', ['Banana'], 'No_Fruits', ['Mango'], 'No_Fruits', 'No_Fruits', 'No_Fruits', 'No_Fruits', 'No_Fruits', 'No_Fruits', 'No_Fruits', ['Tomato'], 'No_Fruits', ['Mango'], 'No_Fruits', 'No_Fruits', 'No_Fruits', 'No_Fruits', 'No_Fruits', 'No_Fruits', ['Pineapple', 'Mango'], 'No_Fruits', 'No_Fruits', 'No_Fruits', 'No_Fruits', 'No_Fruits', 'No_Fruits', 'No_Fruits', 'No_Fruits', 'No_Fruits', 'No_Fruits', ['Tomato'], 'No_Fruits', 'No_Fruits', 'No_Fruits', 'No_Fruits', 'No_Fruits', 'No_Fruits', 'No_Fruits', 'No_Fruits', 'No_Fruits', 'No_Fruits', ['Pomegranate'], 'No_Fruits', 'No_Fruits', ['Mango', 'Tomato'], 'No_Fruits', 'No_Fruits', 'No_Fruits', ['Tomato'], 'No_Fruits', ['Pomegranate'], 'No_Fruits', 'No_Fruits', 'No_Fruits', ['Mango'], 'No_Fruits', 'No_Fruits', 'No_Fruits', 'No_Fruits', 'No_Fruits', 'No_Fruits', 'No_Fruits', 'No_Fruits', 'No_Fruits', ['Banana'], 'No_Fruits', 'No_Fruits', 'No_Fruits', 'No_Fruits', ['Mango'], 'No_Fruits', 'No_Fruits', ['Mango'], ['Banana'], 'No_Fruits', 'No_Fruits', 'No_Fruits', 'No_Fruits', 'No_Fruits', ['Mango'], 'No_Fruits', 'No_Fruits', 'No_Fruits', 'No_Fruits', 'No_Fruits', 'No_Fruits', 'No_Fruits', 'No_Fruits', 'No_Fruits', 'No_Fruits', 'No_Fruits', 'No_Fruits', ['Mango'], 'No_Fruits', ['Tomato'], 'No_Fruits', 'No_Fruits', 'No_Fruits', 'No_Fruits', 'No_Fruits', ['Tomato'], 'No_Fruits', ['Pineapple', 'Pomegranate'], 'No_Fruits', 'No_Fruits', ['Tomato', 'Mango'], ['Mango'], 'No_Fruits', 'No_Fruits', 'No_Fruits', ['Mango'], 'No_Fruits', 'No_Fruits', 'No_Fruits', ['Mango'], ['Mango'], 'No_Fruits', 'No_Fruits', 'No_Fruits', 'No_Fruits', ['Tomato'], 'No_Fruits', ['Tomato'], 'No_Fruits', 'No_Fruits', 'No_Fruits', 'No_Fruits', 'No_Fruits', 'No_Fruits', 'No_Fruits', 'No_Fruits', 'No_Fruits', 'No_Fruits', 'No_Fruits', 'No_Fruits', 'No_Fruits', 'No_Fruits', 'No_Fruits', 'No_Fruits', ['Mango'], 'No_Fruits', ['Tomato'], ['Pomegranate', 'Mango'], 'No_Fruits', 'No_Fruits', 'No_Fruits', 'No_Fruits', 'No_Fruits', ['Banana'], 'No_Fruits', ['Jackfruit'], ['Tomato'], 'No_Fruits', 'No_Fruits', 'No_Fruits', ['Tomato'], 'No_Fruits', 'No_Fruits', 'No_Fruits', ['Tomato'], 'No_Fruits', 'No_Fruits', 'No_Fruits', 'No_Fruits', ['Tomato'], 'No_Fruits', 'No_Fruits', ['Tomato'], ['Tomato'], 'No_Fruits', 'No_Fruits', 'No_Fruits', 'No_Fruits', 'No_Fruits', 'No_Fruits', 'No_Fruits', ['Tomato'], ['Tomato'], 'No_Fruits', ['Melon'], 'No_Fruits', 'No_Fruits', 'No_Fruits', ['Orange'], 'No_Fruits', 'No_Fruits', 'No_Fruits', 'No_Fruits', ['Tomato'], 'No_Fruits', 'No_Fruits', 'No_Fruits', 'No_Fruits', 'No_Fruits', ['Mango'], 'No_Fruits', ['Cherry'], 'No_Fruits', 'No_Fruits', 'No_Fruits', 'No_Fruits', 'No_Fruits', 'No_Fruits', 'No_Fruits', 'No_Fruits', 'No_Fruits', 'No_Fruits', 'No_Fruits', ['Tomato'], 'No_Fruits', 'No_Fruits', 'No_Fruits', 'No_Fruits', 'No_Fruits', 'No_Fruits', 'No_Fruits', ['Cherry'], 'No_Fruits', 'No_Fruits', 'No_Fruits', 'No_Fruits', 'No_Fruits', 'No_Fruits', 'No_Fruits', 'No_Fruits', 'No_Fruits', 'No_Fruits', 'No_Fruits', 'No_Fruits', ['Pineapple'], 'No_Fruits', ['Cherry'], 'No_Fruits', 'No_Fruits', 'No_Fruits', ['Mango'], ['Tomato'], 'No_Fruits', 'No_Fruits', 'No_Fruits', 'No_Fruits', 'No_Fruits', ['Tomato'], 'No_Fruits', 'No_Fruits', 'No_Fruits', 'No_Fruits', ['Tomato'], 'No_Fruits', 'No_Fruits', 'No_Fruits', 'No_Fruits', 'No_Fruits', 'No_Fruits', 'No_Fruits', 'No_Fruits', 'No_Fruits', ['Cherry'], 'No_Fruits', ['Mango'], 'No_Fruits', 'No_Fruits', 'No_Fruits', 'No_Fruits', ['Tomato'], 'No_Fruits', 'No_Fruits', 'No_Fruits', 'No_Fruits', 'No_Fruits', 'No_Fruits', 'No_Fruits', 'No_Fruits', ['Banana'], 'No_Fruits', ['Tomato'], 'No_Fruits', ['Tomato'], 'No_Fruits', 'No_Fruits', ['Tomato'], 'No_Fruits', 'No_Fruits', 'No_Fruits', ['Tomato', 'Mango'], ['Tomato'], 'No_Fruits', ['Watermelon'], 'No_Fruits', ['Mango'], ['Mango', 'Tomato'], 'No_Fruits', 'No_Fruits', ['Tomato'], 'No_Fruits', ['Mango'], ['Tomato'], 'No_Fruits', 'No_Fruits', 'No_Fruits', ['Mango'], 'No_Fruits', ['Tomato'], 'No_Fruits', 'No_Fruits', 'No_Fruits', 'No_Fruits', 'No_Fruits', 'No_Fruits', 'No_Fruits', ['Mango'], 'No_Fruits', 'No_Fruits', 'No_Fruits', 'No_Fruits', 'No_Fruits', 'No_Fruits', ['Tomato'], 'No_Fruits', ['Tomato'], 'No_Fruits', 'No_Fruits', 'No_Fruits', 'No_Fruits', ['Tomato'], 'No_Fruits', 'No_Fruits', 'No_Fruits', 'No_Fruits', 'No_Fruits', 'No_Fruits', 'No_Fruits', ['Tomato', 'Pomegranate'], 'No_Fruits', 'No_Fruits', 'No_Fruits', 'No_Fruits', 'No_Fruits', 'No_Fruits', 'No_Fruits', 'No_Fruits', 'No_Fruits', 'No_Fruits', ['Mango'], 'No_Fruits', ['Tomato'], 'No_Fruits', 'No_Fruits', ['Apple'], 'No_Fruits', 'No_Fruits', 'No_Fruits', 'No_Fruits', 'No_Fruits', ['Tomato'], ['Mango'], 'No_Fruits', 'No_Fruits', 'No_Fruits', 'No_Fruits', 'No_Fruits', 'No_Fruits', 'No_Fruits', 'No_Fruits', 'No_Fruits', ['Strawberry'], ['Tomato'], 'No_Fruits', 'No_Fruits', 'No_Fruits', ['Mango'], 'No_Fruits', 'No_Fruits', ['Pomegranate'], 'No_Fruits', 'No_Fruits', 'No_Fruits', 'No_Fruits', 'No_Fruits', 'No_Fruits', 'No_Fruits', ['Tomato'], 'No_Fruits', 'No_Fruits', 'No_Fruits', 'No_Fruits', 'No_Fruits', ['Tomato'], 'No_Fruits', 'No_Fruits', 'No_Fruits', 'No_Fruits', 'No_Fruits', 'No_Fruits', ['Banana'], ['Mango', 'Tomato'], 'No_Fruits', ['Tomato'], 'No_Fruits', 'No_Fruits', ['Tomato'], 'No_Fruits', ['Tomato'], 'No_Fruits', 'No_Fruits', 'No_Fruits', 'No_Fruits', ['Orange'], 'No_Fruits', 'No_Fruits', 'No_Fruits', ['Tomato'], 'No_Fruits', 'No_Fruits', 'No_Fruits', ['Pineapple'], 'No_Fruits', 'No_Fruits', 'No_Fruits', 'No_Fruits', 'No_Fruits', 'No_Fruits', 'No_Fruits', 'No_Fruits', ['Orange'], ['Tomato'], 'No_Fruits', ['Mango'], 'No_Fruits', ['Tomato'], ['Mango'], ['Mango'], 'No_Fruits', 'No_Fruits', ['Tomato'], 'No_Fruits', 'No_Fruits', ['Mango'], 'No_Fruits', ['Tomato'], ['Pomegranate'], 'No_Fruits', ['Tomato'], 'No_Fruits', 'No_Fruits', 'No_Fruits', 'No_Fruits', 'No_Fruits', 'No_Fruits', 'No_Fruits', 'No_Fruits', ['Tomato'], 'No_Fruits', ['Tomato'], ['Tomato', 'Mango'], 'No_Fruits', ['Tomato'], 'No_Fruits', 'No_Fruits', ['Mango'], 'No_Fruits', ['Banana'], ['Tomato', 'Pomegranate'], ['Mango'], 'No_Fruits', ['Mango', 'Tomato'], 'No_Fruits', 'No_Fruits', 'No_Fruits', 'No_Fruits', 'No_Fruits', 'No_Fruits', 'No_Fruits', 'No_Fruits', ['Tomato'], 'No_Fruits', ['Tomato'], 'No_Fruits', 'No_Fruits', 'No_Fruits', 'No_Fruits', 'No_Fruits', 'No_Fruits', ['Mango'], ['Mango'], ['Tomato'], 'No_Fruits', ['Tomato'], 'No_Fruits', 'No_Fruits', 'No_Fruits', ['Tomato'], 'No_Fruits', 'No_Fruits', 'No_Fruits', 'No_Fruits', 'No_Fruits', 'No_Fruits', ['Tomato'], 'No_Fruits', 'No_Fruits', ['Tomato'], 'No_Fruits', 'No_Fruits', ['Tomato'], 'No_Fruits', 'No_Fruits', 'No_Fruits', 'No_Fruits', 'No_Fruits', ['Tomato'], ['Tomato'], 'No_Fruits', 'No_Fruits', ['Mango'], 'No_Fruits', 'No_Fruits', 'No_Fruits', ['Mango'], 'No_Fruits', ['Tomato'], 'No_Fruits', 'No_Fruits', ['Mango'], ['Pomegranate'], 'No_Fruits', 'No_Fruits', 'No_Fruits', 'No_Fruits', ['Tomato'], 'No_Fruits', ['Tomato'], 'No_Fruits', 'No_Fruits', 'No_Fruits', ['Mango'], 'No_Fruits', ['Jackfruit', 'Tomato'], 'No_Fruits', ['Mango'], 'No_Fruits', ['Tomato', 'Mango'], 'No_Fruits', 'No_Fruits', 'No_Fruits', 'No_Fruits', 'No_Fruits', 'No_Fruits', 'No_Fruits', 'No_Fruits', 'No_Fruits', 'No_Fruits', 'No_Fruits', 'No_Fruits', ['Tomato'], 'No_Fruits', 'No_Fruits', 'No_Fruits', 'No_Fruits', 'No_Fruits', 'No_Fruits', 'No_Fruits', ['Cherry'], 'No_Fruits', 'No_Fruits', 'No_Fruits', 'No_Fruits', 'No_Fruits', ['Apple'], 'No_Fruits', 'No_Fruits', 'No_Fruits', ['Banana'], 'No_Fruits', 'No_Fruits', 'No_Fruits', 'No_Fruits', ['Jackfruit', 'Tomato'], ['Mango'], 'No_Fruits', 'No_Fruits', ['Tomato'], 'No_Fruits', 'No_Fruits', 'No_Fruits', ['Mango'], 'No_Fruits', 'No_Fruits', 'No_Fruits', 'No_Fruits', 'No_Fruits', 'No_Fruits', 'No_Fruits', 'No_Fruits', 'No_Fruits', 'No_Fruits', 'No_Fruits', ['Tomato'], 'No_Fruits', 'No_Fruits', ['Mango'], 'No_Fruits', 'No_Fruits', 'No_Fruits', 'No_Fruits', 'No_Fruits', 'No_Fruits', 'No_Fruits', 'No_Fruits', ['Tomato'], ['Papaya'], 'No_Fruits', ['Mango'], ['Mango'], ['Cherry'], 'No_Fruits', 'No_Fruits', 'No_Fruits', 'No_Fruits', 'No_Fruits', ['Tomato'], ['Mango'], ['Tomato'], ['Tomato'], 'No_Fruits', 'No_Fruits', ['Mango'], 'No_Fruits', 'No_Fruits', ['Tomato'], 'No_Fruits', ['Orange'], ['Tomato'], 'No_Fruits', 'No_Fruits', 'No_Fruits', ['Mango'], 'No_Fruits', 'No_Fruits', 'No_Fruits', 'No_Fruits', 'No_Fruits', 'No_Fruits', ['Mango'], ['Tomato'], ['Tomato'], 'No_Fruits', ['Tomato'], ['Cherry'], 'No_Fruits', 'No_Fruits', 'No_Fruits', 'No_Fruits', 'No_Fruits', ['Tomato'], 'No_Fruits', 'No_Fruits', 'No_Fruits', 'No_Fruits', 'No_Fruits', ['Tomato'], 'No_Fruits', 'No_Fruits', 'No_Fruits', ['Mango'], 'No_Fruits', 'No_Fruits', 'No_Fruits', 'No_Fruits', 'No_Fruits', 'No_Fruits', 'No_Fruits', 'No_Fruits', 'No_Fruits', ['Tomato'], 'No_Fruits', 'No_Fruits', 'No_Fruits', 'No_Fruits', 'No_Fruits', ['Mango'], 'No_Fruits', ['Tomato'], 'No_Fruits', 'No_Fruits', 'No_Fruits', ['Tomato'], 'No_Fruits', ['Mango', 'Pomegranate'], 'No_Fruits', 'No_Fruits', 'No_Fruits', ['Tomato'], 'No_Fruits', 'No_Fruits', ['Tomato'], ['Cherry'], 'No_Fruits', 'No_Fruits', ['Tomato'], 'No_Fruits', 'No_Fruits', 'No_Fruits', 'No_Fruits', 'No_Fruits', 'No_Fruits', 'No_Fruits', ['Mango'], 'No_Fruits', 'No_Fruits', ['Tomato'], 'No_Fruits', ['Tomato'], 'No_Fruits', 'No_Fruits', 'No_Fruits', ['Lime'], 'No_Fruits', 'No_Fruits', 'No_Fruits', 'No_Fruits', ['Mango'], 'No_Fruits', ['Tomato'], 'No_Fruits', 'No_Fruits', 'No_Fruits', 'No_Fruits', 'No_Fruits', 'No_Fruits', 'No_Fruits', ['Orange', 'Tomato'], ['Tomato'], 'No_Fruits', ['Tomato'], 'No_Fruits', ['Tomato', 'Pomegranate'], 'No_Fruits', 'No_Fruits', ['Mango'], 'No_Fruits', 'No_Fruits', 'No_Fruits', 'No_Fruits', 'No_Fruits', 'No_Fruits', 'No_Fruits', 'No_Fruits', 'No_Fruits', 'No_Fruits', 'No_Fruits', 'No_Fruits', 'No_Fruits', ['Tomato'], 'No_Fruits', 'No_Fruits', ['Tomato'], 'No_Fruits', 'No_Fruits', 'No_Fruits', ['Tomato'], 'No_Fruits', ['Tomato'], 'No_Fruits', 'No_Fruits', ['Mango'], 'No_Fruits', ['Tomato'], 'No_Fruits', ['Tomato'], 'No_Fruits', 'No_Fruits', 'No_Fruits', 'No_Fruits', 'No_Fruits', 'No_Fruits', ['Cherry'], 'No_Fruits', ['Tomato'], 'No_Fruits', 'No_Fruits', 'No_Fruits', 'No_Fruits', 'No_Fruits', 'No_Fruits', 'No_Fruits', 'No_Fruits', 'No_Fruits', ['Tomato'], ['Apple', 'Pineapple', 'Pomegranate'], ['Mango', 'Tomato'], 'No_Fruits', 'No_Fruits', 'No_Fruits', 'No_Fruits', ['Tomato'], 'No_Fruits', 'No_Fruits', 'No_Fruits', 'No_Fruits', 'No_Fruits', ['Tomato'], ['Tomato'], 'No_Fruits', 'No_Fruits', 'No_Fruits', ['Tomato'], 'No_Fruits', ['Tomato'], 'No_Fruits', 'No_Fruits', ['Strawberry'], ['Tomato'], ['Tomato', 'Pomegranate'], 'No_Fruits', 'No_Fruits', 'No_Fruits', ['Tomato'], 'No_Fruits', 'No_Fruits', 'No_Fruits', ['Tomato'], 'No_Fruits', 'No_Fruits', 'No_Fruits', 'No_Fruits', 'No_Fruits', 'No_Fruits', 'No_Fruits', 'No_Fruits', 'No_Fruits', ['Tomato'], ['Mango'], 'No_Fruits', ['Pomegranate'], 'No_Fruits', 'No_Fruits', 'No_Fruits', 'No_Fruits', 'No_Fruits', 'No_Fruits', ['Tomato'], 'No_Fruits', 'No_Fruits', 'No_Fruits', 'No_Fruits', ['Mango'], 'No_Fruits', 'No_Fruits', 'No_Fruits', 'No_Fruits', 'No_Fruits', ['Mango'], 'No_Fruits', 'No_Fruits', 'No_Fruits', ['Tomato'], 'No_Fruits', 'No_Fruits', 'No_Fruits', 'No_Fruits', 'No_Fruits', 'No_Fruits', 'No_Fruits', 'No_Fruits', 'No_Fruits', 'No_Fruits', 'No_Fruits', ['Tomato'], 'No_Fruits', 'No_Fruits', 'No_Fruits', 'No_Fruits', ['Tomato'], 'No_Fruits', 'No_Fruits', 'No_Fruits', 'No_Fruits', 'No_Fruits', 'No_Fruits', 'No_Fruits', 'No_Fruits', ['Lime'], 'No_Fruits', 'No_Fruits', 'No_Fruits', ['Tomato'], 'No_Fruits', 'No_Fruits', 'No_Fruits', 'No_Fruits', 'No_Fruits', 'No_Fruits', ['Mango'], 'No_Fruits', 'No_Fruits', 'No_Fruits', ['Banana'], ['Papaya'], 'No_Fruits', 'No_Fruits', 'No_Fruits', 'No_Fruits', ['Banana', 'Mango'], 'No_Fruits', 'No_Fruits', 'No_Fruits', 'No_Fruits', 'No_Fruits', ['Tomato', 'Cherry'], ['Plum'], 'No_Fruits', 'No_Fruits', 'No_Fruits', 'No_Fruits', 'No_Fruits', 'No_Fruits', 'No_Fruits', 'No_Fruits', 'No_Fruits', ['Mango'], 'No_Fruits', 'No_Fruits', 'No_Fruits', 'No_Fruits', ['Watermelon'], 'No_Fruits', 'No_Fruits', ['Tomato'], ['Tomato'], ['Tomato'], 'No_Fruits', ['Tomato'], ['Tomato'], ['Tomato'], ['Mango'], 'No_Fruits', 'No_Fruits', 'No_Fruits', ['Tomato', 'Pomegranate', 'Mango'], ['Mango'], ['Tomato'], ['Pomegranate'], 'No_Fruits', ['Tomato'], ['Banana', 'Tomato'], 'No_Fruits', 'No_Fruits', 'No_Fruits', 'No_Fruits', 'No_Fruits', 'No_Fruits', ['Tomato'], 'No_Fruits', 'No_Fruits', ['Mango'], 'No_Fruits', 'No_Fruits', ['Mango'], 'No_Fruits', ['Tomato'], 'No_Fruits', 'No_Fruits', ['Mango'], ['Pomegranate'], 'No_Fruits', 'No_Fruits', 'No_Fruits', 'No_Fruits', 'No_Fruits', 'No_Fruits', 'No_Fruits', 'No_Fruits', 'No_Fruits', 'No_Fruits', 'No_Fruits', ['Mango'], 'No_Fruits', 'No_Fruits', 'No_Fruits', 'No_Fruits', 'No_Fruits', ['Tomato', 'Cherry'], ['Tomato'], ['Tomato'], 'No_Fruits', 'No_Fruits', 'No_Fruits', 'No_Fruits', 'No_Fruits', 'No_Fruits', ['Tomato'], 'No_Fruits', 'No_Fruits', 'No_Fruits', 'No_Fruits', 'No_Fruits', 'No_Fruits', ['Tomato'], 'No_Fruits', 'No_Fruits', 'No_Fruits', ['Tomato'], ['Tomato'], ['Mango'], ['Apple', 'Mango'], ['Tomato'], 'No_Fruits', 'No_Fruits', 'No_Fruits', 'No_Fruits', 'No_Fruits', 'No_Fruits', 'No_Fruits', 'No_Fruits', 'No_Fruits', 'No_Fruits', 'No_Fruits', ['Orange'], ['Mango'], 'No_Fruits', 'No_Fruits', 'No_Fruits', ['Papaya', 'Tomato'], 'No_Fruits', ['Tomato'], 'No_Fruits', 'No_Fruits', 'No_Fruits', ['Tomato', 'Pomegranate'], 'No_Fruits', 'No_Fruits', 'No_Fruits', 'No_Fruits', 'No_Fruits', ['Kiwi', 'Mango'], 'No_Fruits', 'No_Fruits', ['Tomato'], ['Orange'], ['Mango'], 'No_Fruits', 'No_Fruits', ['Tomato'], 'No_Fruits', 'No_Fruits', 'No_Fruits', 'No_Fruits', ['Jackfruit'], ['Avocado', 'Cherry'], 'No_Fruits', ['Pomegranate'], ['Cherry'], 'No_Fruits', 'No_Fruits', 'No_Fruits', 'No_Fruits', ['Tomato'], 'No_Fruits', 'No_Fruits', ['Tomato'], 'No_Fruits', 'No_Fruits', 'No_Fruits', 'No_Fruits', 'No_Fruits', 'No_Fruits', ['Melon'], 'No_Fruits', 'No_Fruits', 'No_Fruits', ['Banana'], 'No_Fruits', 'No_Fruits', 'No_Fruits', 'No_Fruits', 'No_Fruits', 'No_Fruits', 'No_Fruits', ['Tomato'], 'No_Fruits', ['Pineapple'], 'No_Fruits', 'No_Fruits', 'No_Fruits', 'No_Fruits', 'No_Fruits', 'No_Fruits', ['Banana'], 'No_Fruits', 'No_Fruits', 'No_Fruits', 'No_Fruits', ['Tomato'], ['Tomato'], ['Mango'], 'No_Fruits', 'No_Fruits', ['Mango'], 'No_Fruits', 'No_Fruits', 'No_Fruits', 'No_Fruits', ['Tomato'], 'No_Fruits', ['Mango'], 'No_Fruits', 'No_Fruits', 'No_Fruits', 'No_Fruits', 'No_Fruits', ['Tomato'], 'No_Fruits', 'No_Fruits', 'No_Fruits', 'No_Fruits', 'No_Fruits', ['Mango'], 'No_Fruits', ['Tomato'], 'No_Fruits', ['Tomato'], 'No_Fruits', 'No_Fruits', ['Tomato'], 'No_Fruits', 'No_Fruits', ['Tomato'], 'No_Fruits', 'No_Fruits', 'No_Fruits', 'No_Fruits', 'No_Fruits', 'No_Fruits', 'No_Fruits', 'No_Fruits', 'No_Fruits', 'No_Fruits', ['Tomato'], 'No_Fruits', 'No_Fruits', 'No_Fruits', 'No_Fruits', ['Tomato'], ['Tomato'], 'No_Fruits', 'No_Fruits', 'No_Fruits', ['Tomato'], ['Tomato'], 'No_Fruits', 'No_Fruits', 'No_Fruits', 'No_Fruits', 'No_Fruits', 'No_Fruits', 'No_Fruits', ['Tomato'], 'No_Fruits', 'No_Fruits', ['Banana', 'Mango'], 'No_Fruits', 'No_Fruits', ['Tomato'], 'No_Fruits', 'No_Fruits', ['Melon'], 'No_Fruits', 'No_Fruits', 'No_Fruits', 'No_Fruits', 'No_Fruits', 'No_Fruits', ['Tomato'], 'No_Fruits', 'No_Fruits', 'No_Fruits', 'No_Fruits', ['Tomato'], 'No_Fruits', 'No_Fruits', ['Watermelon'], 'No_Fruits', 'No_Fruits', 'No_Fruits', 'No_Fruits', 'No_Fruits', 'No_Fruits', 'No_Fruits', ['Tomato'], ['Mango'], 'No_Fruits', 'No_Fruits', 'No_Fruits', 'No_Fruits', 'No_Fruits', 'No_Fruits', 'No_Fruits', 'No_Fruits', ['Tomato'], 'No_Fruits', 'No_Fruits', 'No_Fruits', 'No_Fruits', 'No_Fruits', 'No_Fruits', 'No_Fruits', 'No_Fruits', ['Tomato'], 'No_Fruits', 'No_Fruits', 'No_Fruits', 'No_Fruits', 'No_Fruits', 'No_Fruits', 'No_Fruits', 'No_Fruits', 'No_Fruits', 'No_Fruits', 'No_Fruits', 'No_Fruits', 'No_Fruits', 'No_Fruits', ['Tomato'], ['Banana'], 'No_Fruits', ['Banana'], 'No_Fruits', 'No_Fruits', 'No_Fruits', 'No_Fruits', 'No_Fruits', 'No_Fruits', 'No_Fruits', ['Tomato'], 'No_Fruits', 'No_Fruits', 'No_Fruits', ['Tomato'], 'No_Fruits', 'No_Fruits', ['Tomato'], ['Pomegranate'], 'No_Fruits', 'No_Fruits', ['Watermelon'], 'No_Fruits', ['Tomato', 'Mango'], ['Tomato'], 'No_Fruits', 'No_Fruits', ['Tomato'], 'No_Fruits', ['Pineapple'], 'No_Fruits', 'No_Fruits', 'No_Fruits', 'No_Fruits', 'No_Fruits', 'No_Fruits', 'No_Fruits', 'No_Fruits', 'No_Fruits', ['Mango'], ['Tomato'], 'No_Fruits', 'No_Fruits', ['Pineapple'], 'No_Fruits', 'No_Fruits', 'No_Fruits', 'No_Fruits', 'No_Fruits', 'No_Fruits', 'No_Fruits', ['Mango'], 'No_Fruits', 'No_Fruits', ['Tomato'], 'No_Fruits', ['Tomato'], ['Mango'], ['Tomato'], 'No_Fruits', 'No_Fruits', ['Tomato'], 'No_Fruits', ['Tomato', 'Apple'], 'No_Fruits', ['Cherry'], 'No_Fruits', 'No_Fruits', 'No_Fruits', ['Tomato'], 'No_Fruits', 'No_Fruits', 'No_Fruits', 'No_Fruits', 'No_Fruits', 'No_Fruits', 'No_Fruits', 'No_Fruits', ['Tomato'], 'No_Fruits', 'No_Fruits', 'No_Fruits', 'No_Fruits', ['Mango'], 'No_Fruits', 'No_Fruits', 'No_Fruits', ['Tomato'], 'No_Fruits', 'No_Fruits', 'No_Fruits', 'No_Fruits', ['Mango'], 'No_Fruits', 'No_Fruits', 'No_Fruits', ['Mango'], 'No_Fruits', ['Tomato'], 'No_Fruits', 'No_Fruits', 'No_Fruits', 'No_Fruits', 'No_Fruits', ['Tomato'], 'No_Fruits', 'No_Fruits', ['Tomato'], 'No_Fruits', 'No_Fruits', ['Mango'], 'No_Fruits', ['Mango'], ['Mango'], ['Apple'], 'No_Fruits', ['Pomegranate'], ['Tomato'], ['Tomato'], ['Lime'], 'No_Fruits', ['Mango'], 'No_Fruits', ['Tomato'], ['Tomato'], 'No_Fruits', 'No_Fruits', 'No_Fruits', 'No_Fruits', 'No_Fruits', 'No_Fruits', 'No_Fruits', ['Tomato'], 'No_Fruits', 'No_Fruits', 'No_Fruits', ['Cherry'], 'No_Fruits', 'No_Fruits', ['Tomato'], 'No_Fruits', ['Tomato'], 'No_Fruits', ['Tomato'], 'No_Fruits', 'No_Fruits', 'No_Fruits', 'No_Fruits', 'No_Fruits', 'No_Fruits', 'No_Fruits', 'No_Fruits', 'No_Fruits', ['Tomato'], 'No_Fruits', 'No_Fruits', ['Mango'], 'No_Fruits', ['Tomato'], ['Tomato', 'Pomegranate', 'Mango'], 'No_Fruits', 'No_Fruits', 'No_Fruits', 'No_Fruits', ['Mango', 'Apple', 'Orange', 'Pomegranate'], 'No_Fruits', ['Mango'], ['Tomato'], ['Tomato'], 'No_Fruits', 'No_Fruits', ['Tomato'], 'No_Fruits', 'No_Fruits', 'No_Fruits', 'No_Fruits', ['Mango', 'Apple'], 'No_Fruits', 'No_Fruits', 'No_Fruits', 'No_Fruits', ['Tomato'], 'No_Fruits', 'No_Fruits', 'No_Fruits', 'No_Fruits', 'No_Fruits', ['Tomato'], 'No_Fruits', 'No_Fruits', 'No_Fruits', 'No_Fruits', 'No_Fruits', 'No_Fruits', 'No_Fruits', 'No_Fruits', 'No_Fruits', 'No_Fruits', ['Tomato'], 'No_Fruits', 'No_Fruits', ['Tomato'], 'No_Fruits', 'No_Fruits', 'No_Fruits', 'No_Fruits', 'No_Fruits', 'No_Fruits', 'No_Fruits', 'No_Fruits', ['Mango'], 'No_Fruits', ['Tomato'], 'No_Fruits', ['Orange'], 'No_Fruits', 'No_Fruits', 'No_Fruits', ['Mango', 'Tomato'], 'No_Fruits', 'No_Fruits', ['Watermelon'], 'No_Fruits', ['Banana'], 'No_Fruits', 'No_Fruits', ['Mango'], 'No_Fruits', ['Mango'], 'No_Fruits', 'No_Fruits', 'No_Fruits', 'No_Fruits', ['Tomato'], 'No_Fruits', 'No_Fruits', 'No_Fruits', 'No_Fruits', 'No_Fruits', ['Tomato'], 'No_Fruits', 'No_Fruits', 'No_Fruits', 'No_Fruits', 'No_Fruits', 'No_Fruits', 'No_Fruits', 'No_Fruits', 'No_Fruits', 'No_Fruits', 'No_Fruits', ['Mango'], 'No_Fruits', 'No_Fruits', 'No_Fruits', ['Mango'], 'No_Fruits', 'No_Fruits', 'No_Fruits', ['Tomato'], 'No_Fruits', 'No_Fruits', 'No_Fruits', ['Tomato'], 'No_Fruits', 'No_Fruits', 'No_Fruits', ['Watermelon'], ['Tomato'], 'No_Fruits', ['Plum'], 'No_Fruits', 'No_Fruits', 'No_Fruits', 'No_Fruits', 'No_Fruits', 'No_Fruits', ['Tomato'], ['Tomato'], 'No_Fruits', 'No_Fruits', 'No_Fruits', 'No_Fruits', 'No_Fruits', 'No_Fruits', 'No_Fruits', 'No_Fruits', 'No_Fruits', ['Mango'], 'No_Fruits', 'No_Fruits', 'No_Fruits', 'No_Fruits', ['Melon'], 'No_Fruits', 'No_Fruits', ['Mango'], 'No_Fruits', ['Tomato', 'Pomegranate', 'Mango'], ['Tomato', 'Mango', 'Pomegranate'], ['Tomato'], 'No_Fruits', 'No_Fruits', ['Mango'], 'No_Fruits', 'No_Fruits', ['Tomato'], 'No_Fruits', ['Mango'], 'No_Fruits', ['Banana'], ['Tomato'], ['Tomato'], 'No_Fruits', ['Tomato'], 'No_Fruits', 'No_Fruits', ['Mango'], 'No_Fruits', 'No_Fruits', 'No_Fruits', 'No_Fruits', 'No_Fruits', ['Tomato'], 'No_Fruits', 'No_Fruits', ['Pineapple'], 'No_Fruits', 'No_Fruits', ['Tomato'], 'No_Fruits', 'No_Fruits', ['Watermelon'], ['Banana'], ['Mango'], ['Pomegranate'], 'No_Fruits', 'No_Fruits', 'No_Fruits', ['Tomato'], ['Tomato'], 'No_Fruits', ['Mango'], ['Mango'], 'No_Fruits', 'No_Fruits', 'No_Fruits', 'No_Fruits', 'No_Fruits', 'No_Fruits', 'No_Fruits', 'No_Fruits', 'No_Fruits', ['Apple'], 'No_Fruits', 'No_Fruits', 'No_Fruits', 'No_Fruits', 'No_Fruits', 'No_Fruits', 'No_Fruits', ['Tomato'], ['Tomato'], 'No_Fruits', ['Mango'], 'No_Fruits', 'No_Fruits', 'No_Fruits', 'No_Fruits', 'No_Fruits', 'No_Fruits', 'No_Fruits', 'No_Fruits', 'No_Fruits', 'No_Fruits', ['Plum'], 'No_Fruits', 'No_Fruits', 'No_Fruits', ['Banana'], 'No_Fruits', ['Mango'], ['Tomato'], 'No_Fruits', 'No_Fruits', 'No_Fruits', 'No_Fruits', 'No_Fruits', ['Mango'], 'No_Fruits', ['Tomato'], ['Mango'], 'No_Fruits', ['Banana'], 'No_Fruits', ['Tomato'], 'No_Fruits', ['Mango'], 'No_Fruits', 'No_Fruits', 'No_Fruits', 'No_Fruits', ['Orange'], ['Jackfruit', 'Banana'], 'No_Fruits', ['Tomato'], ['Apple'], 'No_Fruits', ['Tomato'], 'No_Fruits', 'No_Fruits', ['Tomato'], 'No_Fruits', 'No_Fruits', 'No_Fruits', 'No_Fruits', 'No_Fruits', 'No_Fruits', ['Tomato', 'Pomegranate'], 'No_Fruits', 'No_Fruits', 'No_Fruits', 'No_Fruits', 'No_Fruits', 'No_Fruits', ['Tomato'], 'No_Fruits', 'No_Fruits', 'No_Fruits', 'No_Fruits', ['Mango'], 'No_Fruits', 'No_Fruits', ['Tomato'], 'No_Fruits', 'No_Fruits', ['Mango'], 'No_Fruits', 'No_Fruits', 'No_Fruits', 'No_Fruits', 'No_Fruits', ['Tomato'], ['Tomato'], 'No_Fruits', 'No_Fruits', ['Tomato'], ['Tomato', 'Mango'], ['Mango'], 'No_Fruits', 'No_Fruits', 'No_Fruits', 'No_Fruits', 'No_Fruits', ['Tomato'], 'No_Fruits', 'No_Fruits', ['Mango'], ['Cherry'], 'No_Fruits', ['Orange'], ['Pomegranate'], 'No_Fruits', 'No_Fruits', 'No_Fruits', 'No_Fruits', 'No_Fruits', 'No_Fruits', 'No_Fruits', 'No_Fruits', 'No_Fruits', ['Tomato'], 'No_Fruits', 'No_Fruits', 'No_Fruits', 'No_Fruits', 'No_Fruits', 'No_Fruits', 'No_Fruits', ['Mango'], ['Jackfruit'], 'No_Fruits', ['Tomato', 'Pomegranate'], 'No_Fruits', 'No_Fruits', ['Pomegranate'], 'No_Fruits', 'No_Fruits', 'No_Fruits', ['Tomato'], 'No_Fruits', 'No_Fruits', 'No_Fruits', 'No_Fruits', ['Tomato'], 'No_Fruits', 'No_Fruits', ['Tomato'], 'No_Fruits', 'No_Fruits', 'No_Fruits', 'No_Fruits', ['Mango'], 'No_Fruits', 'No_Fruits', 'No_Fruits', 'No_Fruits', ['Banana'], 'No_Fruits', ['Orange'], ['Tomato'], 'No_Fruits', ['Pomegranate'], ['Tomato'], ['Tomato'], 'No_Fruits', ['Jackfruit'], 'No_Fruits', 'No_Fruits', 'No_Fruits', 'No_Fruits', 'No_Fruits', ['Tomato'], ['Tomato'], 'No_Fruits', 'No_Fruits', ['Jackfruit'], ['Mango'], 'No_Fruits', 'No_Fruits', 'No_Fruits', 'No_Fruits', ['Tomato', 'Mango'], 'No_Fruits', 'No_Fruits', 'No_Fruits', ['Tomato'], 'No_Fruits', ['Papaya'], ['Mango'], 'No_Fruits', 'No_Fruits', 'No_Fruits', 'No_Fruits', 'No_Fruits', 'No_Fruits', 'No_Fruits', 'No_Fruits', 'No_Fruits', ['Tomato'], 'No_Fruits', 'No_Fruits', ['Tomato'], 'No_Fruits', 'No_Fruits', ['Strawberry'], ['Tomato'], 'No_Fruits', ['Tomato'], 'No_Fruits', ['Mango'], 'No_Fruits', 'No_Fruits', ['Tomato', 'Mango'], ['Avocado', 'Lime'], 'No_Fruits', 'No_Fruits', 'No_Fruits', 'No_Fruits', 'No_Fruits', ['Tomato', 'Mango'], ['Mango'], ['Mango'], ['Cherry'], 'No_Fruits', 'No_Fruits', 'No_Fruits', 'No_Fruits', 'No_Fruits', 'No_Fruits', 'No_Fruits', 'No_Fruits', 'No_Fruits', ['Tomato'], 'No_Fruits', 'No_Fruits', ['Lime'], 'No_Fruits', 'No_Fruits', 'No_Fruits', ['Mango'], 'No_Fruits', ['Tomato'], ['Banana'], ['Pomegranate', 'Tomato'], 'No_Fruits', 'No_Fruits', 'No_Fruits', ['Tomato'], 'No_Fruits', 'No_Fruits', 'No_Fruits', 'No_Fruits', 'No_Fruits', 'No_Fruits', 'No_Fruits', ['Mango'], ['Tomato'], ['Mango'], ['Banana'], 'No_Fruits', 'No_Fruits', 'No_Fruits', 'No_Fruits', 'No_Fruits', 'No_Fruits', 'No_Fruits', 'No_Fruits', 'No_Fruits', 'No_Fruits', ['Mango'], 'No_Fruits', 'No_Fruits', 'No_Fruits', 'No_Fruits', 'No_Fruits', ['Tomato'], ['Pineapple'], 'No_Fruits', 'No_Fruits', 'No_Fruits', 'No_Fruits', 'No_Fruits', 'No_Fruits', 'No_Fruits', 'No_Fruits', 'No_Fruits', ['Tomato'], 'No_Fruits', ['Tomato'], ['Jackfruit'], ['Mango'], 'No_Fruits', 'No_Fruits', ['Tomato'], 'No_Fruits', 'No_Fruits', ['Mango'], 'No_Fruits', 'No_Fruits', 'No_Fruits', 'No_Fruits', 'No_Fruits', 'No_Fruits', 'No_Fruits', ['Tomato'], 'No_Fruits', ['Tomato'], 'No_Fruits', ['Mango'], 'No_Fruits', ['Apple', 'Tomato'], 'No_Fruits', 'No_Fruits', 'No_Fruits', 'No_Fruits', 'No_Fruits', 'No_Fruits', 'No_Fruits', 'No_Fruits', ['Mango'], 'No_Fruits', 'No_Fruits', ['Mango'], ['Mango'], 'No_Fruits', 'No_Fruits', 'No_Fruits', 'No_Fruits', 'No_Fruits', 'No_Fruits', ['Tomato'], 'No_Fruits', ['Tomato'], 'No_Fruits', 'No_Fruits', 'No_Fruits', 'No_Fruits', 'No_Fruits', 'No_Fruits', ['Tomato'], ['Tomato'], 'No_Fruits', 'No_Fruits', 'No_Fruits', 'No_Fruits', ['Tomato'], 'No_Fruits', 'No_Fruits', ['Cherry'], ['Tomato'], 'No_Fruits', 'No_Fruits', ['Cherry'], 'No_Fruits', 'No_Fruits', 'No_Fruits', 'No_Fruits', 'No_Fruits', ['Jackfruit'], 'No_Fruits', 'No_Fruits', 'No_Fruits', 'No_Fruits', 'No_Fruits', 'No_Fruits', 'No_Fruits', 'No_Fruits', ['Mango'], 'No_Fruits', 'No_Fruits', 'No_Fruits', 'No_Fruits', 'No_Fruits', 'No_Fruits', 'No_Fruits', 'No_Fruits', 'No_Fruits', 'No_Fruits', 'No_Fruits', 'No_Fruits', 'No_Fruits', 'No_Fruits', 'No_Fruits', 'No_Fruits', ['Cherry'], ['Papaya'], 'No_Fruits', 'No_Fruits', 'No_Fruits', 'No_Fruits', 'No_Fruits', 'No_Fruits', 'No_Fruits', 'No_Fruits', ['Mango'], ['Tomato'], 'No_Fruits', 'No_Fruits', ['Mango'], 'No_Fruits', 'No_Fruits', 'No_Fruits', 'No_Fruits', 'No_Fruits', 'No_Fruits', ['Papaya'], ['Tomato'], 'No_Fruits', ['Tomato'], 'No_Fruits', 'No_Fruits', 'No_Fruits', 'No_Fruits', ['Tomato'], ['Mango'], ['Tomato'], 'No_Fruits', ['Pomegranate'], 'No_Fruits', ['Mango'], 'No_Fruits', ['Tomato'], 'No_Fruits', ['Tomato'], ['Tomato', 'Lime'], 'No_Fruits', 'No_Fruits', 'No_Fruits', 'No_Fruits', ['Tomato'], 'No_Fruits', 'No_Fruits', 'No_Fruits', 'No_Fruits', 'No_Fruits', ['Tomato', 'Mango'], 'No_Fruits', ['Mango'], 'No_Fruits', 'No_Fruits', ['Tomato'], 'No_Fruits', ['Tomato'], 'No_Fruits', 'No_Fruits', 'No_Fruits', 'No_Fruits', 'No_Fruits', 'No_Fruits', 'No_Fruits', 'No_Fruits', 'No_Fruits', 'No_Fruits', 'No_Fruits', 'No_Fruits', 'No_Fruits', 'No_Fruits', ['Tomato'], 'No_Fruits', ['Tomato'], 'No_Fruits', 'No_Fruits', 'No_Fruits', ['Tomato'], ['Orange'], 'No_Fruits', 'No_Fruits', 'No_Fruits', 'No_Fruits', 'No_Fruits', ['Tomato', 'Mango'], ['Tomato'], 'No_Fruits', 'No_Fruits', 'No_Fruits', 'No_Fruits', 'No_Fruits', 'No_Fruits', 'No_Fruits', 'No_Fruits', 'No_Fruits', 'No_Fruits', 'No_Fruits', 'No_Fruits', 'No_Fruits', ['Mango'], 'No_Fruits', 'No_Fruits', ['Mango'], 'No_Fruits', 'No_Fruits', 'No_Fruits', 'No_Fruits', 'No_Fruits', 'No_Fruits', ['Tomato'], 'No_Fruits', 'No_Fruits', ['Mango'], 'No_Fruits', 'No_Fruits', 'No_Fruits', 'No_Fruits', 'No_Fruits', 'No_Fruits', ['Tomato', 'Mango'], 'No_Fruits', 'No_Fruits', 'No_Fruits', ['Banana'], 'No_Fruits', 'No_Fruits', ['Tomato'], 'No_Fruits', 'No_Fruits', ['Tomato'], 'No_Fruits', ['Mango'], ['Mango'], 'No_Fruits', 'No_Fruits', 'No_Fruits', 'No_Fruits', 'No_Fruits', ['Tomato'], 'No_Fruits', 'No_Fruits', ['Tomato'], 'No_Fruits', 'No_Fruits', 'No_Fruits', 'No_Fruits', 'No_Fruits', ['Tomato'], ['Mango'], 'No_Fruits', ['Mango'], 'No_Fruits', 'No_Fruits', 'No_Fruits', 'No_Fruits', 'No_Fruits', 'No_Fruits', ['Tomato'], ['Tomato'], 'No_Fruits', 'No_Fruits', 'No_Fruits', ['Tomato'], ['Tomato', 'Papaya'], 'No_Fruits', 'No_Fruits', ['Mango'], 'No_Fruits', 'No_Fruits', 'No_Fruits', 'No_Fruits', 'No_Fruits', 'No_Fruits', ['Mango'], ['Jackfruit'], 'No_Fruits', 'No_Fruits', 'No_Fruits', 'No_Fruits', 'No_Fruits', 'No_Fruits', ['Mango', 'Tomato'], 'No_Fruits', 'No_Fruits', 'No_Fruits', ['Tomato'], 'No_Fruits', 'No_Fruits', ['Mango'], 'No_Fruits', 'No_Fruits', 'No_Fruits', 'No_Fruits', 'No_Fruits', 'No_Fruits', ['Mango'], ['Mango', 'Orange'], 'No_Fruits', 'No_Fruits', 'No_Fruits', ['Mango'], 'No_Fruits', 'No_Fruits', ['Tomato'], 'No_Fruits', 'No_Fruits', ['Mango'], 'No_Fruits', 'No_Fruits', 'No_Fruits', 'No_Fruits', 'No_Fruits', 'No_Fruits', ['Pineapple'], 'No_Fruits', ['Tomato'], 'No_Fruits', 'No_Fruits', ['Tomato'], 'No_Fruits', 'No_Fruits', ['Tomato'], 'No_Fruits', ['Mango'], 'No_Fruits', 'No_Fruits', 'No_Fruits', 'No_Fruits', ['Mango'], 'No_Fruits', 'No_Fruits', 'No_Fruits', 'No_Fruits', 'No_Fruits', 'No_Fruits', 'No_Fruits', ['Tomato'], ['Tomato'], 'No_Fruits', 'No_Fruits', 'No_Fruits', 'No_Fruits', 'No_Fruits', 'No_Fruits', 'No_Fruits', ['Tomato'], 'No_Fruits', ['Pineapple', 'Pomegranate'], 'No_Fruits', 'No_Fruits', ['Orange', 'Lime'], 'No_Fruits', ['Tomato'], ['Pomegranate'], ['Tomato'], 'No_Fruits', 'No_Fruits', ['Mango', 'Tomato'], 'No_Fruits', 'No_Fruits', ['Tomato'], 'No_Fruits', 'No_Fruits', ['Mango'], 'No_Fruits', 'No_Fruits', ['Tomato'], 'No_Fruits', 'No_Fruits', 'No_Fruits', 'No_Fruits', 'No_Fruits', 'No_Fruits', 'No_Fruits', 'No_Fruits', 'No_Fruits', ['Mango'], 'No_Fruits', 'No_Fruits', ['Jackfruit'], 'No_Fruits', 'No_Fruits', ['Mango'], ['Tomato'], 'No_Fruits', 'No_Fruits', 'No_Fruits', 'No_Fruits', 'No_Fruits', 'No_Fruits', 'No_Fruits', ['Tomato'], 'No_Fruits', 'No_Fruits', ['Tomato'], 'No_Fruits', 'No_Fruits', 'No_Fruits', 'No_Fruits', 'No_Fruits', 'No_Fruits', 'No_Fruits', ['Tomato'], 'No_Fruits', 'No_Fruits', 'No_Fruits', 'No_Fruits', ['Tomato'], 'No_Fruits', 'No_Fruits', ['Tomato'], 'No_Fruits', ['Pomegranate'], 'No_Fruits', ['Tomato'], 'No_Fruits', 'No_Fruits', 'No_Fruits', ['Tomato'], ['Tomato'], 'No_Fruits', 'No_Fruits', 'No_Fruits', 'No_Fruits', 'No_Fruits', 'No_Fruits', 'No_Fruits', 'No_Fruits', ['Tomato'], 'No_Fruits', 'No_Fruits', 'No_Fruits', 'No_Fruits', ['Tomato'], 'No_Fruits', 'No_Fruits', 'No_Fruits', 'No_Fruits', 'No_Fruits', 'No_Fruits', 'No_Fruits', 'No_Fruits', 'No_Fruits', 'No_Fruits', 'No_Fruits', ['Tomato'], 'No_Fruits', ['Cherry'], ['Tomato'], 'No_Fruits', 'No_Fruits', 'No_Fruits', 'No_Fruits', 'No_Fruits', ['Mango'], 'No_Fruits', 'No_Fruits', 'No_Fruits', 'No_Fruits', ['Jackfruit'], 'No_Fruits', 'No_Fruits', 'No_Fruits', 'No_Fruits', ['Banana'], 'No_Fruits', ['Kiwi'], ['Lime'], 'No_Fruits', 'No_Fruits', 'No_Fruits', 'No_Fruits', 'No_Fruits', ['Cherry'], 'No_Fruits', ['Mango'], 'No_Fruits', ['Mango'], 'No_Fruits', 'No_Fruits', 'No_Fruits', 'No_Fruits', 'No_Fruits', 'No_Fruits', 'No_Fruits', 'No_Fruits', ['Tomato'], 'No_Fruits', ['Tomato'], 'No_Fruits', ['Banana', 'Mango'], 'No_Fruits', 'No_Fruits', 'No_Fruits', 'No_Fruits', ['Jackfruit'], 'No_Fruits', ['Banana'], 'No_Fruits', ['Jackfruit'], 'No_Fruits', ['Tomato'], ['Tomato'], 'No_Fruits', ['Tomato'], 'No_Fruits', 'No_Fruits', 'No_Fruits', 'No_Fruits', 'No_Fruits', ['Tomato'], 'No_Fruits', 'No_Fruits', ['Tomato'], 'No_Fruits', 'No_Fruits', 'No_Fruits', 'No_Fruits', 'No_Fruits', ['Mango', 'Tomato'], 'No_Fruits', ['Orange'], 'No_Fruits', 'No_Fruits', ['Tomato'], 'No_Fruits', ['Banana'], ['Banana'], 'No_Fruits', 'No_Fruits', 'No_Fruits', ['Mango'], 'No_Fruits', 'No_Fruits', 'No_Fruits', 'No_Fruits', ['Tomato'], 'No_Fruits', ['Tomato'], 'No_Fruits', ['Banana'], 'No_Fruits', 'No_Fruits', 'No_Fruits', 'No_Fruits', 'No_Fruits', ['Tomato'], 'No_Fruits', 'No_Fruits', 'No_Fruits', ['Tomato'], 'No_Fruits', 'No_Fruits', ['Tomato'], 'No_Fruits', 'No_Fruits', ['Tomato'], 'No_Fruits', 'No_Fruits', 'No_Fruits', ['Tomato'], 'No_Fruits', ['Tomato'], ['Mango'], 'No_Fruits', 'No_Fruits', ['Tomato'], 'No_Fruits', 'No_Fruits', 'No_Fruits', 'No_Fruits', 'No_Fruits', ['Mango'], ['Apple'], 'No_Fruits', 'No_Fruits', ['Tomato'], 'No_Fruits', 'No_Fruits', 'No_Fruits', 'No_Fruits', 'No_Fruits', 'No_Fruits', ['Mango'], 'No_Fruits', 'No_Fruits', 'No_Fruits', 'No_Fruits', 'No_Fruits', 'No_Fruits', ['Jackfruit'], 'No_Fruits', 'No_Fruits', 'No_Fruits', ['Mango'], ['Mango'], ['Pomegranate'], ['Tomato'], ['Tomato'], 'No_Fruits', ['Mango'], 'No_Fruits', 'No_Fruits', 'No_Fruits', 'No_Fruits', 'No_Fruits', 'No_Fruits', 'No_Fruits', 'No_Fruits', ['Tomato'], ['Mango'], 'No_Fruits', 'No_Fruits', 'No_Fruits', 'No_Fruits', ['Pomegranate'], ['Jackfruit'], 'No_Fruits', 'No_Fruits', 'No_Fruits', ['Pineapple'], ['Melon'], 'No_Fruits', 'No_Fruits', ['Pineapple'], ['Tomato'], ['Melon', 'Tomato', 'Pomegranate'], 'No_Fruits', ['Mango'], 'No_Fruits', 'No_Fruits', ['Pineapple'], 'No_Fruits', ['Mango'], 'No_Fruits', 'No_Fruits', 'No_Fruits', 'No_Fruits', 'No_Fruits', ['Tomato'], 'No_Fruits', 'No_Fruits', 'No_Fruits', 'No_Fruits', ['Mango'], ['Jackfruit'], 'No_Fruits', ['Mango'], 'No_Fruits', ['Tomato'], 'No_Fruits', ['Tomato'], 'No_Fruits', 'No_Fruits', ['Banana'], ['Cherry'], 'No_Fruits', ['Tomato'], ['Tomato'], 'No_Fruits', 'No_Fruits', 'No_Fruits', ['Tomato'], 'No_Fruits', 'No_Fruits', 'No_Fruits', 'No_Fruits', 'No_Fruits', 'No_Fruits', 'No_Fruits', 'No_Fruits', ['Tomato'], 'No_Fruits', 'No_Fruits', 'No_Fruits', 'No_Fruits', 'No_Fruits', ['Tomato'], ['Tomato'], 'No_Fruits', 'No_Fruits', 'No_Fruits', 'No_Fruits', ['Tomato'], 'No_Fruits', 'No_Fruits', 'No_Fruits', 'No_Fruits', ['Tomato'], ['Orange'], 'No_Fruits', ['Tomato'], 'No_Fruits', 'No_Fruits', 'No_Fruits', ['Tomato'], 'No_Fruits', 'No_Fruits', ['Tomato'], 'No_Fruits', 'No_Fruits', 'No_Fruits', 'No_Fruits', 'No_Fruits', 'No_Fruits', 'No_Fruits', ['Mango'], 'No_Fruits', 'No_Fruits', ['Tomato'], 'No_Fruits', 'No_Fruits', 'No_Fruits', 'No_Fruits', 'No_Fruits', 'No_Fruits', ['Tomato'], 'No_Fruits', 'No_Fruits', ['Mango'], 'No_Fruits', 'No_Fruits', 'No_Fruits', 'No_Fruits', ['Banana'], 'No_Fruits', 'No_Fruits', 'No_Fruits', 'No_Fruits', 'No_Fruits', 'No_Fruits', ['Tomato'], 'No_Fruits', 'No_Fruits', 'No_Fruits', 'No_Fruits', ['Strawberry', 'Pomegranate', 'Apple', 'Orange'], 'No_Fruits', 'No_Fruits', ['Mango'], 'No_Fruits', ['Pineapple'], 'No_Fruits', 'No_Fruits', ['Tomato'], 'No_Fruits', 'No_Fruits', ['Mango'], 'No_Fruits', ['Tomato'], 'No_Fruits', 'No_Fruits', 'No_Fruits', 'No_Fruits', 'No_Fruits', ['Pineapple'], ['Tomato'], 'No_Fruits', 'No_Fruits', 'No_Fruits', 'No_Fruits', ['Banana'], 'No_Fruits', 'No_Fruits', 'No_Fruits', 'No_Fruits', 'No_Fruits', 'No_Fruits', 'No_Fruits', 'No_Fruits', 'No_Fruits', ['Tomato'], ['Mango'], ['Tomato'], ['Mango', 'Pineapple'], ['Orange'], 'No_Fruits', ['Mango'], ['Mango'], 'No_Fruits', 'No_Fruits', ['Mango'], 'No_Fruits', 'No_Fruits', ['Tomato'], 'No_Fruits', 'No_Fruits', 'No_Fruits', 'No_Fruits', 'No_Fruits', 'No_Fruits', 'No_Fruits', 'No_Fruits', ['Tomato'], 'No_Fruits', ['Tomato'], 'No_Fruits', ['Mango'], 'No_Fruits', ['Tomato'], ['Mango'], 'No_Fruits', 'No_Fruits', ['Mango'], ['Mango'], 'No_Fruits', 'No_Fruits', 'No_Fruits', 'No_Fruits', 'No_Fruits', 'No_Fruits', 'No_Fruits', ['Tomato'], 'No_Fruits', ['Pineapple', 'Mango'], 'No_Fruits', 'No_Fruits', 'No_Fruits', ['Papaya'], 'No_Fruits', ['Mango'], 'No_Fruits', 'No_Fruits', 'No_Fruits', 'No_Fruits', 'No_Fruits', 'No_Fruits', 'No_Fruits', 'No_Fruits', 'No_Fruits', 'No_Fruits', 'No_Fruits', 'No_Fruits', 'No_Fruits', 'No_Fruits', 'No_Fruits', 'No_Fruits', 'No_Fruits', 'No_Fruits', 'No_Fruits', ['Tomato'], ['Tomato'], ['Tomato', 'Mango'], 'No_Fruits', ['Tomato'], ['Tomato'], 'No_Fruits', 'No_Fruits', ['Mango'], 'No_Fruits', 'No_Fruits', 'No_Fruits', 'No_Fruits', 'No_Fruits', 'No_Fruits', ['Tomato'], 'No_Fruits', 'No_Fruits', 'No_Fruits', ['Tomato'], ['Mango'], ['Papaya'], 'No_Fruits', 'No_Fruits', 'No_Fruits', 'No_Fruits', ['Mango'], ['Tomato'], 'No_Fruits', 'No_Fruits', ['Tomato'], 'No_Fruits', 'No_Fruits', ['Tomato'], 'No_Fruits', 'No_Fruits', 'No_Fruits', ['Tomato'], 'No_Fruits', ['Mango'], 'No_Fruits', ['Tomato'], 'No_Fruits', 'No_Fruits', 'No_Fruits', 'No_Fruits', 'No_Fruits', 'No_Fruits', 'No_Fruits', 'No_Fruits', 'No_Fruits', 'No_Fruits', ['Tomato'], ['Tomato'], ['Kiwi'], 'No_Fruits', 'No_Fruits', ['Tomato'], ['Tomato'], 'No_Fruits', 'No_Fruits', 'No_Fruits', 'No_Fruits', 'No_Fruits', ['Tomato'], 'No_Fruits', 'No_Fruits', 'No_Fruits', ['Tomato'], 'No_Fruits', 'No_Fruits', ['Banana', 'Tomato'], 'No_Fruits', 'No_Fruits', 'No_Fruits', 'No_Fruits', 'No_Fruits', 'No_Fruits', 'No_Fruits', 'No_Fruits', ['Banana'], 'No_Fruits', ['Tomato'], ['Jackfruit'], 'No_Fruits', 'No_Fruits', 'No_Fruits', 'No_Fruits', 'No_Fruits', 'No_Fruits', ['Tomato'], 'No_Fruits', ['Tomato'], ['Tomato'], ['Tomato'], 'No_Fruits', 'No_Fruits', 'No_Fruits', ['Tomato'], 'No_Fruits', 'No_Fruits', 'No_Fruits', 'No_Fruits', 'No_Fruits', ['Mango'], 'No_Fruits', 'No_Fruits', 'No_Fruits', ['Tomato'], ['Apple', 'Tomato', 'Mango'], 'No_Fruits', 'No_Fruits', ['Tomato'], 'No_Fruits', 'No_Fruits', 'No_Fruits', 'No_Fruits', 'No_Fruits', ['Papaya'], 'No_Fruits', 'No_Fruits', 'No_Fruits', 'No_Fruits', ['Mango'], 'No_Fruits', ['Tomato'], 'No_Fruits', 'No_Fruits', 'No_Fruits', 'No_Fruits', ['Cherry'], ['Tomato', 'Mango'], ['Tomato'], 'No_Fruits', 'No_Fruits', ['Tomato'], 'No_Fruits', 'No_Fruits', 'No_Fruits', ['Apple'], ['Tomato'], ['Papaya', 'Apple'], 'No_Fruits', 'No_Fruits', 'No_Fruits', 'No_Fruits', 'No_Fruits', 'No_Fruits', 'No_Fruits', 'No_Fruits', 'No_Fruits', ['Lime'], ['Tomato'], 'No_Fruits', ['Tomato'], 'No_Fruits', 'No_Fruits', 'No_Fruits', 'No_Fruits', ['Pineapple'], 'No_Fruits', ['Tomato'], 'No_Fruits', ['Jackfruit'], 'No_Fruits', 'No_Fruits', 'No_Fruits', 'No_Fruits', 'No_Fruits', 'No_Fruits', 'No_Fruits', 'No_Fruits', 'No_Fruits', 'No_Fruits', 'No_Fruits', ['Tomato'], 'No_Fruits', 'No_Fruits', ['Tomato'], ['Banana'], 'No_Fruits', 'No_Fruits', ['Tomato'], 'No_Fruits', 'No_Fruits', ['Pomegranate'], 'No_Fruits', 'No_Fruits', 'No_Fruits', 'No_Fruits', 'No_Fruits', ['Apple', 'Orange'], 'No_Fruits', ['Tomato'], 'No_Fruits', 'No_Fruits', 'No_Fruits', 'No_Fruits', 'No_Fruits', 'No_Fruits', 'No_Fruits', 'No_Fruits', 'No_Fruits', ['Tomato'], 'No_Fruits', 'No_Fruits', 'No_Fruits', 'No_Fruits', 'No_Fruits', 'No_Fruits', 'No_Fruits', 'No_Fruits', 'No_Fruits', ['Banana', 'Tomato'], ['Mango'], 'No_Fruits', 'No_Fruits', 'No_Fruits', ['Tomato'], ['Tomato'], ['Papaya'], ['Melon'], 'No_Fruits', 'No_Fruits', 'No_Fruits', ['Mango'], 'No_Fruits', 'No_Fruits', 'No_Fruits', 'No_Fruits', 'No_Fruits', 'No_Fruits', ['Tomato'], 'No_Fruits', ['Tomato'], 'No_Fruits', 'No_Fruits', 'No_Fruits', 'No_Fruits', 'No_Fruits', 'No_Fruits', 'No_Fruits', 'No_Fruits', 'No_Fruits', 'No_Fruits', 'No_Fruits', 'No_Fruits', 'No_Fruits', 'No_Fruits', 'No_Fruits', ['Tomato'], ['Tomato'], ['Tomato'], 'No_Fruits', 'No_Fruits', 'No_Fruits', 'No_Fruits', 'No_Fruits', 'No_Fruits', 'No_Fruits', 'No_Fruits', 'No_Fruits', 'No_Fruits', 'No_Fruits', ['Tomato'], ['Tomato'], 'No_Fruits', ['Mango'], ['Tomato'], ['Tomato'], ['Tomato'], 'No_Fruits', 'No_Fruits', 'No_Fruits', 'No_Fruits', 'No_Fruits', 'No_Fruits', 'No_Fruits', 'No_Fruits', 'No_Fruits', 'No_Fruits', ['Mango'], ['Tomato'], 'No_Fruits', 'No_Fruits', ['Pomegranate'], 'No_Fruits', ['Pomegranate', 'Tomato', 'Mango'], 'No_Fruits', ['Tomato', 'Apple'], ['Tomato'], ['Mango', 'Tomato'], 'No_Fruits', 'No_Fruits', 'No_Fruits', 'No_Fruits', 'No_Fruits', ['Banana'], 'No_Fruits', 'No_Fruits', ['Tomato'], 'No_Fruits', 'No_Fruits', ['Tomato'], 'No_Fruits', 'No_Fruits', 'No_Fruits', 'No_Fruits', 'No_Fruits', ['Plum'], ['Tomato'], 'No_Fruits', ['Tomato'], 'No_Fruits', ['Cherry', 'Apple'], ['Orange'], 'No_Fruits', 'No_Fruits', 'No_Fruits', 'No_Fruits', ['Mango'], 'No_Fruits', ['Mango'], ['Mango'], 'No_Fruits', ['Cherry'], ['Lime'], ['Banana'], 'No_Fruits', 'No_Fruits', ['Tomato'], 'No_Fruits', 'No_Fruits', 'No_Fruits', ['Mango'], 'No_Fruits', ['Mango'], 'No_Fruits', ['Tomato'], 'No_Fruits', 'No_Fruits', 'No_Fruits', 'No_Fruits', ['Mango'], 'No_Fruits', 'No_Fruits', ['Tomato'], 'No_Fruits', 'No_Fruits', ['Mango'], 'No_Fruits', ['Tomato'], 'No_Fruits', ['Mango'], 'No_Fruits', ['Banana'], 'No_Fruits', ['Pomegranate'], 'No_Fruits', 'No_Fruits', ['Tomato'], 'No_Fruits', 'No_Fruits', 'No_Fruits', 'No_Fruits', 'No_Fruits', 'No_Fruits', 'No_Fruits', ['Watermelon', 'Tomato'], 'No_Fruits', 'No_Fruits', 'No_Fruits', ['Apple'], ['Tomato'], ['Lime'], ['Cherry'], ['Tomato'], ['Melon'], ['Tomato'], 'No_Fruits', 'No_Fruits', ['Tomato'], 'No_Fruits', 'No_Fruits', ['Tomato'], 'No_Fruits', 'No_Fruits', 'No_Fruits', ['Tomato'], ['Tomato'], ['Tomato'], 'No_Fruits', 'No_Fruits', 'No_Fruits', 'No_Fruits', 'No_Fruits', 'No_Fruits', 'No_Fruits', 'No_Fruits', 'No_Fruits', 'No_Fruits', 'No_Fruits', 'No_Fruits', 'No_Fruits', 'No_Fruits', 'No_Fruits', 'No_Fruits', 'No_Fruits', 'No_Fruits', 'No_Fruits', 'No_Fruits', ['Tomato'], 'No_Fruits', 'No_Fruits', 'No_Fruits', 'No_Fruits', 'No_Fruits', 'No_Fruits', 'No_Fruits', 'No_Fruits', ['Cherry'], 'No_Fruits', 'No_Fruits', 'No_Fruits', 'No_Fruits', 'No_Fruits', ['Tomato'], 'No_Fruits', ['Mango', 'Tomato'], 'No_Fruits', ['Tomato'], 'No_Fruits', 'No_Fruits', 'No_Fruits', 'No_Fruits', 'No_Fruits', 'No_Fruits', ['Tomato'], 'No_Fruits', ['Tomato'], 'No_Fruits', ['Mango'], 'No_Fruits', ['Tomato'], ['Tomato'], ['Tomato'], ['Tomato'], 'No_Fruits', 'No_Fruits', 'No_Fruits', ['Plum'], 'No_Fruits', 'No_Fruits', 'No_Fruits', 'No_Fruits', ['Tomato'], 'No_Fruits', ['Tomato'], 'No_Fruits', 'No_Fruits', 'No_Fruits', 'No_Fruits', 'No_Fruits', ['Jackfruit', 'Mango'], ['Papaya'], 'No_Fruits', 'No_Fruits', 'No_Fruits', 'No_Fruits', 'No_Fruits', 'No_Fruits', ['Mango'], 'No_Fruits', 'No_Fruits', 'No_Fruits', 'No_Fruits', 'No_Fruits', 'No_Fruits', 'No_Fruits', 'No_Fruits', 'No_Fruits', 'No_Fruits', 'No_Fruits', 'No_Fruits', 'No_Fruits', 'No_Fruits', ['Tomato'], 'No_Fruits', 'No_Fruits', ['Tomato', 'Pomegranate'], 'No_Fruits', 'No_Fruits', 'No_Fruits', ['Tomato'], 'No_Fruits', 'No_Fruits', ['Tomato'], ['Cherry'], 'No_Fruits', ['Tomato', 'Mango', 'Pomegranate'], ['Tomato'], 'No_Fruits', ['Tomato'], 'No_Fruits', 'No_Fruits', 'No_Fruits', 'No_Fruits', 'No_Fruits', 'No_Fruits', 'No_Fruits', ['Tomato'], ['Tomato'], 'No_Fruits', ['Tomato'], 'No_Fruits', ['Tomato'], 'No_Fruits', 'No_Fruits', 'No_Fruits', 'No_Fruits', 'No_Fruits', 'No_Fruits', 'No_Fruits', 'No_Fruits', 'No_Fruits', 'No_Fruits', 'No_Fruits', 'No_Fruits', 'No_Fruits', 'No_Fruits', ['Orange'], 'No_Fruits', 'No_Fruits', 'No_Fruits', 'No_Fruits', ['Tomato'], ['Papaya'], 'No_Fruits', 'No_Fruits', 'No_Fruits', 'No_Fruits', 'No_Fruits', 'No_Fruits', 'No_Fruits', 'No_Fruits', ['Jackfruit'], ['Tomato'], 'No_Fruits', ['Tomato'], 'No_Fruits', 'No_Fruits', ['Tomato'], 'No_Fruits', 'No_Fruits', ['Mango'], 'No_Fruits', ['Tomato'], 'No_Fruits', 'No_Fruits', 'No_Fruits', 'No_Fruits', 'No_Fruits', 'No_Fruits', 'No_Fruits', ['Mango'], ['Tomato'], ['Tomato'], 'No_Fruits', ['Tomato'], 'No_Fruits', ['Banana'], 'No_Fruits', 'No_Fruits', 'No_Fruits', 'No_Fruits', 'No_Fruits', ['Tomato'], ['Banana'], ['Tomato'], 'No_Fruits', 'No_Fruits', 'No_Fruits', 'No_Fruits', 'No_Fruits', 'No_Fruits', 'No_Fruits', 'No_Fruits', 'No_Fruits', 'No_Fruits', 'No_Fruits', ['Avocado'], 'No_Fruits', 'No_Fruits', 'No_Fruits', ['Mango'], ['Tomato'], 'No_Fruits', 'No_Fruits', 'No_Fruits', 'No_Fruits', ['Tomato'], 'No_Fruits', ['Tomato'], ['Mango'], ['Tomato'], 'No_Fruits', ['Tomato'], 'No_Fruits', 'No_Fruits', ['Tomato'], 'No_Fruits', ['Tomato'], ['Tomato'], 'No_Fruits', 'No_Fruits', 'No_Fruits', 'No_Fruits', 'No_Fruits', 'No_Fruits', ['Tomato'], 'No_Fruits', ['Pomegranate'], 'No_Fruits', ['Pineapple'], ['Mango'], 'No_Fruits', ['Tomato'], 'No_Fruits', 'No_Fruits', 'No_Fruits', 'No_Fruits', ['Mango'], 'No_Fruits', 'No_Fruits', 'No_Fruits', ['Tomato'], 'No_Fruits', ['Mango'], 'No_Fruits', 'No_Fruits', ['Tomato'], ['Pineapple'], 'No_Fruits', 'No_Fruits', 'No_Fruits', 'No_Fruits', ['Pineapple'], 'No_Fruits', 'No_Fruits', 'No_Fruits', 'No_Fruits', 'No_Fruits', ['Tomato'], 'No_Fruits', ['Mango'], 'No_Fruits', 'No_Fruits', 'No_Fruits', ['Tomato'], 'No_Fruits', 'No_Fruits', 'No_Fruits', 'No_Fruits', 'No_Fruits', ['Tomato'], 'No_Fruits', 'No_Fruits', 'No_Fruits', 'No_Fruits', 'No_Fruits', 'No_Fruits', 'No_Fruits', 'No_Fruits', 'No_Fruits', 'No_Fruits', ['Tomato'], 'No_Fruits', 'No_Fruits', ['Mango'], ['Tomato'], 'No_Fruits', 'No_Fruits', 'No_Fruits', ['Mango'], 'No_Fruits', 'No_Fruits', 'No_Fruits', 'No_Fruits', 'No_Fruits', 'No_Fruits', 'No_Fruits', ['Mango'], 'No_Fruits', 'No_Fruits', 'No_Fruits', 'No_Fruits', 'No_Fruits', 'No_Fruits', 'No_Fruits', 'No_Fruits', 'No_Fruits', ['Tomato'], 'No_Fruits', 'No_Fruits', 'No_Fruits', 'No_Fruits', 'No_Fruits', 'No_Fruits', 'No_Fruits', ['Tomato'], ['Tomato'], 'No_Fruits', 'No_Fruits', 'No_Fruits', 'No_Fruits', ['Tomato', 'Pomegranate'], 'No_Fruits', 'No_Fruits', 'No_Fruits', ['Tomato'], ['Mango'], 'No_Fruits', ['Jackfruit'], 'No_Fruits', ['Pineapple'], 'No_Fruits', 'No_Fruits', 'No_Fruits', 'No_Fruits', 'No_Fruits', ['Tomato'], ['Tomato'], 'No_Fruits', 'No_Fruits', 'No_Fruits', 'No_Fruits', 'No_Fruits', ['Pomegranate'], ['Mango'], 'No_Fruits', 'No_Fruits', ['Tomato'], 'No_Fruits', 'No_Fruits', 'No_Fruits', 'No_Fruits', 'No_Fruits', ['Mango'], ['Mango'], ['Jackfruit'], ['Tomato'], 'No_Fruits', 'No_Fruits', ['Tomato'], 'No_Fruits', 'No_Fruits', 'No_Fruits', ['Tomato', 'Mango'], 'No_Fruits', 'No_Fruits', 'No_Fruits', 'No_Fruits', 'No_Fruits', 'No_Fruits', 'No_Fruits', 'No_Fruits', 'No_Fruits', ['Tomato'], 'No_Fruits', ['Mango'], ['Mango'], 'No_Fruits', ['Banana'], 'No_Fruits', 'No_Fruits', 'No_Fruits', 'No_Fruits', ['Tomato'], 'No_Fruits', 'No_Fruits', 'No_Fruits', ['Papaya', 'Mango'], 'No_Fruits', 'No_Fruits', 'No_Fruits', 'No_Fruits', 'No_Fruits', ['Papaya'], ['Tomato', 'Mango', 'Pomegranate'], 'No_Fruits', 'No_Fruits', 'No_Fruits', 'No_Fruits', ['Papaya'], 'No_Fruits', 'No_Fruits', ['Watermelon'], 'No_Fruits', 'No_Fruits', 'No_Fruits', 'No_Fruits', ['Jackfruit'], ['Tomato'], ['Orange', 'Melon'], 'No_Fruits', ['Tomato'], 'No_Fruits', 'No_Fruits', ['Mango', 'Tomato'], ['Papaya', 'Tomato'], ['Jackfruit'], ['Mango'], ['Pomegranate'], 'No_Fruits', 'No_Fruits', 'No_Fruits', 'No_Fruits', 'No_Fruits', 'No_Fruits', ['Tomato'], 'No_Fruits', 'No_Fruits', 'No_Fruits', ['Tomato'], ['Tomato', 'Mango'], 'No_Fruits', 'No_Fruits', 'No_Fruits', 'No_Fruits', 'No_Fruits', 'No_Fruits', 'No_Fruits', ['Mango'], 'No_Fruits', 'No_Fruits', 'No_Fruits', ['Mango'], ['Apple', 'Orange', 'Grape'], ['Cherry'], 'No_Fruits', 'No_Fruits', ['Tomato'], 'No_Fruits', 'No_Fruits', 'No_Fruits', 'No_Fruits', ['Tomato'], 'No_Fruits', 'No_Fruits', 'No_Fruits', 'No_Fruits', 'No_Fruits', 'No_Fruits', ['Tomato'], 'No_Fruits', 'No_Fruits', 'No_Fruits', 'No_Fruits', ['Tomato'], 'No_Fruits', 'No_Fruits', 'No_Fruits', ['Tomato'], 'No_Fruits', 'No_Fruits', 'No_Fruits', 'No_Fruits', ['Tomato'], 'No_Fruits', ['Cherry'], ['Apple', 'Kiwi', 'Pineapple'], 'No_Fruits', 'No_Fruits', 'No_Fruits', 'No_Fruits', 'No_Fruits', 'No_Fruits', 'No_Fruits', 'No_Fruits', 'No_Fruits', 'No_Fruits', 'No_Fruits', ['Tomato'], 'No_Fruits', 'No_Fruits', 'No_Fruits', ['Tomato'], 'No_Fruits', 'No_Fruits', 'No_Fruits', ['Tomato'], 'No_Fruits', 'No_Fruits', 'No_Fruits', ['Mango'], 'No_Fruits', ['Orange'], 'No_Fruits', 'No_Fruits', 'No_Fruits', 'No_Fruits', 'No_Fruits', 'No_Fruits', 'No_Fruits', ['Mango'], 'No_Fruits', 'No_Fruits', ['Pineapple'], 'No_Fruits', 'No_Fruits', 'No_Fruits', 'No_Fruits', 'No_Fruits', 'No_Fruits', 'No_Fruits', 'No_Fruits', 'No_Fruits', ['Avocado'], 'No_Fruits', 'No_Fruits', 'No_Fruits', ['Tomato'], 'No_Fruits', 'No_Fruits', 'No_Fruits', ['Tomato'], ['Tomato'], 'No_Fruits', ['Tomato'], 'No_Fruits', ['Cherry'], 'No_Fruits', ['Tomato'], 'No_Fruits', ['Cherry'], 'No_Fruits', 'No_Fruits', ['Tomato', 'Apple', 'Avocado'], 'No_Fruits', 'No_Fruits', ['Tomato'], ['Tomato'], ['Tomato'], 'No_Fruits', 'No_Fruits', 'No_Fruits', 'No_Fruits', 'No_Fruits', 'No_Fruits', 'No_Fruits', 'No_Fruits', 'No_Fruits', 'No_Fruits', 'No_Fruits', 'No_Fruits', 'No_Fruits', 'No_Fruits', 'No_Fruits', 'No_Fruits', 'No_Fruits', ['Mango'], 'No_Fruits', ['Mango'], ['Tomato'], ['Tomato'], 'No_Fruits', 'No_Fruits', 'No_Fruits', 'No_Fruits', 'No_Fruits', 'No_Fruits', 'No_Fruits', 'No_Fruits', 'No_Fruits', 'No_Fruits', 'No_Fruits', 'No_Fruits', 'No_Fruits', 'No_Fruits', 'No_Fruits', ['Avocado'], 'No_Fruits', 'No_Fruits', 'No_Fruits', 'No_Fruits', 'No_Fruits', ['Tomato'], 'No_Fruits', 'No_Fruits', 'No_Fruits', 'No_Fruits', ['Pomegranate', 'Tomato'], 'No_Fruits', 'No_Fruits', ['Tomato'], ['Tomato'], ['Tomato'], 'No_Fruits', ['Tomato'], 'No_Fruits', 'No_Fruits', ['Jackfruit'], ['Tomato'], 'No_Fruits', 'No_Fruits', 'No_Fruits', 'No_Fruits', ['Tomato'], ['Tomato'], 'No_Fruits', 'No_Fruits', ['Banana', 'Mango'], 'No_Fruits', 'No_Fruits', 'No_Fruits', 'No_Fruits', 'No_Fruits', 'No_Fruits', ['Orange', 'Melon'], 'No_Fruits', 'No_Fruits', ['Tomato'], 'No_Fruits', 'No_Fruits', 'No_Fruits', 'No_Fruits', 'No_Fruits', 'No_Fruits', 'No_Fruits', 'No_Fruits', 'No_Fruits', 'No_Fruits', 'No_Fruits', ['Banana'], 'No_Fruits', 'No_Fruits', 'No_Fruits', 'No_Fruits', 'No_Fruits', 'No_Fruits', 'No_Fruits', 'No_Fruits', 'No_Fruits', 'No_Fruits', 'No_Fruits', 'No_Fruits', 'No_Fruits', ['Tomato'], 'No_Fruits', 'No_Fruits', ['Tomato', 'Mango'], 'No_Fruits', 'No_Fruits', 'No_Fruits', 'No_Fruits', ['Tomato'], ['Tomato'], 'No_Fruits', ['Pineapple'], 'No_Fruits', 'No_Fruits', ['Tomato'], 'No_Fruits', 'No_Fruits', 'No_Fruits', 'No_Fruits', 'No_Fruits', 'No_Fruits', 'No_Fruits', 'No_Fruits', ['Mango'], 'No_Fruits', ['Mango'], 'No_Fruits', 'No_Fruits', 'No_Fruits', 'No_Fruits', ['Pineapple'], ['Tomato'], 'No_Fruits', 'No_Fruits', ['Melon'], 'No_Fruits', ['Tomato'], 'No_Fruits', ['Tomato'], 'No_Fruits', 'No_Fruits', 'No_Fruits', 'No_Fruits', 'No_Fruits', 'No_Fruits', ['Tomato'], 'No_Fruits', ['Tomato', 'Mango'], 'No_Fruits', ['Tomato'], 'No_Fruits', 'No_Fruits', ['Tomato'], ['Mango'], 'No_Fruits', 'No_Fruits', 'No_Fruits', 'No_Fruits', 'No_Fruits', ['Tomato'], ['Mango'], 'No_Fruits', 'No_Fruits', 'No_Fruits', ['Tomato', 'Pomegranate'], ['Tomato'], 'No_Fruits', ['Mango'], 'No_Fruits', 'No_Fruits', 'No_Fruits', ['Mango'], 'No_Fruits', ['Tomato'], 'No_Fruits', 'No_Fruits', 'No_Fruits', ['Mango'], 'No_Fruits', 'No_Fruits', 'No_Fruits', ['Sapota'], 'No_Fruits', ['Tomato'], ['Papaya'], ['Tomato', 'Aam', 'Mango'], 'No_Fruits', ['Tomato'], ['Tomato'], ['Mango'], 'No_Fruits', 'No_Fruits', 'No_Fruits', 'No_Fruits', 'No_Fruits', ['Tomato'], 'No_Fruits', 'No_Fruits', ['Tomato'], 'No_Fruits', 'No_Fruits', ['Tomato'], 'No_Fruits', 'No_Fruits', 'No_Fruits', 'No_Fruits', 'No_Fruits', ['Tomato'], 'No_Fruits', 'No_Fruits', ['Banana'], 'No_Fruits', 'No_Fruits', ['Pomegranate'], 'No_Fruits', ['Tomato'], 'No_Fruits', ['Tomato'], ['Mango'], 'No_Fruits', 'No_Fruits', 'No_Fruits', 'No_Fruits', 'No_Fruits', 'No_Fruits', 'No_Fruits', 'No_Fruits', 'No_Fruits', ['Tomato'], 'No_Fruits', ['Banana'], ['Tomato'], 'No_Fruits', 'No_Fruits', 'No_Fruits', 'No_Fruits', ['Tomato'], 'No_Fruits', 'No_Fruits', 'No_Fruits', 'No_Fruits', 'No_Fruits', 'No_Fruits', 'No_Fruits', 'No_Fruits', 'No_Fruits', 'No_Fruits', ['Mango'], 'No_Fruits', ['Mango', 'Tomato'], 'No_Fruits', ['Watermelon'], ['Tomato'], 'No_Fruits', 'No_Fruits', ['Banana'], 'No_Fruits', 'No_Fruits', 'No_Fruits', 'No_Fruits', 'No_Fruits', 'No_Fruits', 'No_Fruits', ['Banana'], 'No_Fruits', 'No_Fruits', ['Tomato'], 'No_Fruits', ['Tomato'], 'No_Fruits', ['Pomegranate'], 'No_Fruits', ['Tomato'], ['Tomato'], ['Tomato'], 'No_Fruits', 'No_Fruits', 'No_Fruits', ['Mango'], 'No_Fruits', 'No_Fruits', ['Tomato'], 'No_Fruits', 'No_Fruits', ['Banana'], 'No_Fruits', 'No_Fruits', 'No_Fruits', 'No_Fruits', ['Tomato'], 'No_Fruits', ['Tomato'], 'No_Fruits', 'No_Fruits', ['Banana'], 'No_Fruits', ['Tomato'], 'No_Fruits', 'No_Fruits', 'No_Fruits', 'No_Fruits', ['Tomato'], 'No_Fruits', 'No_Fruits', 'No_Fruits', ['Tomato'], ['Banana'], 'No_Fruits', 'No_Fruits', ['Banana'], 'No_Fruits', 'No_Fruits', ['Pineapple'], 'No_Fruits', 'No_Fruits', ['Mango'], 'No_Fruits', ['Tomato', 'Mango'], ['Mango'], 'No_Fruits', 'No_Fruits', 'No_Fruits', 'No_Fruits', 'No_Fruits', 'No_Fruits', 'No_Fruits', 'No_Fruits', 'No_Fruits', 'No_Fruits', 'No_Fruits', ['Tomato'], 'No_Fruits', 'No_Fruits', 'No_Fruits', 'No_Fruits', ['Tomato'], 'No_Fruits', ['Tomato'], 'No_Fruits', 'No_Fruits', 'No_Fruits', 'No_Fruits', ['Tomato'], ['Pomegranate'], 'No_Fruits', 'No_Fruits', ['Tomato'], 'No_Fruits', 'No_Fruits', ['Mango'], ['Banana', 'Mango'], 'No_Fruits', 'No_Fruits', 'No_Fruits', ['Tomato'], 'No_Fruits', 'No_Fruits', 'No_Fruits', 'No_Fruits', 'No_Fruits', 'No_Fruits', 'No_Fruits', 'No_Fruits', ['Mango'], 'No_Fruits', ['Tomato'], ['Tomato'], ['Tomato'], 'No_Fruits', 'No_Fruits', ['Tomato'], 'No_Fruits', 'No_Fruits', 'No_Fruits', 'No_Fruits', ['Banana'], 'No_Fruits', 'No_Fruits', 'No_Fruits', 'No_Fruits', ['Tomato'], 'No_Fruits', 'No_Fruits', ['Orange'], 'No_Fruits', 'No_Fruits', 'No_Fruits', 'No_Fruits', ['Tomato'], 'No_Fruits', ['Mango'], ['Banana'], 'No_Fruits', ['Banana'], 'No_Fruits', 'No_Fruits', 'No_Fruits', 'No_Fruits', ['Jackfruit'], 'No_Fruits', ['Tomato'], 'No_Fruits', 'No_Fruits', 'No_Fruits', 'No_Fruits', 'No_Fruits', 'No_Fruits', 'No_Fruits', 'No_Fruits', 'No_Fruits', 'No_Fruits', ['Tomato'], 'No_Fruits', 'No_Fruits', 'No_Fruits', 'No_Fruits', 'No_Fruits', 'No_Fruits', 'No_Fruits', 'No_Fruits', ['Mango'], 'No_Fruits', ['Tomato'], ['Grape'], ['Banana'], ['Tomato'], 'No_Fruits', 'No_Fruits', 'No_Fruits', 'No_Fruits', 'No_Fruits', 'No_Fruits', ['Tomato'], ['Tomato'], 'No_Fruits', ['Banana'], 'No_Fruits', 'No_Fruits', 'No_Fruits', ['Mango'], 'No_Fruits', 'No_Fruits', 'No_Fruits', 'No_Fruits', 'No_Fruits', 'No_Fruits', 'No_Fruits', ['Tomato'], 'No_Fruits', 'No_Fruits', 'No_Fruits', 'No_Fruits', 'No_Fruits', ['Mango'], ['Mango'], 'No_Fruits', ['Tomato'], ['Mango'], 'No_Fruits', 'No_Fruits', ['Apple', 'Orange', 'Pomegranate'], 'No_Fruits', 'No_Fruits', 'No_Fruits', 'No_Fruits', ['Tomato'], 'No_Fruits', 'No_Fruits', ['Tomato'], 'No_Fruits', ['Tomato'], 'No_Fruits', 'No_Fruits', ['Plum'], 'No_Fruits', ['Tomato'], ['Tomato'], 'No_Fruits', 'No_Fruits', 'No_Fruits', ['Tomato'], 'No_Fruits', 'No_Fruits', 'No_Fruits', 'No_Fruits', 'No_Fruits', 'No_Fruits', 'No_Fruits', 'No_Fruits', ['Mango'], 'No_Fruits', 'No_Fruits', 'No_Fruits', 'No_Fruits', 'No_Fruits', 'No_Fruits', 'No_Fruits', 'No_Fruits', 'No_Fruits', ['Tomato'], 'No_Fruits', 'No_Fruits', 'No_Fruits', 'No_Fruits', 'No_Fruits', 'No_Fruits', 'No_Fruits', 'No_Fruits', 'No_Fruits', ['Mango'], ['Tomato'], ['Tomato'], 'No_Fruits', ['Tomato'], ['Pomegranate'], 'No_Fruits', 'No_Fruits', 'No_Fruits', ['Banana'], 'No_Fruits', ['Mango'], ['Mango'], 'No_Fruits', 'No_Fruits', 'No_Fruits', 'No_Fruits', ['Tomato'], ['Watermelon'], 'No_Fruits', 'No_Fruits', 'No_Fruits', 'No_Fruits', 'No_Fruits', ['Mango'], 'No_Fruits', ['Apple'], 'No_Fruits', 'No_Fruits', 'No_Fruits', 'No_Fruits', 'No_Fruits', 'No_Fruits', ['Mango'], 'No_Fruits', 'No_Fruits', 'No_Fruits', ['Tomato'], ['Tomato'], ['Pineapple'], 'No_Fruits', 'No_Fruits', 'No_Fruits', 'No_Fruits', 'No_Fruits', 'No_Fruits', 'No_Fruits', 'No_Fruits', 'No_Fruits', 'No_Fruits', ['Avocado'], 'No_Fruits', 'No_Fruits', 'No_Fruits', ['Strawberry'], 'No_Fruits', 'No_Fruits', 'No_Fruits', 'No_Fruits', 'No_Fruits', ['Mango'], ['Tomato'], 'No_Fruits', 'No_Fruits', 'No_Fruits', 'No_Fruits', ['Tomato'], 'No_Fruits', 'No_Fruits', 'No_Fruits', 'No_Fruits', 'No_Fruits', 'No_Fruits', 'No_Fruits', 'No_Fruits', 'No_Fruits', 'No_Fruits', ['Tomato'], 'No_Fruits', 'No_Fruits', 'No_Fruits', 'No_Fruits', ['Mango'], ['Tomato'], 'No_Fruits', ['Tomato'], 'No_Fruits', 'No_Fruits', 'No_Fruits', 'No_Fruits', 'No_Fruits', ['Mango', 'Pineapple'], ['Tomato'], 'No_Fruits', 'No_Fruits', 'No_Fruits', 'No_Fruits', 'No_Fruits', 'No_Fruits', 'No_Fruits', 'No_Fruits', 'No_Fruits', 'No_Fruits', 'No_Fruits', 'No_Fruits', 'No_Fruits', ['Tomato'], 'No_Fruits', 'No_Fruits', ['Mango'], ['Tomato'], ['Tomato'], ['Tomato'], 'No_Fruits', 'No_Fruits', 'No_Fruits', 'No_Fruits', 'No_Fruits', 'No_Fruits', 'No_Fruits', 'No_Fruits', 'No_Fruits', 'No_Fruits', 'No_Fruits', ['Mango'], ['Tomato'], ['Tomato', 'Pomegranate'], 'No_Fruits', 'No_Fruits', 'No_Fruits', 'No_Fruits', 'No_Fruits', ['Mango'], 'No_Fruits', ['Tomato'], 'No_Fruits', ['Tomato'], ['Tomato'], 'No_Fruits', 'No_Fruits', 'No_Fruits', 'No_Fruits', 'No_Fruits', 'No_Fruits', 'No_Fruits', ['Watermelon'], ['Tomato'], ['Tomato', 'Pomegranate'], 'No_Fruits', 'No_Fruits', 'No_Fruits', ['Pomegranate'], 'No_Fruits', 'No_Fruits', 'No_Fruits', 'No_Fruits', ['Tomato'], 'No_Fruits', ['Tomato'], ['Tomato'], 'No_Fruits', 'No_Fruits', 'No_Fruits', 'No_Fruits', ['Tomato'], 'No_Fruits', 'No_Fruits', 'No_Fruits', 'No_Fruits', 'No_Fruits', 'No_Fruits', 'No_Fruits', 'No_Fruits', 'No_Fruits', ['Tomato'], 'No_Fruits', 'No_Fruits', ['Pomegranate'], 'No_Fruits', ['Tomato', 'Pomegranate'], ['Tomato'], 'No_Fruits', ['Melon'], 'No_Fruits', 'No_Fruits', 'No_Fruits', 'No_Fruits', ['Banana'], 'No_Fruits', ['Mango'], 'No_Fruits', ['Banana', 'Apple'], ['Tomato'], 'No_Fruits', 'No_Fruits', 'No_Fruits', 'No_Fruits', ['Mango'], 'No_Fruits', 'No_Fruits', 'No_Fruits', 'No_Fruits', ['Tomato'], 'No_Fruits', 'No_Fruits', ['Tomato'], 'No_Fruits', 'No_Fruits', 'No_Fruits', 'No_Fruits', 'No_Fruits', 'No_Fruits', 'No_Fruits', 'No_Fruits', 'No_Fruits', ['Tomato', 'Mango'], 'No_Fruits', 'No_Fruits', ['Mango'], 'No_Fruits', 'No_Fruits', 'No_Fruits', 'No_Fruits', 'No_Fruits', 'No_Fruits', 'No_Fruits', ['Tomato'], ['Tomato'], 'No_Fruits', 'No_Fruits', 'No_Fruits', 'No_Fruits', ['Tomato'], ['Mango'], 'No_Fruits', ['Tomato'], 'No_Fruits', 'No_Fruits', 'No_Fruits', 'No_Fruits', 'No_Fruits', 'No_Fruits', 'No_Fruits', ['Mango'], 'No_Fruits', 'No_Fruits', 'No_Fruits', 'No_Fruits', 'No_Fruits', 'No_Fruits', 'No_Fruits', 'No_Fruits', 'No_Fruits', ['Mango'], 'No_Fruits', 'No_Fruits', 'No_Fruits', 'No_Fruits', 'No_Fruits', ['Tomato'], ['Tomato'], ['Tomato', 'Pomegranate'], ['Tomato'], 'No_Fruits', ['Tomato'], 'No_Fruits', 'No_Fruits', 'No_Fruits', 'No_Fruits', 'No_Fruits', ['Banana', 'Lime'], ['Mango'], 'No_Fruits', ['Tomato'], 'No_Fruits', 'No_Fruits', 'No_Fruits', 'No_Fruits', 'No_Fruits', 'No_Fruits', 'No_Fruits', 'No_Fruits', ['Tomato'], 'No_Fruits', 'No_Fruits', 'No_Fruits', 'No_Fruits', ['Banana'], 'No_Fruits', 'No_Fruits', ['Tomato'], ['Tomato'], 'No_Fruits', 'No_Fruits', 'No_Fruits', ['Banana'], 'No_Fruits', 'No_Fruits', 'No_Fruits', 'No_Fruits', 'No_Fruits', 'No_Fruits', 'No_Fruits', ['Tomato'], 'No_Fruits', 'No_Fruits', 'No_Fruits', 'No_Fruits', 'No_Fruits', 'No_Fruits', 'No_Fruits', 'No_Fruits', 'No_Fruits', ['Tomato'], ['Lime'], ['Tomato'], 'No_Fruits', 'No_Fruits', 'No_Fruits', 'No_Fruits', 'No_Fruits', ['Tomato'], 'No_Fruits', 'No_Fruits', ['Tomato'], 'No_Fruits', 'No_Fruits', 'No_Fruits', 'No_Fruits', ['Tomato'], 'No_Fruits', 'No_Fruits', 'No_Fruits', 'No_Fruits', 'No_Fruits', 'No_Fruits', ['Tomato'], 'No_Fruits', ['Mango', 'Tomato'], 'No_Fruits', 'No_Fruits', 'No_Fruits', 'No_Fruits', 'No_Fruits', 'No_Fruits', ['Mango'], 'No_Fruits', 'No_Fruits', 'No_Fruits', ['Apple', 'Tomato'], 'No_Fruits', 'No_Fruits', 'No_Fruits', ['Mango'], 'No_Fruits', 'No_Fruits', 'No_Fruits', 'No_Fruits', 'No_Fruits', 'No_Fruits', 'No_Fruits', 'No_Fruits', 'No_Fruits', 'No_Fruits', ['Banana'], 'No_Fruits', 'No_Fruits', ['Tomato'], 'No_Fruits', ['Tomato'], 'No_Fruits', 'No_Fruits', 'No_Fruits', 'No_Fruits', 'No_Fruits', 'No_Fruits', ['Tomato'], 'No_Fruits', 'No_Fruits', ['Tomato'], ['Tomato'], 'No_Fruits', ['Tomato'], ['Tomato'], 'No_Fruits', 'No_Fruits', ['Tomato'], ['Tomato'], 'No_Fruits', 'No_Fruits', 'No_Fruits', 'No_Fruits', ['Mango'], 'No_Fruits', 'No_Fruits', ['Mango'], 'No_Fruits', 'No_Fruits', 'No_Fruits', 'No_Fruits', 'No_Fruits', ['Mango'], 'No_Fruits', ['Tomato'], ['Tomato'], 'No_Fruits', 'No_Fruits', ['Tomato'], 'No_Fruits', 'No_Fruits', 'No_Fruits', 'No_Fruits', 'No_Fruits', 'No_Fruits', ['Tomato'], 'No_Fruits', 'No_Fruits', 'No_Fruits', 'No_Fruits', 'No_Fruits', 'No_Fruits', ['Mango'], 'No_Fruits', ['Tomato'], 'No_Fruits', ['Mango'], 'No_Fruits', ['Apricot'], ['Mango'], 'No_Fruits', 'No_Fruits', ['Tomato'], 'No_Fruits', ['Tomato'], 'No_Fruits', 'No_Fruits', 'No_Fruits', 'No_Fruits', 'No_Fruits', ['Pomegranate'], 'No_Fruits', 'No_Fruits', 'No_Fruits', 'No_Fruits', 'No_Fruits', 'No_Fruits', 'No_Fruits', ['Mango', 'Tomato'], 'No_Fruits', 'No_Fruits', 'No_Fruits', 'No_Fruits', 'No_Fruits', 'No_Fruits', ['Mango'], ['Tomato'], ['Tomato'], ['Tomato'], 'No_Fruits', 'No_Fruits', 'No_Fruits', 'No_Fruits', 'No_Fruits', ['Tomato'], 'No_Fruits', 'No_Fruits', 'No_Fruits', ['Tomato'], 'No_Fruits', 'No_Fruits', 'No_Fruits', 'No_Fruits', 'No_Fruits', 'No_Fruits', 'No_Fruits', 'No_Fruits', 'No_Fruits', 'No_Fruits', 'No_Fruits', 'No_Fruits', ['Mango'], 'No_Fruits', 'No_Fruits', ['Mango'], 'No_Fruits', 'No_Fruits', 'No_Fruits', 'No_Fruits', 'No_Fruits', 'No_Fruits', 'No_Fruits', 'No_Fruits', 'No_Fruits', 'No_Fruits', ['Pomegranate'], 'No_Fruits', 'No_Fruits', 'No_Fruits', ['Tomato'], 'No_Fruits', 'No_Fruits', 'No_Fruits', 'No_Fruits', 'No_Fruits', ['Mango'], 'No_Fruits', ['Tomato'], 'No_Fruits', 'No_Fruits', ['Tomato'], 'No_Fruits', ['Tomato'], 'No_Fruits', ['Tomato'], ['Mango'], ['Pomegranate'], 'No_Fruits', ['Tomato'], 'No_Fruits', 'No_Fruits', 'No_Fruits', ['Tomato'], 'No_Fruits', ['Mango'], ['Tomato'], ['Tomato'], 'No_Fruits', ['Avocado'], 'No_Fruits', 'No_Fruits', 'No_Fruits', ['Tomato'], ['Mango', 'Tomato'], 'No_Fruits', ['Tomato'], ['Tomato'], ['Mango'], 'No_Fruits', 'No_Fruits', 'No_Fruits', 'No_Fruits', ['Mango'], 'No_Fruits', 'No_Fruits', 'No_Fruits', 'No_Fruits', 'No_Fruits', 'No_Fruits', 'No_Fruits', ['Watermelon'], 'No_Fruits', ['Tomato'], 'No_Fruits', ['Tomato', 'Mango'], 'No_Fruits', 'No_Fruits', 'No_Fruits', 'No_Fruits', 'No_Fruits', ['Mango'], 'No_Fruits', 'No_Fruits', 'No_Fruits', 'No_Fruits', ['Banana'], ['Pomegranate', 'Mango'], ['Tomato'], 'No_Fruits', 'No_Fruits', 'No_Fruits', 'No_Fruits', 'No_Fruits', 'No_Fruits', 'No_Fruits', 'No_Fruits', 'No_Fruits', ['Mango'], 'No_Fruits', 'No_Fruits', 'No_Fruits', ['Strawberry'], 'No_Fruits', 'No_Fruits', 'No_Fruits', 'No_Fruits', 'No_Fruits', 'No_Fruits', 'No_Fruits', 'No_Fruits', 'No_Fruits', ['Tomato'], 'No_Fruits', ['Tomato'], 'No_Fruits', 'No_Fruits', 'No_Fruits', 'No_Fruits', ['Mango'], ['Tomato'], ['Mango'], 'No_Fruits', 'No_Fruits', 'No_Fruits', 'No_Fruits', ['Banana'], 'No_Fruits', 'No_Fruits', 'No_Fruits', 'No_Fruits', 'No_Fruits', 'No_Fruits', 'No_Fruits', 'No_Fruits', 'No_Fruits', 'No_Fruits', 'No_Fruits', 'No_Fruits', 'No_Fruits', 'No_Fruits', 'No_Fruits', ['Tomato'], 'No_Fruits', ['Tomato'], ['Mango'], ['Pomegranate'], 'No_Fruits', ['Tomato'], ['Tomato'], 'No_Fruits', 'No_Fruits', 'No_Fruits', 'No_Fruits', 'No_Fruits', 'No_Fruits', 'No_Fruits', 'No_Fruits', 'No_Fruits', ['Tomato'], 'No_Fruits', 'No_Fruits', 'No_Fruits', 'No_Fruits', ['Tomato'], 'No_Fruits', ['Tomato'], ['Tomato'], ['Mango'], 'No_Fruits', 'No_Fruits', 'No_Fruits', 'No_Fruits', 'No_Fruits', 'No_Fruits', ['Tomato'], ['Tomato'], ['Tomato'], 'No_Fruits', 'No_Fruits', ['Mango'], 'No_Fruits', ['Mango'], 'No_Fruits', 'No_Fruits', 'No_Fruits', ['Mango'], 'No_Fruits', 'No_Fruits', ['Tomato'], 'No_Fruits', 'No_Fruits', 'No_Fruits', 'No_Fruits', 'No_Fruits', 'No_Fruits', 'No_Fruits', 'No_Fruits', ['Tomato'], 'No_Fruits', 'No_Fruits', ['Pomegranate', 'Mango'], 'No_Fruits', 'No_Fruits', ['Tomato'], ['Tomato'], ['Tomato'], 'No_Fruits', 'No_Fruits', ['Tomato'], ['Tomato'], 'No_Fruits', 'No_Fruits', 'No_Fruits', 'No_Fruits', ['Mango'], ['Pomegranate'], 'No_Fruits', 'No_Fruits', 'No_Fruits', ['Tomato'], 'No_Fruits', ['Tomato'], 'No_Fruits', 'No_Fruits', 'No_Fruits', 'No_Fruits', ['Pineapple'], 'No_Fruits', 'No_Fruits', 'No_Fruits', 'No_Fruits', 'No_Fruits', 'No_Fruits', 'No_Fruits', 'No_Fruits', 'No_Fruits', 'No_Fruits', ['Tomato'], ['Tomato'], 'No_Fruits', ['Orange', 'Melon'], ['Tomato'], 'No_Fruits', 'No_Fruits', 'No_Fruits', 'No_Fruits', 'No_Fruits', ['Tomato'], 'No_Fruits', 'No_Fruits', 'No_Fruits', ['Tomato'], 'No_Fruits', ['Tomato'], 'No_Fruits', 'No_Fruits', 'No_Fruits', ['Tomato'], 'No_Fruits', 'No_Fruits', 'No_Fruits', 'No_Fruits', 'No_Fruits', 'No_Fruits', 'No_Fruits', 'No_Fruits', ['Tomato'], 'No_Fruits', 'No_Fruits', 'No_Fruits', ['Pomegranate'], ['Pomegranate'], 'No_Fruits', 'No_Fruits', 'No_Fruits', 'No_Fruits', 'No_Fruits', 'No_Fruits', 'No_Fruits', 'No_Fruits', 'No_Fruits', 'No_Fruits', 'No_Fruits', 'No_Fruits', 'No_Fruits', 'No_Fruits', ['Tomato'], 'No_Fruits', 'No_Fruits', ['Mango', 'Pineapple'], 'No_Fruits', ['Mango'], 'No_Fruits', 'No_Fruits', 'No_Fruits', 'No_Fruits', 'No_Fruits', ['Tomato'], 'No_Fruits', ['Mango'], 'No_Fruits', 'No_Fruits', 'No_Fruits', ['Mango', 'Tomato'], ['Tomato'], 'No_Fruits', 'No_Fruits', ['Tomato'], ['Tomato'], 'No_Fruits', 'No_Fruits', 'No_Fruits', 'No_Fruits', 'No_Fruits', 'No_Fruits', 'No_Fruits', 'No_Fruits', 'No_Fruits', 'No_Fruits', 'No_Fruits', 'No_Fruits', 'No_Fruits', 'No_Fruits', 'No_Fruits', 'No_Fruits', 'No_Fruits', 'No_Fruits', ['Tomato'], ['Tomato'], 'No_Fruits', 'No_Fruits', ['Orange'], 'No_Fruits', ['Tomato', 'Mango'], 'No_Fruits', 'No_Fruits', 'No_Fruits', 'No_Fruits', 'No_Fruits', ['Mango'], 'No_Fruits', 'No_Fruits', 'No_Fruits', ['Mango'], ['Avocado'], ['Tomato'], 'No_Fruits', ['Pomegranate'], 'No_Fruits', 'No_Fruits', 'No_Fruits', 'No_Fruits', 'No_Fruits', 'No_Fruits', 'No_Fruits', 'No_Fruits', ['Banana'], 'No_Fruits', 'No_Fruits', 'No_Fruits', 'No_Fruits', 'No_Fruits', ['Tomato'], ['Tomato'], ['Pineapple'], 'No_Fruits', 'No_Fruits', 'No_Fruits', ['Tomato'], 'No_Fruits', 'No_Fruits', 'No_Fruits', 'No_Fruits', 'No_Fruits', 'No_Fruits', 'No_Fruits', 'No_Fruits', 'No_Fruits', 'No_Fruits', 'No_Fruits', 'No_Fruits', 'No_Fruits', ['Tomato'], 'No_Fruits', 'No_Fruits', 'No_Fruits', 'No_Fruits', 'No_Fruits', ['Tomato'], 'No_Fruits', 'No_Fruits', ['Tomato'], 'No_Fruits', 'No_Fruits', 'No_Fruits', 'No_Fruits', ['Banana'], 'No_Fruits', ['Tomato'], ['Cherry'], ['Tomato'], 'No_Fruits', 'No_Fruits', 'No_Fruits', 'No_Fruits', ['Tomato'], ['Tomato'], 'No_Fruits', ['Tomato'], 'No_Fruits', 'No_Fruits', 'No_Fruits', ['Apple', 'Banana', 'Cherry'], 'No_Fruits', 'No_Fruits', ['Tomato'], 'No_Fruits', 'No_Fruits', 'No_Fruits', 'No_Fruits', 'No_Fruits', ['Tomato'], 'No_Fruits', 'No_Fruits', 'No_Fruits', 'No_Fruits', 'No_Fruits', 'No_Fruits', ['Tomato', 'Pomegranate'], 'No_Fruits', 'No_Fruits', 'No_Fruits', ['Tomato'], 'No_Fruits', ['Tomato']]\n"
          ]
        }
      ]
    },
    {
      "cell_type": "code",
      "source": [
        "#list of recipes consisting of alcohol as an ingredient\n",
        "alcohol = ['Beer','Ales','Lagers','Wine','Red Wine','White Wine','chardonnay','Rose Wine','Sparkling Wine','Champagne','^Cider$','Liquor','Vodka','^Gin$','Whiskey','Rum','Tequila','Brandy']\n",
        "pattern = '|'.join(alcohol)\n",
        "print(pattern)\n",
        "new = list(final_data['Ingredients_List'].str.contains(pattern))  #final_data.loc[final_data['Name'].str.contains(all, case=False)])\n",
        "def alc(x):\n",
        "  if x['del']==True:\n",
        "    return 1 #if alcohol is present\n",
        "  else:\n",
        "    return 0\n",
        "final_data['del'] = new\n",
        "final_data['Contains alcohol']= final_data.apply(alc, axis=1)    \n",
        "final_data['Contains alcohol'].value_counts()"
      ],
      "metadata": {
        "colab": {
          "base_uri": "https://localhost:8080/"
        },
        "id": "_Tpsqv-IYDoD",
        "outputId": "2d72ad8e-dee1-42cc-d3b8-4a82334612d1"
      },
      "execution_count": 225,
      "outputs": [
        {
          "output_type": "stream",
          "name": "stdout",
          "text": [
            "Beer|Ales|Lagers|Wine|Red Wine|White Wine|chardonnay|Rose Wine|Sparkling Wine|Champagne|^Cider$|Liquor|Vodka|^Gin$|Whiskey|Rum|Tequila|Brandy\n"
          ]
        },
        {
          "output_type": "execute_result",
          "data": {
            "text/plain": [
              "0    9650\n",
              "1      41\n",
              "Name: Contains alcohol, dtype: int64"
            ]
          },
          "metadata": {},
          "execution_count": 225
        }
      ]
    },
    {
      "cell_type": "code",
      "source": [
        "\n",
        "gluten = ['Refined Flour','Wheat','Whole Wheat','Maida','Bread','Pasta','Noodles','Oats']\n",
        "#millets = ['Pearl Millet','Bajra','Finger Millet':['Ragi','Nachani',,'Sorghum':'Jowar'}\n",
        "pattern = '|'.join(gluten)\n",
        "print(pattern)\n",
        "new = list(final_data['Ingredients_List'].str.contains(pattern))  #final_data.loc[final_data['Name'].str.contains(all, case=False)])\n",
        "def glu(x):\n",
        "  if x['del']==True:\n",
        "    return 'High'\n",
        "  else:\n",
        "    return 'Low'\n",
        "final_data['del'] = new\n",
        "final_data['Gluten Content']= final_data.apply(glu, axis=1)    \n",
        "final_data['Gluten Content'].value_counts()\n",
        "#gluten\n"
      ],
      "metadata": {
        "colab": {
          "base_uri": "https://localhost:8080/"
        },
        "id": "ZtbWBRIqYHAR",
        "outputId": "cea9e0c8-1870-4fa9-a350-db65da6bea01"
      },
      "execution_count": 226,
      "outputs": [
        {
          "output_type": "stream",
          "name": "stdout",
          "text": [
            "Refined Flour|Wheat|Whole Wheat|Maida|Bread|Pasta|Noodles|Oats\n"
          ]
        },
        {
          "output_type": "execute_result",
          "data": {
            "text/plain": [
              "Low     8543\n",
              "High    1148\n",
              "Name: Gluten Content, dtype: int64"
            ]
          },
          "metadata": {},
          "execution_count": 226
        }
      ]
    },
    {
      "cell_type": "code",
      "source": [
        "quick = []\n",
        "for j,i in final_data.iterrows():\n",
        "  temp1 = i['Prep_Time']\n",
        "  temp2 = i['Cook_Time']\n",
        "  if float(temp1)>float(temp2):\n",
        "      quick.append(0) #0 implies pre planning\n",
        "  else: \n",
        "      quick.append(1)\n",
        "\n",
        "final_data['Quick_Recipe'] = quick\n",
        "final_data['Quick_Recipe'].value_counts()\n"
      ],
      "metadata": {
        "colab": {
          "base_uri": "https://localhost:8080/"
        },
        "id": "IsecDjqhYJ3k",
        "outputId": "935c3f17-5228-4c5d-c27f-62d79ecb293c"
      },
      "execution_count": 227,
      "outputs": [
        {
          "output_type": "execute_result",
          "data": {
            "text/plain": [
              "1    6737\n",
              "0    2954\n",
              "Name: Quick_Recipe, dtype: int64"
            ]
          },
          "metadata": {},
          "execution_count": 227
        }
      ]
    },
    {
      "cell_type": "code",
      "source": [
        "summer = 'gourds, okra, jackfruit, pumpkin, brinjal, cucumber, mango, litchi, melons, blackberry, palm,chiku,chikoo'\n",
        "summer= summer.split(',')\n",
        "summer_pattern = '|'.join(summer)\n",
        "monsoon = 'Gourds, okra, colocasia leaves, apple, custard apple, stone fruits,corn'\n",
        "monsoon = monsoon.split(',')\n",
        "monsoon_pattern = '|'.join(monsoon)\n",
        "winter = 'mustard, spinach, fenugreek, amaranth,beans, radish, red carrots, black carrots, spring onion, kohlrabi, ash gourd, yam, orange, chiku, guava, strawberries, grapes, figs, gooseberry'\n",
        "winter = winter.split(',')\n",
        "winter_pattern = '|'.join(winter)\n",
        "\n",
        "new = list(final_data['Ingredients_List'].str.contains(summer_pattern))\n",
        "new1 = list(final_data['Ingredients_List'].str.contains(monsoon_pattern))\n",
        "new2 = list(final_data['Ingredients_List'].str.contains(winter_pattern))\n",
        "  #final_data.loc[final_data['Name'].str.contains(all, case=False)])\n",
        "def glu(x):\n",
        "  if x['del']==True:\n",
        "    return 'Summer'\n",
        "  elif x['del1']==True:\n",
        "    return 'Monsoon'\n",
        "  elif x['del2']==True:\n",
        "    return 'Winter'\n",
        "  else:\n",
        "    return 'Round the Year'\n",
        "final_data['del'] = new\n",
        "final_data['del1'] = new1\n",
        "final_data['del2'] = new2\n",
        "final_data['Seasonal']= final_data.apply(glu, axis=1)   \n",
        "final_data=final_data.drop(['del1','del','del2'],axis=1)\n",
        "# try:\n",
        "#   final_data = final_data.drop(['Fruit'],axis=1)\n"
      ],
      "metadata": {
        "id": "l5Gny2-CYM7M"
      },
      "execution_count": 228,
      "outputs": []
    },
    {
      "cell_type": "code",
      "source": [
        "#Standardizing cusine column\n",
        "final_data.loc[final_data['Course']=='Sugar Free Diet',['Course']]='Beverages'\n",
        "final_data.loc[final_data['Course']=='Dessert',['Course']]='Desserts'\n",
        "final_data.Cuisine = final_data.Cuisine.replace('Side Dish', 'Goan')\n",
        "final_data.Cuisine = final_data.Cuisine.replace('Andhra', 'Andhra Pradesh')\n",
        "final_data.Cuisine = final_data.Cuisine.replace('Assamese', 'Assam')\n",
        "final_data.Cuisine = final_data.Cuisine.replace('Bengali Recipes', 'Bengali')\n",
        "final_data.Cuisine = final_data.Cuisine.replace('Bengali, Indian', 'Bengali')\n",
        "final_data.Cuisine = final_data.Cuisine.replace('Indian, Bengali', 'Bengali')\n",
        "final_data.Cuisine = final_data.Cuisine.replace('Chettinaad', 'Chettinad')\n",
        "final_data.Cuisine = final_data.Cuisine.replace('Goan Recipes', 'Goan')\n",
        "final_data.Cuisine = final_data.Cuisine.replace('Goan, Fusion, Indian', 'Goan')\n",
        "final_data.Cuisine = final_data.Cuisine.replace('Goan, Indian', 'Goan')\n",
        "final_data.Cuisine = final_data.Cuisine.replace('Gujarati RecipesÃ¯Â»Â¿', 'Gujrati')\n",
        "final_data.Cuisine = final_data.Cuisine.replace('Gujarati, Fusion', 'Gujrati')\n",
        "final_data.Cuisine = final_data.Cuisine.replace('Gujarati, Indian', 'Gujrati')\n",
        "final_data.Cuisine = final_data.Cuisine.replace('Gujarati, Indian, Fusion', 'Gujrati')\n",
        "final_data.Cuisine = final_data.Cuisine.replace('Indian, Gujarati', 'Gujrati')\n",
        "final_data.Cuisine = final_data.Cuisine.replace('Other', 'Indian')\n",
        "final_data.Cuisine = final_data.Cuisine.replace('World Breakfast', 'Indian')\n",
        "final_data.Cuisine = final_data.Cuisine.replace('Afghan', 'Indi-Mediterranean')\n",
        "final_data.Cuisine = final_data.Cuisine.replace('Arab', 'Indi-Mediterranean')\n",
        "final_data.Cuisine = final_data.Cuisine.replace('Arabic', 'Indi-Mediterranean')\n",
        "final_data.Cuisine = final_data.Cuisine.replace('Greek', 'Indi-Mediterranean')\n",
        "final_data.Cuisine = final_data.Cuisine.replace('Middle Eastern', 'Indi-Mediterranean')\n",
        "final_data.Cuisine = final_data.Cuisine.replace('Middle Eastern, Lebanese', 'Indi-Mediterranean')\n",
        "final_data.Cuisine = final_data.Cuisine.replace('Dinner', 'Indi-Mediterranean')\n",
        "final_data.Cuisine = final_data.Cuisine.replace('Moroccan', 'Indi-Mediterranean')\n",
        "final_data.Cuisine = final_data.Cuisine.replace('Mediterranean', 'Indi-Mediterranean')\n",
        "final_data.Cuisine = final_data.Cuisine.replace('Indo-italian, Fusion', 'Indo-Italian')\n",
        "final_data.Cuisine = final_data.Cuisine.replace('Italian Recipes', 'Indo-Italian')\n",
        "final_data.Cuisine = final_data.Cuisine.replace('Thai', 'Indo-Thai')\n",
        "final_data.Cuisine = final_data.Cuisine.replace('Coastal Karnataka', 'Karnataka')\n",
        "final_data.Cuisine = final_data.Cuisine.replace('Indian, Karnataka', 'Karnataka')\n",
        "final_data.Cuisine = final_data.Cuisine.replace('Karnataka, Indian', 'Karnataka')\n",
        "final_data.Cuisine = final_data.Cuisine.replace('North Karnataka', 'Karnataka')\n",
        "final_data.Cuisine = final_data.Cuisine.replace('South Karnataka', 'Karnataka')\n",
        "final_data.Cuisine = final_data.Cuisine.replace('Kashmiri, Indian', 'Kashmiri')\n",
        "final_data.Cuisine = final_data.Cuisine.replace('Indian, Kerala', 'Kerala')\n",
        "final_data.Cuisine = final_data.Cuisine.replace('Kerala, Indian', 'Kerala')\n",
        "final_data.Cuisine = final_data.Cuisine.replace('Indian, Maharashtrian', 'Maharashtrian')\n",
        "final_data.Cuisine = final_data.Cuisine.replace('Indian, Mumbai', 'Maharashtrian')\n",
        "final_data.Cuisine = final_data.Cuisine.replace('Maharashtrian Recipes', 'Maharashtrian')\n",
        "final_data.Cuisine = final_data.Cuisine.replace('Maharashtrian, Fusion, Indian', 'Maharashtrian')\n",
        "final_data.Cuisine = final_data.Cuisine.replace('Maharashtrian, Indian', 'Maharashtrian')\n",
        "final_data.Cuisine = final_data.Cuisine.replace('Maharashtrian, Indian, Fusion', 'Maharashtrian')\n",
        "final_data.Cuisine = final_data.Cuisine.replace('Maharashtrian, Karnataka', 'Maharashtrian')\n",
        "final_data.Cuisine = final_data.Cuisine.replace('Mumbai', 'Maharashtrian')\n",
        "final_data.Cuisine = final_data.Cuisine.replace('Mumbai, Indian', 'Maharashtrian')\n",
        "final_data.Cuisine = final_data.Cuisine.replace('Mangalorean, Indian', 'Mangalorean')\n",
        "final_data.Cuisine = final_data.Cuisine.replace('Mughlai', 'Moghlai')\n",
        "final_data.Cuisine = final_data.Cuisine.replace('Pakistani', 'Moghlai')\n",
        "final_data.Cuisine = final_data.Cuisine.replace('North East India Recipes', 'North Eastern')\n",
        "final_data.Cuisine = final_data.Cuisine.replace('North Indian', 'North Indian')\n",
        "final_data.Cuisine = final_data.Cuisine.replace('Orissa', 'Oriya')\n",
        "final_data.Cuisine = final_data.Cuisine.replace('Oriya Recipes', 'Oriya')\n",
        "final_data.Cuisine = final_data.Cuisine.replace('Indian, Parsi', 'Parsi')\n",
        "final_data.Cuisine = final_data.Cuisine.replace('Parsi Recipes', 'Parsi')\n",
        "final_data.Cuisine = final_data.Cuisine.replace('Parsi, Indian', 'Parsi')\n",
        "final_data.Cuisine = final_data.Cuisine.replace('Indian, Punjabi', 'Punjabi')\n",
        "final_data.Cuisine = final_data.Cuisine.replace('Indian, Punjabi, Fusion', 'Punjabi')\n",
        "final_data.Cuisine = final_data.Cuisine.replace('Punjabi , Indian', 'Punjabi')\n",
        "final_data.Cuisine = final_data.Cuisine.replace('Punjabi, Indian', 'Punjabi')\n",
        "final_data.Cuisine = final_data.Cuisine.replace('Punjabi, Indian, Fusion', 'Punjabi')\n",
        "final_data.Cuisine = final_data.Cuisine.replace('Punjabi, Maharashtrian, Karnataka', 'Punjabi')\n",
        "final_data.Cuisine = final_data.Cuisine.replace('Indian, Rajasthani', 'Rajasthani')\n",
        "final_data.Cuisine = final_data.Cuisine.replace('Rajasthani, Indian', 'Rajasthani')\n",
        "final_data.Cuisine = final_data.Cuisine.replace('Sindhi, Indian', 'Sindhi')\n",
        "final_data.Cuisine = final_data.Cuisine.replace('Sindhi, Indian, Fusion', 'Sindhi')\n",
        "final_data.Cuisine = final_data.Cuisine.replace('Indian, Fusion, South Indian', 'South Indian')\n",
        "final_data.Cuisine = final_data.Cuisine.replace('Indian, South Indian', 'South Indian')\n",
        "final_data.Cuisine = final_data.Cuisine.replace('Kongunadu', 'South Indian')\n",
        "final_data.Cuisine = final_data.Cuisine.replace('Indian, Mangalorean', 'Mangalorean')\n",
        "final_data.Cuisine = final_data.Cuisine.replace('South Indian Recipes', 'South Indian')\n",
        "final_data.Cuisine = final_data.Cuisine.replace('South Indian, Indian', 'South Indian')\n",
        "final_data.Cuisine = final_data.Cuisine.replace('South Indian, Indian, Fusion', 'South Indian')\n",
        "final_data.Cuisine = final_data.Cuisine.replace('Sri Lankan', 'South Indian')\n",
        "final_data.Cuisine = final_data.Cuisine.replace('Tamilnadu', 'Tamil Nadu')\n",
        "final_data.Cuisine = final_data.Cuisine.replace('Indian, Hyderabadi', 'Hyderabadi')\n",
        "final_data.Cuisine = final_data.Cuisine.replace('Uttar Pradesh, Punjabi', 'Uttar Pradesh')\n",
        "final_data.Cuisine = final_data.Cuisine.replace('Uttarakhand-north Kumaon', 'Uttarakhand')\n",
        "final_data.Cuisine = final_data.Cuisine.replace('Gujarati Recipes', 'Gujarati')\n",
        "\n",
        "\n",
        "list1 = ['Appetizer', 'Asian','Burmese','Cantonese', 'Chinese', 'Chinese, Fusion', 'Chinese, Indo-chinese', 'Hunan', 'Indo Chinese', \n",
        "         'Indo Chinese', 'Indo-chinese', 'Indo-chinese', 'Indo-chinese, Fusion', 'Indonesian', 'Korean', 'Malaysian', 'Oriental, Fusion', 'Shandong', 'Sichuan', 'Vietnamese']\n",
        "templist1 = list(final_data['Cuisine'].str.contains('|'.join(list1)))\n",
        "final_data['del1'] = templist1\n",
        "list2 = ['African', 'American', 'British', 'Brunch', 'Caribbean' , 'Continental', 'European', 'French', 'French, Fusion', 'Fusion', 'Fusion, Indian', 'Indian Fusion',\n",
        "         'Indian, Fusion', 'Indo-mexican', 'Japanese', 'Jewish', 'Mexican', 'Other Cuisines', 'South African']\n",
        "templist2 = list(final_data['Cuisine'].str.contains('|'.join(list2)))\n",
        "final_data['del2'] = templist2\n",
        "\n",
        "temp_=[]\n",
        "for j,i in final_data.iterrows():\n",
        "  if i['del1']==True:\n",
        "    temp_.append('Indo-Oriental')\n",
        "  elif i['del2']==True:\n",
        "    temp_.append('Indi-Fusion')\n",
        "  else:\n",
        "    temp_.append(i['Cuisine'])\n",
        "final_data['Cuisine_updated'] = temp_"
      ],
      "metadata": {
        "id": "pTA-WaVogC5d"
      },
      "execution_count": 229,
      "outputs": []
    },
    {
      "cell_type": "code",
      "source": [
        "#Accompaniments\n",
        "templist_2 = list(final_data['Recipe_Name'].str.contains('Papad|Pickle|Achaar|Jam|Mayonnaise|Croutons|Raita|Ketchup|Vinegar|Salad',regex=True))\n",
        "final_data['Accompaniments'] = templist_2\n",
        "final_data['Accompaniments'].value_counts()\n",
        "final_data['Accompaniments'] = final_data['Accompaniments'].astype(str)\n",
        "final_data['Accompaniments'] = final_data['Accompaniments'].str.replace(' ','False')\n",
        "final_data['Accompaniments'] = final_data['Accompaniments'].str.replace('nan','False')"
      ],
      "metadata": {
        "id": "ZFKuhPX6YOFM"
      },
      "execution_count": 230,
      "outputs": []
    },
    {
      "cell_type": "code",
      "source": [
        "final_data['Accompaniments'].unique()"
      ],
      "metadata": {
        "colab": {
          "base_uri": "https://localhost:8080/"
        },
        "id": "YP_bURqkPHut",
        "outputId": "2ba83d0a-ed9e-4276-886c-3273a059b9a9"
      },
      "execution_count": 231,
      "outputs": [
        {
          "output_type": "execute_result",
          "data": {
            "text/plain": [
              "array(['False', 'True'], dtype=object)"
            ]
          },
          "metadata": {},
          "execution_count": 231
        }
      ]
    },
    {
      "cell_type": "code",
      "source": [
        "new = list(final_data['Ingredients_List'].str.contains('onion|Onion|Vinegar|vinegar|root|Root|garlic|Garlic|Potato|potato|turmeric|Turmeric|Carrot|carrot|Radish|radish'))  #final_data.loc[final_data['Name'].str.contains(all, case=False)])\n",
        "def alc(x):\n",
        "  if x['del']==True or x['Veg/NonVeg']=='NonVeg':\n",
        "    return 'Non-Jain' #if alcohol is present\n",
        "  else:\n",
        "    return 'Jain'\n",
        "final_data['del'] = new\n",
        "final_data['Jain/Non-Jain']= final_data.apply(alc, axis=1)    \n",
        "final_data['Jain/Non-Jain'].value_counts()\n"
      ],
      "metadata": {
        "id": "sO8U8lqUYeMi",
        "colab": {
          "base_uri": "https://localhost:8080/"
        },
        "outputId": "26243887-acb8-49be-8a17-a4dee489874d"
      },
      "execution_count": 232,
      "outputs": [
        {
          "output_type": "execute_result",
          "data": {
            "text/plain": [
              "Non-Jain    7205\n",
              "Jain        2486\n",
              "Name: Jain/Non-Jain, dtype: int64"
            ]
          },
          "metadata": {},
          "execution_count": 232
        }
      ]
    },
    {
      "cell_type": "code",
      "source": [
        "list1 = ['Indian','Fusion','Other Cuisines','Parsi', 'Arabic', 'South African', 'Indo-italian', 'Moroccan', 'Indo-mexican', 'Other', 'Udupi', 'Italian Recipes', 'European', 'Side Dish', 'Mediterranean', 'Appetizer', 'Dinner', 'Jewish', 'Brunch', 'World Breakfast','Indian','Fusion', 'Middle Eastern', 'Other Cuisines', 'Parsi', 'Arabic', 'South African', 'Indo-italian', 'Moroccan',\n",
        "                                                  'Indo-mexican', 'Other', 'Italian Recipes', 'European', 'Side Dish', 'Mediterranean', 'Appetizer', 'Dinner',\n",
        "                                                   'Jewish', 'Brunch', 'World Breakfast']\n",
        "templist1 = list(final_data['Cuisine'].str.contains('|'.join(list1),regex=True))\n",
        "final_data['del1'] = templist1\n",
        "list2 = ['Sindhi', 'Madhya Pradesh', 'Marwari', 'Jharkhand', 'Madhya Pradesh', 'Marwari', 'Jharkhand']\n",
        "templist2 = list(final_data['Cuisine'].str.contains('|'.join(list2),regex=True))\n",
        "final_data['del2'] = templist2\n",
        "list3 = [ 'Chinese', 'North Eastern','Middle Eastern', 'Bengali', 'Orissa', 'Bihari', 'Indo-chinese', 'Asian', 'Assamese', 'Cantonese', 'Sichuan', 'Nepalese', 'Oriya Recipes', 'Hunan', 'Nagaland', 'Chinese', 'North Eastern', 'Bengali', 'Orissa',\n",
        "          'Bihari', 'Indo-chinese', 'Asian', 'Assamese', 'Cantonese', 'North East India Recipes', 'Sichuan', 'Nepalese',\n",
        "          'Oriya Recipes', 'Shandong', 'Kongunadu', 'Hunan','Nagaland']\n",
        "templist3 = list(final_data['Cuisine'].str.contains('|'.join(list3),regex=True))\n",
        "final_data['del3'] = templist3\n",
        "list4=['Punjabi', 'Kashmiri', 'Moghlai', 'Uttar Pradesh', 'Lucknowi', 'Arab', 'Himachal', 'Awadhi', 'North East India Recipes',\n",
        "        'Mughlai', 'Haryana', 'Shandong', 'Kongunadu', 'Uttarakhand-north Kumaon', 'Afghan', 'Punjabi', 'Kashmiri',\n",
        "         'Moghlai', 'Uttar Pradesh', 'Lucknowi', 'Arab', 'Himachal', 'Awadhi', 'Mughlai', 'Haryana', 'Uttarakhand-north Kumaon',\n",
        "        'Afghan']\n",
        "\n",
        "templist4 = list(final_data['Cuisine'].str.contains('|'.join(list4),regex=True))\n",
        "final_data['del4'] = templist4\n",
        "list5 = ['Kerala', 'Karnataka', 'Tamil Nadu', 'Andhra', 'Hyderabadi','Mangalorean', 'Chettinaad', 'Chettinad',\n",
        "          'Coorg', 'Tamilnadu', 'Malabar', 'Kerala', 'Karnataka', 'Tamil Nadu', 'Andhra', 'Hyderabadi', 'Mangalorean',\n",
        "          'Chettinaad', 'Chettinad', 'Coorg', 'Tamilnadu', 'Udupi', 'Malabar']\n",
        "templist5 = list(final_data['Cuisine'].str.contains('|'.join(list5),regex=True))\n",
        "final_data['del5'] = templist5\n",
        "list6=['Maharashtrian', 'Gujarati', 'Mumbai', 'Rajasthani', 'Goan', 'Konkan', 'Maharashtrian', 'Gujarati', 'Mumbai', 'Rajasthani',\n",
        "        'Goan', 'Konkan']\n",
        "templist6= list(final_data['Cuisine'].str.contains('|'.join(list6),regex=True))\n",
        "final_data['del6'] = templist6\n",
        "\n",
        "\n",
        "temp_=[]\n",
        "for j,i in final_data.iterrows():\n",
        "  if i['del1']==True:\n",
        "    temp_.append('Across India')\n",
        "  elif i['del2']==True:\n",
        "    temp_.append('Central')\n",
        "  elif i['del3']==True:\n",
        "    temp_.append('East')\n",
        "  elif i['del4']==True:\n",
        "    temp_.append('North')\n",
        "  elif i['del5']==True:\n",
        "    temp_.append('South')\n",
        "  elif i['del6']==True:\n",
        "    temp_.append('West')\n",
        "  else:\n",
        "    temp_.append('Across India')\n",
        "final_data['Regional'] = temp_"
      ],
      "metadata": {
        "id": "UQcOqhzIaA94"
      },
      "execution_count": 233,
      "outputs": []
    },
    {
      "cell_type": "code",
      "source": [
        "final_data = final_data.drop(['del1','del2','del3','del4','del6','del5'],axis=1)"
      ],
      "metadata": {
        "id": "0ObHmDhjk76y"
      },
      "execution_count": 234,
      "outputs": []
    },
    {
      "cell_type": "code",
      "source": [
        "final_data.shape"
      ],
      "metadata": {
        "colab": {
          "base_uri": "https://localhost:8080/"
        },
        "id": "FLxyHtYigRAh",
        "outputId": "1c6594c8-682d-4adf-a4a4-4a97d11abbb9"
      },
      "execution_count": 235,
      "outputs": [
        {
          "output_type": "execute_result",
          "data": {
            "text/plain": [
              "(9691, 31)"
            ]
          },
          "metadata": {},
          "execution_count": 235
        }
      ]
    },
    {
      "cell_type": "code",
      "source": [
        "final_data.columns"
      ],
      "metadata": {
        "colab": {
          "base_uri": "https://localhost:8080/"
        },
        "id": "xZW3jMjYgUNc",
        "outputId": "cee35375-39a9-4d85-ff74-418c9576ecf7"
      },
      "execution_count": 236,
      "outputs": [
        {
          "output_type": "execute_result",
          "data": {
            "text/plain": [
              "Index(['Recipe_Name', 'Total_Time', 'Cuisine', 'Ingredients_List',\n",
              "       'Number_of_Ingredients', 'Prep_Time', 'Cook_Time', 'Serves',\n",
              "       'Level_of_Cooking', 'Course', 'Image_URL', 'Recipe_link', 'Recipe',\n",
              "       'Diet', 'Equipment_Temp', 'Appliances', 'Contains_Sugar', 'Veg/NonVeg',\n",
              "       'Contains_Nuts', 'Vegan', 'Region', 'Fruits_Present',\n",
              "       'Contains alcohol', 'Gluten Content', 'Quick_Recipe', 'Seasonal',\n",
              "       'Cuisine_updated', 'Accompaniments', 'del', 'Jain/Non-Jain',\n",
              "       'Regional'],\n",
              "      dtype='object')"
            ]
          },
          "metadata": {},
          "execution_count": 236
        }
      ]
    },
    {
      "cell_type": "code",
      "source": [
        "final_data.loc[final_data['Recipe_Name']=='Almond Butter Recipe',['Course']]='Pickles, Jams and Chutneys'\n",
        "final_data.loc[final_data['Recipe_Name']=='Health Benefits of Rasna (Alpinia Galanga) - Ayurvedic Medicinal Plant',['Course']]='Beverages'\n",
        "final_data.loc[final_data['Recipe_Name']=='Vegan Instant Coffee Recipe',['Course']]='Beverages'\n",
        "final_data.loc[final_data['Recipe_Name']=='Andaman Style Steamed Garlic Prawns Recipe',['Course']]='Snacks and Starters'\n",
        "final_data.loc[final_data['Recipe_Name']=='Moroccan Baked Fish Recipe',['Course']]='Snacks and Starters'\n",
        "final_data.loc[final_data['Course']=='No Onion No Garlic (Sattvic)',['Course']]='Snacks and Starters'\n",
        "final_data.loc[final_data['Course']=='Snack',['Course']]='Snacks and Starters'\n",
        "final_data.loc[final_data['Course']=='Appetizer',['Course']]='Snacks and Starters'\n",
        "final_data.loc[final_data['Recipe_Name']=='Creamy Mushroom Ravioli Recipe In Mint Mayo Sauce',['Course']]='Noodles and Pastas'\n",
        "final_data.loc[final_data['Course']=='Brunch',['Course']]='Breakfast'\n",
        "mc_list = ['Main Course Vegetarian','Main Course Chicken','Main Course Egg','Non Vegeterian','Main Course Mutton','Non Vegeterain','Vegan','Main Course Seafood','Main Course Vegetarian ','Lunch','Dinner','Brunch']\n",
        "for i in mc_list:\n",
        "  final_data.loc[final_data['Course']==i,['Course']]='Main Course'\n",
        "bf_list = ['South Indian Breakfast','Indian Breakfast','North Indian Breakfast','World Breakfast','Eggetarian']\n",
        "for i in bf_list:\n",
        "  final_data.loc[final_data['Course']==i,['Course']]='Breakfast'\n",
        "final_data.loc[final_data['Diet']=='Eggetarian',['Diet']]='High Protein Non Vegetarian'\n",
        "final_data.loc[final_data['Diet']=='Non Vegetarian',['Diet']]='High Protein Non Vegetarian'\n",
        "final_data.loc[final_data['Diet']=='Non Vegeterian',['Diet']]='High Protein Non Vegetarian'\n",
        "final_data.loc[final_data['Diet']=='Vegetarian',['Diet']]='High Protein Vegetarian'\n",
        "##Diabetic Friendly\n",
        "templist_4 = list(final_data['Ingredients_List'].str.contains('Fenugreek|Low Sodium|Rock Salt|Low Sugar|Low Salt|Brown Rice|Quinoa|Brown Rice|Oat|Yogurt|Lentil|Sugar Free|Saccharin|Sucralose',regex=True))\n",
        "final_data['Diabetic Friendly'] = templist_4\n",
        "##\n",
        "final_data.drop(final_data[final_data.Course == 'High Protein Vegetarian'].index, inplace=True)\n",
        "final_data.drop(final_data[final_data.Course == 'Vegetarian'].index, inplace=True)\n",
        "final_data.drop(final_data[final_data.Course == 'One Pot Dish'].index, inplace=True)\n",
        "\n",
        "temp = list(final_data['Recipe_Name'].str.contains('Chutney|Pickle|Launji|Jam|Achaar|Achar|Muramba',regex=True))\n",
        "final_data['del3'] = temp\n",
        "temp1= []\n",
        "for j,i in final_data.iterrows():\n",
        "  if i['del3'] ==True:\n",
        "    temp1.append('Pickles, Jams and Chutneys')\n",
        "  else:\n",
        "    temp1.append(i['Course'])\n",
        "print(temp1)\n",
        "\n",
        "final_data.loc[final_data['Image_URL'].isna()==True,['Image_URL']]='https://www.sanjeevkapoor.com/images/No_image2.gif'\n",
        "final_data['Image_URL'].isna().value_counts()"
      ],
      "metadata": {
        "colab": {
          "base_uri": "https://localhost:8080/"
        },
        "id": "0uBqnVImq6Pt",
        "outputId": "743ec932-2645-47cd-97d3-f734aa0e1721"
      },
      "execution_count": 237,
      "outputs": [
        {
          "output_type": "stream",
          "name": "stdout",
          "text": [
            "['Rice', 'Rice', 'Breads', 'Desserts', 'Main Course', 'Dals and Kadhis', 'Snacks and Starters', 'Snacks and Starters', 'Snacks and Starters', 'Snacks and Starters', 'Pickles, Jams and Chutneys', 'Main Course', 'Snacks and Starters', 'Snacks and Starters', 'Beverages', 'Main Course', 'Pickles, Jams and Chutneys', 'Snacks and Starters', 'Desserts', 'Snacks and Starters', 'Snacks and Starters', 'Mithais', 'Snacks and Starters', 'Desserts', 'Desserts', 'Snacks and Starters', 'Snacks and Starters', 'Main Course', 'Rice', 'Main Course', 'Main Course', 'Snacks and Starters', 'Snacks and Starters', 'Mithais', 'Main Course', 'Desserts', 'Desserts', 'Gravies, Sauces and Stocks', 'Pickles, Jams and Chutneys', 'Rice', 'Mithais', 'Rice', 'Snacks and Starters', 'Main Course', 'Mithais', 'Breads', 'Snacks and Starters', 'Pickles, Jams and Chutneys', 'Breads', 'Main Course', 'Snacks and Starters', 'Rice', 'Snacks and Starters', 'Mithais', 'Main Course', 'Snacks and Starters', 'Main Course', 'Rice', 'Main Course', 'Desserts', 'Soups', 'Main Course', 'Mithais', 'Snacks and Starters', 'Mithais', 'Snacks and Starters', 'Snacks and Starters', 'Main Course', 'Main Course', 'Snacks and Starters', 'Breads', 'Beverages', 'Beverages', 'Main Course', 'Salads', 'Rice', 'Soups', 'Main Course', 'Main Course', 'Snacks and Starters', 'Snacks and Starters', 'Main Course', 'Main Course', 'Main Course', 'Main Course', 'Main Course', 'Snacks and Starters', 'Snacks and Starters', 'Mithais', 'Main Course', 'Main Course', 'Snacks and Starters', 'Beverages', 'Snacks and Starters', 'Main Course', 'Noodles and Pastas', 'Main Course', 'Desserts', 'Main Course', 'Breads', 'Snacks and Starters', 'Snacks and Starters', 'Snacks and Starters', 'Main Course', 'Snacks and Starters', 'Main Course', 'Snacks and Starters', 'Snacks and Starters', 'Breads', 'Breads', 'Snacks and Starters', 'Snacks and Starters', 'Snacks and Starters', 'Breads', 'Desserts', 'Snacks and Starters', 'Dals and Kadhis', 'Snacks and Starters', 'Snacks and Starters', 'Snacks and Starters', 'Mithais', 'Snacks and Starters', 'Snacks and Starters', 'Mithais', 'Dals and Kadhis', 'Desserts', 'Main Course', 'Desserts', 'Snacks and Starters', 'Snacks and Starters', 'Mithais', 'Mithais', 'Main Course', 'Snacks and Starters', 'Desserts', 'Dals and Kadhis', 'Snacks and Starters', 'Snacks and Starters', 'Snacks and Starters', 'Snacks and Starters', 'Snacks and Starters', 'Snacks and Starters', 'Snacks and Starters', 'Snacks and Starters', 'Dals and Kadhis', 'Rice', 'Rice', 'Breads', 'Pickles, Jams and Chutneys', 'Mithais', 'Desserts', 'Snacks and Starters', 'Snacks and Starters', 'Snacks and Starters', 'Desserts', 'Mithais', 'Desserts', 'Breads', 'Mithais', 'Main Course', 'Desserts', 'Beverages', 'Snacks and Starters', 'Snacks and Starters', 'Main Course', 'Desserts', 'Gravies, Sauces and Stocks', 'Main Course', 'Main Course', 'Mithais', 'Gravies, Sauces and Stocks', 'Gravies, Sauces and Stocks', 'Main Course', 'Snacks and Starters', 'Noodles and Pastas', 'Beverages', 'Mithais', 'Mithais', 'Rice', 'Main Course', 'Mithais', 'Mithais', 'Rice', 'Snacks and Starters', 'Rice', 'Main Course', 'Snacks and Starters', 'Snacks and Starters', 'Snacks and Starters', 'Snacks and Starters', 'Snacks and Starters', 'Snacks and Starters', 'Snacks and Starters', 'Mithais', 'Snacks and Starters', 'Snacks and Starters', 'Mithais', 'Mithais', 'Snacks and Starters', 'Mithais', 'Snacks and Starters', 'Snacks and Starters', 'Mithais', 'Snacks and Starters', 'Main Course', 'Snacks and Starters', 'Snacks and Starters', 'Rice', 'Main Course', 'Snacks and Starters', 'Desserts', 'Snacks and Starters', 'Snacks and Starters', 'Main Course', 'Snacks and Starters', 'Main Course', 'Snacks and Starters', 'Dips', 'Main Course', 'Snacks and Starters', 'Main Course', 'Gravies, Sauces and Stocks', 'Rice', 'Gravies, Sauces and Stocks', 'Snacks and Starters', 'Desserts', 'Snacks and Starters', 'Main Course', 'Main Course', 'Snacks and Starters', 'Pickles, Jams and Chutneys', 'Desserts', 'Desserts', 'Snacks and Starters', 'Snacks and Starters', 'Snacks and Starters', 'Snacks and Starters', 'Snacks and Starters', 'Snacks and Starters', 'Gravies, Sauces and Stocks', 'Snacks and Starters', 'Snacks and Starters', 'Snacks and Starters', 'Snacks and Starters', 'Snacks and Starters', 'Snacks and Starters', 'Breads', 'Snacks and Starters', 'Snacks and Starters', 'Snacks and Starters', 'Snacks and Starters', 'Snacks and Starters', 'Snacks and Starters', 'Mithais', 'Mithais', 'Gravies, Sauces and Stocks', 'Snacks and Starters', 'Desserts', 'Snacks and Starters', 'Snacks and Starters', 'Snacks and Starters', 'Main Course', 'Snacks and Starters', 'Snacks and Starters', 'Breads', 'Snacks and Starters', 'Beverages', 'Snacks and Starters', 'Main Course', 'Main Course', 'Rice', 'Main Course', 'Snacks and Starters', 'Snacks and Starters', 'Salads', 'Snacks and Starters', 'Pickles, Jams and Chutneys', 'Snacks and Starters', 'Snacks and Starters', 'Salads', 'Snacks and Starters', 'Snacks and Starters', 'Snacks and Starters', 'Beverages', 'Snacks and Starters', 'Snacks and Starters', 'Snacks and Starters', 'Snacks and Starters', 'Snacks and Starters', 'Desserts', 'Snacks and Starters', 'Snacks and Starters', 'Main Course', 'Soups', 'Snacks and Starters', 'Breads', 'Desserts', 'Beverages', 'Gravies, Sauces and Stocks', 'Snacks and Starters', 'Dips', 'Beverages', 'Snacks and Starters', 'Snacks and Starters', 'Snacks and Starters', 'Beverages', 'Mithais', 'Beverages', 'Snacks and Starters', 'Desserts', 'Pickles, Jams and Chutneys', 'Snacks and Starters', 'Rice', 'Snacks and Starters', 'Snacks and Starters', 'Main Course', 'Snacks and Starters', 'Main Course', 'Beverages', 'Snacks and Starters', 'Snacks and Starters', 'Main Course', 'Main Course', 'Main Course', 'Desserts', 'Snacks and Starters', 'Dals and Kadhis', 'Desserts', 'Snacks and Starters', 'Main Course', 'Main Course', 'Breads', 'Beverages', 'Main Course', 'Snacks and Starters', 'Desserts', 'Snacks and Starters', 'Main Course', 'Main Course', 'Desserts', 'Pickles, Jams and Chutneys', 'Desserts', 'Snacks and Starters', 'Snacks and Starters', 'Snacks and Starters', 'Desserts', 'Snacks and Starters', 'Main Course', 'Desserts', 'Desserts', 'Pickles, Jams and Chutneys', 'Snacks and Starters', 'Main Course', 'Main Course', 'Main Course', 'Snacks and Starters', 'Main Course', 'Beverages', 'Snacks and Starters', 'Rice', 'Beverages', 'Rice', 'Pickles, Jams and Chutneys', 'Snacks and Starters', 'Snacks and Starters', 'Snacks and Starters', 'Beverages', 'Snacks and Starters', 'Snacks and Starters', 'Snacks and Starters', 'Rice', 'Main Course', 'Desserts', 'Beverages', 'Salads', 'Snacks and Starters', 'Breads', 'Desserts', 'Main Course', 'Beverages', 'Snacks and Starters', 'Snacks and Starters', 'Beverages', 'Desserts', 'Pickles, Jams and Chutneys', 'Snacks and Starters', 'Snacks and Starters', 'Snacks and Starters', 'Snacks and Starters', 'Main Course', 'Desserts', 'Gravies, Sauces and Stocks', 'Main Course', 'Pickles, Jams and Chutneys', 'Noodles and Pastas', 'Main Course', 'Main Course', 'Main Course', 'Salads', 'Main Course', 'Beverages', 'Snacks and Starters', 'Dals and Kadhis', 'Snacks and Starters', 'Main Course', 'Main Course', 'Dips', 'Main Course', 'Rice', 'Snacks and Starters', 'Snacks and Starters', 'Mithais', 'Snacks and Starters', 'Snacks and Starters', 'Main Course', 'Beverages', 'Snacks and Starters', 'Snacks and Starters', 'Snacks and Starters', 'Snacks and Starters', 'Snacks and Starters', 'Snacks and Starters', 'Snacks and Starters', 'Main Course', 'Snacks and Starters', 'Snacks and Starters', 'Snacks and Starters', 'Snacks and Starters', 'Main Course', 'Snacks and Starters', 'Mithais', 'Snacks and Starters', 'Snacks and Starters', 'Snacks and Starters', 'Snacks and Starters', 'Desserts', 'Snacks and Starters', 'Desserts', 'Main Course', 'Snacks and Starters', 'Snacks and Starters', 'Pickles, Jams and Chutneys', 'Snacks and Starters', 'Rice', 'Snacks and Starters', 'Pickles, Jams and Chutneys', 'Main Course', 'Snacks and Starters', 'Snacks and Starters', 'Main Course', 'Desserts', 'Rice', 'Breads', 'Snacks and Starters', 'Desserts', 'Desserts', 'Snacks and Starters', 'Snacks and Starters', 'Main Course', 'Main Course', 'Snacks and Starters', 'Main Course', 'Snacks and Starters', 'Snacks and Starters', 'Snacks and Starters', 'Snacks and Starters', 'Desserts', 'Snacks and Starters', 'Main Course', 'Mithais', 'Snacks and Starters', 'Snacks and Starters', 'Main Course', 'Snacks and Starters', 'Snacks and Starters', 'Snacks and Starters', 'Desserts', 'Rice', 'Desserts', 'Snacks and Starters', 'Snacks and Starters', 'Main Course', 'Snacks and Starters', 'Snacks and Starters', 'Main Course', 'Snacks and Starters', 'Snacks and Starters', 'Salads', 'Desserts', 'Main Course', 'Snacks and Starters', 'Snacks and Starters', 'Snacks and Starters', 'Beverages', 'Main Course', 'Breads', 'Snacks and Starters', 'Main Course', 'Snacks and Starters', 'Snacks and Starters', 'Rice', 'Main Course', 'Beverages', 'Snacks and Starters', 'Desserts', 'Snacks and Starters', 'Snacks and Starters', 'Rice', 'Snacks and Starters', 'Snacks and Starters', 'Snacks and Starters', 'Snacks and Starters', 'Main Course', 'Snacks and Starters', 'Snacks and Starters', 'Main Course', 'Snacks and Starters', 'Snacks and Starters', 'Snacks and Starters', 'Snacks and Starters', 'Snacks and Starters', 'Snacks and Starters', 'Snacks and Starters', 'Snacks and Starters', 'Noodles and Pastas', 'Main Course', 'Snacks and Starters', 'Snacks and Starters', 'Desserts', 'Desserts', 'Main Course', 'Desserts', 'Snacks and Starters', 'Snacks and Starters', 'Main Course', 'Main Course', 'Main Course', 'Rice', 'Noodles and Pastas', 'Snacks and Starters', 'Snacks and Starters', 'Snacks and Starters', 'Main Course', 'Rice', 'Desserts', 'Snacks and Starters', 'Snacks and Starters', 'Mithais', 'Mithais', 'Salads', 'Snacks and Starters', 'Snacks and Starters', 'Snacks and Starters', 'Mithais', 'Snacks and Starters', 'Mithais', 'Mithais', 'Snacks and Starters', 'Main Course', 'Rice', 'Snacks and Starters', 'Beverages', 'Main Course', 'Desserts', 'Snacks and Starters', 'Snacks and Starters', 'Snacks and Starters', 'Snacks and Starters', 'Desserts', 'Rice', 'Snacks and Starters', 'Snacks and Starters', 'Mithais', 'Breads', 'Snacks and Starters', 'Gravies, Sauces and Stocks', 'Snacks and Starters', 'Snacks and Starters', 'Snacks and Starters', 'Snacks and Starters', 'Snacks and Starters', 'Main Course', 'Main Course', 'Soups', 'Desserts', 'Beverages', 'Beverages', 'Main Course', 'Snacks and Starters', 'Snacks and Starters', 'Snacks and Starters', 'Snacks and Starters', 'Snacks and Starters', 'Main Course', 'Main Course', 'Snacks and Starters', 'Snacks and Starters', 'Breads', 'Breads', 'Snacks and Starters', 'Snacks and Starters', 'Breads', 'Pickles, Jams and Chutneys', 'Salads', 'Snacks and Starters', 'Snacks and Starters', 'Main Course', 'Snacks and Starters', 'Snacks and Starters', 'Snacks and Starters', 'Main Course', 'Snacks and Starters', 'Dals and Kadhis', 'Beverages', 'Snacks and Starters', 'Snacks and Starters', 'Snacks and Starters', 'Dals and Kadhis', 'Rice', 'Snacks and Starters', 'Main Course', 'Beverages', 'Main Course', 'Mithais', 'Breads', 'Main Course', 'Mithais', 'Main Course', 'Main Course', 'Snacks and Starters', 'Snacks and Starters', 'Gravies, Sauces and Stocks', 'Main Course', 'Mithais', 'Snacks and Starters', 'Desserts', 'Snacks and Starters', 'Desserts', 'Snacks and Starters', 'Snacks and Starters', 'Snacks and Starters', 'Main Course', 'Snacks and Starters', 'Snacks and Starters', 'Snacks and Starters', 'Snacks and Starters', 'Snacks and Starters', 'Snacks and Starters', 'Rice', 'Breads', 'Main Course', 'Snacks and Starters', 'Snacks and Starters', 'Main Course', 'Snacks and Starters', 'Beverages', 'Mithais', 'Pickles, Jams and Chutneys', 'Snacks and Starters', 'Main Course', 'Dals and Kadhis', 'Beverages', 'Rice', 'Snacks and Starters', 'Snacks and Starters', 'Beverages', 'Snacks and Starters', 'Snacks and Starters', 'Snacks and Starters', 'Snacks and Starters', 'Desserts', 'Snacks and Starters', 'Desserts', 'Main Course', 'Snacks and Starters', 'Dals and Kadhis', 'Snacks and Starters', 'Snacks and Starters', 'Breads', 'Snacks and Starters', 'Breads', 'Rice', 'Snacks and Starters', 'Main Course', 'Mithais', 'Snacks and Starters', 'Main Course', 'Rice', 'Noodles and Pastas', 'Snacks and Starters', 'Snacks and Starters', 'Snacks and Starters', 'Snacks and Starters', 'Main Course', 'Main Course', 'Snacks and Starters', 'Snacks and Starters', 'Dals and Kadhis', 'Desserts', 'Desserts', 'Mithais', 'Snacks and Starters', 'Pickles, Jams and Chutneys', 'Mithais', 'Mithais', 'Snacks and Starters', 'Snacks and Starters', 'Snacks and Starters', 'Mithais', 'Snacks and Starters', 'Snacks and Starters', 'Mithais', 'Mithais', 'Snacks and Starters', 'Snacks and Starters', 'Snacks and Starters', 'Snacks and Starters', 'Snacks and Starters', 'Snacks and Starters', 'Mithais', 'Main Course', 'Mithais', 'Rice', 'Rice', 'Snacks and Starters', 'Snacks and Starters', 'Desserts', 'Beverages', 'Beverages', 'Mithais', 'Snacks and Starters', 'Desserts', 'Breads', 'Snacks and Starters', 'Main Course', 'Mithais', 'Snacks and Starters', 'Pickles, Jams and Chutneys', 'Soups', 'Snacks and Starters', 'Snacks and Starters', 'Snacks and Starters', 'Snacks and Starters', 'Dals and Kadhis', 'Beverages', 'Snacks and Starters', 'Snacks and Starters', 'Snacks and Starters', 'Snacks and Starters', 'Snacks and Starters', 'Snacks and Starters', 'Noodles and Pastas', 'Snacks and Starters', 'Desserts', 'Snacks and Starters', 'Snacks and Starters', 'Snacks and Starters', 'Snacks and Starters', 'Snacks and Starters', 'Breads', 'Beverages', 'Desserts', 'Beverages', 'Pickles, Jams and Chutneys', 'Mithais', 'Pickles, Jams and Chutneys', 'Beverages', 'Main Course', 'Beverages', 'Desserts', 'Desserts', 'Desserts', 'Salads', 'Desserts', 'Mithais', 'Mithais', 'Rice', 'Snacks and Starters', 'Snacks and Starters', 'Powders', 'Snacks and Starters', 'Snacks and Starters', 'Snacks and Starters', 'Main Course', 'Snacks and Starters', 'Snacks and Starters', 'Snacks and Starters', 'Snacks and Starters', 'Beverages', 'Beverages', 'Desserts', 'Beverages', 'Desserts', 'Desserts', 'Snacks and Starters', 'Breads', 'Snacks and Starters', 'Dals and Kadhis', 'Main Course', 'Desserts', 'Snacks and Starters', 'Snacks and Starters', 'Main Course', 'Snacks and Starters', 'Desserts', 'Beverages', 'Snacks and Starters', 'Breads', 'Snacks and Starters', 'Snacks and Starters', 'Main Course', 'Snacks and Starters', 'Breads', 'Snacks and Starters', 'Main Course', 'Snacks and Starters', 'Rice', 'Main Course', 'Snacks and Starters', 'Snacks and Starters', 'Snacks and Starters', 'Snacks and Starters', 'Main Course', 'Snacks and Starters', 'Salads', 'Main Course', 'Main Course', 'Breads', 'Snacks and Starters', 'Salads', 'Desserts', 'Main Course', 'Main Course', 'Desserts', 'Desserts', 'Desserts', 'Desserts', 'Snacks and Starters', 'Salads', 'Main Course', 'Snacks and Starters', 'Breads', 'Snacks and Starters', 'Main Course', 'Snacks and Starters', 'Snacks and Starters', 'Rice', 'Snacks and Starters', 'Snacks and Starters', 'Main Course', 'Snacks and Starters', 'Snacks and Starters', 'Snacks and Starters', 'Snacks and Starters', 'Breads', 'Snacks and Starters', 'Beverages', 'Dals and Kadhis', 'Main Course', 'Main Course', 'Mithais', 'Mithais', 'Mithais', 'Mithais', 'Mithais', 'Mithais', 'Snacks and Starters', 'Snacks and Starters', 'Snacks and Starters', 'Snacks and Starters', 'Rice', 'Snacks and Starters', 'Main Course', 'Snacks and Starters', 'Snacks and Starters', 'Snacks and Starters', 'Snacks and Starters', 'Snacks and Starters', 'Snacks and Starters', 'Breads', 'Snacks and Starters', 'Main Course', 'Dals and Kadhis', 'Snacks and Starters', 'Breads', 'Main Course', 'Dals and Kadhis', 'Snacks and Starters', 'Raitas', 'Snacks and Starters', 'Dals and Kadhis', 'Noodles and Pastas', 'Breads', 'Dals and Kadhis', 'Snacks and Starters', 'Snacks and Starters', 'Pickles, Jams and Chutneys', 'Beverages', 'Pickles, Jams and Chutneys', 'Snacks and Starters', 'Breads', 'Beverages', 'Beverages', 'Snacks and Starters', 'Snacks and Starters', 'Snacks and Starters', 'Main Course', 'Main Course', 'Salads', 'Snacks and Starters', 'Dals and Kadhis', 'Dals and Kadhis', 'Main Course', 'Breads', 'Desserts', 'Desserts', 'Snacks and Starters', 'Snacks and Starters', 'Pickles, Jams and Chutneys', 'Snacks and Starters', 'Main Course', 'Snacks and Starters', 'Snacks and Starters', 'Breads', 'Snacks and Starters', 'Desserts', 'Main Course', 'Snacks and Starters', 'Main Course', 'Dals and Kadhis', 'Snacks and Starters', 'Snacks and Starters', 'Desserts', 'Pickles, Jams and Chutneys', 'Desserts', 'Snacks and Starters', 'Snacks and Starters', 'Snacks and Starters', 'Snacks and Starters', 'Main Course', 'Main Course', 'Main Course', 'Desserts', 'Main Course', 'Noodles and Pastas', 'Breads', 'Rice', 'Noodles and Pastas', 'Main Course', 'Desserts', 'Snacks and Starters', 'Main Course', 'Snacks and Starters', 'Snacks and Starters', 'Snacks and Starters', 'Desserts', 'Pickles, Jams and Chutneys', 'Snacks and Starters', 'Snacks and Starters', 'Snacks and Starters', 'Snacks and Starters', 'Snacks and Starters', 'Snacks and Starters', 'Desserts', 'Main Course', 'Salads', 'Snacks and Starters', 'Breads', 'Snacks and Starters', 'Snacks and Starters', 'Snacks and Starters', 'Desserts', 'Snacks and Starters', 'Snacks and Starters', 'Desserts', 'Dals and Kadhis', 'Pickles, Jams and Chutneys', 'Main Course', 'Snacks and Starters', 'Pickles, Jams and Chutneys', 'Snacks and Starters', 'Main Course', 'Snacks and Starters', 'Rice', 'Snacks and Starters', 'Main Course', 'Main Course', 'Snacks and Starters', 'Desserts', 'Snacks and Starters', 'Main Course', 'Main Course', 'Main Course', 'Snacks and Starters', 'Main Course', 'Breads', 'Desserts', 'Snacks and Starters', 'Mithais', 'Snacks and Starters', 'Snacks and Starters', 'Main Course', 'Dips', 'Soups', 'Rice', 'Soups', 'Soups', 'Snacks and Starters', 'Noodles and Pastas', 'Snacks and Starters', 'Desserts', 'Snacks and Starters', 'Snacks and Starters', 'Snacks and Starters', 'Snacks and Starters', 'Breads', 'Snacks and Starters', 'Snacks and Starters', 'Main Course', 'Desserts', 'Beverages', 'Beverages', 'Snacks and Starters', 'Rice', 'Main Course', 'Main Course', 'Beverages', 'Snacks and Starters', 'Snacks and Starters', 'Snacks and Starters', 'Desserts', 'Snacks and Starters', 'Main Course', 'Desserts', 'Snacks and Starters', 'Snacks and Starters', 'Desserts', 'Pickles, Jams and Chutneys', 'Main Course', 'Dals and Kadhis', 'Salads', 'Rice', 'Snacks and Starters', 'Rice', 'Main Course', 'Main Course', 'Snacks and Starters', 'Snacks and Starters', 'Main Course', 'Main Course', 'Main Course', 'Beverages', 'Breads', 'Snacks and Starters', 'Dals and Kadhis', 'Snacks and Starters', 'Snacks and Starters', 'Snacks and Starters', 'Main Course', 'Snacks and Starters', 'Desserts', 'Desserts', 'Snacks and Starters', 'Snacks and Starters', 'Snacks and Starters', 'Salads', 'Main Course', 'Dals and Kadhis', 'Dips', 'Desserts', 'Beverages', 'Breads', 'Soups', 'Snacks and Starters', 'Main Course', 'Main Course', 'Snacks and Starters', 'Desserts', 'Snacks and Starters', 'Main Course', 'Snacks and Starters', 'Snacks and Starters', 'Main Course', 'Snacks and Starters', 'Snacks and Starters', 'Desserts', 'Snacks and Starters', 'Breads', 'Snacks and Starters', 'Rice', 'Desserts', 'Desserts', 'Dals and Kadhis', 'Snacks and Starters', 'Snacks and Starters', 'Snacks and Starters', 'Main Course', 'Dips', 'Snacks and Starters', 'Main Course', 'Dals and Kadhis', 'Main Course', 'Main Course', 'Main Course', 'Main Course', 'Rice', 'Snacks and Starters', 'Desserts', 'Snacks and Starters', 'Snacks and Starters', 'Snacks and Starters', 'Snacks and Starters', 'Desserts', 'Main Course', 'Snacks and Starters', 'Breads', 'Snacks and Starters', 'Snacks and Starters', 'Mithais', 'Snacks and Starters', 'Beverages', 'Breads', 'Pickles, Jams and Chutneys', 'Snacks and Starters', 'Rice', 'Desserts', 'Snacks and Starters', 'Snacks and Starters', 'Snacks and Starters', 'Snacks and Starters', 'Snacks and Starters', 'Snacks and Starters', 'Breads', 'Snacks and Starters', 'Desserts', 'Snacks and Starters', 'Rice', 'Desserts', 'Desserts', 'Main Course', 'Snacks and Starters', 'Soups', 'Main Course', 'Soups', 'Main Course', 'Desserts', 'Snacks and Starters', 'Snacks and Starters', 'Snacks and Starters', 'Desserts', 'Noodles and Pastas', 'Snacks and Starters', 'Snacks and Starters', 'Main Course', 'Snacks and Starters', 'Snacks and Starters', 'Desserts', 'Snacks and Starters', 'Noodles and Pastas', 'Main Course', 'Main Course', 'Snacks and Starters', 'Snacks and Starters', 'Snacks and Starters', 'Rice', 'Snacks and Starters', 'Pickles, Jams and Chutneys', 'Rice', 'Desserts', 'Breads', 'Snacks and Starters', 'Desserts', 'Desserts', 'Main Course', 'Snacks and Starters', 'Main Course', 'Main Course', 'Snacks and Starters', 'Snacks and Starters', 'Main Course', 'Snacks and Starters', 'Main Course', 'Snacks and Starters', 'Main Course', 'Snacks and Starters', 'Snacks and Starters', 'Main Course', 'Snacks and Starters', 'Main Course', 'Snacks and Starters', 'Dals and Kadhis', 'Snacks and Starters', 'Dals and Kadhis', 'Rice', 'Mithais', 'Snacks and Starters', 'Main Course', 'Snacks and Starters', 'Main Course', 'Snacks and Starters', 'Snacks and Starters', 'Snacks and Starters', 'Dals and Kadhis', 'Desserts', 'Snacks and Starters', 'Snacks and Starters', 'Snacks and Starters', 'Desserts', 'Desserts', 'Main Course', 'Snacks and Starters', 'Snacks and Starters', 'Mithais', 'Main Course', 'Main Course', 'Snacks and Starters', 'Main Course', 'Desserts', 'Main Course', 'Main Course', 'Snacks and Starters', 'Dals and Kadhis', 'Desserts', 'Main Course', 'Rice', 'Main Course', 'Main Course', 'Raitas', 'Rice', 'Desserts', 'Main Course', 'Snacks and Starters', 'Snacks and Starters', 'Main Course', 'Snacks and Starters', 'Pickles, Jams and Chutneys', 'Snacks and Starters', 'Snacks and Starters', 'Main Course', 'Snacks and Starters', 'Main Course', 'Main Course', 'Snacks and Starters', 'Main Course', 'Snacks and Starters', 'Desserts', 'Powders', 'Snacks and Starters', 'Snacks and Starters', 'Raitas', 'Snacks and Starters', 'Snacks and Starters', 'Snacks and Starters', 'Desserts', 'Snacks and Starters', 'Dals and Kadhis', 'Rice', 'Snacks and Starters', 'Main Course', 'Main Course', 'Mithais', 'Dals and Kadhis', 'Main Course', 'Snacks and Starters', 'Main Course', 'Snacks and Starters', 'Main Course', 'Main Course', 'Main Course', 'Main Course', 'Snacks and Starters', 'Snacks and Starters', 'Main Course', 'Main Course', 'Desserts', 'Breads', 'Main Course', 'Soups', 'Snacks and Starters', 'Snacks and Starters', 'Desserts', 'Main Course', 'Snacks and Starters', 'Main Course', 'Main Course', 'Breads', 'Desserts', 'Main Course', 'Main Course', 'Main Course', 'Dals and Kadhis', 'Snacks and Starters', 'Snacks and Starters', 'Snacks and Starters', 'Dals and Kadhis', 'Rice', 'Desserts', 'Desserts', 'Main Course', 'Main Course', 'Snacks and Starters', 'Snacks and Starters', 'Snacks and Starters', 'Rice', 'Snacks and Starters', 'Main Course', 'Snacks and Starters', 'Desserts', 'Snacks and Starters', 'Breads', 'Main Course', 'Rice', 'Beverages', 'Main Course', 'Breads', 'Main Course', 'Breads', 'Snacks and Starters', 'Dals and Kadhis', 'Main Course', 'Main Course', 'Raitas', 'Desserts', 'Dals and Kadhis', 'Pickles, Jams and Chutneys', 'Main Course', 'Snacks and Starters', 'Main Course', 'Snacks and Starters', 'Snacks and Starters', 'Snacks and Starters', 'Snacks and Starters', 'Snacks and Starters', 'Main Course', 'Rice', 'Snacks and Starters', 'Snacks and Starters', 'Main Course', 'Main Course', 'Main Course', 'Snacks and Starters', 'Main Course', 'Snacks and Starters', 'Snacks and Starters', 'Desserts', 'Desserts', 'Main Course', 'Main Course', 'Main Course', 'Salads', 'Snacks and Starters', 'Main Course', 'Main Course', 'Snacks and Starters', 'Rice', 'Main Course', 'Snacks and Starters', 'Snacks and Starters', 'Snacks and Starters', 'Snacks and Starters', 'Snacks and Starters', 'Main Course', 'Noodles and Pastas', 'Snacks and Starters', 'Snacks and Starters', 'Snacks and Starters', 'Dals and Kadhis', 'Desserts', 'Mithais', 'Breads', 'Snacks and Starters', 'Main Course', 'Snacks and Starters', 'Main Course', 'Main Course', 'Snacks and Starters', 'Snacks and Starters', 'Main Course', 'Main Course', 'Desserts', 'Main Course', 'Rice', 'Main Course', 'Snacks and Starters', 'Snacks and Starters', 'Snacks and Starters', 'Snacks and Starters', 'Main Course', 'Main Course', 'Dals and Kadhis', 'Desserts', 'Snacks and Starters', 'Snacks and Starters', 'Dals and Kadhis', 'Snacks and Starters', 'Rice', 'Mithais', 'Desserts', 'Snacks and Starters', 'Pickles, Jams and Chutneys', 'Main Course', 'Main Course', 'Main Course', 'Snacks and Starters', 'Snacks and Starters', 'Snacks and Starters', 'Mithais', 'Snacks and Starters', 'Breads', 'Breads', 'Snacks and Starters', 'Dals and Kadhis', 'Beverages', 'Snacks and Starters', 'Snacks and Starters', 'Snacks and Starters', 'Breads', 'Dals and Kadhis', 'Snacks and Starters', 'Mithais', 'Main Course', 'Rice', 'Snacks and Starters', 'Snacks and Starters', 'Main Course', 'Snacks and Starters', 'Snacks and Starters', 'Pickles, Jams and Chutneys', 'Mithais', 'Snacks and Starters', 'Desserts', 'Snacks and Starters', 'Snacks and Starters', 'Snacks and Starters', 'Snacks and Starters', 'Desserts', 'Snacks and Starters', 'Pickles, Jams and Chutneys', 'Desserts', 'Desserts', 'Desserts', 'Breads', 'Main Course', 'Breads', 'Breads', 'Rice', 'Main Course', 'Snacks and Starters', 'Main Course', 'Main Course', 'Snacks and Starters', 'Dals and Kadhis', 'Mithais', 'Snacks and Starters', 'Main Course', 'Snacks and Starters', 'Main Course', 'Mithais', 'Snacks and Starters', 'Rice', 'Snacks and Starters', 'Mithais', 'Snacks and Starters', 'Desserts', 'Mithais', 'Snacks and Starters', 'Main Course', 'Dals and Kadhis', 'Snacks and Starters', 'Snacks and Starters', 'Snacks and Starters', 'Beverages', 'Rice', 'Powders', 'Snacks and Starters', 'Snacks and Starters', 'Snacks and Starters', 'Rice', 'Soups', 'Desserts', 'Desserts', 'Snacks and Starters', 'Snacks and Starters', 'Snacks and Starters', 'Desserts', 'Soups', 'Pickles, Jams and Chutneys', 'Mithais', 'Desserts', 'Main Course', 'Snacks and Starters', 'Rice', 'Snacks and Starters', 'Main Course', 'Main Course', 'Snacks and Starters', 'Mithais', 'Mithais', 'Snacks and Starters', 'Mithais', 'Raitas', 'Pickles, Jams and Chutneys', 'Mithais', 'Rice', 'Salads', 'Desserts', 'Mithais', 'Snacks and Starters', 'Snacks and Starters', 'Pickles, Jams and Chutneys', 'Snacks and Starters', 'Rice', 'Snacks and Starters', 'Main Course', 'Main Course', 'Snacks and Starters', 'Snacks and Starters', 'Snacks and Starters', 'Soups', 'Rice', 'Snacks and Starters', 'Snacks and Starters', 'Snacks and Starters', 'Snacks and Starters', 'Main Course', 'Snacks and Starters', 'Snacks and Starters', 'Snacks and Starters', 'Rice', 'Snacks and Starters', 'Snacks and Starters', 'Snacks and Starters', 'Main Course', 'Main Course', 'Rice', 'Beverages', 'Beverages', 'Main Course', 'Snacks and Starters', 'Main Course', 'Snacks and Starters', 'Main Course', 'Main Course', 'Snacks and Starters', 'Snacks and Starters', 'Snacks and Starters', 'Mithais', 'Main Course', 'Snacks and Starters', 'Snacks and Starters', 'Snacks and Starters', 'Snacks and Starters', 'Desserts', 'Snacks and Starters', 'Snacks and Starters', 'Snacks and Starters', 'Main Course', 'Snacks and Starters', 'Snacks and Starters', 'Snacks and Starters', 'Dals and Kadhis', 'Snacks and Starters', 'Desserts', 'Desserts', 'Desserts', 'Desserts', 'Salads', 'Beverages', 'Desserts', 'Snacks and Starters', 'Salads', 'Snacks and Starters', 'Dals and Kadhis', 'Snacks and Starters', 'Snacks and Starters', 'Snacks and Starters', 'Rice', 'Snacks and Starters', 'Salads', 'Mithais', 'Main Course', 'Mithais', 'Snacks and Starters', 'Snacks and Starters', 'Snacks and Starters', 'Mithais', 'Snacks and Starters', 'Mithais', 'Main Course', 'Main Course', 'Snacks and Starters', 'Mithais', 'Snacks and Starters', 'Main Course', 'Beverages', 'Snacks and Starters', 'Main Course', 'Snacks and Starters', 'Snacks and Starters', 'Dals and Kadhis', 'Snacks and Starters', 'Pickles, Jams and Chutneys', 'Snacks and Starters', 'Snacks and Starters', 'Snacks and Starters', 'Main Course', 'Main Course', 'Main Course', 'Snacks and Starters', 'Snacks and Starters', 'Snacks and Starters', 'Main Course', 'Snacks and Starters', 'Snacks and Starters', 'Pickles, Jams and Chutneys', 'Snacks and Starters', 'Snacks and Starters', 'Mithais', 'Snacks and Starters', 'Main Course', 'Snacks and Starters', 'Snacks and Starters', 'Snacks and Starters', 'Main Course', 'Salads', 'Breads', 'Snacks and Starters', 'Snacks and Starters', 'Snacks and Starters', 'Main Course', 'Snacks and Starters', 'Beverages', 'Snacks and Starters', 'Main Course', 'Main Course', 'Snacks and Starters', 'Snacks and Starters', 'Snacks and Starters', 'Mithais', 'Mithais', 'Rice', 'Rice', 'Snacks and Starters', 'Snacks and Starters', 'Snacks and Starters', 'Mithais', 'Main Course', 'Snacks and Starters', 'Main Course', 'Main Course', 'Main Course', 'Pickles, Jams and Chutneys', 'Snacks and Starters', 'Snacks and Starters', 'Breads', 'Snacks and Starters', 'Snacks and Starters', 'Soups', 'Breads', 'Breads', 'Main Course', 'Breads', 'Beverages', 'Snacks and Starters', 'Snacks and Starters', 'Breads', 'Snacks and Starters', 'Desserts', 'Breads', 'Mithais', 'Breads', 'Snacks and Starters', 'Main Course', 'Snacks and Starters', 'Main Course', 'Breads', 'Main Course', 'Breads', 'Snacks and Starters', 'Snacks and Starters', 'Snacks and Starters', 'Snacks and Starters', 'Main Course', 'Main Course', 'Main Course', 'Main Course', 'Breads', 'Desserts', 'Snacks and Starters', 'Beverages', 'Beverages', 'Mithais', 'Snacks and Starters', 'Main Course', 'Breads', 'Dals and Kadhis', 'Breads', 'Breads', 'Beverages', 'Breads', 'Breads', 'Breads', 'Breads', 'Pickles, Jams and Chutneys', 'Breads', 'Main Course', 'Snacks and Starters', 'Desserts', 'Snacks and Starters', 'Snacks and Starters', 'Snacks and Starters', 'Snacks and Starters', 'Breads', 'Mithais', 'Main Course', 'Mithais', 'Snacks and Starters', 'Soups', 'Snacks and Starters', 'Main Course', 'Main Course', 'Breads', 'Snacks and Starters', 'Desserts', 'Beverages', 'Desserts', 'Mithais', 'Desserts', 'Snacks and Starters', 'Mithais', 'Snacks and Starters', 'Snacks and Starters', 'Snacks and Starters', 'Main Course', 'Main Course', 'Snacks and Starters', 'Desserts', 'Snacks and Starters', 'Snacks and Starters', 'Mithais', 'Snacks and Starters', 'Breads', 'Mithais', 'Snacks and Starters', 'Snacks and Starters', 'Snacks and Starters', 'Snacks and Starters', 'Snacks and Starters', 'Snacks and Starters', 'Soups', 'Noodles and Pastas', 'Snacks and Starters', 'Main Course', 'Rice', 'Snacks and Starters', 'Snacks and Starters', 'Snacks and Starters', 'Soups', 'Snacks and Starters', 'Breads', 'Main Course', 'Main Course', 'Mithais', 'Soups', 'Snacks and Starters', 'Snacks and Starters', 'Snacks and Starters', 'Snacks and Starters', 'Soups', 'Snacks and Starters', 'Breads', 'Mithais', 'Snacks and Starters', 'Dals and Kadhis', 'Snacks and Starters', 'Snacks and Starters', 'Pickles, Jams and Chutneys', 'Rice', 'Main Course', 'Snacks and Starters', 'Breads', 'Rice', 'Snacks and Starters', 'Snacks and Starters', 'Main Course', 'Snacks and Starters', 'Snacks and Starters', 'Snacks and Starters', 'Snacks and Starters', 'Breads', 'Snacks and Starters', 'Mithais', 'Mithais', 'Snacks and Starters', 'Snacks and Starters', 'Main Course', 'Dals and Kadhis', 'Salads', 'Snacks and Starters', 'Main Course', 'Main Course', 'Snacks and Starters', 'Snacks and Starters', 'Main Course', 'Snacks and Starters', 'Snacks and Starters', 'Snacks and Starters', 'Dals and Kadhis', 'Main Course', 'Main Course', 'Main Course', 'Snacks and Starters', 'Main Course', 'Mithais', 'Main Course', 'Snacks and Starters', 'Mithais', 'Main Course', 'Snacks and Starters', 'Soups', 'Snacks and Starters', 'Snacks and Starters', 'Snacks and Starters', 'Snacks and Starters', 'Snacks and Starters', 'Breads', 'Main Course', 'Mithais', 'Snacks and Starters', 'Snacks and Starters', 'Snacks and Starters', 'Snacks and Starters', 'Dals and Kadhis', 'Snacks and Starters', 'Main Course', 'Snacks and Starters', 'Beverages', 'Snacks and Starters', 'Main Course', 'Snacks and Starters', 'Mithais', 'Breads', 'Snacks and Starters', 'Snacks and Starters', 'Snacks and Starters', 'Pickles, Jams and Chutneys', 'Breads', 'Desserts', 'Snacks and Starters', 'Noodles and Pastas', 'Snacks and Starters', 'Breads', 'Main Course', 'Snacks and Starters', 'Main Course', 'Beverages', 'Snacks and Starters', 'Main Course', 'Snacks and Starters', 'Snacks and Starters', 'Snacks and Starters', 'Desserts', 'Main Course', 'Main Course', 'Snacks and Starters', 'Main Course', 'Snacks and Starters', 'Pickles, Jams and Chutneys', 'Beverages', 'Desserts', 'Snacks and Starters', 'Snacks and Starters', 'Snacks and Starters', 'Snacks and Starters', 'Main Course', 'Snacks and Starters', 'Soups', 'Snacks and Starters', 'Snacks and Starters', 'Snacks and Starters', 'Soups', 'Snacks and Starters', 'Desserts', 'Pickles, Jams and Chutneys', 'Desserts', 'Snacks and Starters', 'Snacks and Starters', 'Breads', 'Main Course', 'Main Course', 'Main Course', 'Snacks and Starters', 'Snacks and Starters', 'Desserts', 'Snacks and Starters', 'Snacks and Starters', 'Snacks and Starters', 'Snacks and Starters', 'Snacks and Starters', 'Desserts', 'Main Course', 'Noodles and Pastas', 'Snacks and Starters', 'Mithais', 'Snacks and Starters', 'Breads', 'Mithais', 'Pickles, Jams and Chutneys', 'Snacks and Starters', 'Main Course', 'Snacks and Starters', 'Beverages', 'Main Course', 'Main Course', 'Rice', 'Snacks and Starters', 'Snacks and Starters', 'Snacks and Starters', 'Snacks and Starters', 'Main Course', 'Main Course', 'Noodles and Pastas', 'Dals and Kadhis', 'Gravies, Sauces and Stocks', 'Rice', 'Beverages', 'Soups', 'Main Course', 'Snacks and Starters', 'Snacks and Starters', 'Beverages', 'Beverages', 'Main Course', 'Snacks and Starters', 'Salads', 'Snacks and Starters', 'Snacks and Starters', 'Beverages', 'Snacks and Starters', 'Snacks and Starters', 'Main Course', 'Beverages', 'Main Course', 'Main Course', 'Snacks and Starters', 'Main Course', 'Dals and Kadhis', 'Snacks and Starters', 'Snacks and Starters', 'Beverages', 'Powders', 'Main Course', 'Main Course', 'Snacks and Starters', 'Snacks and Starters', 'Snacks and Starters', 'Rice', 'Main Course', 'Snacks and Starters', 'Noodles and Pastas', 'Mithais', 'Snacks and Starters', 'Main Course', 'Soups', 'Snacks and Starters', 'Desserts', 'Pickles, Jams and Chutneys', 'Desserts', 'Snacks and Starters', 'Snacks and Starters', 'Snacks and Starters', 'Noodles and Pastas', 'Snacks and Starters', 'Snacks and Starters', 'Snacks and Starters', 'Snacks and Starters', 'Snacks and Starters', 'Desserts', 'Rice', 'Main Course', 'Desserts', 'Mithais', 'Pickles, Jams and Chutneys', 'Main Course', 'Main Course', 'Pickles, Jams and Chutneys', 'Salads', 'Snacks and Starters', 'Snacks and Starters', 'Snacks and Starters', 'Desserts', 'Dals and Kadhis', 'Snacks and Starters', 'Rice', 'Main Course', 'Beverages', 'Snacks and Starters', 'Soups', 'Main Course', 'Snacks and Starters', 'Snacks and Starters', 'Snacks and Starters', 'Main Course', 'Snacks and Starters', 'Snacks and Starters', 'Snacks and Starters', 'Rice', 'Snacks and Starters', 'Desserts', 'Main Course', 'Snacks and Starters', 'Snacks and Starters', 'Breads', 'Snacks and Starters', 'Main Course', 'Snacks and Starters', 'Snacks and Starters', 'Main Course', 'Rice', 'Powders', 'Soups', 'Snacks and Starters', 'Breads', 'Dals and Kadhis', 'Beverages', 'Snacks and Starters', 'Main Course', 'Main Course', 'Snacks and Starters', 'Snacks and Starters', 'Snacks and Starters', 'Snacks and Starters', 'Rice', 'Soups', 'Pickles, Jams and Chutneys', 'Snacks and Starters', 'Rice', 'Rice', 'Rice', 'Snacks and Starters', 'Main Course', 'Dals and Kadhis', 'Main Course', 'Snacks and Starters', 'Snacks and Starters', 'Snacks and Starters', 'Main Course', 'Soups', 'Main Course', 'Breads', 'Main Course', 'Snacks and Starters', 'Main Course', 'Mithais', 'Main Course', 'Snacks and Starters', 'Rice', 'Main Course', 'Main Course', 'Main Course', 'Main Course', 'Main Course', 'Snacks and Starters', 'Snacks and Starters', 'Pickles, Jams and Chutneys', 'Snacks and Starters', 'Dals and Kadhis', 'Dals and Kadhis', 'Snacks and Starters', 'Pickles, Jams and Chutneys', 'Snacks and Starters', 'Main Course', 'Main Course', 'Main Course', 'Main Course', 'Breads', 'Mithais', 'Snacks and Starters', 'Breads', 'Snacks and Starters', 'Snacks and Starters', 'Snacks and Starters', 'Snacks and Starters', 'Mithais', 'Snacks and Starters', 'Dals and Kadhis', 'Snacks and Starters', 'Snacks and Starters', 'Soups', 'Main Course', 'Desserts', 'Desserts', 'Snacks and Starters', 'Main Course', 'Main Course', 'Snacks and Starters', 'Main Course', 'Snacks and Starters', 'Main Course', 'Snacks and Starters', 'Mithais', 'Snacks and Starters', 'Snacks and Starters', 'Snacks and Starters', 'Pickles, Jams and Chutneys', 'Snacks and Starters', 'Snacks and Starters', 'Main Course', 'Snacks and Starters', 'Breads', 'Beverages', 'Snacks and Starters', 'Main Course', 'Desserts', 'Pickles, Jams and Chutneys', 'Beverages', 'Main Course', 'Desserts', 'Desserts', 'Desserts', 'Rice', 'Main Course', 'Main Course', 'Snacks and Starters', 'Salads', 'Rice', 'Main Course', 'Main Course', 'Snacks and Starters', 'Beverages', 'Main Course', 'Beverages', 'Mithais', 'Main Course', 'Snacks and Starters', 'Main Course', 'Beverages', 'Beverages', 'Beverages', 'Snacks and Starters', 'Desserts', 'Snacks and Starters', 'Main Course', 'Snacks and Starters', 'Main Course', 'Mithais', 'Main Course', 'Mithais', 'Pickles, Jams and Chutneys', 'Pickles, Jams and Chutneys', 'Snacks and Starters', 'Snacks and Starters', 'Beverages', 'Snacks and Starters', 'Main Course', 'Snacks and Starters', 'Snacks and Starters', 'Snacks and Starters', 'Rice', 'Dals and Kadhis', 'Pickles, Jams and Chutneys', 'Rice', 'Beverages', 'Snacks and Starters', 'Snacks and Starters', 'Snacks and Starters', 'Mithais', 'Snacks and Starters', 'Snacks and Starters', 'Snacks and Starters', 'Pickles, Jams and Chutneys', 'Snacks and Starters', 'Dals and Kadhis', 'Main Course', 'Pickles, Jams and Chutneys', 'Main Course', 'Snacks and Starters', 'Rice', 'Mithais', 'Raitas', 'Desserts', 'Desserts', 'Main Course', 'Beverages', 'Main Course', 'Main Course', 'Main Course', 'Snacks and Starters', 'Snacks and Starters', 'Beverages', 'Main Course', 'Pickles, Jams and Chutneys', 'Pickles, Jams and Chutneys', 'Snacks and Starters', 'Main Course', 'Snacks and Starters', 'Main Course', 'Desserts', 'Snacks and Starters', 'Snacks and Starters', 'Snacks and Starters', 'Snacks and Starters', 'Snacks and Starters', 'Snacks and Starters', 'Snacks and Starters', 'Main Course', 'Snacks and Starters', 'Snacks and Starters', 'Mithais', 'Snacks and Starters', 'Snacks and Starters', 'Main Course', 'Beverages', 'Snacks and Starters', 'Salads', 'Breads', 'Breads', 'Snacks and Starters', 'Breads', 'Snacks and Starters', 'Pickles, Jams and Chutneys', 'Salads', 'Breads', 'Snacks and Starters', 'Beverages', 'Rice', 'Snacks and Starters', 'Main Course', 'Snacks and Starters', 'Main Course', 'Main Course', 'Snacks and Starters', 'Dals and Kadhis', 'Snacks and Starters', 'Snacks and Starters', 'Rice', 'Snacks and Starters', 'Rice', 'Snacks and Starters', 'Main Course', 'Snacks and Starters', 'Snacks and Starters', 'Desserts', 'Snacks and Starters', 'Snacks and Starters', 'Desserts', 'Rice', 'Desserts', 'Main Course', 'Snacks and Starters', 'Main Course', 'Snacks and Starters', 'Main Course', 'Main Course', 'Snacks and Starters', 'Main Course', 'Main Course', 'Main Course', 'Rice', 'Snacks and Starters', 'Main Course', 'Desserts', 'Snacks and Starters', 'Main Course', 'Main Course', 'Snacks and Starters', 'Main Course', 'Mithais', 'Desserts', 'Main Course', 'Desserts', 'Snacks and Starters', 'Snacks and Starters', 'Mithais', 'Desserts', 'Snacks and Starters', 'Snacks and Starters', 'Snacks and Starters', 'Mithais', 'Main Course', 'Main Course', 'Snacks and Starters', 'Main Course', 'Main Course', 'Desserts', 'Snacks and Starters', 'Breads', 'Snacks and Starters', 'Desserts', 'Mithais', 'Snacks and Starters', 'Snacks and Starters', 'Main Course', 'Snacks and Starters', 'Desserts', 'Breads', 'Snacks and Starters', 'Main Course', 'Desserts', 'Breads', 'Snacks and Starters', 'Pickles, Jams and Chutneys', 'Snacks and Starters', 'Mithais', 'Mithais', 'Snacks and Starters', 'Desserts', 'Snacks and Starters', 'Breads', 'Snacks and Starters', 'Snacks and Starters', 'Snacks and Starters', 'Soups', 'Snacks and Starters', 'Desserts', 'Noodles and Pastas', 'Main Course', 'Mithais', 'Snacks and Starters', 'Breads', 'Pickles, Jams and Chutneys', 'Pickles, Jams and Chutneys', 'Breads', 'Salads', 'Snacks and Starters', 'Snacks and Starters', 'Snacks and Starters', 'Snacks and Starters', 'Beverages', 'Beverages', 'Snacks and Starters', 'Snacks and Starters', 'Snacks and Starters', 'Salads', 'Desserts', 'Snacks and Starters', 'Pickles, Jams and Chutneys', 'Snacks and Starters', 'Desserts', 'Desserts', 'Main Course', 'Snacks and Starters', 'Beverages', 'Snacks and Starters', 'Main Course', 'Beverages', 'Desserts', 'Desserts', 'Desserts', 'Desserts', 'Pickles, Jams and Chutneys', 'Snacks and Starters', 'Snacks and Starters', 'Snacks and Starters', 'Snacks and Starters', 'Main Course', 'Snacks and Starters', 'Main Course', 'Snacks and Starters', 'Main Course', 'Beverages', 'Snacks and Starters', 'Snacks and Starters', 'Desserts', 'Main Course', 'Snacks and Starters', 'Snacks and Starters', 'Snacks and Starters', 'Snacks and Starters', 'Desserts', 'Snacks and Starters', 'Snacks and Starters', 'Desserts', 'Desserts', 'Snacks and Starters', 'Rice', 'Snacks and Starters', 'Noodles and Pastas', 'Snacks and Starters', 'Snacks and Starters', 'Snacks and Starters', 'Dals and Kadhis', 'Snacks and Starters', 'Rice', 'Beverages', 'Desserts', 'Breads', 'Snacks and Starters', 'Snacks and Starters', 'Snacks and Starters', 'Mithais', 'Snacks and Starters', 'Main Course', 'Main Course', 'Snacks and Starters', 'Snacks and Starters', 'Snacks and Starters', 'Snacks and Starters', 'Desserts', 'Snacks and Starters', 'Desserts', 'Desserts', 'Snacks and Starters', 'Main Course', 'Snacks and Starters', 'Snacks and Starters', 'Snacks and Starters', 'Snacks and Starters', 'Snacks and Starters', 'Snacks and Starters', 'Breads', 'Snacks and Starters', 'Snacks and Starters', 'Snacks and Starters', 'Beverages', 'Desserts', 'Desserts', 'Desserts', 'Beverages', 'Snacks and Starters', 'Snacks and Starters', 'Noodles and Pastas', 'Breads', 'Snacks and Starters', 'Desserts', 'Snacks and Starters', 'Desserts', 'Snacks and Starters', 'Main Course', 'Main Course', 'Snacks and Starters', 'Breads', 'Rice', 'Snacks and Starters', 'Desserts', 'Salads', 'Desserts', 'Desserts', 'Desserts', 'Snacks and Starters', 'Breads', 'Main Course', 'Desserts', 'Desserts', 'Snacks and Starters', 'Snacks and Starters', 'Beverages', 'Snacks and Starters', 'Snacks and Starters', 'Beverages', 'Beverages', 'Salads', 'Desserts', 'Desserts', 'Mithais', 'Pickles, Jams and Chutneys', 'Snacks and Starters', 'Beverages', 'Desserts', 'Snacks and Starters', 'Snacks and Starters', 'Desserts', 'Mithais', 'Snacks and Starters', 'Desserts', 'Snacks and Starters', 'Snacks and Starters', 'Snacks and Starters', 'Snacks and Starters', 'Pickles, Jams and Chutneys', 'Main Course', 'Main Course', 'Snacks and Starters', 'Breads', 'Desserts', 'Snacks and Starters', 'Pickles, Jams and Chutneys', 'Pickles, Jams and Chutneys', 'Snacks and Starters', 'Snacks and Starters', 'Main Course', 'Snacks and Starters', 'Snacks and Starters', 'Snacks and Starters', 'Snacks and Starters', 'Snacks and Starters', 'Snacks and Starters', 'Snacks and Starters', 'Desserts', 'Desserts', 'Snacks and Starters', 'Desserts', 'Main Course', 'Snacks and Starters', 'Snacks and Starters', 'Snacks and Starters', 'Beverages', 'Snacks and Starters', 'Snacks and Starters', 'Snacks and Starters', 'Snacks and Starters', 'Snacks and Starters', 'Snacks and Starters', 'Snacks and Starters', 'Breads', 'Snacks and Starters', 'Desserts', 'Snacks and Starters', 'Snacks and Starters', 'Desserts', 'Desserts', 'Gravies, Sauces and Stocks', 'Snacks and Starters', 'Breads', 'Snacks and Starters', 'Snacks and Starters', 'Snacks and Starters', 'Pickles, Jams and Chutneys', 'Main Course', 'Desserts', 'Beverages', 'Snacks and Starters', 'Snacks and Starters', 'Mithais', 'Rice', 'Snacks and Starters', 'Snacks and Starters', 'Snacks and Starters', 'Snacks and Starters', 'Snacks and Starters', 'Snacks and Starters', 'Snacks and Starters', 'Snacks and Starters', 'Snacks and Starters', 'Snacks and Starters', 'Snacks and Starters', 'Snacks and Starters', 'Snacks and Starters', 'Main Course', 'Desserts', 'Snacks and Starters', 'Snacks and Starters', 'Snacks and Starters', 'Desserts', 'Desserts', 'Desserts', 'Beverages', 'Desserts', 'Snacks and Starters', 'Breads', 'Pickles, Jams and Chutneys', 'Pickles, Jams and Chutneys', 'Desserts', 'Snacks and Starters', 'Desserts', 'Beverages', 'Desserts', 'Gravies, Sauces and Stocks', 'Snacks and Starters', 'Desserts', 'Desserts', 'Beverages', 'Desserts', 'Beverages', 'Desserts', 'Snacks and Starters', 'Snacks and Starters', 'Snacks and Starters', 'Snacks and Starters', 'Snacks and Starters', 'Snacks and Starters', 'Rice', 'Snacks and Starters', 'Snacks and Starters', 'Rice', 'Snacks and Starters', 'Noodles and Pastas', 'Noodles and Pastas', 'Snacks and Starters', 'Snacks and Starters', 'Snacks and Starters', 'Snacks and Starters', 'Snacks and Starters', 'Salads', 'Snacks and Starters', 'Snacks and Starters', 'Snacks and Starters', 'Snacks and Starters', 'Snacks and Starters', 'Snacks and Starters', 'Snacks and Starters', 'Snacks and Starters', 'Noodles and Pastas', 'Rice', 'Breads', 'Snacks and Starters', 'Snacks and Starters', 'Snacks and Starters', 'Pickles, Jams and Chutneys', 'Desserts', 'Snacks and Starters', 'Snacks and Starters', 'Snacks and Starters', 'Snacks and Starters', 'Snacks and Starters', 'Snacks and Starters', 'Snacks and Starters', 'Desserts', 'Snacks and Starters', 'Snacks and Starters', 'Noodles and Pastas', 'Desserts', 'Snacks and Starters', 'Mithais', 'Breads', 'Salads', 'Snacks and Starters', 'Main Course', 'Main Course', 'Snacks and Starters', 'Desserts', 'Desserts', 'Snacks and Starters', 'Desserts', 'Beverages', 'Desserts', 'Desserts', 'Beverages', 'Desserts', 'Desserts', 'Beverages', 'Snacks and Starters', 'Desserts', 'Main Course', 'Desserts', 'Snacks and Starters', 'Beverages', 'Snacks and Starters', 'Snacks and Starters', 'Snacks and Starters', 'Snacks and Starters', 'Snacks and Starters', 'Snacks and Starters', 'Snacks and Starters', 'Snacks and Starters', 'Snacks and Starters', 'Snacks and Starters', 'Desserts', 'Pickles, Jams and Chutneys', 'Desserts', 'Mithais', 'Snacks and Starters', 'Desserts', 'Beverages', 'Desserts', 'Desserts', 'Desserts', 'Beverages', 'Mithais', 'Desserts', 'Snacks and Starters', 'Noodles and Pastas', 'Beverages', 'Snacks and Starters', 'Main Course', 'Snacks and Starters', 'Breads', 'Gravies, Sauces and Stocks', 'Main Course', 'Main Course', 'Snacks and Starters', 'Main Course', 'Snacks and Starters', 'Main Course', 'Soups', 'Snacks and Starters', 'Snacks and Starters', 'Snacks and Starters', 'Main Course', 'Gravies, Sauces and Stocks', 'Desserts', 'Main Course', 'Main Course', 'Main Course', 'Snacks and Starters', 'Mithais', 'Soups', 'Salads', 'Salads', 'Soups', 'Snacks and Starters', 'Snacks and Starters', 'Main Course', 'Salads', 'Main Course', 'Soups', 'Main Course', 'Snacks and Starters', 'Breads', 'Dals and Kadhis', 'Desserts', 'Snacks and Starters', 'Beverages', 'Beverages', 'Snacks and Starters', 'Main Course', 'Snacks and Starters', 'Raitas', 'Snacks and Starters', 'Mithais', 'Rice', 'Desserts', 'Salads', 'Snacks and Starters', 'Breads', 'Snacks and Starters', 'Snacks and Starters', 'Snacks and Starters', 'Snacks and Starters', 'Breads', 'Main Course', 'Snacks and Starters', 'Soups', 'Noodles and Pastas', 'Snacks and Starters', 'Main Course', 'Main Course', 'Snacks and Starters', 'Rice', 'Dals and Kadhis', 'Desserts', 'Main Course', 'Snacks and Starters', 'Pickles, Jams and Chutneys', 'Main Course', 'Main Course', 'Breads', 'Snacks and Starters', 'Mithais', 'Snacks and Starters', 'Snacks and Starters', 'Snacks and Starters', 'Gravies, Sauces and Stocks', 'Main Course', 'Main Course', 'Main Course', 'Main Course', 'Beverages', 'Snacks and Starters', 'Snacks and Starters', 'Snacks and Starters', 'Salads', 'Pickles, Jams and Chutneys', 'Salads', 'Raitas', 'Snacks and Starters', 'Main Course', 'Main Course', 'Snacks and Starters', 'Main Course', 'Snacks and Starters', 'Snacks and Starters', 'Breads', 'Beverages', 'Desserts', 'Desserts', 'Beverages', 'Mithais', 'Beverages', 'Raitas', 'Main Course', 'Desserts', 'Snacks and Starters', 'Snacks and Starters', 'Main Course', 'Main Course', 'Snacks and Starters', 'Snacks and Starters', 'Snacks and Starters', 'Snacks and Starters', 'Snacks and Starters', 'Rice', 'Snacks and Starters', 'Rice', 'Snacks and Starters', 'Snacks and Starters', 'Salads', 'Main Course', 'Snacks and Starters', 'Soups', 'Snacks and Starters', 'Beverages', 'Noodles and Pastas', 'Main Course', 'Main Course', 'Breads', 'Snacks and Starters', 'Rice', 'Pickles, Jams and Chutneys', 'Desserts', 'Desserts', 'Noodles and Pastas', 'Main Course', 'Snacks and Starters', 'Main Course', 'Snacks and Starters', 'Snacks and Starters', 'Snacks and Starters', 'Main Course', 'Snacks and Starters', 'Snacks and Starters', 'Snacks and Starters', 'Main Course', 'Mithais', 'Main Course', 'Main Course', 'Snacks and Starters', 'Snacks and Starters', 'Snacks and Starters', 'Desserts', 'Desserts', 'Beverages', 'Mithais', 'Soups', 'Salads', 'Main Course', 'Main Course', 'Main Course', 'Main Course', 'Snacks and Starters', 'Snacks and Starters', 'Main Course', 'Main Course', 'Snacks and Starters', 'Snacks and Starters', 'Snacks and Starters', 'Snacks and Starters', 'Desserts', 'Snacks and Starters', 'Beverages', 'Raitas', 'Snacks and Starters', 'Desserts', 'Main Course', 'Main Course', 'Snacks and Starters', 'Main Course', 'Main Course', 'Snacks and Starters', 'Mithais', 'Main Course', 'Main Course', 'Breads', 'Snacks and Starters', 'Main Course', 'Main Course', 'Breads', 'Main Course', 'Snacks and Starters', 'Snacks and Starters', 'Desserts', 'Snacks and Starters', 'Pickles, Jams and Chutneys', 'Main Course', 'Snacks and Starters', 'Snacks and Starters', 'Snacks and Starters', 'Main Course', 'Desserts', 'Snacks and Starters', 'Snacks and Starters', 'Snacks and Starters', 'Desserts', 'Snacks and Starters', 'Snacks and Starters', 'Soups', 'Snacks and Starters', 'Desserts', 'Main Course', 'Desserts', 'Mithais', 'Main Course', 'Snacks and Starters', 'Snacks and Starters', 'Main Course', 'Main Course', 'Rice', 'Snacks and Starters', 'Snacks and Starters', 'Snacks and Starters', 'Main Course', 'Main Course', 'Main Course', 'Main Course', 'Main Course', 'Desserts', 'Dals and Kadhis', 'Pickles, Jams and Chutneys', 'Pickles, Jams and Chutneys', 'Snacks and Starters', 'Main Course', 'Snacks and Starters', 'Desserts', 'Rice', 'Main Course', 'Snacks and Starters', 'Snacks and Starters', 'Snacks and Starters', 'Main Course', 'Snacks and Starters', 'Snacks and Starters', 'Mithais', 'Snacks and Starters', 'Salads', 'Salads', 'Salads', 'Main Course', 'Beverages', 'Snacks and Starters', 'Main Course', 'Main Course', 'Beverages', 'Main Course', 'Mithais', 'Main Course', 'Snacks and Starters', 'Snacks and Starters', 'Desserts', 'Snacks and Starters', 'Soups', 'Salads', 'Main Course', 'Snacks and Starters', 'Snacks and Starters', 'Snacks and Starters', 'Snacks and Starters', 'Main Course', 'Soups', 'Snacks and Starters', 'Desserts', 'Noodles and Pastas', 'Snacks and Starters', 'Desserts', 'Main Course', 'Snacks and Starters', 'Snacks and Starters', 'Pickles, Jams and Chutneys', 'Snacks and Starters', 'Breads', 'Snacks and Starters', 'Snacks and Starters', 'Snacks and Starters', 'Desserts', 'Snacks and Starters', 'Snacks and Starters', 'Main Course', 'Desserts', 'Desserts', 'Rice', 'Soups', 'Snacks and Starters', 'Desserts', 'Rice', 'Snacks and Starters', 'Desserts', 'Snacks and Starters', 'Snacks and Starters', 'Snacks and Starters', 'Desserts', 'Desserts', 'Main Course', 'Main Course', 'Snacks and Starters', 'Snacks and Starters', 'Snacks and Starters', 'Snacks and Starters', 'Main Course', 'Snacks and Starters', 'Main Course', 'Main Course', 'Snacks and Starters', 'Snacks and Starters', 'Main Course', 'Snacks and Starters', 'Snacks and Starters', 'Rice', 'Snacks and Starters', 'Salads', 'Snacks and Starters', 'Main Course', 'Salads', 'Snacks and Starters', 'Snacks and Starters', 'Snacks and Starters', 'Snacks and Starters', 'Snacks and Starters', 'Snacks and Starters', 'Main Course', 'Rice', 'Soups', 'Soups', 'Main Course', 'Snacks and Starters', 'Soups', 'Noodles and Pastas', 'Rice', 'Noodles and Pastas', 'Main Course', 'Main Course', 'Desserts', 'Desserts', 'Desserts', 'Desserts', 'Desserts', 'Desserts', 'Pickles, Jams and Chutneys', 'Beverages', 'Snacks and Starters', 'Gravies, Sauces and Stocks', 'Noodles and Pastas', 'Desserts', 'Snacks and Starters', 'Main Course', 'Breads', 'Breads', 'Snacks and Starters', 'Snacks and Starters', 'Snacks and Starters', 'Snacks and Starters', 'Snacks and Starters', 'Snacks and Starters', 'Mithais', 'Mithais', 'Main Course', 'Snacks and Starters', 'Gravies, Sauces and Stocks', 'Snacks and Starters', 'Gravies, Sauces and Stocks', 'Gravies, Sauces and Stocks', 'Pickles, Jams and Chutneys', 'Snacks and Starters', 'Snacks and Starters', 'Snacks and Starters', 'Snacks and Starters', 'Snacks and Starters', 'Snacks and Starters', 'Main Course', 'Main Course', 'Beverages', 'Desserts', 'Snacks and Starters', 'Snacks and Starters', 'Main Course', 'Main Course', 'Snacks and Starters', 'Snacks and Starters', 'Breads', 'Snacks and Starters', 'Beverages', 'Snacks and Starters', 'Mithais', 'Main Course', 'Pickles, Jams and Chutneys', 'Noodles and Pastas', 'Snacks and Starters', 'Main Course', 'Pickles, Jams and Chutneys', 'Snacks and Starters', 'Pickles, Jams and Chutneys', 'Main Course', 'Desserts', 'Soups', 'Rice', 'Desserts', 'Desserts', 'Main Course', 'Salads', 'Beverages', 'Snacks and Starters', 'Rice', 'Main Course', 'Mithais', 'Mithais', 'Snacks and Starters', 'Breads', 'Snacks and Starters', 'Snacks and Starters', 'Mithais', 'Main Course', 'Main Course', 'Main Course', 'Snacks and Starters', 'Snacks and Starters', 'Main Course', 'Main Course', 'Mithais', 'Main Course', 'Main Course', 'Snacks and Starters', 'Breads', 'Main Course', 'Main Course', 'Snacks and Starters', 'Snacks and Starters', 'Snacks and Starters', 'Main Course', 'Main Course', 'Mithais', 'Snacks and Starters', 'Snacks and Starters', 'Desserts', 'Snacks and Starters', 'Snacks and Starters', 'Snacks and Starters', 'Desserts', 'Snacks and Starters', 'Noodles and Pastas', 'Rice', 'Dals and Kadhis', 'Snacks and Starters', 'Snacks and Starters', 'Pickles, Jams and Chutneys', 'Pickles, Jams and Chutneys', 'Snacks and Starters', 'Snacks and Starters', 'Snacks and Starters', 'Main Course', 'Main Course', 'Snacks and Starters', 'Snacks and Starters', 'Main Course', 'Desserts', 'Pickles, Jams and Chutneys', 'Desserts', 'Soups', 'Snacks and Starters', 'Salads', 'Desserts', 'Desserts', 'Desserts', 'Salads', 'Main Course', 'Main Course', 'Main Course', 'Snacks and Starters', 'Salads', 'Gravies, Sauces and Stocks', 'Snacks and Starters', 'Salads', 'Desserts', 'Main Course', 'Main Course', 'Main Course', 'Desserts', 'Snacks and Starters', 'Breads', 'Snacks and Starters', 'Snacks and Starters', 'Main Course', 'Snacks and Starters', 'Snacks and Starters', 'Snacks and Starters', 'Beverages', 'Snacks and Starters', 'Desserts', 'Snacks and Starters', 'Snacks and Starters', 'Snacks and Starters', 'Snacks and Starters', 'Snacks and Starters', 'Snacks and Starters', 'Snacks and Starters', 'Snacks and Starters', 'Snacks and Starters', 'Desserts', 'Main Course', 'Snacks and Starters', 'Beverages', 'Beverages', 'Snacks and Starters', 'Snacks and Starters', 'Main Course', 'Snacks and Starters', 'Snacks and Starters', 'Snacks and Starters', 'Desserts', 'Desserts', 'Pickles, Jams and Chutneys', 'Desserts', 'Soups', 'Rice', 'Pickles, Jams and Chutneys', 'Desserts', 'Mithais', 'Snacks and Starters', 'Main Course', 'Dals and Kadhis', 'Dals and Kadhis', 'Snacks and Starters', 'Desserts', 'Desserts', 'Snacks and Starters', 'Snacks and Starters', 'Snacks and Starters', 'Snacks and Starters', 'Snacks and Starters', 'Rice', 'Main Course', 'Snacks and Starters', 'Main Course', 'Main Course', 'Rice', 'Main Course', 'Main Course', 'Pickles, Jams and Chutneys', 'Snacks and Starters', 'Main Course', 'Main Course', 'Snacks and Starters', 'Salads', 'Desserts', 'Snacks and Starters', 'Dals and Kadhis', 'Pickles, Jams and Chutneys', 'Main Course', 'Desserts', 'Desserts', 'Snacks and Starters', 'Snacks and Starters', 'Main Course', 'Noodles and Pastas', 'Main Course', 'Snacks and Starters', 'Salads', 'Rice', 'Desserts', 'Rice', 'Snacks and Starters', 'Main Course', 'Snacks and Starters', 'Main Course', 'Desserts', 'Snacks and Starters', 'Rice', 'Main Course', 'Snacks and Starters', 'Snacks and Starters', 'Breads', 'Snacks and Starters', 'Main Course', 'Main Course', 'Snacks and Starters', 'Snacks and Starters', 'Snacks and Starters', 'Desserts', 'Main Course', 'Main Course', 'Desserts', 'Snacks and Starters', 'Breads', 'Snacks and Starters', 'Mithais', 'Snacks and Starters', 'Noodles and Pastas', 'Desserts', 'Main Course', 'Main Course', 'Snacks and Starters', 'Main Course', 'Main Course', 'Main Course', 'Main Course', 'Main Course', 'Rice', 'Snacks and Starters', 'Snacks and Starters', 'Snacks and Starters', 'Snacks and Starters', 'Snacks and Starters', 'Pickles, Jams and Chutneys', 'Desserts', 'Snacks and Starters', 'Snacks and Starters', 'Main Course', 'Snacks and Starters', 'Noodles and Pastas', 'Rice', 'Mithais', 'Snacks and Starters', 'Dals and Kadhis', 'Desserts', 'Snacks and Starters', 'Main Course', 'Mithais', 'Snacks and Starters', 'Dals and Kadhis', 'Snacks and Starters', 'Breads', 'Main Course', 'Rice', 'Snacks and Starters', 'Main Course', 'Snacks and Starters', 'Dals and Kadhis', 'Main Course', 'Main Course', 'Main Course', 'Snacks and Starters', 'Main Course', 'Pickles, Jams and Chutneys', 'Soups', 'Main Course', 'Desserts', 'Rice', 'Desserts', 'Main Course', 'Snacks and Starters', 'Main Course', 'Snacks and Starters', 'Main Course', 'Soups', 'Snacks and Starters', 'Main Course', 'Mithais', 'Mithais', 'Snacks and Starters', 'Snacks and Starters', 'Snacks and Starters', 'Snacks and Starters', 'Main Course', 'Snacks and Starters', 'Breads', 'Rice', 'Snacks and Starters', 'Main Course', 'Main Course', 'Snacks and Starters', 'Dals and Kadhis', 'Main Course', 'Main Course', 'Main Course', 'Main Course', 'Snacks and Starters', 'Snacks and Starters', 'Snacks and Starters', 'Snacks and Starters', 'Breads', 'Snacks and Starters', 'Soups', 'Main Course', 'Main Course', 'Main Course', 'Main Course', 'Main Course', 'Snacks and Starters', 'Snacks and Starters', 'Rice', 'Snacks and Starters', 'Snacks and Starters', 'Snacks and Starters', 'Snacks and Starters', 'Breads', 'Desserts', 'Breads', 'Desserts', 'Main Course', 'Snacks and Starters', 'Snacks and Starters', 'Snacks and Starters', 'Dals and Kadhis', 'Main Course', 'Snacks and Starters', 'Beverages', 'Mithais', 'Mithais', 'Snacks and Starters', 'Main Course', 'Snacks and Starters', 'Beverages', 'Mithais', 'Mithais', 'Snacks and Starters', 'Snacks and Starters', 'Snacks and Starters', 'Main Course', 'Main Course', 'Main Course', 'Main Course', 'Desserts', 'Mithais', 'Main Course', 'Pickles, Jams and Chutneys', 'Snacks and Starters', 'Main Course', 'Pickles, Jams and Chutneys', 'Desserts', 'Snacks and Starters', 'Pickles, Jams and Chutneys', 'Mithais', 'Snacks and Starters', 'Main Course', 'Salads', 'Breads', 'Snacks and Starters', 'Mithais', 'Desserts', 'Main Course', 'Snacks and Starters', 'Snacks and Starters', 'Main Course', 'Main Course', 'Snacks and Starters', 'Snacks and Starters', 'Snacks and Starters', 'Snacks and Starters', 'Pickles, Jams and Chutneys', 'Beverages', 'Snacks and Starters', 'Snacks and Starters', 'Main Course', 'Desserts', 'Breads', 'Main Course', 'Snacks and Starters', 'Snacks and Starters', 'Snacks and Starters', 'Pickles, Jams and Chutneys', 'Rice', 'Pickles, Jams and Chutneys', 'Snacks and Starters', 'Main Course', 'Pickles, Jams and Chutneys', 'Snacks and Starters', 'Beverages', 'Snacks and Starters', 'Beverages', 'Snacks and Starters', 'Desserts', 'Main Course', 'Main Course', 'Main Course', 'Rice', 'Main Course', 'Main Course', 'Rice', 'Snacks and Starters', 'Main Course', 'Main Course', 'Desserts', 'Snacks and Starters', 'Snacks and Starters', 'Main Course', 'Main Course', 'Salads', 'Main Course', 'Dals and Kadhis', 'Rice', 'Snacks and Starters', 'Salads', 'Snacks and Starters', 'Main Course', 'Soups', 'Snacks and Starters', 'Main Course', 'Salads', 'Beverages', 'Noodles and Pastas', 'Snacks and Starters', 'Main Course', 'Desserts', 'Main Course', 'Snacks and Starters', 'Main Course', 'Snacks and Starters', 'Snacks and Starters', 'Main Course', 'Snacks and Starters', 'Desserts', 'Main Course', 'Snacks and Starters', 'Pickles, Jams and Chutneys', 'Dals and Kadhis', 'Snacks and Starters', 'Main Course', 'Desserts', 'Dals and Kadhis', 'Desserts', 'Dals and Kadhis', 'Snacks and Starters', 'Dals and Kadhis', 'Pickles, Jams and Chutneys', 'Desserts', 'Main Course', 'Snacks and Starters', 'Snacks and Starters', 'Snacks and Starters', 'Pickles, Jams and Chutneys', 'Desserts', 'Main Course', 'Beverages', 'Pickles, Jams and Chutneys', 'Noodles and Pastas', 'Dals and Kadhis', 'Snacks and Starters', 'Snacks and Starters', 'Breads', 'Snacks and Starters', 'Snacks and Starters', 'Pickles, Jams and Chutneys', 'Snacks and Starters', 'Snacks and Starters', 'Snacks and Starters', 'Breads', 'Rice', 'Snacks and Starters', 'Main Course', 'Snacks and Starters', 'Main Course', 'Snacks and Starters', 'Snacks and Starters', 'Main Course', 'Snacks and Starters', 'Snacks and Starters', 'Desserts', 'Desserts', 'Snacks and Starters', 'Desserts', 'Snacks and Starters', 'Main Course', 'Snacks and Starters', 'Snacks and Starters', 'Main Course', 'Snacks and Starters', 'Snacks and Starters', 'Snacks and Starters', 'Snacks and Starters', 'Rice', 'Desserts', 'Snacks and Starters', 'Snacks and Starters', 'Desserts', 'Main Course', 'Breads', 'Desserts', 'Desserts', 'Breads', 'Desserts', 'Main Course', 'Snacks and Starters', 'Desserts', 'Snacks and Starters', 'Soups', 'Snacks and Starters', 'Main Course', 'Main Course', 'Breads', 'Main Course', 'Main Course', 'Snacks and Starters', 'Snacks and Starters', 'Snacks and Starters', 'Main Course', 'Main Course', 'Desserts', 'Snacks and Starters', 'Dals and Kadhis', 'Snacks and Starters', 'Main Course', 'Main Course', 'Main Course', 'Snacks and Starters', 'Main Course', 'Breads', 'Main Course', 'Main Course', 'Snacks and Starters', 'Main Course', 'Desserts', 'Desserts', 'Mithais', 'Pickles, Jams and Chutneys', 'Desserts', 'Main Course', 'Snacks and Starters', 'Mithais', 'Snacks and Starters', 'Snacks and Starters', 'Beverages', 'Snacks and Starters', 'Main Course', 'Snacks and Starters', 'Desserts', 'Pickles, Jams and Chutneys', 'Desserts', 'Snacks and Starters', 'Desserts', 'Beverages', 'Desserts', 'Mithais', 'Snacks and Starters', 'Mithais', 'Snacks and Starters', 'Main Course', 'Main Course', 'Main Course', 'Desserts', 'Snacks and Starters', 'Snacks and Starters', 'Main Course', 'Dals and Kadhis', 'Snacks and Starters', 'Mithais', 'Breads', 'Main Course', 'Mithais', 'Snacks and Starters', 'Desserts', 'Desserts', 'Breads', 'Rice', 'Desserts', 'Snacks and Starters', 'Main Course', 'Beverages', 'Main Course', 'Beverages', 'Soups', 'Soups', 'Snacks and Starters', 'Main Course', 'Main Course', 'Snacks and Starters', 'Pickles, Jams and Chutneys', 'Main Course', 'Snacks and Starters', 'Snacks and Starters', 'Desserts', 'Main Course', 'Desserts', 'Snacks and Starters', 'Main Course', 'Main Course', 'Rice', 'Main Course', 'Main Course', 'Rice', 'Snacks and Starters', 'Pickles, Jams and Chutneys', 'Main Course', 'Pickles, Jams and Chutneys', 'Rice', 'Desserts', 'Main Course', 'Rice', 'Soups', 'Breads', 'Rice', 'Main Course', 'Breads', 'Main Course', 'Main Course', 'Snacks and Starters', 'Snacks and Starters', 'Soups', 'Rice', 'Beverages', 'Breads', 'Main Course', 'Mithais', 'Breads', 'Main Course', 'Desserts', 'Snacks and Starters', 'Snacks and Starters', 'Mithais', 'Gravies, Sauces and Stocks', 'Salads', 'Beverages', 'Rice', 'Snacks and Starters', 'Main Course', 'Desserts', 'Beverages', 'Desserts', 'Desserts', 'Snacks and Starters', 'Desserts', 'Gravies, Sauces and Stocks', 'Snacks and Starters', 'Desserts', 'Snacks and Starters', 'Snacks and Starters', 'Main Course', 'Main Course', 'Desserts', 'Dals and Kadhis', 'Main Course', 'Breads', 'Snacks and Starters', 'Desserts', 'Main Course', 'Desserts', 'Desserts', 'Snacks and Starters', 'Rice', 'Snacks and Starters', 'Main Course', 'Main Course', 'Pickles, Jams and Chutneys', 'Beverages', 'Mithais', 'Desserts', 'Main Course', 'Snacks and Starters', 'Main Course', 'Desserts', 'Desserts', 'Snacks and Starters', 'Snacks and Starters', 'Snacks and Starters', 'Desserts', 'Snacks and Starters', 'Soups', 'Snacks and Starters', 'Desserts', 'Rice', 'Main Course', 'Snacks and Starters', 'Main Course', 'Pickles, Jams and Chutneys', 'Main Course', 'Beverages', 'Main Course', 'Desserts', 'Mithais', 'Breads', 'Snacks and Starters', 'Snacks and Starters', 'Mithais', 'Mithais', 'Desserts', 'Snacks and Starters', 'Snacks and Starters', 'Snacks and Starters', 'Snacks and Starters', 'Main Course', 'Snacks and Starters', 'Beverages', 'Main Course', 'Pickles, Jams and Chutneys', 'Pickles, Jams and Chutneys', 'Soups', 'Snacks and Starters', 'Desserts', 'Snacks and Starters', 'Snacks and Starters', 'Main Course', 'Noodles and Pastas', 'Snacks and Starters', 'Snacks and Starters', 'Snacks and Starters', 'Desserts', 'Mithais', 'Snacks and Starters', 'Snacks and Starters', 'Main Course', 'Snacks and Starters', 'Snacks and Starters', 'Beverages', 'Desserts', 'Desserts', 'Snacks and Starters', 'Snacks and Starters', 'Mithais', 'Desserts', 'Snacks and Starters', 'Desserts', 'Snacks and Starters', 'Main Course', 'Pickles, Jams and Chutneys', 'Mithais', 'Beverages', 'Snacks and Starters', 'Breads', 'Snacks and Starters', 'Beverages', 'Soups', 'Desserts', 'Snacks and Starters', 'Snacks and Starters', 'Desserts', 'Snacks and Starters', 'Beverages', 'Main Course', 'Rice', 'Beverages', 'Snacks and Starters', 'Snacks and Starters', 'Snacks and Starters', 'Snacks and Starters', 'Main Course', 'Mithais', 'Snacks and Starters', 'Pickles, Jams and Chutneys', 'Main Course', 'Snacks and Starters', 'Main Course', 'Desserts', 'Snacks and Starters', 'Breads', 'Snacks and Starters', 'Snacks and Starters', 'Desserts', 'Snacks and Starters', 'Snacks and Starters', 'Snacks and Starters', 'Snacks and Starters', 'Beverages', 'Desserts', 'Main Course', 'Snacks and Starters', 'Rice', 'Main Course', 'Beverages', 'Mithais', 'Breads', 'Mithais', 'Snacks and Starters', 'Main Course', 'Main Course', 'Breads', 'Main Course', 'Breads', 'Mithais', 'Snacks and Starters', 'Snacks and Starters', 'Rice', 'Main Course', 'Mithais', 'Main Course', 'Mithais', 'Dals and Kadhis', 'Pickles, Jams and Chutneys', 'Pickles, Jams and Chutneys', 'Snacks and Starters', 'Main Course', 'Noodles and Pastas', 'Breads', 'Pickles, Jams and Chutneys', 'Snacks and Starters', 'Pickles, Jams and Chutneys', 'Desserts', 'Pickles, Jams and Chutneys', 'Main Course', 'Soups', 'Main Course', 'Snacks and Starters', 'Pickles, Jams and Chutneys', 'Mithais', 'Main Course', 'Snacks and Starters', 'Main Course', 'Breads', 'Main Course', 'Main Course', 'Beverages', 'Mithais', 'Snacks and Starters', 'Rice', 'Mithais', 'Breads', 'Rice', 'Raitas', 'Snacks and Starters', 'Breads', 'Snacks and Starters', 'Dals and Kadhis', 'Main Course', 'Beverages', 'Pickles, Jams and Chutneys', 'Soups', 'Main Course', 'Breads', 'Rice', 'Beverages', 'Beverages', 'Main Course', 'Mithais', 'Mithais', 'Snacks and Starters', 'Snacks and Starters', 'Desserts', 'Mithais', 'Snacks and Starters', 'Main Course', 'Beverages', 'Main Course', 'Soups', 'Dals and Kadhis', 'Salads', 'Main Course', 'Beverages', 'Desserts', 'Rice', 'Main Course', 'Snacks and Starters', 'Rice', 'Raitas', 'Snacks and Starters', 'Pickles, Jams and Chutneys', 'Main Course', 'Snacks and Starters', 'Rice', 'Rice', 'Raitas', 'Snacks and Starters', 'Snacks and Starters', 'Snacks and Starters', 'Snacks and Starters', 'Desserts', 'Main Course', 'Main Course', 'Main Course', 'Main Course', 'Snacks and Starters', 'Main Course', 'Dals and Kadhis', 'Desserts', 'Pickles, Jams and Chutneys', 'Desserts', 'Main Course', 'Desserts', 'Snacks and Starters', 'Desserts', 'Snacks and Starters', 'Breads', 'Main Course', 'Raitas', 'Snacks and Starters', 'Main Course', 'Snacks and Starters', 'Raitas', 'Snacks and Starters', 'Soups', 'Soups', 'Beverages', 'Beverages', 'Pickles, Jams and Chutneys', 'Beverages', 'Snacks and Starters', 'Desserts', 'Noodles and Pastas', 'Main Course', 'Snacks and Starters', 'Snacks and Starters', 'Main Course', 'Snacks and Starters', 'Snacks and Starters', 'Snacks and Starters', 'Dips', 'Main Course', 'Snacks and Starters', 'Snacks and Starters', 'Snacks and Starters', 'Snacks and Starters', 'Snacks and Starters', 'Mithais', 'Mithais', 'Mithais', 'Desserts', 'Mithais', 'Snacks and Starters', 'Snacks and Starters', 'Snacks and Starters', 'Desserts', 'Desserts', 'Desserts', 'Snacks and Starters', 'Desserts', 'Snacks and Starters', 'Salads', 'Soups', 'Snacks and Starters', 'Dals and Kadhis', 'Noodles and Pastas', 'Beverages', 'Pickles, Jams and Chutneys', 'Rice', 'Main Course', 'Snacks and Starters', 'Main Course', 'Main Course', 'Main Course', 'Pickles, Jams and Chutneys', 'Main Course', 'Pickles, Jams and Chutneys', 'Desserts', 'Desserts', 'Snacks and Starters', 'Main Course', 'Snacks and Starters', 'Mithais', 'Mithais', 'Soups', 'Snacks and Starters', 'Snacks and Starters', 'Noodles and Pastas', 'Snacks and Starters', 'Desserts', 'Snacks and Starters', 'Soups', 'Snacks and Starters', 'Main Course', 'Main Course', 'Desserts', 'Rice', 'Snacks and Starters', 'Snacks and Starters', 'Rice', 'Pickles, Jams and Chutneys', 'Desserts', 'Beverages', 'Main Course', 'Desserts', 'Main Course', 'Snacks and Starters', 'Beverages', 'Main Course', 'Snacks and Starters', 'Rice', 'Snacks and Starters', 'Breads', 'Snacks and Starters', 'Pickles, Jams and Chutneys', 'Salads', 'Rice', 'Main Course', 'Snacks and Starters', 'Snacks and Starters', 'Beverages', 'Beverages', 'Breads', 'Main Course', 'Rice', 'Snacks and Starters', 'Salads', 'Salads', 'Main Course', 'Snacks and Starters', 'Snacks and Starters', 'Snacks and Starters', 'Main Course', 'Dals and Kadhis', 'Main Course', 'Desserts', 'Main Course', 'Rice', 'Snacks and Starters', 'Main Course', 'Snacks and Starters', 'Dals and Kadhis', 'Snacks and Starters', 'Snacks and Starters', 'Snacks and Starters', 'Snacks and Starters', 'Snacks and Starters', 'Snacks and Starters', 'Main Course', 'Snacks and Starters', 'Raitas', 'Snacks and Starters', 'Snacks and Starters', 'Main Course', 'Snacks and Starters', 'Main Course', 'Salads', 'Snacks and Starters', 'Main Course', 'Desserts', 'Beverages', 'Beverages', 'Snacks and Starters', 'Desserts', 'Main Course', 'Snacks and Starters', 'Pickles, Jams and Chutneys', 'Salads', 'Salads', 'Snacks and Starters', 'Beverages', 'Snacks and Starters', 'Powders', 'Snacks and Starters', 'Snacks and Starters', 'Snacks and Starters', 'Desserts', 'Desserts', 'Main Course', 'Desserts', 'Snacks and Starters', 'Main Course', 'Gravies, Sauces and Stocks', 'Main Course', 'Main Course', 'Snacks and Starters', 'Main Course', 'Snacks and Starters', 'Snacks and Starters', 'Noodles and Pastas', 'Snacks and Starters', 'Snacks and Starters', 'Snacks and Starters', 'Rice', 'Main Course', 'Snacks and Starters', 'Desserts', 'Desserts', 'Soups', 'Beverages', 'Rice', 'Main Course', 'Beverages', 'Soups', 'Rice', 'Desserts', 'Snacks and Starters', 'Beverages', 'Snacks and Starters', 'Beverages', 'Rice', 'Beverages', 'Desserts', 'Dals and Kadhis', 'Desserts', 'Snacks and Starters', 'Snacks and Starters', 'Snacks and Starters', 'Snacks and Starters', 'Snacks and Starters', 'Snacks and Starters', 'Snacks and Starters', 'Desserts', 'Main Course', 'Desserts', 'Rice', 'Desserts', 'Main Course', 'Snacks and Starters', 'Main Course', 'Breads', 'Snacks and Starters', 'Main Course', 'Soups', 'Desserts', 'Main Course', 'Main Course', 'Desserts', 'Dals and Kadhis', 'Soups', 'Pickles, Jams and Chutneys', 'Pickles, Jams and Chutneys', 'Snacks and Starters', 'Snacks and Starters', 'Snacks and Starters', 'Main Course', 'Snacks and Starters', 'Pickles, Jams and Chutneys', 'Main Course', 'Desserts', 'Snacks and Starters', 'Snacks and Starters', 'Desserts', 'Desserts', 'Mithais', 'Desserts', 'Desserts', 'Rice', 'Desserts', 'Desserts', 'Snacks and Starters', 'Snacks and Starters', 'Pickles, Jams and Chutneys', 'Desserts', 'Snacks and Starters', 'Desserts', 'Desserts', 'Main Course', 'Main Course', 'Desserts', 'Snacks and Starters', 'Snacks and Starters', 'Snacks and Starters', 'Desserts', 'Snacks and Starters', 'Desserts', 'Beverages', 'Desserts', 'Snacks and Starters', 'Snacks and Starters', 'Main Course', 'Desserts', 'Snacks and Starters', 'Pickles, Jams and Chutneys', 'Snacks and Starters', 'Mithais', 'Beverages', 'Desserts', 'Desserts', 'Main Course', 'Snacks and Starters', 'Main Course', 'Desserts', 'Breads', 'Main Course', 'Pickles, Jams and Chutneys', 'Desserts', 'Mithais', 'Snacks and Starters', 'Rice', 'Desserts', 'Snacks and Starters', 'Desserts', 'Main Course', 'Desserts', 'Main Course', 'Desserts', 'Snacks and Starters', 'Desserts', 'Main Course', 'Snacks and Starters', 'Desserts', 'Snacks and Starters', 'Desserts', 'Main Course', 'Snacks and Starters', 'Side Dish', 'Main Course', 'Breakfast', 'Main Course', 'Pickles, Jams and Chutneys', 'Breakfast', 'Main Course', 'Snacks and Starters', 'Pickles, Jams and Chutneys', 'Main Course', 'Main Course', 'Main Course', 'Pickles, Jams and Chutneys', 'Main Course', 'Pickles, Jams and Chutneys', 'Breakfast', 'Main Course', 'Side Dish', 'Snacks and Starters', 'Snacks and Starters', 'Main Course', 'Snacks and Starters', 'Snacks and Starters', 'Desserts', 'Main Course', 'Snacks and Starters', 'Desserts', 'Pickles, Jams and Chutneys', 'Snacks and Starters', 'Side Dish', 'Side Dish', 'Breakfast', 'Side Dish', 'Main Course', 'Main Course', 'Main Course', 'Main Course', 'Pickles, Jams and Chutneys', 'Side Dish', 'Main Course', 'Pickles, Jams and Chutneys', 'Snacks and Starters', 'Snacks and Starters', 'Main Course', 'Main Course', 'Main Course', 'Snacks and Starters', 'Main Course', 'Main Course', 'Breakfast', 'Main Course', 'Breakfast', 'Snacks and Starters', 'Main Course', 'Main Course', 'Breakfast', 'Main Course', 'Main Course', 'Main Course', 'Main Course', 'Main Course', 'Main Course', 'Main Course', 'Desserts', 'Side Dish', 'Main Course', 'Breakfast', 'Side Dish', 'Main Course', 'Main Course', 'Desserts', 'Snacks and Starters', 'Main Course', 'Desserts', 'Desserts', 'Main Course', 'Side Dish', 'Snacks and Starters', 'Desserts', 'Main Course', 'Main Course', 'Main Course', 'Main Course', 'Main Course', 'Main Course', 'Snacks and Starters', 'Main Course', 'Breakfast', 'Side Dish', 'Main Course', 'Side Dish', 'Side Dish', 'Side Dish', 'Snacks and Starters', 'Side Dish', 'Main Course', 'Main Course', 'Main Course', 'Main Course', 'Main Course', 'Main Course', 'Main Course', 'Desserts', 'Main Course', 'Side Dish', 'Main Course', 'Side Dish', 'Side Dish', 'Snacks and Starters', 'Main Course', 'Main Course', 'Snacks and Starters', 'Main Course', 'Main Course', 'Main Course', 'Snacks and Starters', 'Main Course', 'Pickles, Jams and Chutneys', 'Main Course', 'Main Course', 'Main Course', 'Main Course', 'Main Course', 'Main Course', 'Side Dish', 'Side Dish', 'Main Course', 'Main Course', 'Desserts', 'Main Course', 'Main Course', 'Main Course', 'Main Course', 'Desserts', 'Main Course', 'Main Course', 'Snacks and Starters', 'Main Course', 'Snacks and Starters', 'Main Course', 'Side Dish', 'Main Course', 'Breakfast', 'Main Course', 'Main Course', 'Main Course', 'Pickles, Jams and Chutneys', 'Main Course', 'Side Dish', 'Main Course', 'Main Course', 'Snacks and Starters', 'Pickles, Jams and Chutneys', 'Pickles, Jams and Chutneys', 'Desserts', 'Pickles, Jams and Chutneys', 'Pickles, Jams and Chutneys', 'Pickles, Jams and Chutneys', 'Snacks and Starters', 'Side Dish', 'Breakfast', 'Desserts', 'Snacks and Starters', 'Snacks and Starters', 'Main Course', 'Main Course', 'Main Course', 'Side Dish', 'Side Dish', 'Main Course', 'Pickles, Jams and Chutneys', 'Side Dish', 'Main Course', 'Main Course', 'Snacks and Starters', 'Main Course', 'Desserts', 'Main Course', 'Snacks and Starters', 'Pickles, Jams and Chutneys', 'Snacks and Starters', 'Side Dish', 'Snacks and Starters', 'Breakfast', 'Snacks and Starters', 'Snacks and Starters', 'Side Dish', 'Pickles, Jams and Chutneys', 'Main Course', 'Main Course', 'Side Dish', 'Main Course', 'Side Dish', 'Snacks and Starters', 'Main Course', 'Main Course', 'Main Course', 'Desserts', 'Side Dish', 'Desserts', 'Desserts', 'Desserts', 'Side Dish', 'Breakfast', 'Side Dish', 'Side Dish', 'Breakfast', 'Main Course', 'Breakfast', 'Main Course', 'Side Dish', 'Main Course', 'Snacks and Starters', 'Main Course', 'Main Course', 'Snacks and Starters', 'Main Course', 'Desserts', 'Side Dish', 'Main Course', 'Breakfast', 'Snacks and Starters', 'Main Course', 'Snacks and Starters', 'Desserts', 'Main Course', 'Breakfast', 'Snacks and Starters', 'Main Course', 'Snacks and Starters', 'Pickles, Jams and Chutneys', 'Snacks and Starters', 'Breakfast', 'Breakfast', 'Main Course', 'Snacks and Starters', 'Main Course', 'Main Course', 'Snacks and Starters', 'Main Course', 'Main Course', 'Main Course', 'Snacks and Starters', 'Main Course', 'Main Course', 'Main Course', 'Side Dish', 'Main Course', 'Snacks and Starters', 'Main Course', 'Desserts', 'Breakfast', 'Side Dish', 'Desserts', 'Snacks and Starters', 'Main Course', 'Snacks and Starters', 'Main Course', 'Desserts', 'Main Course', 'Main Course', 'Main Course', 'Snacks and Starters', 'Snacks and Starters', 'Snacks and Starters', 'Pickles, Jams and Chutneys', 'Main Course', 'Snacks and Starters', 'Side Dish', 'Side Dish', 'Breakfast', 'Main Course', 'Main Course', 'Main Course', 'Snacks and Starters', 'Snacks and Starters', 'Main Course', 'Side Dish', 'Pickles, Jams and Chutneys', 'Snacks and Starters', 'Snacks and Starters', 'Main Course', 'Main Course', 'Main Course', 'Main Course', 'Main Course', 'Main Course', 'Snacks and Starters', 'Main Course', 'Side Dish', 'Main Course', 'Side Dish', 'Snacks and Starters', 'Snacks and Starters', 'Desserts', 'Main Course', 'Main Course', 'Pickles, Jams and Chutneys', 'Snacks and Starters', 'Desserts', 'Snacks and Starters', 'Main Course', 'Main Course', 'Main Course', 'Main Course', 'Main Course', 'Main Course', 'Main Course', 'Breakfast', 'Snacks and Starters', 'Main Course', 'Main Course', 'Main Course', 'Main Course', 'Main Course', 'Breakfast', 'Breakfast', 'Desserts', 'Snacks and Starters', 'Breakfast', 'Pickles, Jams and Chutneys', 'Desserts', 'Main Course', 'Main Course', 'Main Course', 'Snacks and Starters', 'Snacks and Starters', 'Breakfast', 'Main Course', 'Snacks and Starters', 'Main Course', 'Snacks and Starters', 'Main Course', 'Snacks and Starters', 'Main Course', 'Desserts', 'Pickles, Jams and Chutneys', 'Breakfast', 'Side Dish', 'Snacks and Starters', 'Breakfast', 'Snacks and Starters', 'Main Course', 'Desserts', 'Main Course', 'Main Course', 'Desserts', 'Side Dish', 'Desserts', 'Snacks and Starters', 'Breakfast', 'Side Dish', 'Desserts', 'Main Course', 'Main Course', 'Main Course', 'Desserts', 'Pickles, Jams and Chutneys', 'Main Course', 'Side Dish', 'Main Course', 'Main Course', 'Main Course', 'Main Course', 'Main Course', 'Breakfast', 'Pickles, Jams and Chutneys', 'Main Course', 'Side Dish', 'Main Course', 'Side Dish', 'Snacks and Starters', 'Main Course', 'Snacks and Starters', 'Breakfast', 'Desserts', 'Main Course', 'Main Course', 'Pickles, Jams and Chutneys', 'Main Course', 'Main Course', 'Snacks and Starters', 'Snacks and Starters', 'Desserts', 'Main Course', 'Side Dish', 'Main Course', 'Main Course', 'Snacks and Starters', 'Main Course', 'Desserts', 'Main Course', 'Side Dish', 'Breakfast', 'Main Course', 'Main Course', 'Main Course', 'Main Course', 'Main Course', 'Snacks and Starters', 'Desserts', 'Main Course', 'Pickles, Jams and Chutneys', 'Breakfast', 'Main Course', 'Side Dish', 'Breakfast', 'Snacks and Starters', 'Snacks and Starters', 'Main Course', 'Main Course', 'Main Course', 'Main Course', 'Pickles, Jams and Chutneys', 'Desserts', 'Pickles, Jams and Chutneys', 'Pickles, Jams and Chutneys', 'Side Dish', 'Snacks and Starters', 'Side Dish', 'Snacks and Starters', 'Main Course', 'Main Course', 'Main Course', 'Snacks and Starters', 'Side Dish', 'Desserts', 'Desserts', 'Main Course', 'Side Dish', 'Side Dish', 'Snacks and Starters', 'Side Dish', 'Breakfast', 'Main Course', 'Side Dish', 'Pickles, Jams and Chutneys', 'Side Dish', 'Main Course', 'Snacks and Starters', 'Snacks and Starters', 'Side Dish', 'Main Course', 'Main Course', 'Breakfast', 'Snacks and Starters', 'Breakfast', 'Main Course', 'Desserts', 'Snacks and Starters', 'Snacks and Starters', 'Desserts', 'Pickles, Jams and Chutneys', 'Main Course', 'Snacks and Starters', 'Desserts', 'Side Dish', 'Main Course', 'Main Course', 'Snacks and Starters', 'Main Course', 'Snacks and Starters', 'Side Dish', 'Snacks and Starters', 'Main Course', 'Desserts', 'Main Course', 'Breakfast', 'Pickles, Jams and Chutneys', 'Main Course', 'Snacks and Starters', 'Breakfast', 'Main Course', 'Breakfast', 'Snacks and Starters', 'Snacks and Starters', 'Breakfast', 'Main Course', 'Main Course', 'Main Course', 'Side Dish', 'Main Course', 'Main Course', 'Main Course', 'Pickles, Jams and Chutneys', 'Snacks and Starters', 'Main Course', 'Side Dish', 'Side Dish', 'Main Course', 'Main Course', 'Main Course', 'Main Course', 'Snacks and Starters', 'Main Course', 'Side Dish', 'Main Course', 'Main Course', 'Desserts', 'Desserts', 'Main Course', 'Snacks and Starters', 'Main Course', 'Main Course', 'Side Dish', 'Snacks and Starters', 'Snacks and Starters', 'Main Course', 'Main Course', 'Main Course', 'Main Course', 'Side Dish', 'Side Dish', 'Breakfast', 'Main Course', 'Side Dish', 'Snacks and Starters', 'Main Course', 'Main Course', 'Snacks and Starters', 'Main Course', 'Snacks and Starters', 'Breakfast', 'Main Course', 'Snacks and Starters', 'Main Course', 'Side Dish', 'Pickles, Jams and Chutneys', 'Desserts', 'Side Dish', 'Main Course', 'Main Course', 'Desserts', 'Snacks and Starters', 'Snacks and Starters', 'Breakfast', 'Snacks and Starters', 'Main Course', 'Side Dish', 'Main Course', 'Desserts', 'Main Course', 'Snacks and Starters', 'Main Course', 'Snacks and Starters', 'Main Course', 'Main Course', 'Main Course', 'Main Course', 'Desserts', 'Snacks and Starters', 'Main Course', 'Breakfast', 'Main Course', 'Snacks and Starters', 'Snacks and Starters', 'Main Course', 'Main Course', 'Breakfast', 'Main Course', 'Snacks and Starters', 'Snacks and Starters', 'Breakfast', 'Desserts', 'Snacks and Starters', 'Main Course', 'Main Course', 'Snacks and Starters', 'Main Course', 'Breakfast', 'Main Course', 'Desserts', 'Main Course', 'Pickles, Jams and Chutneys', 'Pickles, Jams and Chutneys', 'Breakfast', 'Main Course', 'Desserts', 'Snacks and Starters', 'Side Dish', 'Snacks and Starters', 'Main Course', 'Main Course', 'Side Dish', 'Snacks and Starters', 'Snacks and Starters', 'Snacks and Starters', 'Main Course', 'Snacks and Starters', 'Main Course', 'Main Course', 'Main Course', 'Side Dish', 'Snacks and Starters', 'Breakfast', 'Main Course', 'Main Course', 'Main Course', 'Breakfast', 'Breakfast', 'Main Course', 'Snacks and Starters', 'Main Course', 'Side Dish', 'Snacks and Starters', 'Snacks and Starters', 'Main Course', 'Main Course', 'Side Dish', 'Desserts', 'Main Course', 'Main Course', 'Main Course', 'Side Dish', 'Main Course', 'Main Course', 'Breakfast', 'Main Course', 'Breakfast', 'Breakfast', 'Main Course', 'Snacks and Starters', 'Snacks and Starters', 'Main Course', 'Snacks and Starters', 'Snacks and Starters', 'Main Course', 'Main Course', 'Main Course', 'Main Course', 'Side Dish', 'Pickles, Jams and Chutneys', 'Breakfast', 'Snacks and Starters', 'Side Dish', 'Desserts', 'Desserts', 'Main Course', 'Pickles, Jams and Chutneys', 'Pickles, Jams and Chutneys', 'Desserts', 'Main Course', 'Main Course', 'Main Course', 'Desserts', 'Main Course', 'Breakfast', 'Desserts', 'Main Course', 'Main Course', 'Snacks and Starters', 'Main Course', 'Main Course', 'Desserts', 'Main Course', 'Pickles, Jams and Chutneys', 'Main Course', 'Breakfast', 'Pickles, Jams and Chutneys', 'Main Course', 'Main Course', 'Side Dish', 'Main Course', 'Main Course', 'Pickles, Jams and Chutneys', 'Main Course', 'Side Dish', 'Breakfast', 'Main Course', 'Main Course', 'Snacks and Starters', 'Main Course', 'Main Course', 'Snacks and Starters', 'Snacks and Starters', 'Main Course', 'Main Course', 'Desserts', 'Main Course', 'Side Dish', 'Main Course', 'Snacks and Starters', 'Main Course', 'Snacks and Starters', 'Pickles, Jams and Chutneys', 'Breakfast', 'Desserts', 'Main Course', 'Pickles, Jams and Chutneys', 'Main Course', 'Desserts', 'Snacks and Starters', 'Desserts', 'Desserts', 'Side Dish', 'Breakfast', 'Snacks and Starters', 'Side Dish', 'Side Dish', 'Main Course', 'Main Course', 'Snacks and Starters', 'Main Course', 'Main Course', 'Snacks and Starters', 'Side Dish', 'Main Course', 'Main Course', 'Main Course', 'Main Course', 'Main Course', 'Breakfast', 'Main Course', 'Side Dish', 'Desserts', 'Desserts', 'Breakfast', 'Main Course', 'Main Course', 'Side Dish', 'Main Course', 'Main Course', 'Side Dish', 'Main Course', 'Desserts', 'Main Course', 'Breakfast', 'Main Course', 'Breakfast', 'Main Course', 'Side Dish', 'Side Dish', 'Main Course', 'Side Dish', 'Desserts', 'Main Course', 'Side Dish', 'Side Dish', 'Main Course', 'Main Course', 'Snacks and Starters', 'Main Course', 'Snacks and Starters', 'Snacks and Starters', 'Breakfast', 'Main Course', 'Main Course', 'Snacks and Starters', 'Main Course', 'Desserts', 'Snacks and Starters', 'Desserts', 'Main Course', 'Side Dish', 'Breakfast', 'Main Course', 'Snacks and Starters', 'Main Course', 'Main Course', 'Main Course', 'Pickles, Jams and Chutneys', 'Desserts', 'Pickles, Jams and Chutneys', 'Pickles, Jams and Chutneys', 'Main Course', 'Main Course', 'Main Course', 'Snacks and Starters', 'Breakfast', 'Breakfast', 'Desserts', 'Desserts', 'Pickles, Jams and Chutneys', 'Main Course', 'Main Course', 'Main Course', 'Main Course', 'Main Course', 'Main Course', 'Main Course', 'Main Course', 'Main Course', 'Main Course', 'Main Course', 'Snacks and Starters', 'Side Dish', 'Main Course', 'Side Dish', 'Snacks and Starters', 'Main Course', 'Main Course', 'Desserts', 'Snacks and Starters', 'Main Course', 'Snacks and Starters', 'Desserts', 'Snacks and Starters', 'Side Dish', 'Pickles, Jams and Chutneys', 'Breakfast', 'Snacks and Starters', 'Main Course', 'Main Course', 'Main Course', 'Main Course', 'Main Course', 'Snacks and Starters', 'Snacks and Starters', 'Main Course', 'Main Course', 'Main Course', 'Breakfast', 'Side Dish', 'Snacks and Starters', 'Snacks and Starters', 'Main Course', 'Side Dish', 'Breakfast', 'Main Course', 'Side Dish', 'Snacks and Starters', 'Side Dish', 'Main Course', 'Main Course', 'Main Course', 'Main Course', 'Main Course', 'Main Course', 'Main Course', 'Main Course', 'Main Course', 'Main Course', 'Main Course', 'Main Course', 'Desserts', 'Pickles, Jams and Chutneys', 'Desserts', 'Main Course', 'Main Course', 'Main Course', 'Snacks and Starters', 'Snacks and Starters', 'Snacks and Starters', 'Main Course', 'Side Dish', 'Side Dish', 'Main Course', 'Main Course', 'Desserts', 'Main Course', 'Main Course', 'Snacks and Starters', 'Snacks and Starters', 'Desserts', 'Main Course', 'Main Course', 'Snacks and Starters', 'Side Dish', 'Main Course', 'Main Course', 'Main Course', 'Main Course', 'Snacks and Starters', 'Main Course', 'Desserts', 'Desserts', 'Pickles, Jams and Chutneys', 'Side Dish', 'Snacks and Starters', 'Snacks and Starters', 'Main Course', 'Snacks and Starters', 'Main Course', 'Snacks and Starters', 'Main Course', 'Snacks and Starters', 'Snacks and Starters', 'Snacks and Starters', 'Main Course', 'Pickles, Jams and Chutneys', 'Side Dish', 'Desserts', 'Main Course', 'Pickles, Jams and Chutneys', 'Main Course', 'Snacks and Starters', 'Snacks and Starters', 'Main Course', 'Desserts', 'Snacks and Starters', 'Snacks and Starters', 'Main Course', 'Main Course', 'Main Course', 'Main Course', 'Side Dish', 'Main Course', 'Snacks and Starters', 'Main Course', 'Side Dish', 'Snacks and Starters', 'Pickles, Jams and Chutneys', 'Main Course', 'Snacks and Starters', 'Main Course', 'Snacks and Starters', 'Snacks and Starters', 'Side Dish', 'Main Course', 'Side Dish', 'Snacks and Starters', 'Main Course', 'Main Course', 'Breakfast', 'Pickles, Jams and Chutneys', 'Desserts', 'Side Dish', 'Side Dish', 'Main Course', 'Main Course', 'Breakfast', 'Snacks and Starters', 'Main Course', 'Side Dish', 'Breakfast', 'Main Course', 'Pickles, Jams and Chutneys', 'Breakfast', 'Main Course', 'Snacks and Starters', 'Main Course', 'Main Course', 'Main Course', 'Main Course', 'Main Course', 'Snacks and Starters', 'Main Course', 'Side Dish', 'Breakfast', 'Side Dish', 'Main Course', 'Side Dish', 'Pickles, Jams and Chutneys', 'Snacks and Starters', 'Main Course', 'Breakfast', 'Desserts', 'Main Course', 'Main Course', 'Side Dish', 'Main Course', 'Main Course', 'Snacks and Starters', 'Main Course', 'Main Course', 'Main Course', 'Pickles, Jams and Chutneys', 'Snacks and Starters', 'Main Course', 'Side Dish', 'Main Course', 'Main Course', 'Main Course', 'Snacks and Starters', 'Desserts', 'Breakfast', 'Desserts', 'Main Course', 'Side Dish', 'Breakfast', 'Snacks and Starters', 'Side Dish', 'Main Course', 'Desserts', 'Main Course', 'Snacks and Starters', 'Main Course', 'Main Course', 'Main Course', 'Snacks and Starters', 'Main Course', 'Main Course', 'Side Dish', 'Side Dish', 'Snacks and Starters', 'Main Course', 'Main Course', 'Breakfast', 'Main Course', 'Main Course', 'Snacks and Starters', 'Breakfast', 'Side Dish', 'Main Course', 'Snacks and Starters', 'Main Course', 'Main Course', 'Main Course', 'Breakfast', 'Desserts', 'Main Course', 'Main Course', 'Main Course', 'Main Course', 'Desserts', 'Snacks and Starters', 'Main Course', 'Main Course', 'Snacks and Starters', 'Main Course', 'Main Course', 'Desserts', 'Main Course', 'Breakfast', 'Snacks and Starters', 'Pickles, Jams and Chutneys', 'Snacks and Starters', 'Breakfast', 'Main Course', 'Side Dish', 'Snacks and Starters', 'Main Course', 'Breakfast', 'Snacks and Starters', 'Desserts', 'Main Course', 'Desserts', 'Desserts', 'Breakfast', 'Main Course', 'Main Course', 'Side Dish', 'Main Course', 'Main Course', 'Desserts', 'Pickles, Jams and Chutneys', 'Main Course', 'Main Course', 'Main Course', 'Main Course', 'Side Dish', 'Snacks and Starters', 'Desserts', 'Snacks and Starters', 'Main Course', 'Side Dish', 'Breakfast', 'Breakfast', 'Main Course', 'Snacks and Starters', 'Breakfast', 'Snacks and Starters', 'Main Course', 'Main Course', 'Snacks and Starters', 'Main Course', 'Main Course', 'Side Dish', 'Desserts', 'Snacks and Starters', 'Desserts', 'Snacks and Starters', 'Main Course', 'Side Dish', 'Main Course', 'Main Course', 'Main Course', 'Main Course', 'Desserts', 'Breakfast', 'Main Course', 'Main Course', 'Main Course', 'Snacks and Starters', 'Pickles, Jams and Chutneys', 'Snacks and Starters', 'Main Course', 'Main Course', 'Main Course', 'Main Course', 'Pickles, Jams and Chutneys', 'Main Course', 'Main Course', 'Main Course', 'Main Course', 'Pickles, Jams and Chutneys', 'Main Course', 'Main Course', 'Snacks and Starters', 'Main Course', 'Main Course', 'Main Course', 'Pickles, Jams and Chutneys', 'Desserts', 'Side Dish', 'Main Course', 'Pickles, Jams and Chutneys', 'Main Course', 'Desserts', 'Pickles, Jams and Chutneys', 'Snacks and Starters', 'Main Course', 'Main Course', 'Main Course', 'Breakfast', 'Snacks and Starters', 'Main Course', 'Snacks and Starters', 'Main Course', 'Breakfast', 'Breakfast', 'Snacks and Starters', 'Main Course', 'Desserts', 'Main Course', 'Side Dish', 'Main Course', 'Main Course', 'Main Course', 'Side Dish', 'Main Course', 'Snacks and Starters', 'Pickles, Jams and Chutneys', 'Breakfast', 'Breakfast', 'Main Course', 'Main Course', 'Main Course', 'Side Dish', 'Breakfast', 'Snacks and Starters', 'Side Dish', 'Pickles, Jams and Chutneys', 'Main Course', 'Main Course', 'Side Dish', 'Main Course', 'Snacks and Starters', 'Side Dish', 'Main Course', 'Main Course', 'Main Course', 'Main Course', 'Main Course', 'Snacks and Starters', 'Breakfast', 'Side Dish', 'Main Course', 'Snacks and Starters', 'Main Course', 'Pickles, Jams and Chutneys', 'Breakfast', 'Snacks and Starters', 'Desserts', 'Pickles, Jams and Chutneys', 'Main Course', 'Pickles, Jams and Chutneys', 'Snacks and Starters', 'Side Dish', 'Main Course', 'Snacks and Starters', 'Side Dish', 'Main Course', 'Side Dish', 'Main Course', 'Pickles, Jams and Chutneys', 'Main Course', 'Pickles, Jams and Chutneys', 'Main Course', 'Snacks and Starters', 'Main Course', 'Side Dish', 'Side Dish', 'Side Dish', 'Main Course', 'Snacks and Starters', 'Breakfast', 'Main Course', 'Snacks and Starters', 'Snacks and Starters', 'Desserts', 'Main Course', 'Side Dish', 'Side Dish', 'Breakfast', 'Breakfast', 'Main Course', 'Main Course', 'Main Course', 'Snacks and Starters', 'Main Course', 'Breakfast', 'Main Course', 'Main Course', 'Desserts', 'Main Course', 'Main Course', 'Main Course', 'Side Dish', 'Breakfast', 'Main Course', 'Main Course', 'Main Course', 'Main Course', 'Snacks and Starters', 'Breakfast', 'Main Course', 'Side Dish', 'Side Dish', 'Main Course', 'Main Course', 'Side Dish', 'Main Course', 'Desserts', 'Side Dish', 'Main Course', 'Main Course', 'Snacks and Starters', 'Main Course', 'Side Dish', 'Desserts', 'Pickles, Jams and Chutneys', 'Pickles, Jams and Chutneys', 'Side Dish', 'Pickles, Jams and Chutneys', 'Main Course', 'Snacks and Starters', 'Main Course', 'Snacks and Starters', 'Main Course', 'Main Course', 'Main Course', 'Snacks and Starters', 'Snacks and Starters', 'Breakfast', 'Main Course', 'Side Dish', 'Main Course', 'Side Dish', 'Breakfast', 'Side Dish', 'Breakfast', 'Main Course', 'Breakfast', 'Main Course', 'Desserts', 'Main Course', 'Main Course', 'Snacks and Starters', 'Snacks and Starters', 'Main Course', 'Pickles, Jams and Chutneys', 'Breakfast', 'Desserts', 'Side Dish', 'Main Course', 'Side Dish', 'Main Course', 'Main Course', 'Breakfast', 'Main Course', 'Snacks and Starters', 'Snacks and Starters', 'Main Course', 'Side Dish', 'Main Course', 'Main Course', 'Snacks and Starters', 'Desserts', 'Main Course', 'Main Course', 'Main Course', 'Breakfast', 'Main Course', 'Main Course', 'Side Dish', 'Main Course', 'Main Course', 'Main Course', 'Pickles, Jams and Chutneys', 'Main Course', 'Snacks and Starters', 'Main Course', 'Pickles, Jams and Chutneys', 'Pickles, Jams and Chutneys', 'Side Dish', 'Side Dish', 'Snacks and Starters', 'Pickles, Jams and Chutneys', 'Pickles, Jams and Chutneys', 'Main Course', 'Side Dish', 'Snacks and Starters', 'Desserts', 'Side Dish', 'Main Course', 'Breakfast', 'Main Course', 'Main Course', 'Main Course', 'Snacks and Starters', 'Snacks and Starters', 'Main Course', 'Side Dish', 'Snacks and Starters', 'Snacks and Starters', 'Pickles, Jams and Chutneys', 'Snacks and Starters', 'Main Course', 'Pickles, Jams and Chutneys', 'Main Course', 'Main Course', 'Pickles, Jams and Chutneys', 'Main Course', 'Main Course', 'Side Dish', 'Snacks and Starters', 'Snacks and Starters', 'Breakfast', 'Breakfast', 'Main Course', 'Main Course', 'Main Course', 'Breakfast', 'Snacks and Starters', 'Pickles, Jams and Chutneys', 'Snacks and Starters', 'Breakfast', 'Main Course', 'Main Course', 'Breakfast', 'Desserts', 'Snacks and Starters', 'Breakfast', 'Main Course', 'Main Course', 'Breakfast', 'Snacks and Starters', 'Main Course', 'Desserts', 'Main Course', 'Main Course', 'Main Course', 'Main Course', 'Main Course', 'Main Course', 'Snacks and Starters', 'Main Course', 'Pickles, Jams and Chutneys', 'Desserts', 'Snacks and Starters', 'Main Course', 'Main Course', 'Main Course', 'Main Course', 'Desserts', 'Side Dish', 'Desserts', 'Snacks and Starters', 'Main Course', 'Main Course', 'Snacks and Starters', 'Desserts', 'Main Course', 'Snacks and Starters', 'Main Course', 'Main Course', 'Side Dish', 'Side Dish', 'Desserts', 'Main Course', 'Main Course', 'Main Course', 'Main Course', 'Main Course', 'Main Course', 'Snacks and Starters', 'Main Course', 'Desserts', 'Main Course', 'Main Course', 'Main Course', 'Pickles, Jams and Chutneys', 'Main Course', 'Desserts', 'Pickles, Jams and Chutneys', 'Main Course', 'Side Dish', 'Main Course', 'Breakfast', 'Desserts', 'Side Dish', 'Breakfast', 'Main Course', 'Snacks and Starters', 'Main Course', 'Main Course', 'Side Dish', 'Main Course', 'Snacks and Starters', 'Snacks and Starters', 'Snacks and Starters', 'Snacks and Starters', 'Desserts', 'Main Course', 'Snacks and Starters', 'Main Course', 'Desserts', 'Snacks and Starters', 'Main Course', 'Desserts', 'Main Course', 'Main Course', 'Main Course', 'Main Course', 'Main Course', 'Side Dish', 'Snacks and Starters', 'Breakfast', 'Main Course', 'Pickles, Jams and Chutneys', 'Main Course', 'Desserts', 'Main Course', 'Main Course', 'Pickles, Jams and Chutneys', 'Snacks and Starters', 'Breakfast', 'Main Course', 'Desserts', 'Breakfast', 'Desserts', 'Snacks and Starters', 'Main Course', 'Snacks and Starters', 'Main Course', 'Side Dish', 'Breakfast', 'Snacks and Starters', 'Main Course', 'Side Dish', 'Side Dish', 'Snacks and Starters', 'Breakfast', 'Main Course', 'Main Course', 'Main Course', 'Snacks and Starters', 'Side Dish', 'Main Course', 'Snacks and Starters', 'Snacks and Starters', 'Main Course', 'Snacks and Starters', 'Main Course', 'Snacks and Starters', 'Desserts', 'Snacks and Starters', 'Side Dish', 'Snacks and Starters', 'Main Course', 'Main Course', 'Main Course', 'Main Course', 'Main Course', 'Pickles, Jams and Chutneys', 'Desserts', 'Snacks and Starters', 'Pickles, Jams and Chutneys', 'Main Course', 'Side Dish', 'Snacks and Starters', 'Snacks and Starters', 'Desserts', 'Side Dish', 'Pickles, Jams and Chutneys', 'Side Dish', 'Main Course', 'Main Course', 'Side Dish', 'Breakfast', 'Main Course', 'Main Course', 'Main Course', 'Side Dish', 'Side Dish', 'Breakfast', 'Side Dish', 'Main Course', 'Side Dish', 'Side Dish', 'Main Course', 'Breakfast', 'Side Dish', 'Main Course', 'Main Course', 'Desserts', 'Snacks and Starters', 'Snacks and Starters', 'Main Course', 'Main Course', 'Main Course', 'Main Course', 'Breakfast', 'Side Dish', 'Breakfast', 'Breakfast', 'Main Course', 'Snacks and Starters', 'Main Course', 'Main Course', 'Breakfast', 'Main Course', 'Snacks and Starters', 'Main Course', 'Main Course', 'Pickles, Jams and Chutneys', 'Main Course', 'Main Course', 'Main Course', 'Main Course', 'Main Course', 'Snacks and Starters', 'Main Course', 'Breakfast', 'Snacks and Starters', 'Snacks and Starters', 'Main Course', 'Desserts', 'Breakfast', 'Snacks and Starters', 'Main Course', 'Snacks and Starters', 'Breakfast', 'Snacks and Starters', 'Main Course', 'Main Course', 'Main Course', 'Main Course', 'Main Course', 'Snacks and Starters', 'Main Course', 'Snacks and Starters', 'Main Course', 'Snacks and Starters', 'Snacks and Starters', 'Desserts', 'Main Course', 'Main Course', 'Main Course', 'Snacks and Starters', 'Side Dish', 'Main Course', 'Side Dish', 'Snacks and Starters', 'Main Course', 'Main Course', 'Main Course', 'Pickles, Jams and Chutneys', 'Main Course', 'Side Dish', 'Main Course', 'Main Course', 'Main Course', 'Main Course', 'Main Course', 'Main Course', 'Main Course', 'Main Course', 'Side Dish', 'Snacks and Starters', 'Main Course', 'Snacks and Starters', 'Pickles, Jams and Chutneys', 'Main Course', 'Side Dish', 'Snacks and Starters', 'Main Course', 'Snacks and Starters', 'Snacks and Starters', 'Breakfast', 'Side Dish', 'Snacks and Starters', 'Main Course', 'Desserts', 'Snacks and Starters', 'Main Course', 'Snacks and Starters', 'Breakfast', 'Main Course', 'Pickles, Jams and Chutneys', 'Snacks and Starters', 'Main Course', 'Main Course', 'Side Dish', 'Main Course', 'Main Course', 'Snacks and Starters', 'Side Dish', 'Side Dish', 'Pickles, Jams and Chutneys', 'Breakfast', 'Main Course', 'Main Course', 'Pickles, Jams and Chutneys', 'Snacks and Starters', 'Side Dish', 'Main Course', 'Main Course', 'Main Course', 'Side Dish', 'Main Course', 'Main Course', 'Main Course', 'Main Course', 'Main Course', 'Main Course', 'Main Course', 'Main Course', 'Main Course', 'Main Course', 'Side Dish', 'Main Course', 'Main Course', 'Main Course', 'Side Dish', 'Desserts', 'Desserts', 'Side Dish', 'Breakfast', 'Main Course', 'Main Course', 'Breakfast', 'Main Course', 'Main Course', 'Breakfast', 'Pickles, Jams and Chutneys', 'Pickles, Jams and Chutneys', 'Breakfast', 'Snacks and Starters', 'Pickles, Jams and Chutneys', 'Side Dish', 'Main Course', 'Snacks and Starters', 'Snacks and Starters', 'Main Course', 'Side Dish', 'Main Course', 'Breakfast', 'Snacks and Starters', 'Main Course', 'Breakfast', 'Main Course', 'Main Course', 'Main Course', 'Snacks and Starters', 'Side Dish', 'Main Course', 'Snacks and Starters', 'Side Dish', 'Breakfast', 'Side Dish', 'Desserts', 'Breakfast', 'Side Dish', 'Main Course', 'Desserts', 'Main Course', 'Side Dish', 'Main Course', 'Side Dish', 'Main Course', 'Side Dish', 'Side Dish', 'Side Dish', 'Main Course', 'Side Dish', 'Main Course', 'Main Course', 'Side Dish', 'Breakfast', 'Main Course', 'Main Course', 'Main Course', 'Main Course', 'Snacks and Starters', 'Main Course', 'Snacks and Starters', 'Breakfast', 'Main Course', 'Desserts', 'Snacks and Starters', 'Breakfast', 'Main Course', 'Snacks and Starters', 'Snacks and Starters', 'Main Course', 'Desserts', 'Main Course', 'Main Course', 'Snacks and Starters', 'Snacks and Starters', 'Desserts', 'Main Course', 'Side Dish', 'Main Course', 'Snacks and Starters', 'Desserts', 'Main Course', 'Main Course', 'Snacks and Starters', 'Main Course', 'Main Course', 'Main Course', 'Snacks and Starters', 'Breakfast', 'Snacks and Starters', 'Desserts', 'Main Course', 'Main Course', 'Side Dish', 'Main Course', 'Main Course', 'Desserts', 'Main Course', 'Side Dish', 'Main Course', 'Main Course', 'Main Course', 'Main Course', 'Snacks and Starters', 'Snacks and Starters', 'Main Course', 'Side Dish', 'Breakfast', 'Side Dish', 'Main Course', 'Main Course', 'Side Dish', 'Snacks and Starters', 'Main Course', 'Snacks and Starters', 'Main Course', 'Side Dish', 'Main Course', 'Snacks and Starters', 'Breakfast', 'Snacks and Starters', 'Snacks and Starters', 'Snacks and Starters', 'Desserts', 'Main Course', 'Snacks and Starters', 'Side Dish', 'Main Course', 'Snacks and Starters', 'Main Course', 'Breakfast', 'Snacks and Starters', 'Snacks and Starters', 'Snacks and Starters', 'Main Course', 'Main Course', 'Main Course', 'Breakfast', 'Breakfast', 'Main Course', 'Snacks and Starters', 'Main Course', 'Main Course', 'Side Dish', 'Main Course', 'Main Course', 'Main Course', 'Main Course', 'Main Course', 'Side Dish', 'Main Course', 'Side Dish', 'Breakfast', 'Side Dish', 'Main Course', 'Side Dish', 'Desserts', 'Main Course', 'Snacks and Starters', 'Main Course', 'Breakfast', 'Snacks and Starters', 'Main Course', 'Desserts', 'Snacks and Starters', 'Main Course', 'Snacks and Starters', 'Breakfast', 'Main Course', 'Main Course', 'Pickles, Jams and Chutneys', 'Breakfast', 'Main Course', 'Main Course', 'Breakfast', 'Snacks and Starters', 'Main Course', 'Snacks and Starters', 'Side Dish', 'Breakfast', 'Main Course', 'Main Course', 'Main Course', 'Snacks and Starters', 'Side Dish', 'Main Course', 'Snacks and Starters', 'Main Course', 'Desserts', 'Desserts', 'Desserts', 'Main Course', 'Snacks and Starters', 'Main Course', 'Main Course', 'Snacks and Starters', 'Main Course', 'Main Course', 'Main Course', 'Main Course', 'Side Dish', 'Breakfast', 'Snacks and Starters', 'Desserts', 'Main Course', 'Side Dish', 'Snacks and Starters', 'Main Course', 'Snacks and Starters', 'Snacks and Starters', 'Main Course', 'Breakfast', 'Side Dish', 'Snacks and Starters', 'Desserts', 'Main Course', 'Breakfast', 'Main Course', 'Main Course', 'Main Course', 'Snacks and Starters', 'Main Course', 'Side Dish', 'Pickles, Jams and Chutneys', 'Snacks and Starters', 'Breakfast', 'Main Course', 'Side Dish', 'Main Course', 'Main Course', 'Main Course', 'Snacks and Starters', 'Snacks and Starters', 'Main Course', 'Main Course', 'Snacks and Starters', 'Snacks and Starters', 'Desserts', 'Breakfast', 'Main Course', 'Side Dish', 'Side Dish', 'Main Course', 'Main Course', 'Breakfast', 'Main Course', 'Side Dish', 'Snacks and Starters', 'Main Course', 'Snacks and Starters', 'Main Course', 'Desserts', 'Breakfast', 'Main Course', 'Main Course', 'Main Course', 'Main Course', 'Main Course', 'Snacks and Starters', 'Main Course', 'Main Course', 'Snacks and Starters', 'Side Dish', 'Main Course', 'Side Dish', 'Main Course', 'Breakfast', 'Side Dish', 'Snacks and Starters', 'Breakfast', 'Side Dish', 'Main Course', 'Pickles, Jams and Chutneys', 'Main Course', 'Snacks and Starters', 'Main Course', 'Main Course', 'Main Course', 'Desserts', 'Pickles, Jams and Chutneys', 'Main Course', 'Main Course', 'Side Dish', 'Side Dish', 'Side Dish', 'Main Course', 'Snacks and Starters', 'Breakfast', 'Snacks and Starters', 'Main Course', 'Main Course', 'Pickles, Jams and Chutneys', 'Snacks and Starters', 'Main Course', 'Side Dish', 'Main Course', 'Side Dish', 'Main Course', 'Main Course', 'Pickles, Jams and Chutneys', 'Breakfast', 'Breakfast', 'Main Course', 'Pickles, Jams and Chutneys', 'Desserts', 'Snacks and Starters', 'Main Course', 'Snacks and Starters', 'Breakfast', 'Snacks and Starters', 'Breakfast', 'Snacks and Starters', 'Desserts', 'Breakfast', 'Snacks and Starters', 'Snacks and Starters', 'Pickles, Jams and Chutneys', 'Pickles, Jams and Chutneys', 'Breakfast', 'Main Course', 'Main Course', 'Snacks and Starters', 'Main Course', 'Snacks and Starters', 'Main Course', 'Pickles, Jams and Chutneys', 'Main Course', 'Main Course', 'Main Course', 'Desserts', 'Main Course', 'Breakfast', 'Main Course', 'Main Course', 'Main Course', 'Main Course', 'Main Course', 'Main Course', 'Pickles, Jams and Chutneys', 'Side Dish', 'Main Course', 'Breakfast', 'Main Course', 'Desserts', 'Desserts', 'Main Course', 'Side Dish', 'Breakfast', 'Main Course', 'Snacks and Starters', 'Main Course', 'Pickles, Jams and Chutneys', 'Desserts', 'Desserts', 'Pickles, Jams and Chutneys', 'Main Course', 'Main Course', 'Desserts', 'Breakfast', 'Snacks and Starters', 'Main Course', 'Desserts', 'Main Course', 'Main Course', 'Breakfast', 'Side Dish', 'Snacks and Starters', 'Desserts', 'Snacks and Starters', 'Breakfast', 'Side Dish', 'Snacks and Starters', 'Side Dish', 'Main Course', 'Main Course', 'Snacks and Starters', 'Main Course', 'Pickles, Jams and Chutneys', 'Main Course', 'Snacks and Starters', 'Snacks and Starters', 'Breakfast', 'Main Course', 'Main Course', 'Main Course', 'Main Course', 'Pickles, Jams and Chutneys', 'Main Course', 'Snacks and Starters', 'Main Course', 'Snacks and Starters', 'Main Course', 'Main Course', 'Breakfast', 'Main Course', 'Breakfast', 'Snacks and Starters', 'Main Course', 'Main Course', 'Main Course', 'Snacks and Starters', 'Pickles, Jams and Chutneys', 'Side Dish', 'Snacks and Starters', 'Snacks and Starters', 'Main Course', 'Snacks and Starters', 'Breakfast', 'Main Course', 'Main Course', 'Main Course', 'Main Course', 'Main Course', 'Snacks and Starters', 'Side Dish', 'Main Course', 'Main Course', 'Main Course', 'Side Dish', 'Breakfast', 'Side Dish', 'Main Course', 'Desserts', 'Snacks and Starters', 'Snacks and Starters', 'Desserts', 'Main Course', 'Snacks and Starters', 'Snacks and Starters', 'Main Course', 'Main Course', 'Main Course', 'Breakfast', 'Main Course', 'Side Dish', 'Desserts', 'Main Course', 'Main Course', 'Desserts', 'Main Course', 'Snacks and Starters', 'Main Course', 'Snacks and Starters', 'Desserts', 'Main Course', 'Main Course', 'Snacks and Starters', 'Main Course', 'Main Course', 'Main Course', 'Main Course', 'Main Course', 'Snacks and Starters', 'Side Dish', 'Snacks and Starters', 'Pickles, Jams and Chutneys', 'Snacks and Starters', 'Snacks and Starters', 'Main Course', 'Snacks and Starters', 'Desserts', 'Side Dish', 'Main Course', 'Desserts', 'Main Course', 'Side Dish', 'Snacks and Starters', 'Main Course', 'Snacks and Starters', 'Main Course', 'Side Dish', 'Main Course', 'Main Course', 'Breakfast', 'Snacks and Starters', 'Breakfast', 'Snacks and Starters', 'Main Course', 'Main Course', 'Snacks and Starters', 'Main Course', 'Main Course', 'Snacks and Starters', 'Snacks and Starters', 'Breakfast', 'Snacks and Starters', 'Main Course', 'Main Course', 'Desserts', 'Desserts', 'Main Course', 'Side Dish', 'Side Dish', 'Main Course', 'Side Dish', 'Main Course', 'Desserts', 'Snacks and Starters', 'Snacks and Starters', 'Main Course', 'Main Course', 'Snacks and Starters', 'Main Course', 'Desserts', 'Main Course', 'Main Course', 'Snacks and Starters', 'Main Course', 'Desserts', 'Snacks and Starters', 'Main Course', 'Main Course', 'Desserts', 'Desserts', 'Side Dish', 'Side Dish', 'Pickles, Jams and Chutneys', 'Snacks and Starters', 'Main Course', 'Main Course', 'Snacks and Starters', 'Main Course', 'Side Dish', 'Main Course', 'Main Course', 'Side Dish', 'Snacks and Starters', 'Main Course', 'Breakfast', 'Main Course', 'Snacks and Starters', 'Side Dish', 'Pickles, Jams and Chutneys', 'Snacks and Starters', 'Main Course', 'Pickles, Jams and Chutneys', 'Breakfast', 'Main Course', 'Main Course', 'Main Course', 'Main Course', 'Breakfast', 'Main Course', 'Main Course', 'Snacks and Starters', 'Main Course', 'Main Course', 'Main Course', 'Main Course', 'Main Course', 'Main Course', 'Snacks and Starters', 'Main Course', 'Main Course', 'Snacks and Starters', 'Main Course', 'Breakfast', 'Main Course', 'Side Dish', 'Side Dish', 'Snacks and Starters', 'Main Course', 'Breakfast', 'Main Course', 'Main Course', 'Desserts', 'Main Course', 'Snacks and Starters', 'Snacks and Starters', 'Snacks and Starters', 'Main Course', 'Main Course', 'Pickles, Jams and Chutneys', 'Main Course', 'Pickles, Jams and Chutneys', 'Snacks and Starters', 'Main Course', 'Snacks and Starters', 'Main Course', 'Desserts', 'Main Course', 'Breakfast', 'Desserts', 'Breakfast', 'Main Course', 'Main Course', 'Breakfast', 'Snacks and Starters', 'Main Course', 'Side Dish', 'Snacks and Starters', 'Main Course', 'Main Course', 'Breakfast', 'Breakfast', 'Main Course', 'Side Dish', 'Main Course', 'Snacks and Starters', 'Pickles, Jams and Chutneys', 'Main Course', 'Main Course', 'Main Course', 'Main Course', 'Main Course', 'Snacks and Starters', 'Breakfast', 'Snacks and Starters', 'Main Course', 'Side Dish', 'Pickles, Jams and Chutneys', 'Snacks and Starters', 'Main Course', 'Breakfast', 'Side Dish', 'Main Course', 'Main Course', 'Breakfast', 'Pickles, Jams and Chutneys', 'Snacks and Starters', 'Desserts', 'Snacks and Starters', 'Pickles, Jams and Chutneys', 'Breakfast', 'Side Dish', 'Main Course', 'Main Course', 'Main Course', 'Snacks and Starters', 'Side Dish', 'Main Course', 'Main Course', 'Main Course', 'Side Dish', 'Breakfast', 'Desserts', 'Snacks and Starters', 'Main Course', 'Breakfast', 'Desserts', 'Desserts', 'Pickles, Jams and Chutneys', 'Desserts', 'Breakfast', 'Side Dish', 'Main Course', 'Snacks and Starters', 'Main Course', 'Snacks and Starters', 'Snacks and Starters', 'Main Course', 'Breakfast', 'Main Course', 'Snacks and Starters', 'Main Course', 'Main Course', 'Snacks and Starters', 'Snacks and Starters', 'Desserts', 'Main Course', 'Main Course', 'Main Course', 'Main Course', 'Main Course', 'Main Course', 'Side Dish', 'Main Course', 'Main Course', 'Main Course', 'Desserts', 'Main Course', 'Main Course', 'Snacks and Starters', 'Side Dish', 'Snacks and Starters', 'Main Course', 'Snacks and Starters', 'Desserts', 'Main Course', 'Breakfast', 'Desserts', 'Main Course', 'Side Dish', 'Main Course', 'Snacks and Starters', 'Snacks and Starters', 'Main Course', 'Breakfast', 'Main Course', 'Main Course', 'Side Dish', 'Breakfast', 'Snacks and Starters', 'Main Course', 'Main Course', 'Snacks and Starters', 'Snacks and Starters', 'Main Course', 'Snacks and Starters', 'Snacks and Starters', 'Main Course', 'Snacks and Starters', 'Main Course', 'Snacks and Starters', 'Main Course', 'Main Course', 'Snacks and Starters', 'Side Dish', 'Side Dish', 'Main Course', 'Side Dish', 'Main Course', 'Main Course', 'Main Course', 'Main Course', 'Main Course', 'Snacks and Starters', 'Snacks and Starters', 'Side Dish', 'Main Course', 'Pickles, Jams and Chutneys', 'Main Course', 'Snacks and Starters', 'Side Dish', 'Main Course', 'Snacks and Starters', 'Pickles, Jams and Chutneys', 'Main Course', 'Main Course', 'Main Course', 'Snacks and Starters', 'Side Dish', 'Snacks and Starters', 'Snacks and Starters', 'Side Dish', 'Main Course', 'Breakfast', 'Desserts', 'Main Course', 'Side Dish', 'Main Course', 'Main Course', 'Main Course', 'Main Course', 'Main Course', 'Desserts', 'Side Dish', 'Snacks and Starters', 'Main Course', 'Snacks and Starters', 'Main Course', 'Main Course', 'Breakfast', 'Side Dish', 'Main Course', 'Main Course', 'Snacks and Starters', 'Main Course', 'Main Course', 'Main Course', 'Snacks and Starters', 'Main Course', 'Snacks and Starters', 'Side Dish', 'Desserts', 'Snacks and Starters', 'Side Dish', 'Main Course', 'Main Course', 'Main Course', 'Main Course', 'Main Course', 'Desserts', 'Breakfast', 'Breakfast', 'Main Course', 'Main Course', 'Snacks and Starters', 'Breakfast', 'Breakfast', 'Snacks and Starters', 'Snacks and Starters', 'Snacks and Starters', 'Desserts', 'Snacks and Starters', 'Main Course', 'Breakfast', 'Main Course', 'Breakfast', 'Main Course', 'Snacks and Starters', 'Main Course', 'Main Course', 'Main Course', 'Snacks and Starters', 'Main Course', 'Side Dish', 'Main Course', 'Main Course', 'Main Course', 'Main Course', 'Main Course', 'Main Course', 'Snacks and Starters', 'Main Course', 'Main Course', 'Main Course', 'Main Course', 'Side Dish', 'Main Course', 'Main Course', 'Snacks and Starters', 'Breakfast', 'Main Course', 'Breakfast', 'Main Course', 'Side Dish', 'Snacks and Starters', 'Pickles, Jams and Chutneys', 'Snacks and Starters', 'Snacks and Starters', 'Main Course', 'Main Course', 'Main Course', 'Main Course', 'Snacks and Starters', 'Breakfast', 'Main Course', 'Main Course', 'Pickles, Jams and Chutneys', 'Desserts', 'Main Course', 'Snacks and Starters', 'Main Course', 'Snacks and Starters', 'Side Dish', 'Main Course', 'Main Course', 'Main Course', 'Snacks and Starters', 'Main Course', 'Main Course', 'Main Course', 'Snacks and Starters', 'Breakfast', 'Main Course', 'Main Course', 'Breakfast', 'Breakfast', 'Desserts', 'Snacks and Starters', 'Main Course', 'Breakfast', 'Side Dish', 'Snacks and Starters', 'Main Course', 'Snacks and Starters', 'Desserts', 'Main Course', 'Desserts', 'Snacks and Starters', 'Breakfast', 'Main Course', 'Main Course', 'Pickles, Jams and Chutneys', 'Snacks and Starters', 'Main Course', 'Pickles, Jams and Chutneys', 'Snacks and Starters', 'Main Course', 'Snacks and Starters', 'Main Course', 'Pickles, Jams and Chutneys', 'Main Course', 'Main Course', 'Main Course', 'Main Course', 'Snacks and Starters', 'Main Course', 'Snacks and Starters', 'Breakfast', 'Main Course', 'Main Course', 'Main Course', 'Breakfast', 'Pickles, Jams and Chutneys', 'Main Course', 'Main Course', 'Main Course', 'Main Course', 'Snacks and Starters', 'Breakfast', 'Breakfast', 'Snacks and Starters', 'Snacks and Starters', 'Desserts', 'Side Dish', 'Main Course', 'Main Course', 'Pickles, Jams and Chutneys', 'Breakfast', 'Snacks and Starters', 'Pickles, Jams and Chutneys', 'Main Course', 'Main Course', 'Snacks and Starters', 'Main Course', 'Side Dish', 'Main Course', 'Side Dish', 'Main Course', 'Main Course', 'Snacks and Starters', 'Snacks and Starters', 'Side Dish', 'Snacks and Starters', 'Snacks and Starters', 'Main Course', 'Main Course', 'Side Dish', 'Snacks and Starters', 'Main Course', 'Main Course', 'Snacks and Starters', 'Main Course', 'Side Dish', 'Main Course', 'Snacks and Starters', 'Desserts', 'Main Course', 'Main Course', 'Pickles, Jams and Chutneys', 'Snacks and Starters', 'Side Dish', 'Breakfast', 'Breakfast', 'Pickles, Jams and Chutneys', 'Main Course', 'Snacks and Starters', 'Main Course', 'Snacks and Starters', 'Snacks and Starters', 'Desserts', 'Snacks and Starters', 'Side Dish', 'Breakfast', 'Pickles, Jams and Chutneys', 'Snacks and Starters', 'Desserts', 'Main Course', 'Main Course', 'Snacks and Starters', 'Main Course', 'Side Dish', 'Main Course', 'Main Course', 'Main Course', 'Main Course', 'Desserts', 'Main Course', 'Side Dish', 'Desserts', 'Main Course', 'Pickles, Jams and Chutneys', 'Main Course', 'Main Course', 'Main Course', 'Desserts', 'Desserts', 'Main Course', 'Side Dish', 'Snacks and Starters', 'Snacks and Starters', 'Main Course', 'Main Course', 'Main Course', 'Main Course', 'Side Dish', 'Side Dish', 'Desserts', 'Snacks and Starters', 'Desserts', 'Snacks and Starters', 'Main Course', 'Main Course', 'Main Course', 'Main Course', 'Main Course', 'Main Course', 'Main Course', 'Main Course', 'Snacks and Starters', 'Snacks and Starters', 'Main Course', 'Main Course', 'Main Course', 'Main Course', 'Main Course', 'Desserts', 'Side Dish', 'Side Dish', 'Snacks and Starters', 'Main Course', 'Breakfast', 'Main Course', 'Breakfast', 'Main Course', 'Breakfast', 'Side Dish', 'Snacks and Starters', 'Main Course', 'Breakfast', 'Side Dish', 'Breakfast', 'Snacks and Starters', 'Main Course', 'Main Course', 'Main Course', 'Main Course', 'Main Course', 'Main Course', 'Snacks and Starters', 'Snacks and Starters', 'Breakfast', 'Snacks and Starters', 'Snacks and Starters', 'Breakfast', 'Snacks and Starters', 'Breakfast', 'Pickles, Jams and Chutneys', 'Main Course', 'Breakfast', 'Snacks and Starters', 'Main Course', 'Main Course', 'Main Course', 'Main Course', 'Desserts', 'Snacks and Starters', 'Snacks and Starters', 'Breakfast', 'Main Course', 'Snacks and Starters', 'Main Course', 'Main Course', 'Pickles, Jams and Chutneys', 'Side Dish', 'Main Course', 'Breakfast', 'Snacks and Starters', 'Main Course', 'Main Course', 'Desserts', 'Main Course', 'Main Course', 'Side Dish', 'Breakfast', 'Snacks and Starters', 'Side Dish', 'Pickles, Jams and Chutneys', 'Side Dish', 'Main Course', 'Main Course', 'Desserts', 'Breakfast', 'Main Course', 'Side Dish', 'Snacks and Starters', 'Main Course', 'Desserts', 'Main Course', 'Breakfast', 'Main Course', 'Snacks and Starters', 'Snacks and Starters', 'Snacks and Starters', 'Main Course', 'Snacks and Starters', 'Main Course', 'Main Course', 'Side Dish', 'Main Course', 'Main Course', 'Main Course', 'Main Course', 'Snacks and Starters', 'Snacks and Starters', 'Main Course', 'Desserts', 'Desserts', 'Desserts', 'Main Course', 'Main Course', 'Snacks and Starters', 'Main Course', 'Side Dish', 'Snacks and Starters', 'Desserts', 'Main Course', 'Main Course', 'Side Dish', 'Snacks and Starters', 'Desserts', 'Main Course', 'Snacks and Starters', 'Desserts', 'Side Dish', 'Main Course', 'Main Course', 'Snacks and Starters', 'Main Course', 'Main Course', 'Side Dish', 'Snacks and Starters', 'Snacks and Starters', 'Snacks and Starters', 'Main Course', 'Snacks and Starters', 'Snacks and Starters', 'Snacks and Starters', 'Main Course', 'Breakfast', 'Snacks and Starters', 'Desserts', 'Main Course', 'Snacks and Starters', 'Main Course', 'Snacks and Starters', 'Snacks and Starters', 'Main Course', 'Snacks and Starters', 'Main Course', 'Side Dish', 'Main Course', 'Snacks and Starters', 'Main Course', 'Snacks and Starters', 'Snacks and Starters', 'Pickles, Jams and Chutneys', 'Main Course', 'Main Course', 'Breakfast', 'Main Course', 'Main Course', 'Main Course', 'Snacks and Starters', 'Main Course', 'Breakfast', 'Main Course', 'Main Course', 'Breakfast', 'Desserts', 'Snacks and Starters', 'Main Course', 'Main Course', 'Main Course', 'Side Dish', 'Main Course', 'Snacks and Starters', 'Snacks and Starters', 'Main Course', 'Snacks and Starters', 'Snacks and Starters', 'Main Course', 'Side Dish', 'Main Course', 'Main Course', 'Main Course', 'Main Course', 'Breakfast', 'Main Course', 'Main Course', 'Side Dish', 'Side Dish', 'Main Course', 'Side Dish', 'Main Course', 'Main Course', 'Main Course', 'Side Dish', 'Main Course', 'Desserts', 'Main Course', 'Main Course', 'Snacks and Starters', 'Main Course', 'Snacks and Starters', 'Desserts', 'Snacks and Starters', 'Main Course', 'Main Course', 'Desserts', 'Main Course', 'Main Course', 'Side Dish', 'Desserts', 'Snacks and Starters', 'Snacks and Starters', 'Main Course', 'Main Course', 'Snacks and Starters', 'Main Course', 'Desserts', 'Desserts', 'Side Dish', 'Main Course', 'Main Course', 'Breakfast', 'Main Course', 'Desserts', 'Desserts', 'Desserts', 'Pickles, Jams and Chutneys', 'Main Course', 'Snacks and Starters', 'Snacks and Starters', 'Snacks and Starters', 'Breakfast', 'Main Course', 'Snacks and Starters', 'Main Course', 'Main Course', 'Snacks and Starters', 'Pickles, Jams and Chutneys', 'Desserts', 'Snacks and Starters', 'Side Dish', 'Main Course', 'Main Course', 'Desserts', 'Main Course', 'Desserts', 'Main Course', 'Main Course', 'Main Course', 'Side Dish', 'Main Course', 'Main Course', 'Main Course', 'Side Dish', 'Breakfast', 'Main Course', 'Side Dish', 'Main Course', 'Main Course', 'Main Course', 'Side Dish', 'Main Course', 'Snacks and Starters', 'Main Course', 'Breakfast', 'Breakfast', 'Main Course', 'Side Dish', 'Main Course', 'Side Dish', 'Main Course', 'Snacks and Starters', 'Snacks and Starters', 'Breakfast', 'Pickles, Jams and Chutneys', 'Main Course', 'Main Course', 'Desserts', 'Main Course', 'Side Dish', 'Main Course', 'Desserts', 'Main Course', 'Main Course', 'Breakfast', 'Main Course', 'Main Course', 'Main Course', 'Snacks and Starters', 'Main Course', 'Main Course', 'Breakfast', 'Snacks and Starters', 'Main Course', 'Main Course', 'Main Course', 'Main Course', 'Breakfast', 'Breakfast', 'Snacks and Starters', 'Side Dish', 'Main Course', 'Snacks and Starters', 'Snacks and Starters', 'Main Course', 'Side Dish', 'Pickles, Jams and Chutneys', 'Side Dish', 'Breakfast', 'Side Dish', 'Main Course', 'Snacks and Starters', 'Snacks and Starters', 'Main Course', 'Snacks and Starters', 'Side Dish', 'Pickles, Jams and Chutneys', 'Pickles, Jams and Chutneys', 'Side Dish', 'Main Course', 'Side Dish', 'Main Course', 'Main Course', 'Main Course', 'Main Course', 'Main Course', 'Main Course', 'Main Course', 'Main Course', 'Side Dish', 'Main Course', 'Desserts', 'Snacks and Starters', 'Snacks and Starters', 'Snacks and Starters', 'Breakfast', 'Main Course', 'Main Course', 'Side Dish', 'Main Course', 'Main Course', 'Snacks and Starters', 'Main Course', 'Side Dish', 'Main Course', 'Snacks and Starters', 'Snacks and Starters', 'Main Course', 'Main Course', 'Main Course', 'Main Course', 'Main Course', 'Main Course', 'Snacks and Starters', 'Main Course', 'Main Course', 'Side Dish', 'Main Course', 'Breakfast', 'Main Course', 'Side Dish', 'Main Course', 'Side Dish', 'Main Course', 'Snacks and Starters', 'Main Course', 'Snacks and Starters', 'Snacks and Starters', 'Main Course', 'Main Course', 'Desserts', 'Main Course', 'Main Course', 'Main Course', 'Main Course', 'Main Course', 'Snacks and Starters', 'Main Course', 'Snacks and Starters', 'Snacks and Starters', 'Snacks and Starters', 'Snacks and Starters', 'Desserts', 'Main Course', 'Main Course', 'Main Course', 'Main Course', 'Side Dish', 'Desserts', 'Side Dish', 'Main Course', 'Snacks and Starters', 'Snacks and Starters', 'Main Course', 'Desserts', 'Breakfast', 'Main Course', 'Main Course', 'Side Dish', 'Snacks and Starters', 'Pickles, Jams and Chutneys', 'Desserts', 'Main Course', 'Breakfast', 'Side Dish', 'Breakfast', 'Main Course', 'Breakfast', 'Snacks and Starters', 'Desserts', 'Side Dish', 'Pickles, Jams and Chutneys', 'Desserts', 'Main Course', 'Side Dish', 'Main Course', 'Breakfast', 'Main Course', 'Snacks and Starters', 'Breakfast', 'Breakfast', 'Snacks and Starters', 'Snacks and Starters', 'Breakfast', 'Side Dish', 'Breakfast', 'Side Dish', 'Desserts', 'Main Course', 'Main Course', 'Main Course', 'Main Course', 'Main Course', 'Snacks and Starters', 'Snacks and Starters', 'Main Course', 'Breakfast', 'Main Course', 'Side Dish', 'Main Course', 'Snacks and Starters', 'Main Course', 'Breakfast', 'Main Course', 'Main Course', 'Side Dish', 'Main Course', 'Main Course', 'Breakfast', 'Main Course', 'Snacks and Starters', 'Snacks and Starters', 'Breakfast', 'Breakfast', 'Pickles, Jams and Chutneys', 'Snacks and Starters', 'Side Dish', 'Snacks and Starters', 'Breakfast', 'Main Course', 'Side Dish', 'Main Course', 'Main Course', 'Main Course', 'Side Dish', 'Snacks and Starters', 'Main Course', 'Main Course', 'Main Course', 'Side Dish', 'Desserts', 'Main Course', 'Snacks and Starters', 'Main Course', 'Main Course', 'Main Course', 'Main Course', 'Breakfast', 'Main Course', 'Main Course', 'Breakfast', 'Desserts', 'Snacks and Starters', 'Main Course', 'Desserts', 'Breakfast', 'Side Dish', 'Snacks and Starters', 'Main Course', 'Main Course', 'Main Course', 'Main Course', 'Breakfast', 'Snacks and Starters', 'Main Course', 'Side Dish', 'Main Course', 'Snacks and Starters', 'Main Course', 'Snacks and Starters', 'Main Course', 'Side Dish', 'Main Course', 'Main Course', 'Snacks and Starters', 'Desserts', 'Snacks and Starters', 'Snacks and Starters', 'Snacks and Starters', 'Main Course', 'Main Course', 'Snacks and Starters', 'Main Course', 'Main Course', 'Main Course', 'Snacks and Starters', 'Breakfast', 'Desserts', 'Main Course', 'Snacks and Starters', 'Snacks and Starters', 'Snacks and Starters', 'Main Course', 'Main Course', 'Snacks and Starters', 'Snacks and Starters', 'Main Course', 'Main Course', 'Snacks and Starters', 'Main Course', 'Snacks and Starters', 'Snacks and Starters', 'Main Course', 'Main Course', 'Snacks and Starters', 'Side Dish', 'Main Course', 'Main Course', 'Side Dish', 'Main Course', 'Main Course', 'Main Course', 'Side Dish', 'Main Course', 'Snacks and Starters', 'Breakfast', 'Desserts', 'Snacks and Starters', 'Pickles, Jams and Chutneys', 'Pickles, Jams and Chutneys', 'Main Course', 'Main Course', 'Side Dish', 'Side Dish', 'Main Course', 'Pickles, Jams and Chutneys', 'Main Course', 'Main Course', 'Main Course', 'Main Course', 'Snacks and Starters', 'Snacks and Starters', 'Snacks and Starters', 'Main Course', 'Main Course', 'Main Course', 'Desserts', 'Snacks and Starters', 'Snacks and Starters', 'Side Dish', 'Main Course', 'Snacks and Starters', 'Side Dish', 'Main Course', 'Snacks and Starters', 'Desserts', 'Breakfast', 'Side Dish', 'Main Course', 'Side Dish', 'Main Course', 'Main Course', 'Snacks and Starters', 'Desserts', 'Snacks and Starters', 'Pickles, Jams and Chutneys', 'Breakfast', 'Desserts', 'Main Course', 'Main Course', 'Main Course', 'Side Dish', 'Desserts', 'Main Course', 'Snacks and Starters', 'Breakfast', 'Side Dish', 'Main Course', 'Snacks and Starters', 'Snacks and Starters', 'Side Dish', 'Main Course', 'Main Course', 'Breakfast', 'Snacks and Starters', 'Snacks and Starters', 'Main Course', 'Side Dish', 'Desserts', 'Main Course', 'Side Dish', 'Snacks and Starters', 'Main Course', 'Main Course', 'Desserts', 'Main Course', 'Snacks and Starters', 'Snacks and Starters', 'Snacks and Starters', 'Snacks and Starters', 'Main Course', 'Main Course', 'Breakfast', 'Side Dish', 'Pickles, Jams and Chutneys', 'Main Course', 'Snacks and Starters', 'Side Dish', 'Snacks and Starters', 'Main Course', 'Main Course', 'Snacks and Starters', 'Main Course', 'Breakfast', 'Side Dish', 'Side Dish', 'Desserts', 'Breakfast', 'Snacks and Starters', 'Main Course', 'Snacks and Starters', 'Side Dish', 'Snacks and Starters', 'Snacks and Starters', 'Breakfast', 'Desserts', 'Breakfast', 'Main Course', 'Side Dish', 'Desserts', 'Pickles, Jams and Chutneys', 'Snacks and Starters', 'Main Course', 'Main Course', 'Breakfast', 'Breakfast', 'Main Course', 'Main Course', 'Snacks and Starters', 'Breakfast', 'Main Course', 'Main Course', 'Side Dish', 'Breakfast', 'Pickles, Jams and Chutneys', 'Desserts', 'Breakfast', 'Main Course', 'Breakfast', 'Main Course', 'Side Dish', 'Desserts', 'Main Course', 'Main Course', 'Main Course', 'Main Course', 'Snacks and Starters', 'Side Dish', 'Main Course', 'Main Course', 'Main Course', 'Snacks and Starters', 'Main Course', 'Pickles, Jams and Chutneys', 'Snacks and Starters', 'Snacks and Starters', 'Main Course', 'Pickles, Jams and Chutneys', 'Snacks and Starters', 'Main Course', 'Side Dish', 'Beverages', 'Main Course', 'Snacks and Starters', 'Side Dish', 'Side Dish', 'Main Course', 'Main Course', 'Main Course', 'Pickles, Jams and Chutneys', 'Main Course', 'Desserts', 'Pickles, Jams and Chutneys', 'Main Course', 'Main Course', 'Main Course', 'Main Course', 'Main Course', 'Main Course', 'Main Course', 'Main Course', 'Main Course', 'Main Course', 'Main Course', 'Breakfast', 'Snacks and Starters', 'Side Dish', 'Side Dish', 'Main Course', 'Snacks and Starters', 'Side Dish', 'Main Course', 'Main Course', 'Main Course', 'Side Dish', 'Snacks and Starters', 'Pickles, Jams and Chutneys', 'Main Course', 'Side Dish', 'Main Course', 'Main Course', 'Side Dish', 'Main Course', 'Breakfast', 'Snacks and Starters', 'Main Course', 'Main Course', 'Pickles, Jams and Chutneys', 'Snacks and Starters', 'Main Course', 'Main Course', 'Desserts', 'Snacks and Starters', 'Desserts', 'Snacks and Starters', 'Side Dish', 'Pickles, Jams and Chutneys', 'Main Course', 'Snacks and Starters', 'Pickles, Jams and Chutneys', 'Side Dish', 'Breakfast', 'Desserts', 'Snacks and Starters', 'Snacks and Starters', 'Breakfast', 'Main Course', 'Main Course', 'Main Course', 'Desserts', 'Side Dish', 'Side Dish', 'Breakfast', 'Snacks and Starters', 'Main Course', 'Snacks and Starters', 'Main Course', 'Snacks and Starters', 'Side Dish', 'Pickles, Jams and Chutneys', 'Main Course', 'Pickles, Jams and Chutneys', 'Main Course', 'Main Course', 'Main Course', 'Desserts', 'Snacks and Starters', 'Main Course', 'Desserts', 'Main Course', 'Side Dish', 'Snacks and Starters', 'Snacks and Starters', 'Main Course', 'Breakfast', 'Main Course', 'Main Course', 'Main Course', 'Snacks and Starters', 'Main Course', 'Main Course', 'Main Course', 'Snacks and Starters', 'Breakfast', 'Main Course', 'Main Course', 'Main Course', 'Side Dish', 'Side Dish', 'Main Course', 'Main Course', 'Main Course', 'Main Course', 'Main Course', 'Main Course', 'Main Course', 'Pickles, Jams and Chutneys', 'Snacks and Starters', 'Side Dish', 'Main Course', 'Main Course', 'Snacks and Starters', 'Breakfast', 'Side Dish', 'Main Course', 'Main Course', 'Main Course', 'Main Course', 'Main Course', 'Snacks and Starters', 'Main Course', 'Main Course', 'Main Course', 'Snacks and Starters', 'Desserts', 'Side Dish', 'Main Course', 'Main Course', 'Main Course', 'Breakfast', 'Snacks and Starters', 'Main Course', 'Side Dish', 'Snacks and Starters', 'Desserts', 'Main Course', 'Main Course', 'Main Course', 'Main Course', 'Main Course', 'Snacks and Starters', 'Snacks and Starters', 'Main Course', 'Pickles, Jams and Chutneys', 'Main Course', 'Side Dish', 'Main Course', 'Snacks and Starters', 'Breakfast', 'Breakfast', 'Main Course', 'Main Course', 'Main Course', 'Snacks and Starters', 'Side Dish', 'Pickles, Jams and Chutneys', 'Main Course', 'Snacks and Starters', 'Main Course', 'Pickles, Jams and Chutneys', 'Snacks and Starters', 'Snacks and Starters', 'Side Dish', 'Main Course', 'Main Course', 'Side Dish', 'Main Course', 'Main Course', 'Main Course', 'Side Dish', 'Main Course', 'Main Course', 'Main Course', 'Snacks and Starters', 'Main Course', 'Main Course', 'Desserts', 'Side Dish', 'Snacks and Starters', 'Side Dish', 'Snacks and Starters', 'Breakfast', 'Main Course', 'Main Course', 'Main Course', 'Breakfast', 'Main Course', 'Main Course', 'Snacks and Starters', 'Main Course', 'Desserts', 'Side Dish', 'Snacks and Starters', 'Side Dish', 'Breakfast', 'Snacks and Starters', 'Side Dish', 'Side Dish', 'Main Course', 'Main Course', 'Snacks and Starters', 'Main Course', 'Desserts', 'Desserts', 'Snacks and Starters', 'Main Course', 'Snacks and Starters', 'Breakfast', 'Main Course', 'Main Course', 'Main Course', 'Main Course', 'Snacks and Starters', 'Main Course', 'Breakfast', 'Snacks and Starters', 'Desserts', 'Main Course', 'Main Course', 'Main Course', 'Snacks and Starters', 'Main Course', 'Snacks and Starters', 'Snacks and Starters', 'Breakfast', 'Side Dish', 'Snacks and Starters', 'Main Course', 'Snacks and Starters', 'Main Course', 'Main Course', 'Side Dish', 'Main Course', 'Main Course', 'Main Course', 'Side Dish', 'Pickles, Jams and Chutneys', 'Pickles, Jams and Chutneys', 'Snacks and Starters', 'Main Course', 'Main Course', 'Main Course', 'Snacks and Starters', 'Breakfast', 'Main Course', 'Pickles, Jams and Chutneys', 'Desserts', 'Pickles, Jams and Chutneys', 'Desserts', 'Main Course', 'Side Dish', 'Main Course', 'Main Course', 'Main Course', 'Breakfast', 'Main Course', 'Main Course', 'Breakfast', 'Snacks and Starters', 'Main Course', 'Main Course', 'Pickles, Jams and Chutneys', 'Snacks and Starters', 'Snacks and Starters', 'Side Dish', 'Main Course', 'Snacks and Starters', 'Main Course', 'Breakfast', 'Main Course', 'Side Dish', 'Snacks and Starters', 'Desserts', 'Snacks and Starters', 'Side Dish', 'Snacks and Starters', 'Snacks and Starters', 'Side Dish', 'Snacks and Starters', 'Main Course', 'Snacks and Starters', 'Side Dish', 'Snacks and Starters', 'Breakfast', 'Breakfast', 'Side Dish', 'Breakfast', 'Snacks and Starters', 'Main Course', 'Main Course', 'Pickles, Jams and Chutneys', 'Main Course', 'Main Course', 'Main Course', 'Snacks and Starters', 'Main Course', 'Main Course', 'Main Course', 'Snacks and Starters', 'Side Dish', 'Main Course', 'Main Course', 'Main Course', 'Main Course', 'Main Course', 'Main Course', 'Main Course', 'Side Dish', 'Main Course', 'Main Course', 'Side Dish', 'Desserts', 'Main Course', 'Desserts', 'Pickles, Jams and Chutneys', 'Main Course', 'Snacks and Starters', 'Breakfast', 'Main Course', 'Main Course', 'Main Course', 'Breakfast', 'Main Course', 'Breakfast', 'Main Course', 'Snacks and Starters', 'Main Course', 'Side Dish', 'Main Course', 'Main Course', 'Main Course', 'Main Course', 'Main Course', 'Main Course', 'Snacks and Starters', 'Side Dish', 'Desserts', 'Main Course', 'Main Course', 'Side Dish', 'Main Course', 'Desserts', 'Main Course', 'Desserts', 'Snacks and Starters', 'Snacks and Starters', 'Main Course', 'Snacks and Starters', 'Desserts', 'Snacks and Starters', 'Side Dish', 'Main Course', 'Snacks and Starters', 'Main Course', 'Desserts', 'Breakfast', 'Main Course', 'Desserts', 'Pickles, Jams and Chutneys', 'Snacks and Starters', 'Side Dish', 'Main Course', 'Side Dish', 'Main Course', 'Breakfast', 'Snacks and Starters', 'Main Course', 'Side Dish', 'Main Course', 'Snacks and Starters', 'Breakfast', 'Desserts', 'Breakfast', 'Main Course', 'Pickles, Jams and Chutneys', 'Main Course', 'Pickles, Jams and Chutneys', 'Main Course', 'Breakfast', 'Main Course', 'Main Course', 'Breakfast', 'Breakfast', 'Main Course', 'Main Course', 'Pickles, Jams and Chutneys', 'Side Dish', 'Side Dish', 'Main Course', 'Main Course', 'Snacks and Starters', 'Breakfast', 'Main Course', 'Side Dish', 'Snacks and Starters', 'Breakfast', 'Snacks and Starters', 'Main Course', 'Main Course', 'Snacks and Starters', 'Main Course', 'Main Course', 'Main Course', 'Main Course', 'Breakfast', 'Breakfast', 'Main Course', 'Breakfast', 'Snacks and Starters', 'Desserts', 'Snacks and Starters', 'Main Course', 'Main Course', 'Main Course', 'Main Course', 'Main Course', 'Main Course', 'Main Course', 'Main Course', 'Side Dish', 'Main Course', 'Main Course', 'Side Dish', 'Main Course', 'Desserts', 'Snacks and Starters', 'Main Course', 'Main Course', 'Main Course', 'Main Course', 'Breakfast', 'Pickles, Jams and Chutneys', 'Main Course', 'Snacks and Starters', 'Main Course', 'Desserts', 'Breakfast', 'Snacks and Starters', 'Main Course', 'Desserts', 'Main Course', 'Main Course', 'Desserts', 'Main Course', 'Main Course', 'Side Dish', 'Main Course', 'Pickles, Jams and Chutneys', 'Desserts', 'Pickles, Jams and Chutneys', 'Main Course', 'Side Dish', 'Desserts', 'Main Course', 'Desserts', 'Snacks and Starters', 'Snacks and Starters', 'Side Dish', 'Main Course', 'Main Course', 'Snacks and Starters', 'Snacks and Starters', 'Main Course', 'Desserts', 'Desserts', 'Breakfast', 'Main Course', 'Side Dish', 'Main Course', 'Main Course', 'Main Course', 'Main Course', 'Snacks and Starters', 'Side Dish', 'Main Course', 'Snacks and Starters', 'Main Course', 'Main Course', 'Snacks and Starters', 'Side Dish', 'Pickles, Jams and Chutneys', 'Main Course', 'Main Course', 'Main Course', 'Main Course', 'Snacks and Starters', 'Breakfast', 'Main Course', 'Side Dish', 'Main Course', 'Desserts', 'Main Course', 'Main Course', 'Breakfast', 'Main Course', 'Snacks and Starters', 'Pickles, Jams and Chutneys', 'Snacks and Starters', 'Main Course', 'Breakfast', 'Side Dish', 'Side Dish', 'Main Course', 'Breakfast', 'Main Course', 'Main Course', 'Main Course', 'Pickles, Jams and Chutneys', 'Main Course', 'Side Dish', 'Snacks and Starters', 'Snacks and Starters', 'Breakfast', 'Snacks and Starters', 'Main Course', 'Main Course', 'Main Course', 'Snacks and Starters', 'Main Course', 'Snacks and Starters', 'Side Dish', 'Main Course', 'Desserts', 'Main Course', 'Side Dish', 'Desserts', 'Main Course', 'Main Course', 'Main Course', 'Main Course', 'Desserts', 'Snacks and Starters', 'Pickles, Jams and Chutneys', 'Main Course', 'Main Course', 'Side Dish', 'Main Course', 'Desserts', 'Main Course', 'Main Course', 'Snacks and Starters', 'Snacks and Starters', 'Main Course', 'Main Course', 'Main Course', 'Main Course', 'Main Course', 'Main Course', 'Desserts', 'Snacks and Starters', 'Main Course', 'Snacks and Starters', 'Desserts', 'Main Course', 'Snacks and Starters', 'Snacks and Starters', 'Pickles, Jams and Chutneys', 'Main Course', 'Side Dish', 'Main Course', 'Main Course', 'Main Course', 'Main Course', 'Snacks and Starters', 'Main Course', 'Breakfast', 'Breakfast', 'Desserts', 'Main Course', 'Snacks and Starters', 'Side Dish', 'Snacks and Starters', 'Main Course', 'Breakfast', 'Pickles, Jams and Chutneys', 'Snacks and Starters', 'Main Course', 'Main Course', 'Snacks and Starters', 'Main Course', 'Main Course', 'Desserts', 'Main Course', 'Main Course', 'Main Course', 'Main Course', 'Side Dish', 'Beverages', 'Pickles, Jams and Chutneys', 'Snacks and Starters', 'Breakfast', 'Main Course', 'Main Course', 'Snacks and Starters', 'Side Dish', 'Side Dish', 'Side Dish', 'Main Course', 'Main Course', 'Main Course', 'Snacks and Starters', 'Main Course', 'Main Course', 'Main Course', 'Pickles, Jams and Chutneys', 'Main Course', 'Desserts', 'Snacks and Starters', 'Breakfast', 'Main Course', 'Main Course', 'Main Course', 'Main Course', 'Snacks and Starters', 'Main Course', 'Snacks and Starters', 'Main Course', 'Side Dish', 'Side Dish', 'Pickles, Jams and Chutneys', 'Main Course', 'Snacks and Starters', 'Desserts', 'Main Course', 'Desserts', 'Breakfast', 'Main Course', 'Snacks and Starters', 'Breakfast', 'Desserts', 'Snacks and Starters', 'Desserts', 'Breakfast', 'Main Course', 'Main Course', 'Side Dish', 'Main Course', 'Breakfast', 'Main Course', 'Snacks and Starters', 'Side Dish', 'Main Course', 'Main Course', 'Main Course', 'Breakfast', 'Snacks and Starters', 'Side Dish', 'Main Course', 'Main Course', 'Side Dish', 'Side Dish', 'Snacks and Starters', 'Pickles, Jams and Chutneys', 'Side Dish', 'Snacks and Starters', 'Main Course', 'Main Course', 'Main Course', 'Main Course', 'Snacks and Starters', 'Pickles, Jams and Chutneys', 'Breakfast', 'Snacks and Starters', 'Side Dish', 'Main Course', 'Main Course', 'Main Course', 'Side Dish', 'Main Course', 'Breakfast', 'Side Dish', 'Breakfast', 'Snacks and Starters', 'Main Course', 'Pickles, Jams and Chutneys', 'Side Dish', 'Main Course', 'Snacks and Starters', 'Pickles, Jams and Chutneys', 'Snacks and Starters', 'Main Course', 'Main Course', 'Main Course', 'Side Dish', 'Snacks and Starters', 'Snacks and Starters', 'Main Course', 'Main Course', 'Side Dish', 'Side Dish', 'Main Course', 'Breakfast', 'Main Course', 'Breakfast', 'Main Course', 'Side Dish', 'Breakfast', 'Breakfast', 'Desserts', 'Main Course', 'Side Dish', 'Desserts', 'Side Dish', 'Main Course', 'Pickles, Jams and Chutneys', 'Snacks and Starters', 'Snacks and Starters', 'Side Dish', 'Main Course', 'Side Dish', 'Breakfast', 'Main Course', 'Breakfast', 'Main Course', 'Main Course', 'Side Dish', 'Main Course', 'Snacks and Starters', 'Side Dish', 'Main Course', 'Desserts', 'Snacks and Starters', 'Breakfast', 'Breakfast', 'Side Dish', 'Side Dish', 'Snacks and Starters', 'Side Dish', 'Side Dish', 'Pickles, Jams and Chutneys', 'Snacks and Starters', 'Main Course', 'Side Dish', 'Snacks and Starters', 'Main Course', 'Desserts', 'Main Course', 'Breakfast', 'Main Course', 'Side Dish', 'Main Course', 'Side Dish', 'Main Course', 'Main Course', 'Snacks and Starters', 'Main Course', 'Breakfast', 'Main Course', 'Main Course', 'Snacks and Starters', 'Main Course', 'Breakfast', 'Side Dish', 'Side Dish', 'Main Course', 'Snacks and Starters', 'Snacks and Starters', 'Main Course', 'Snacks and Starters', 'Main Course', 'Main Course', 'Main Course', 'Snacks and Starters', 'Side Dish', 'Side Dish', 'Side Dish', 'Side Dish', 'Main Course', 'Side Dish', 'Main Course', 'Main Course', 'Snacks and Starters', 'Main Course', 'Main Course', 'Snacks and Starters', 'Main Course', 'Desserts', 'Pickles, Jams and Chutneys', 'Pickles, Jams and Chutneys', 'Snacks and Starters', 'Snacks and Starters', 'Breakfast', 'Side Dish', 'Breakfast', 'Main Course', 'Pickles, Jams and Chutneys', 'Desserts', 'Main Course', 'Breakfast', 'Pickles, Jams and Chutneys', 'Side Dish', 'Side Dish', 'Main Course', 'Pickles, Jams and Chutneys', 'Snacks and Starters', 'Main Course', 'Main Course', 'Breakfast', 'Desserts', 'Main Course', 'Main Course', 'Main Course', 'Main Course', 'Main Course', 'Main Course', 'Pickles, Jams and Chutneys', 'Desserts', 'Main Course', 'Desserts', 'Main Course', 'Snacks and Starters', 'Main Course', 'Main Course', 'Main Course', 'Side Dish', 'Main Course', 'Pickles, Jams and Chutneys', 'Desserts', 'Breakfast', 'Side Dish', 'Main Course', 'Snacks and Starters', 'Main Course', 'Main Course', 'Main Course', 'Breakfast', 'Main Course', 'Snacks and Starters', 'Breakfast', 'Main Course', 'Side Dish', 'Side Dish', 'Desserts', 'Pickles, Jams and Chutneys', 'Main Course', 'Side Dish', 'Pickles, Jams and Chutneys', 'Snacks and Starters', 'Main Course', 'Pickles, Jams and Chutneys', 'Desserts', 'Breakfast', 'Side Dish', 'Snacks and Starters', 'Main Course', 'Desserts', 'Breakfast', 'Main Course', 'Main Course', 'Main Course', 'Main Course', 'Main Course', 'Main Course', 'Main Course', 'Side Dish', 'Desserts', 'Main Course', 'Main Course', 'Breakfast', 'Main Course', 'Main Course', 'Desserts', 'Main Course', 'Breakfast', 'Breakfast', 'Snacks and Starters', 'Desserts', 'Main Course', 'Pickles, Jams and Chutneys', 'Snacks and Starters', 'Main Course', 'Snacks and Starters', 'Side Dish', 'Main Course', 'Snacks and Starters', 'Breakfast', 'Main Course', 'Side Dish', 'Desserts', 'Main Course', 'Main Course', 'Breakfast', 'Pickles, Jams and Chutneys', 'Main Course', 'Side Dish', 'Snacks and Starters', 'Snacks and Starters', 'Desserts', 'Snacks and Starters', 'Desserts', 'Side Dish', 'Main Course', 'Breakfast', 'Main Course', 'Side Dish', 'Main Course', 'Main Course', 'Snacks and Starters', 'Main Course', 'Pickles, Jams and Chutneys', 'Main Course', 'Desserts', 'Main Course', 'Pickles, Jams and Chutneys', 'Main Course', 'Side Dish', 'Snacks and Starters', 'Main Course', 'Snacks and Starters', 'Pickles, Jams and Chutneys', 'Desserts', 'Pickles, Jams and Chutneys', 'Pickles, Jams and Chutneys', 'Pickles, Jams and Chutneys', 'Snacks and Starters', 'Side Dish', 'Main Course', 'Desserts', 'Side Dish', 'Breakfast', 'Snacks and Starters', 'Main Course', 'Desserts', 'Snacks and Starters', 'Breakfast', 'Breakfast', 'Snacks and Starters', 'Desserts', 'Breakfast', 'Main Course', 'Side Dish', 'Side Dish', 'Pickles, Jams and Chutneys', 'Breakfast', 'Breakfast', 'Side Dish', 'Main Course', 'Side Dish', 'Breakfast', 'Main Course', 'Snacks and Starters', 'Desserts', 'Snacks and Starters', 'Main Course', 'Main Course', 'Desserts', 'Main Course', 'Main Course', 'Main Course', 'Breakfast', 'Breakfast', 'Snacks and Starters', 'Breakfast', 'Snacks and Starters', 'Main Course', 'Snacks and Starters', 'Main Course', 'Side Dish', 'Main Course', 'Main Course', 'Main Course', 'Snacks and Starters', 'Main Course', 'Desserts', 'Side Dish', 'Main Course', 'Desserts', 'Side Dish', 'Pickles, Jams and Chutneys', 'Side Dish', 'Breakfast', 'Side Dish', 'Main Course', 'Main Course', 'Main Course', 'Snacks and Starters', 'Side Dish', 'Main Course', 'Main Course', 'Main Course', 'Main Course', 'Side Dish', 'Main Course', 'Pickles, Jams and Chutneys', 'Main Course', 'Main Course', 'Snacks and Starters', 'Pickles, Jams and Chutneys', 'Side Dish', 'Pickles, Jams and Chutneys', 'Desserts', 'Snacks and Starters', 'Main Course', 'Snacks and Starters', 'Snacks and Starters', 'Main Course', 'Main Course', 'Snacks and Starters', 'Main Course', 'Main Course', 'Breakfast', 'Main Course', 'Snacks and Starters', 'Side Dish', 'Side Dish', 'Main Course', 'Snacks and Starters', 'Side Dish', 'Breakfast', 'Snacks and Starters', 'Main Course', 'Main Course', 'Snacks and Starters', 'Main Course', 'Desserts', 'Main Course', 'Main Course', 'Breakfast', 'Snacks and Starters', 'Snacks and Starters', 'Snacks and Starters', 'Desserts', 'Snacks and Starters', 'Snacks and Starters', 'Main Course', 'Main Course', 'Main Course', 'Main Course', 'Main Course', 'Main Course', 'Snacks and Starters', 'Pickles, Jams and Chutneys', 'Breakfast', 'Main Course', 'Snacks and Starters', 'Pickles, Jams and Chutneys', 'Main Course', 'Side Dish', 'Main Course', 'Main Course', 'Snacks and Starters', 'Side Dish', 'Breakfast', 'Breakfast', 'Main Course', 'Side Dish', 'Pickles, Jams and Chutneys', 'Main Course', 'Main Course', 'Main Course', 'Side Dish', 'Main Course', 'Main Course', 'Main Course', 'Side Dish', 'Snacks and Starters', 'Main Course', 'Main Course', 'Main Course', 'Main Course', 'Main Course', 'Main Course', 'Breakfast', 'Main Course', 'Desserts', 'Breakfast', 'Main Course', 'Desserts', 'Snacks and Starters', 'Main Course', 'Snacks and Starters', 'Snacks and Starters', 'Main Course', 'Snacks and Starters', 'Main Course', 'Snacks and Starters', 'Snacks and Starters', 'Main Course', 'Main Course', 'Main Course', 'Side Dish', 'Main Course', 'Breakfast', 'Pickles, Jams and Chutneys', 'Breakfast', 'Main Course', 'Breakfast', 'Main Course', 'Snacks and Starters', 'Main Course', 'Desserts', 'Side Dish', 'Main Course', 'Main Course', 'Desserts', 'Main Course', 'Main Course', 'Desserts', 'Desserts', 'Desserts', 'Main Course', 'Snacks and Starters', 'Desserts', 'Main Course', 'Snacks and Starters', 'Desserts', 'Main Course', 'Side Dish', 'Main Course', 'Snacks and Starters', 'Main Course', 'Breakfast', 'Main Course', 'Main Course', 'Pickles, Jams and Chutneys', 'Side Dish', 'Main Course', 'Desserts', 'Snacks and Starters', 'Breakfast', 'Desserts', 'Pickles, Jams and Chutneys', 'Breakfast', 'Main Course', 'Main Course', 'Side Dish', 'Main Course', 'Main Course', 'Main Course', 'Main Course', 'Main Course', 'Desserts', 'Main Course', 'Pickles, Jams and Chutneys', 'Snacks and Starters', 'Main Course', 'Side Dish', 'Snacks and Starters', 'Main Course', 'Main Course', 'Main Course', 'Main Course', 'Main Course', 'Main Course', 'Breakfast', 'Main Course', 'Main Course', 'Snacks and Starters', 'Main Course', 'Side Dish', 'Snacks and Starters', 'Snacks and Starters', 'Pickles, Jams and Chutneys', 'Breakfast', 'Snacks and Starters', 'Pickles, Jams and Chutneys', 'Main Course', 'Side Dish', 'Main Course', 'Side Dish', 'Snacks and Starters', 'Main Course', 'Main Course', 'Breakfast', 'Main Course', 'Main Course', 'Breakfast', 'Snacks and Starters', 'Snacks and Starters', 'Side Dish', 'Side Dish', 'Side Dish', 'Side Dish', 'Snacks and Starters', 'Snacks and Starters', 'Pickles, Jams and Chutneys', 'Main Course', 'Breakfast', 'Side Dish', 'Main Course', 'Main Course', 'Pickles, Jams and Chutneys', 'Main Course', 'Side Dish', 'Breakfast', 'Main Course', 'Main Course', 'Desserts', 'Snacks and Starters', 'Main Course', 'Pickles, Jams and Chutneys', 'Snacks and Starters', 'Main Course', 'Snacks and Starters', 'Snacks and Starters', 'Main Course', 'Main Course', 'Breakfast', 'Main Course', 'Main Course', 'Main Course', 'Snacks and Starters', 'Main Course', 'Desserts', 'Side Dish', 'Pickles, Jams and Chutneys', 'Main Course', 'Main Course', 'Snacks and Starters', 'Side Dish', 'Main Course', 'Breakfast', 'Snacks and Starters', 'Main Course', 'Side Dish', 'Desserts', 'Main Course', 'Main Course', 'Snacks and Starters', 'Main Course', 'Main Course', 'Main Course', 'Side Dish', 'Desserts', 'Main Course', 'Main Course', 'Main Course', 'Main Course', 'Main Course', 'Main Course', 'Main Course', 'Snacks and Starters', 'Main Course', 'Main Course', 'Main Course', 'Main Course', 'Pickles, Jams and Chutneys', 'Side Dish', 'Breakfast', 'Desserts', 'Breakfast', 'Main Course', 'Snacks and Starters', 'Main Course', 'Desserts', 'Main Course', 'Pickles, Jams and Chutneys', 'Main Course', 'Snacks and Starters', 'Side Dish', 'Breakfast', 'Pickles, Jams and Chutneys', 'Snacks and Starters', 'Main Course', 'Side Dish', 'Snacks and Starters', 'Main Course', 'Main Course', 'Pickles, Jams and Chutneys', 'Desserts', 'Snacks and Starters', 'Main Course', 'Desserts', 'Main Course', 'Desserts', 'Side Dish', 'Main Course', 'Pickles, Jams and Chutneys', 'Snacks and Starters', 'Pickles, Jams and Chutneys', 'Main Course', 'Main Course', 'Side Dish', 'Main Course', 'Desserts', 'Main Course', 'Snacks and Starters', 'Main Course', 'Pickles, Jams and Chutneys', 'Main Course', 'Main Course', 'Main Course', 'Main Course', 'Side Dish', 'Main Course', 'Snacks and Starters', 'Breakfast', 'Snacks and Starters', 'Side Dish', 'Desserts', 'Main Course', 'Side Dish', 'Side Dish', 'Main Course', 'Main Course', 'Main Course', 'Main Course', 'Desserts', 'Main Course', 'Main Course', 'Side Dish', 'Main Course', 'Snacks and Starters', 'Main Course', 'Side Dish', 'Main Course', 'Side Dish', 'Snacks and Starters', 'Main Course', 'Main Course', 'Main Course', 'Main Course', 'Side Dish', 'Main Course', 'Side Dish', 'Main Course', 'Main Course', 'Desserts', 'Main Course', 'Main Course', 'Snacks and Starters', 'Snacks and Starters', 'Main Course', 'Main Course', 'Breakfast', 'Pickles, Jams and Chutneys', 'Side Dish', 'Side Dish', 'Main Course', 'Snacks and Starters', 'Main Course', 'Main Course', 'Pickles, Jams and Chutneys', 'Main Course', 'Main Course', 'Breakfast', 'Snacks and Starters', 'Main Course', 'Main Course', 'Main Course', 'Main Course', 'Snacks and Starters', 'Desserts', 'Side Dish', 'Breakfast', 'Main Course', 'Pickles, Jams and Chutneys', 'Desserts', 'Main Course', 'Main Course', 'Desserts', 'Snacks and Starters', 'Main Course', 'Main Course', 'Main Course', 'Main Course', 'Main Course', 'Pickles, Jams and Chutneys', 'Main Course', 'Breakfast', 'Main Course', 'Snacks and Starters', 'Main Course', 'Snacks and Starters', 'Breakfast', 'Main Course', 'Breakfast', 'Main Course', 'Main Course', 'Snacks and Starters', 'Main Course', 'Main Course', 'Main Course', 'Main Course', 'Main Course', 'Main Course', 'Main Course', 'Snacks and Starters', 'Snacks and Starters', 'Breakfast', 'Main Course', 'Snacks and Starters', 'Main Course', 'Main Course', 'Main Course', 'Main Course', 'Main Course', 'Main Course', 'Side Dish', 'Side Dish', 'Side Dish', 'Main Course', 'Main Course', 'Main Course', 'Main Course', 'Main Course', 'Breakfast', 'Side Dish', 'Snacks and Starters', 'Main Course', 'Main Course', 'Pickles, Jams and Chutneys', 'Main Course', 'Main Course', 'Side Dish', 'Main Course', 'Main Course', 'Main Course', 'Pickles, Jams and Chutneys', 'Main Course', 'Main Course', 'Snacks and Starters', 'Snacks and Starters', 'Main Course', 'Side Dish', 'Pickles, Jams and Chutneys', 'Main Course', 'Side Dish', 'Main Course', 'Main Course', 'Main Course', 'Main Course', 'Pickles, Jams and Chutneys', 'Main Course', 'Breakfast', 'Side Dish', 'Main Course', 'Main Course', 'Breakfast', 'Main Course', 'Main Course', 'Breakfast', 'Main Course', 'Main Course', 'Pickles, Jams and Chutneys', 'Main Course', 'Main Course', 'Snacks and Starters', 'Main Course', 'Snacks and Starters', 'Main Course', 'Pickles, Jams and Chutneys', 'Side Dish', 'Pickles, Jams and Chutneys', 'Main Course', 'Breakfast', 'Main Course', 'Side Dish', 'Main Course', 'Main Course', 'Snacks and Starters', 'Main Course', 'Main Course', 'Side Dish', 'Snacks and Starters', 'Main Course', 'Main Course', 'Side Dish', 'Main Course', 'Breakfast', 'Main Course', 'Breakfast', 'Main Course', 'Main Course', 'Main Course', 'Main Course', 'Side Dish', 'Side Dish', 'Main Course', 'Main Course', 'Main Course', 'Main Course', 'Main Course', 'Main Course', 'Main Course', 'Main Course', 'Main Course', 'Main Course', 'Main Course', 'Breakfast', 'Breakfast', 'Main Course', 'Main Course', 'Breakfast', 'Main Course', 'Side Dish', 'Main Course', 'Main Course', 'Main Course', 'Main Course', 'Main Course', 'Snacks and Starters', 'Main Course', 'Side Dish', 'Main Course', 'Pickles, Jams and Chutneys', 'Main Course', 'Snacks and Starters', 'Main Course', 'Snacks and Starters', 'Side Dish', 'Side Dish', 'Snacks and Starters', 'Main Course', 'Snacks and Starters', 'Side Dish', 'Main Course', 'Breakfast', 'Pickles, Jams and Chutneys', 'Main Course', 'Side Dish', 'Main Course', 'Main Course', 'Breakfast', 'Snacks and Starters', 'Main Course', 'Main Course', 'Main Course', 'Desserts', 'Main Course', 'Main Course', 'Main Course', 'Main Course', 'Breakfast', 'Main Course', 'Main Course', 'Breakfast', 'Main Course', 'Main Course', 'Snacks and Starters', 'Side Dish', 'Side Dish', 'Main Course', 'Main Course', 'Main Course', 'Breakfast', 'Pickles, Jams and Chutneys', 'Breakfast', 'Main Course', 'Breakfast', 'Main Course', 'Main Course', 'Main Course', 'Main Course', 'Main Course', 'Snacks and Starters', 'Main Course', 'Main Course', 'Main Course', 'Main Course', 'Main Course', 'Pickles, Jams and Chutneys', 'Breakfast', 'Main Course', 'Main Course', 'Main Course', 'Desserts', 'Main Course', 'Main Course', 'Main Course', 'Main Course', 'Desserts', 'Side Dish', 'Main Course', 'Main Course', 'Main Course', 'Pickles, Jams and Chutneys', 'Main Course', 'Breakfast', 'Main Course', 'Main Course', 'Main Course', 'Breakfast', 'Breakfast', 'Snacks and Starters', 'Main Course', 'Main Course', 'Snacks and Starters', 'Main Course', 'Pickles, Jams and Chutneys', 'Main Course', 'Desserts', 'Main Course', 'Desserts', 'Main Course', 'Side Dish', 'Main Course', 'Main Course', 'Main Course', 'Main Course', 'Pickles, Jams and Chutneys', 'Main Course', 'Main Course', 'Main Course', 'Breakfast', 'Main Course', 'Breakfast', 'Main Course', 'Main Course', 'Main Course', 'Breakfast', 'Main Course', 'Snacks and Starters', 'Main Course', 'Side Dish', 'Main Course', 'Main Course', 'Snacks and Starters', 'Breakfast', 'Main Course', 'Main Course', 'Snacks and Starters', 'Side Dish', 'Side Dish', 'Main Course', 'Breakfast', 'Breakfast', 'Main Course', 'Side Dish', 'Main Course', 'Side Dish', 'Main Course', 'Main Course', 'Desserts', 'Main Course', 'Main Course', 'Snacks and Starters', 'Main Course', 'Main Course', 'Main Course', 'Main Course', 'Main Course', 'Main Course', 'Main Course', 'Side Dish', 'Main Course', 'Side Dish', 'Snacks and Starters', 'Main Course', 'Main Course', 'Pickles, Jams and Chutneys', 'Snacks and Starters', 'Pickles, Jams and Chutneys', 'Main Course', 'Desserts', 'Pickles, Jams and Chutneys', 'Main Course', 'Main Course', 'Snacks and Starters', 'Snacks and Starters', 'Main Course', 'Main Course', 'Side Dish', 'Desserts', 'Desserts', 'Side Dish', 'Main Course', 'Main Course', 'Side Dish', 'Main Course', 'Main Course', 'Main Course', 'Desserts', 'Main Course', 'Main Course', 'Side Dish', 'Main Course', 'Main Course', 'Main Course', 'Pickles, Jams and Chutneys', 'Snacks and Starters', 'Main Course', 'Main Course', 'Main Course', 'Main Course', 'Breakfast', 'Main Course', 'Side Dish', 'Main Course', 'Main Course', 'Side Dish', 'Main Course', 'Side Dish', 'Main Course', 'Snacks and Starters', 'Main Course', 'Main Course', 'Pickles, Jams and Chutneys', 'Snacks and Starters', 'Side Dish', 'Main Course', 'Snacks and Starters', 'Side Dish', 'Desserts', 'Main Course', 'Side Dish', 'Main Course', 'Side Dish', 'Main Course', 'Main Course', 'Main Course', 'Main Course', 'Main Course', 'Snacks and Starters', 'Main Course', 'Main Course', 'Side Dish', 'Side Dish', 'Side Dish', 'Side Dish', 'Side Dish', 'Main Course', 'Side Dish', 'Main Course', 'Main Course', 'Main Course', 'Main Course', 'Pickles, Jams and Chutneys', 'Main Course', 'Snacks and Starters', 'Pickles, Jams and Chutneys', 'Main Course', 'Main Course', 'Pickles, Jams and Chutneys', 'Main Course', 'Main Course', 'Main Course', 'Main Course', 'Main Course', 'Main Course', 'Main Course', 'Main Course', 'Pickles, Jams and Chutneys', 'Main Course', 'Main Course', 'Main Course', 'Main Course', 'Main Course', 'Pickles, Jams and Chutneys', 'Side Dish', 'Main Course', 'Snacks and Starters', 'Pickles, Jams and Chutneys', 'Pickles, Jams and Chutneys', 'Main Course', 'Snacks and Starters', 'Main Course', 'Main Course', 'Main Course', 'Main Course', 'Snacks and Starters', 'Breakfast', 'Main Course', 'Main Course', 'Pickles, Jams and Chutneys', 'Side Dish', 'Pickles, Jams and Chutneys', 'Side Dish', 'Breakfast', 'Snacks and Starters', 'Main Course', 'Main Course', 'Pickles, Jams and Chutneys', 'Pickles, Jams and Chutneys', 'Main Course', 'Snacks and Starters', 'Side Dish', 'Main Course', 'Side Dish', 'Breakfast', 'Side Dish', 'Main Course', 'Main Course', 'Side Dish', 'Pickles, Jams and Chutneys', 'Main Course', 'Main Course', 'Main Course', 'Breakfast', 'Main Course', 'Pickles, Jams and Chutneys', 'Main Course', 'Main Course', 'Main Course', 'Main Course', 'Main Course', 'Pickles, Jams and Chutneys', 'Snacks and Starters', 'Snacks and Starters', 'Pickles, Jams and Chutneys', 'Main Course', 'Side Dish', 'Side Dish', 'Main Course', 'Main Course', 'Side Dish', 'Main Course', 'Main Course', 'Main Course', 'Main Course', 'Main Course', 'Main Course', 'Snacks and Starters', 'Side Dish', 'Side Dish', 'Main Course', 'Main Course', 'Breakfast', 'Breakfast', 'Main Course', 'Main Course', 'Main Course', 'Side Dish', 'Side Dish', 'Main Course', 'Main Course', 'Side Dish', 'Main Course', 'Main Course', 'Main Course', 'Main Course', 'Side Dish', 'Main Course', 'Main Course', 'Main Course', 'Main Course', 'Main Course', 'Main Course', 'Main Course', 'Main Course', 'Main Course', 'Main Course', 'Desserts', 'Main Course', 'Main Course', 'Snacks and Starters', 'Main Course', 'Side Dish', 'Main Course', 'Breakfast', 'Snacks and Starters', 'Snacks and Starters', 'Main Course', 'Main Course', 'Snacks and Starters', 'Main Course', 'Main Course', 'Pickles, Jams and Chutneys', 'Main Course', 'Main Course', 'Main Course', 'Main Course', 'Main Course', 'Desserts', 'Side Dish', 'Side Dish', 'Main Course', 'Main Course', 'Main Course', 'Breakfast', 'Side Dish', 'Main Course', 'Main Course', 'Main Course', 'Main Course', 'Main Course', 'Main Course', 'Main Course', 'Main Course', 'Main Course', 'Pickles, Jams and Chutneys', 'Main Course', 'Main Course', 'Breakfast', 'Snacks and Starters', 'Pickles, Jams and Chutneys', 'Side Dish', 'Main Course', 'Main Course', 'Main Course', 'Snacks and Starters', 'Desserts', 'Side Dish', 'Main Course', 'Main Course', 'Breakfast', 'Main Course', 'Pickles, Jams and Chutneys', 'Main Course', 'Main Course', 'Side Dish', 'Main Course', 'Main Course', 'Main Course', 'Main Course', 'Side Dish', 'Main Course', 'Main Course', 'Main Course', 'Side Dish', 'Main Course', 'Main Course', 'Main Course', 'Main Course', 'Breakfast', 'Pickles, Jams and Chutneys', 'Main Course', 'Main Course', 'Main Course', 'Breakfast', 'Pickles, Jams and Chutneys', 'Snacks and Starters', 'Breakfast', 'Main Course', 'Main Course', 'Side Dish', 'Main Course', 'Side Dish', 'Snacks and Starters', 'Main Course', 'Main Course', 'Main Course', 'Side Dish', 'Main Course', 'Breakfast', 'Main Course', 'Breakfast', 'Main Course', 'Pickles, Jams and Chutneys', 'Main Course', 'Snacks and Starters', 'Main Course', 'Pickles, Jams and Chutneys', 'Breakfast', 'Main Course', 'Main Course', 'Side Dish', 'Main Course', 'Main Course', 'Main Course', 'Main Course', 'Breakfast', 'Main Course', 'Main Course', 'Pickles, Jams and Chutneys', 'Main Course', 'Main Course', 'Snacks and Starters', 'Main Course', 'Main Course', 'Main Course', 'Side Dish', 'Main Course', 'Main Course', 'Breakfast', 'Snacks and Starters', 'Side Dish', 'Main Course', 'Main Course', 'Side Dish', 'Main Course', 'Side Dish', 'Main Course', 'Breakfast', 'Snacks and Starters', 'Main Course', 'Main Course', 'Main Course', 'Main Course', 'Main Course', 'Main Course', 'Pickles, Jams and Chutneys', 'Main Course', 'Main Course', 'Main Course', 'Main Course', 'Side Dish', 'Main Course', 'Main Course', 'Main Course', 'Side Dish', 'Main Course', 'Main Course', 'Main Course', 'Main Course', 'Snacks and Starters', 'Main Course', 'Breakfast', 'Pickles, Jams and Chutneys', 'Main Course', 'Pickles, Jams and Chutneys', 'Main Course', 'Breakfast', 'Snacks and Starters', 'Main Course', 'Snacks and Starters', 'Snacks and Starters', 'Main Course', 'Breakfast', 'Breakfast', 'Main Course', 'Main Course', 'Snacks and Starters', 'Main Course', 'Snacks and Starters', 'Main Course', 'Main Course', 'Snacks and Starters', 'Main Course', 'Main Course', 'Main Course', 'Breakfast', 'Main Course', 'Snacks and Starters', 'Side Dish', 'Main Course', 'Main Course', 'Pickles, Jams and Chutneys', 'Main Course', 'Side Dish', 'Main Course', 'Snacks and Starters', 'Main Course', 'Main Course', 'Main Course', 'Breakfast', 'Side Dish', 'Snacks and Starters', 'Main Course', 'Pickles, Jams and Chutneys', 'Side Dish', 'Side Dish', 'Main Course', 'Main Course', 'Snacks and Starters', 'Desserts', 'Side Dish', 'Main Course', 'Snacks and Starters', 'Main Course', 'Main Course', 'Snacks and Starters', 'Main Course', 'Main Course', 'Snacks and Starters', 'Side Dish', 'Main Course', 'Breakfast', 'Snacks and Starters', 'Main Course', 'Side Dish', 'Side Dish', 'Desserts', 'Desserts', 'Snacks and Starters', 'Main Course', 'Main Course', 'Main Course', 'Main Course', 'Pickles, Jams and Chutneys', 'Main Course', 'Breakfast', 'Side Dish', 'Breakfast', 'Main Course', 'Snacks and Starters', 'Pickles, Jams and Chutneys', 'Breakfast', 'Snacks and Starters', 'Main Course', 'Main Course', 'Breakfast', 'Main Course', 'Main Course', 'Main Course', 'Main Course']\n"
          ]
        },
        {
          "output_type": "execute_result",
          "data": {
            "text/plain": [
              "False    9624\n",
              "Name: Image_URL, dtype: int64"
            ]
          },
          "metadata": {},
          "execution_count": 237
        }
      ]
    },
    {
      "cell_type": "code",
      "source": [
        "import re\n",
        "#removeSpecialChars = re.sub(\"[!@#$%^&*()[]{};:,./<>?\\|`~-=_+]\", \" \", z)\n",
        "remove_sc = []\n",
        "for i in final_data['Cuisine_updated']:\n",
        "  if i.find('Guj')!=-1:\n",
        "    remove_sc.append('Gujarati')\n",
        "  else:\n",
        "    remove_sc.append(i)"
      ],
      "metadata": {
        "id": "mKWPHpcggkNv"
      },
      "execution_count": 238,
      "outputs": []
    },
    {
      "cell_type": "code",
      "source": [
        "final_data.columns"
      ],
      "metadata": {
        "colab": {
          "base_uri": "https://localhost:8080/"
        },
        "id": "66aPX7CHfFXE",
        "outputId": "9a827ca6-4858-46f8-fbd2-7c287d150799"
      },
      "execution_count": 239,
      "outputs": [
        {
          "output_type": "execute_result",
          "data": {
            "text/plain": [
              "Index(['Recipe_Name', 'Total_Time', 'Cuisine', 'Ingredients_List',\n",
              "       'Number_of_Ingredients', 'Prep_Time', 'Cook_Time', 'Serves',\n",
              "       'Level_of_Cooking', 'Course', 'Image_URL', 'Recipe_link', 'Recipe',\n",
              "       'Diet', 'Equipment_Temp', 'Appliances', 'Contains_Sugar', 'Veg/NonVeg',\n",
              "       'Contains_Nuts', 'Vegan', 'Region', 'Fruits_Present',\n",
              "       'Contains alcohol', 'Gluten Content', 'Quick_Recipe', 'Seasonal',\n",
              "       'Cuisine_updated', 'Accompaniments', 'del', 'Jain/Non-Jain', 'Regional',\n",
              "       'Diabetic Friendly', 'del3'],\n",
              "      dtype='object')"
            ]
          },
          "metadata": {},
          "execution_count": 239
        }
      ]
    },
    {
      "cell_type": "code",
      "source": [
        "final_data.Diet = final_data.Diet.astype(str)\n",
        "final_data['Diet'].value_counts()"
      ],
      "metadata": {
        "colab": {
          "base_uri": "https://localhost:8080/"
        },
        "id": "6eEgVLfijmLr",
        "outputId": "60e86ff6-6228-48c8-c052-14d4a619278a"
      },
      "execution_count": 240,
      "outputs": [
        {
          "output_type": "execute_result",
          "data": {
            "text/plain": [
              "High Protein Vegetarian         4373\n",
              "nan                             4235\n",
              "High Protein Non Vegetarian      641\n",
              "Diabetic Friendly                236\n",
              "No Onion No Garlic (Sattvic)      69\n",
              "Gluten Free                       35\n",
              "Vegan                             34\n",
              "Sugar Free Diet                    1\n",
              "Name: Diet, dtype: int64"
            ]
          },
          "metadata": {},
          "execution_count": 240
        }
      ]
    },
    {
      "cell_type": "code",
      "source": [
        "final_data['Veg/NonVeg'].value_counts()"
      ],
      "metadata": {
        "colab": {
          "base_uri": "https://localhost:8080/"
        },
        "id": "vtsL92v_mIQY",
        "outputId": "5f726aeb-add9-43eb-ee80-cbb23ef58ec6"
      },
      "execution_count": 241,
      "outputs": [
        {
          "output_type": "execute_result",
          "data": {
            "text/plain": [
              "Veg       7376\n",
              "NonVeg    2248\n",
              "Name: Veg/NonVeg, dtype: int64"
            ]
          },
          "metadata": {},
          "execution_count": 241
        }
      ]
    },
    {
      "cell_type": "code",
      "source": [
        "diet_list=[]\n",
        "for j,i in final_data.iterrows():\n",
        "  if i['Diet'].strip()=='nan':\n",
        "    if i['Veg/NonVeg'] == 'NonVeg':\n",
        "      diet_list.append('High Protein Non Vegetarian')\n",
        "     \n",
        "    elif i['Veg/NonVeg'] =='Veg':\n",
        "      if i['Gluten Content'] =='Low':\n",
        "        diet_list.append('Gluten Free')\n",
        "        \n",
        "      elif i['Diabetic Friendly']==1:\n",
        "        diet_list.append('Diabetic Friendly')\n",
        "       \n",
        "      elif i['Contains_Sugar']==0:\n",
        "        diet_list.append('Sugar Free')\n",
        "       \n",
        "      elif i['Jain/Non-Jain']=='Jain':\n",
        "        diet_list.append('No Onion No Garlic (Sattvic)')\n",
        "      else:\n",
        "        diet_list.append('High Protein Vegetarian')\n",
        "  else:\n",
        "    diet_list.append(i['Diet'])\n",
        "     \n",
        "final_data['Diet'] = diet_list"
      ],
      "metadata": {
        "id": "QQWclrWqyeFD"
      },
      "execution_count": 242,
      "outputs": []
    },
    {
      "cell_type": "code",
      "source": [
        "final_data['Diet'].value_counts()"
      ],
      "metadata": {
        "colab": {
          "base_uri": "https://localhost:8080/"
        },
        "id": "EG64sTUlpuTi",
        "outputId": "be607e6f-96be-48eb-c798-84e71a6dcb73"
      },
      "execution_count": 243,
      "outputs": [
        {
          "output_type": "execute_result",
          "data": {
            "text/plain": [
              "High Protein Vegetarian         4455\n",
              "Gluten Free                     2711\n",
              "High Protein Non Vegetarian     2050\n",
              "Diabetic Friendly                280\n",
              "No Onion No Garlic (Sattvic)      93\n",
              "Vegan                             34\n",
              "Sugar Free Diet                    1\n",
              "Name: Diet, dtype: int64"
            ]
          },
          "metadata": {},
          "execution_count": 243
        }
      ]
    },
    {
      "cell_type": "code",
      "source": [
        "mean_easy= np.mean(final_data[final_data['Level_of_Cooking']=='Easy ']['Total_Time'])\n",
        "mean_mod = np.mean(final_data[final_data['Level_of_Cooking']=='Moderate ']['Total_Time'])\n",
        "mean_hard = np.mean(final_data[final_data['Level_of_Cooking']=='Difficult ']['Total_Time'])\n",
        "print(mean_easy)\n",
        "print(mean_mod)\n",
        "print(mean_hard)"
      ],
      "metadata": {
        "colab": {
          "base_uri": "https://localhost:8080/"
        },
        "id": "hFF5IV_QsSU_",
        "outputId": "77c0489c-1c48-4d91-eaf9-6d3790a41fbb"
      },
      "execution_count": 244,
      "outputs": [
        {
          "output_type": "stream",
          "name": "stdout",
          "text": [
            "78.62958472264323\n",
            "90.06024096385542\n",
            "97.13636363636364\n"
          ]
        }
      ]
    },
    {
      "cell_type": "code",
      "source": [
        "loc_list=[]\n",
        "for j,i in final_data.iterrows():\n",
        "  if i['Level_of_Cooking'] not in ['Easy ', 'Moderate ', 'Difficult ']:\n",
        "    if i['Total_Time']<=mean_easy:\n",
        "      loc_list.append('Easy ')\n",
        "    elif mean_easy<=i['Total_Time']<=mean_mod:\n",
        "      loc_list.append('Moderate ')\n",
        "    elif i['Total_Time']>=mean_mod:\n",
        "      loc_list.append('Difficult ')\n",
        "  else:\n",
        "    loc_list.append(i['Level_of_Cooking'])\n",
        "final_data['Level_of_Cooking']=loc_list\n",
        "final_data['Level_of_Cooking'].value_counts()"
      ],
      "metadata": {
        "colab": {
          "base_uri": "https://localhost:8080/"
        },
        "id": "fdChRHhwsIIG",
        "outputId": "ac22e26e-a57a-42f6-b877-ded143902de7"
      },
      "execution_count": 245,
      "outputs": [
        {
          "output_type": "execute_result",
          "data": {
            "text/plain": [
              "Easy          8155\n",
              "Moderate      1055\n",
              "Difficult      414\n",
              "Name: Level_of_Cooking, dtype: int64"
            ]
          },
          "metadata": {},
          "execution_count": 245
        }
      ]
    },
    {
      "cell_type": "code",
      "source": [
        "\n",
        "final_data = final_data.drop(['Equipment_Temp','del3','Diabetic Friendly'],axis=1)\n",
        "final_data.columns"
      ],
      "metadata": {
        "colab": {
          "base_uri": "https://localhost:8080/"
        },
        "id": "Lez21VJHu7em",
        "outputId": "184284dc-3715-439a-fa9f-efe8440b4a70"
      },
      "execution_count": 246,
      "outputs": [
        {
          "output_type": "execute_result",
          "data": {
            "text/plain": [
              "Index(['Recipe_Name', 'Total_Time', 'Cuisine', 'Ingredients_List',\n",
              "       'Number_of_Ingredients', 'Prep_Time', 'Cook_Time', 'Serves',\n",
              "       'Level_of_Cooking', 'Course', 'Image_URL', 'Recipe_link', 'Recipe',\n",
              "       'Diet', 'Appliances', 'Contains_Sugar', 'Veg/NonVeg', 'Contains_Nuts',\n",
              "       'Vegan', 'Region', 'Fruits_Present', 'Contains alcohol',\n",
              "       'Gluten Content', 'Quick_Recipe', 'Seasonal', 'Cuisine_updated',\n",
              "       'Accompaniments', 'del', 'Jain/Non-Jain', 'Regional'],\n",
              "      dtype='object')"
            ]
          },
          "metadata": {},
          "execution_count": 246
        }
      ]
    },
    {
      "cell_type": "code",
      "source": [
        "final_data.shape"
      ],
      "metadata": {
        "colab": {
          "base_uri": "https://localhost:8080/"
        },
        "id": "A30ZewcwvNOC",
        "outputId": "ac1419fd-e7d9-4d20-935b-425e3a3072f1"
      },
      "execution_count": 247,
      "outputs": [
        {
          "output_type": "execute_result",
          "data": {
            "text/plain": [
              "(9624, 30)"
            ]
          },
          "metadata": {},
          "execution_count": 247
        }
      ]
    },
    {
      "cell_type": "code",
      "source": [
        "#final_data=final_data.drop(['Diet'],axis=1)\n",
        "final_data.to_csv('/content/final_data.csv')\n"
      ],
      "metadata": {
        "id": "q8iKdiNgzdNT"
      },
      "execution_count": 248,
      "outputs": []
    },
    {
      "cell_type": "code",
      "source": [
        "final_data['Regional'].unique()"
      ],
      "metadata": {
        "colab": {
          "base_uri": "https://localhost:8080/"
        },
        "id": "_RUzLCVRzrXR",
        "outputId": "4a2d2cf2-6e4d-4bcc-cec0-504e8c180d54"
      },
      "execution_count": 249,
      "outputs": [
        {
          "output_type": "execute_result",
          "data": {
            "text/plain": [
              "array(['Across India', 'North', 'West', 'South', 'East', 'Central'],\n",
              "      dtype=object)"
            ]
          },
          "metadata": {},
          "execution_count": 249
        }
      ]
    },
    {
      "cell_type": "code",
      "source": [
        "final_data['Accompaniments'].unique()"
      ],
      "metadata": {
        "colab": {
          "base_uri": "https://localhost:8080/"
        },
        "id": "iCbSIVYZO6uk",
        "outputId": "b7fba1e8-3bab-4a64-93dd-5fa4e9e8c2da"
      },
      "execution_count": 250,
      "outputs": [
        {
          "output_type": "execute_result",
          "data": {
            "text/plain": [
              "array(['False', 'True'], dtype=object)"
            ]
          },
          "metadata": {},
          "execution_count": 250
        }
      ]
    },
    {
      "cell_type": "code",
      "source": [
        "final_data['Cuisine_updated'].to_numpy()\n",
        "#= final_data['Cusine_update']"
      ],
      "metadata": {
        "colab": {
          "base_uri": "https://localhost:8080/"
        },
        "id": "tIw-DcJT1b-x",
        "outputId": "2a670978-a095-4b89-dac8-5acd4bf3d34a"
      },
      "execution_count": 251,
      "outputs": [
        {
          "output_type": "execute_result",
          "data": {
            "text/plain": [
              "array(['Indian', 'Indi-Fusion', 'Indian', ..., 'North Indian Recipes',\n",
              "       'Gujarati Recipes\\ufeff', 'South Indian'], dtype=object)"
            ]
          },
          "metadata": {},
          "execution_count": 251
        }
      ]
    },
    {
      "cell_type": "code",
      "source": [
        "final_data['Course'].unique()"
      ],
      "metadata": {
        "colab": {
          "base_uri": "https://localhost:8080/"
        },
        "id": "W4geljpW35Jn",
        "outputId": "65208f7c-2c42-4c94-9ea8-0e670568e83c"
      },
      "execution_count": 252,
      "outputs": [
        {
          "output_type": "execute_result",
          "data": {
            "text/plain": [
              "array(['Rice', 'Breads', 'Desserts', 'Main Course', 'Dals and Kadhis',\n",
              "       'Snacks and Starters', 'Mithais', 'Beverages',\n",
              "       'Pickles, Jams and Chutneys', 'Gravies, Sauces and Stocks',\n",
              "       'Soups', 'Salads', 'Noodles and Pastas', 'Dips', 'Powders',\n",
              "       'Raitas', 'Side Dish', 'Breakfast'], dtype=object)"
            ]
          },
          "metadata": {},
          "execution_count": 252
        }
      ]
    },
    {
      "cell_type": "code",
      "source": [
        "serv=[]\n",
        "for i in final_data['Serves']:\n",
        "  try:\n",
        "    serv.append(int(i))\n",
        "  except:\n",
        "    serv.append(2)\n",
        "\n",
        "final_data['Serves'] = serv"
      ],
      "metadata": {
        "id": "ojEDFEsE4LUC"
      },
      "execution_count": 253,
      "outputs": []
    },
    {
      "cell_type": "code",
      "source": [
        "final_data['Serves'].value_counts()"
      ],
      "metadata": {
        "colab": {
          "base_uri": "https://localhost:8080/"
        },
        "id": "XUyPiEx25Cz1",
        "outputId": "7df53283-c83d-4492-a10c-3cb1ac7ec9eb"
      },
      "execution_count": 254,
      "outputs": [
        {
          "output_type": "execute_result",
          "data": {
            "text/plain": [
              "4       7853\n",
              "2        783\n",
              "3        355\n",
              "6        222\n",
              "5        134\n",
              "8         65\n",
              "10        63\n",
              "1         37\n",
              "12        31\n",
              "15        20\n",
              "20        16\n",
              "100        8\n",
              "200        4\n",
              "40         4\n",
              "9          4\n",
              "30         3\n",
              "7          3\n",
              "500        3\n",
              "300        2\n",
              "14         2\n",
              "18         2\n",
              "400        2\n",
              "25         1\n",
              "600        1\n",
              "250        1\n",
              "35         1\n",
              "1000       1\n",
              "0          1\n",
              "80         1\n",
              "700        1\n",
              "Name: Serves, dtype: int64"
            ]
          },
          "metadata": {},
          "execution_count": 254
        }
      ]
    },
    {
      "cell_type": "code",
      "source": [
        "final_data.columns"
      ],
      "metadata": {
        "colab": {
          "base_uri": "https://localhost:8080/"
        },
        "id": "QFgxJWlc7z04",
        "outputId": "0a4a2656-b127-4e7c-8fc5-97a18c562211"
      },
      "execution_count": 255,
      "outputs": [
        {
          "output_type": "execute_result",
          "data": {
            "text/plain": [
              "Index(['Recipe_Name', 'Total_Time', 'Cuisine', 'Ingredients_List',\n",
              "       'Number_of_Ingredients', 'Prep_Time', 'Cook_Time', 'Serves',\n",
              "       'Level_of_Cooking', 'Course', 'Image_URL', 'Recipe_link', 'Recipe',\n",
              "       'Diet', 'Appliances', 'Contains_Sugar', 'Veg/NonVeg', 'Contains_Nuts',\n",
              "       'Vegan', 'Region', 'Fruits_Present', 'Contains alcohol',\n",
              "       'Gluten Content', 'Quick_Recipe', 'Seasonal', 'Cuisine_updated',\n",
              "       'Accompaniments', 'del', 'Jain/Non-Jain', 'Regional'],\n",
              "      dtype='object')"
            ]
          },
          "metadata": {},
          "execution_count": 255
        }
      ]
    },
    {
      "cell_type": "code",
      "source": [
        "final_data.to_csv('/content/new1.csv')"
      ],
      "metadata": {
        "id": "hZ6nFJFm_4Kw"
      },
      "execution_count": 256,
      "outputs": []
    },
    {
      "cell_type": "code",
      "source": [
        "final_data['Course'].unique()"
      ],
      "metadata": {
        "colab": {
          "base_uri": "https://localhost:8080/"
        },
        "id": "zzcsXhcmi3xy",
        "outputId": "36945e65-9553-432e-ea45-fa05477077b4"
      },
      "execution_count": 257,
      "outputs": [
        {
          "output_type": "execute_result",
          "data": {
            "text/plain": [
              "array(['Rice', 'Breads', 'Desserts', 'Main Course', 'Dals and Kadhis',\n",
              "       'Snacks and Starters', 'Mithais', 'Beverages',\n",
              "       'Pickles, Jams and Chutneys', 'Gravies, Sauces and Stocks',\n",
              "       'Soups', 'Salads', 'Noodles and Pastas', 'Dips', 'Powders',\n",
              "       'Raitas', 'Side Dish', 'Breakfast'], dtype=object)"
            ]
          },
          "metadata": {},
          "execution_count": 257
        }
      ]
    },
    {
      "cell_type": "code",
      "source": [
        "final_data = final_data.drop(['del','Cuisine', 'Image_URL', 'Region'], axis = 1)"
      ],
      "metadata": {
        "id": "b3ZiYHjaUvi8"
      },
      "execution_count": 258,
      "outputs": []
    },
    {
      "cell_type": "code",
      "source": [
        "final_data.to_csv('/content/end_data2.csv')\n",
        "final_data.to_json('/content/end_data2.json')"
      ],
      "metadata": {
        "id": "fWe8U_FPPmE5"
      },
      "execution_count": 260,
      "outputs": []
    }
  ]
}